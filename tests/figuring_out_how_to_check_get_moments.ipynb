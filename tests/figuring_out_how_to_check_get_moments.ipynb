{
 "cells": [
  {
   "cell_type": "code",
   "execution_count": 8,
   "metadata": {},
   "outputs": [],
   "source": [
    "import numpy as np\n",
    "from copy import deepcopy\n",
    "import numba as nb\n",
    "from scipy.stats import norm\n"
   ]
  },
  {
   "cell_type": "code",
   "execution_count": 9,
   "metadata": {},
   "outputs": [],
   "source": [
    "# @nb.njit(fastmath=True)\n",
    "def nb_sum(x):\n",
    "    n_sum = 0\n",
    "    for i in range(len(x)):\n",
    "        n_sum += x[i]\n",
    "    return n_sum\n",
    "\n",
    "\n",
    "_ = nb_sum(np.array([2, 2]))\n",
    "\n",
    "\n",
    "# @nb.njit(parallel=True, fastmath=True)\n",
    "def get_moments(timesteps, time_means, time_sds, prob_agent_less_player, agent_pdf):\n",
    "    shape = (time_sds.shape[0], time_means.shape[-1])\n",
    "    EX_R, EX2_R, EX3_R = np.zeros((shape)), np.zeros((shape)), np.zeros((shape))\n",
    "    EX_G, EX2_G, EX3_G = np.zeros((shape)), np.zeros((shape)), np.zeros((shape))\n",
    "    dx = timesteps[1] - timesteps[0]\n",
    "\n",
    "    for i in nb.prange(len(time_sds)):\n",
    "        sig_y = time_sds[i]\n",
    "        xpdf = agent_pdf[i, :]\n",
    "\n",
    "        for j in range(time_means.shape[-1]):  # Need to loop through every possible decision time mean\n",
    "            #*Commented out is the old way of doing this bc sc.erfc is recognized by numba, but now I know how to use norm.cdf with numba (which is the same as the error function)\n",
    "            # xpdf = (1/(sig_x*np.sqrt(2*np.pi)))*np.e**((-0.5)*((timesteps - mu_x)/sig_x)**2) # Pdf of agent, used when getting expected value EX_R, etc.\n",
    "            # prob_x_less_y = (sc.erfc((mu_x - mu_y[i])/(np.sqrt(2)*np.sqrt(sig_x**2 + sig_y**2))))/2 # Probability of a reaction decision, aka player decides after agent\n",
    "            # y_integrated = np.empty(len(timesteps),dtype=np.float64)\n",
    "            # y_inverse_integrated = np.empty(len(timesteps),dtype=np.float64)\n",
    "            # for k in range(len(timesteps)): # Looping here bc numba_scipy version of sc.erfc can only take float, not an array\n",
    "            #     t = timesteps[k]\n",
    "            #     y_integrated[k] = (sc.erfc((t - mu_y[i])/(np.sqrt(2)*sig_y)))/2 # Going from x to infinity is the complementary error function (bc we want all the y's that are greater than x)\n",
    "            #     y_inverse_integrated[k] = (sc.erfc((mu_y[i] - t)/(np.sqrt(2)*sig_y)))/2 # Swap limits of integration (mu_y[i] - t) now\n",
    "\n",
    "            mu_y = [j] # Put the timing mean in an easy to use variable,\n",
    "            prob_x_less_y = prob_agent_less_player[i,j]  # get prob agent is less than player for that specific agent mean (i) and timing mean (j)\n",
    "            prob_x_greater_y = 1 - prob_x_less_y\n",
    "            y_integrated = 1 - norm.cdf(timesteps, mu_y, sig_y) # For ALL timesteps, what's the probabilit for every timing mean (from 0 to 2000) that the timing mean is greater than that current timestep\n",
    "            y_inverse_integrated = 1 - y_integrated\n",
    "\n",
    "            if prob_x_less_y != 0:\n",
    "                EX_R[i, j] = nb_sum(timesteps*xpdf*y_integrated)*dx / prob_x_less_y\n",
    "                EX2_R[i, j] = nb_sum((timesteps - EX_R[i, j]) ** 2*xpdf*y_integrated)*dx / prob_x_less_y  # SECOND CENTRAL MOMENT = VARIANCE\n",
    "                # EX3_R[i,j] = 0 #np.sum((timesteps-EX_R[i,j])**3*xpdf*y_integrated)*dx/prob_x_less_y # THIRD CENTRAL MOMENT = SKEW\n",
    "            else:\n",
    "                EX_R[i, j] = 0\n",
    "                EX2_R[i, j] = 0  # SECOND CENTRAL MOMENT = VARIANCE\n",
    "                # EX3_R[i,j] = 0 # THIRD CENTRAL MOMENT = SKEW\n",
    "\n",
    "            if prob_x_greater_y != 0:\n",
    "                EX_G[i, j] = nb_sum(timesteps*xpdf*y_inverse_integrated)*dx / prob_x_greater_y\n",
    "                EX2_G[i, j] = (\n",
    "                    nb_sum((timesteps - EX_G[i, j]) ** 2*xpdf*y_inverse_integrated)*dx / prob_x_greater_y\n",
    "                )  # SECOND CENTRAL MOMENT = VARIANCE\n",
    "                # EX3_G[i,j] = 0#np.sum((timesteps-EX_G[i,j])**3*xpdf*y_inverse_integrated)*dx/prob_x_greater_y # THIRD CENTRAL MOMENT = SKEW\n",
    "            else:\n",
    "                EX_G[i, j] = 0\n",
    "                EX2_G[i, j] = 0  # SECOND CENTRAL MOMENT = VARIANCE\n",
    "                # EX3_G[i,j] = 0 # THIRD CENTRAL MOMENT = SKEW\n",
    "\n",
    "    return EX_R, EX2_R, EX3_R, EX_G, EX2_G, EX3_G\n"
   ]
  },
  {
   "cell_type": "code",
   "execution_count": 12,
   "metadata": {},
   "outputs": [],
   "source": [
    "def _indicator(x,y):\n",
    "    if x<y:\n",
    "        return 1\n",
    "    else:\n",
    "        return 0\n",
    "\n",
    "values_agent = np.array([[1, 2, 3, 4, 5, 6, 7, 8, 9]])\n",
    "probs_agent  = np.array([[0.1, 0.2, 0.4, 0.2, 0.1, 0.0, 0.0, 0.0, 0.0]])\n",
    "mean_agent = np.sum(values_agent*probs_agent)\n",
    "std_agent = np.sqrt((values_agent-mean_agent)**2 * probs_agent) # Timing std of the fuck it time for the agent\n",
    "\n",
    "# Fake player distribution\n",
    "values_player = np.array([[1, 2, 3, 4, 5, 6, 7, 8, 9]])\n",
    "probs_player = np.array([[0.0, 0.0, 0.1, 0.2, 0.4, 0.2, 0.1, 0.0, 0.0]])\n",
    "mean_player = np.sum(values_player*probs_player) # Timing mean of the fuck it time for the player\n",
    "std_player = np.sqrt((values_player-mean_player)**2 * probs_player) # Timing std of the fuck it time for the player\n",
    "\n",
    "prob_agent_less_player = 0\n",
    "for i in range(len(values_agent)):\n",
    "    for j in range(len(values_player)):\n",
    "        if values_agent.flatten()[i]<values_player.flatten()[j]:\n",
    "            prob_agent_less_player += probs_agent[i]*probs_player[j]\n",
    "\n",
    "timesteps = np.array((values_player,values_player))\n",
    "time_means = np.array([[mean_player]])\n",
    "prob_agent_less_player = np.array([[prob_agent_less_player]])"
   ]
  },
  {
   "cell_type": "code",
   "execution_count": 13,
   "metadata": {},
   "outputs": [
    {
     "ename": "ValueError",
     "evalue": "setting an array element with a sequence.",
     "output_type": "error",
     "traceback": [
      "\u001b[1;31m---------------------------------------------------------------------------\u001b[0m",
      "\u001b[1;31mTypeError\u001b[0m                                 Traceback (most recent call last)",
      "\u001b[1;31mTypeError\u001b[0m: only size-1 arrays can be converted to Python scalars",
      "\nThe above exception was the direct cause of the following exception:\n",
      "\u001b[1;31mValueError\u001b[0m                                Traceback (most recent call last)",
      "Cell \u001b[1;32mIn[13], line 1\u001b[0m\n\u001b[1;32m----> 1\u001b[0m get_moments(timesteps, time_means, std_player, prob_agent_less_player, probs_agent)\n",
      "Cell \u001b[1;32mIn[9], line 50\u001b[0m, in \u001b[0;36mget_moments\u001b[1;34m(timesteps, time_means, time_sds, prob_agent_less_player, agent_pdf)\u001b[0m\n\u001b[0;32m     47\u001b[0m     \u001b[39m# EX3_R[i,j] = 0 # THIRD CENTRAL MOMENT = SKEW\u001b[39;00m\n\u001b[0;32m     49\u001b[0m \u001b[39mif\u001b[39;00m prob_x_greater_y \u001b[39m!=\u001b[39m \u001b[39m0\u001b[39m:\n\u001b[1;32m---> 50\u001b[0m     EX_G[i, j] \u001b[39m=\u001b[39m nb_sum(timesteps\u001b[39m*\u001b[39mxpdf\u001b[39m*\u001b[39my_inverse_integrated)\u001b[39m*\u001b[39mdx \u001b[39m/\u001b[39m prob_x_greater_y\n\u001b[0;32m     51\u001b[0m     EX2_G[i, j] \u001b[39m=\u001b[39m (\n\u001b[0;32m     52\u001b[0m         nb_sum((timesteps \u001b[39m-\u001b[39m EX_G[i, j]) \u001b[39m*\u001b[39m\u001b[39m*\u001b[39m \u001b[39m2\u001b[39m\u001b[39m*\u001b[39mxpdf\u001b[39m*\u001b[39my_inverse_integrated)\u001b[39m*\u001b[39mdx \u001b[39m/\u001b[39m prob_x_greater_y\n\u001b[0;32m     53\u001b[0m     )  \u001b[39m# SECOND CENTRAL MOMENT = VARIANCE\u001b[39;00m\n\u001b[0;32m     54\u001b[0m     \u001b[39m# EX3_G[i,j] = 0#np.sum((timesteps-EX_G[i,j])**3*xpdf*y_inverse_integrated)*dx/prob_x_greater_y # THIRD CENTRAL MOMENT = SKEW\u001b[39;00m\n\u001b[0;32m     55\u001b[0m \u001b[39melse\u001b[39;00m:\n",
      "\u001b[1;31mValueError\u001b[0m: setting an array element with a sequence."
     ]
    }
   ],
   "source": [
    "get_moments(timesteps, time_means, std_player, prob_agent_less_player, probs_agent)"
   ]
  },
  {
   "cell_type": "code",
   "execution_count": null,
   "metadata": {},
   "outputs": [],
   "source": []
  }
 ],
 "metadata": {
  "kernelspec": {
   "display_name": "aim1",
   "language": "python",
   "name": "python3"
  },
  "language_info": {
   "codemirror_mode": {
    "name": "ipython",
    "version": 3
   },
   "file_extension": ".py",
   "mimetype": "text/x-python",
   "name": "python",
   "nbconvert_exporter": "python",
   "pygments_lexer": "ipython3",
   "version": "3.10.11"
  },
  "orig_nbformat": 4
 },
 "nbformat": 4,
 "nbformat_minor": 2
}
