{
 "cells": [
  {
   "cell_type": "code",
   "execution_count": 55,
   "metadata": {},
   "outputs": [
    {
     "name": "stdout",
     "output_type": "stream",
     "text": [
      "The autoreload extension is already loaded. To reload it, use:\n",
      "  %reload_ext autoreload\n"
     ]
    }
   ],
   "source": [
    "from Subject_Object_v3 import SubjectBuilder\n",
    "import numpy as np\n",
    "import dill\n",
    "import os\n",
    "%load_ext autoreload\n",
    "%autoreload 2"
   ]
  },
  {
   "cell_type": "code",
   "execution_count": 56,
   "metadata": {},
   "outputs": [],
   "source": [
    "def pickle_subject_objects(subject_list,load_path):\n",
    "    '''\n",
    "    Deprecated, generating subject objects is faster than storing the processed objects\n",
    "    '''\n",
    "    subject_objects = []\n",
    "    for i,subname in enumerate(subject_list):\n",
    "        print(subname)\n",
    "        subject_object = dill.load(open(load_path + f'\\\\{subname}\\\\{subname}_object.pkl', 'rb'))\n",
    "        subject_objects.append(subject_object)\n",
    "    return subject_objects\n",
    "\n",
    "def generate_subject_objects(experiment):\n",
    "    #* Experiment specific Constants\n",
    "    if True:\n",
    "        experiment = experiment\n",
    "\n",
    "        if experiment == 'Exp1':\n",
    "            COINCIDENCE_TRIALS = 50\n",
    "            INTERVAL_TRIALS = 50\n",
    "            REACTION_TRIALS = 50\n",
    "            REACTION_BLOCKS = 3\n",
    "            REACTION_TRIAL_TIME = 5000\n",
    "            TASK_BLOCKS = 6\n",
    "            TASK_TRIALS = 80\n",
    "        elif experiment == 'Exp2':\n",
    "            COINCIDENCE_TRIALS = 50\n",
    "            INTERVAL_TRIALS = 50\n",
    "            REACTION_TRIALS = 100\n",
    "            REACTION_BLOCKS = 3\n",
    "            REACTION_TRIAL_TIME = 8000\n",
    "            TASK_BLOCKS = 4\n",
    "            TASK_TRIALS = 80\n",
    "        TIMING_TRIALS = 50\n",
    "        TRIAL_TIME = 2000\n",
    "        \n",
    "    #* Get pull list and num subjects\n",
    "    if True:\n",
    "        # Fields pull and pull list\n",
    "        PATH = f'D:\\\\OneDrive - University of Delaware - o365\\\\Subject_Data\\\\MatchPennies_Agent_{experiment}'\n",
    "        os.chdir(PATH)\n",
    "        figures_pull_list = []\n",
    "        fields_pull = []\n",
    "        with open(PATH+\"\\\\Figures_Pull_List.txt\", \"r\") as pull_file:\n",
    "            figures_pull_list = pull_file.read().splitlines()\n",
    "        with open(PATH+\"\\\\Fields_Pull.txt\", \"r\") as fields_pull:\n",
    "            fields_pull = fields_pull.read().splitlines()\n",
    "        NUM_SUBJECTS = len(figures_pull_list)\n",
    "    \n",
    "    #* Load control data\n",
    "    if True:\n",
    "        # ---------------Controls-------------------------\n",
    "        reaction_trial_start          = np.zeros((NUM_SUBJECTS, REACTION_BLOCKS, REACTION_TRIALS))*np.nan\n",
    "        reaction_filenames            = np.empty((NUM_SUBJECTS, REACTION_BLOCKS,REACTION_TRIALS),dtype = object)\n",
    "        agent_reaction_leave_time     = np.zeros((NUM_SUBJECTS, REACTION_BLOCKS,REACTION_TRIALS))*np.nan\n",
    "        agent_reaction_decision_array = np.empty((NUM_SUBJECTS, REACTION_BLOCKS,REACTION_TRIALS))*np.nan\n",
    "        reaction_trial_type_array     = np.zeros((NUM_SUBJECTS, REACTION_BLOCKS,REACTION_TRIALS))*np.nan\n",
    "        reaction_xypos_data           = np.zeros((NUM_SUBJECTS, REACTION_BLOCKS,REACTION_TRIALS, REACTION_TRIAL_TIME,2))*np.nan\n",
    "        reaction_dist_data            = np.zeros((NUM_SUBJECTS, REACTION_BLOCKS,REACTION_TRIALS, REACTION_TRIAL_TIME))*np.nan\n",
    "        reaction_xyvelocity_data      = np.zeros((NUM_SUBJECTS, REACTION_BLOCKS,REACTION_TRIALS, REACTION_TRIAL_TIME,2))*np.nan\n",
    "        reaction_speed_data           = np.zeros((NUM_SUBJECTS, REACTION_BLOCKS,REACTION_TRIALS, REACTION_TRIAL_TIME))*np.nan\n",
    "        # reaction_xyforce_data         = np.zeros((NUM_SUBJECTS, REACTION_BLOCKS,REACTION_TRIALS, REACTION_TRIAL_TIME,2))*np.nan\n",
    "        # reaction_force_data           = np.zeros((NUM_SUBJECTS, REACTION_BLOCKS,REACTION_TRIALS, REACTION_TRIAL_TIME))*np.nan \n",
    "\n",
    "        coincidence_trial_start                       = np.zeros((NUM_SUBJECTS, COINCIDENCE_TRIALS))*np.nan\n",
    "        coincidence_reach_time                        = np.zeros((NUM_SUBJECTS, COINCIDENCE_TRIALS))*np.nan\n",
    "        interval_trial_start                          = np.zeros((NUM_SUBJECTS, INTERVAL_TRIALS))*np.nan\n",
    "        interval_reach_time                           = np.zeros((NUM_SUBJECTS, INTERVAL_TRIALS))*np.nan\n",
    "\n",
    "        for i in range(NUM_SUBJECTS):\n",
    "            subname = figures_pull_list[i]\n",
    "            data_path = PATH+f'\\\\Subjects_Analyzed\\\\{subname}\\\\'\n",
    "            reaction_trial_start[i,...]          = dill.load(open(data_path + f'{subname}_reaction_trial_start.pkl','rb'))          \n",
    "            reaction_trial_type_array[i,...]          = dill.load(open(data_path + f'{subname}_reaction_trial_type_array.pkl','rb'))          \n",
    "            # reaction_filenames[i,...]            = dill.load(open(data_path + f'{subname}_reaction_filenames.pkl','rb'))            \n",
    "            agent_reaction_leave_time[i,...]     = dill.load(open(data_path + f'{subname}_agent_reaction_leave_time.pkl','rb'))  \n",
    "            agent_reaction_decision_array[i,...] = dill.load(open(data_path + f'{subname}_agent_reaction_decision_array.pkl','rb')) \n",
    "            reaction_xypos_data[i,...]           = dill.load(open(data_path + f'{subname}_reaction_xypos_data.pkl','rb'))           \n",
    "            reaction_dist_data[i,...]            = dill.load(open(data_path + f'{subname}_reaction_dist_data.pkl','rb'))            \n",
    "            reaction_xyvelocity_data[i,...]      = dill.load(open(data_path + f'{subname}_reaction_xyvelocity_data.pkl','rb'))      \n",
    "            reaction_speed_data[i,...]           = dill.load(open(data_path + f'{subname}_reaction_speed_data.pkl','rb'))            \n",
    "            interval_trial_start[i,:]            = dill.load(open(data_path + f'{subname}_interval_trial_start.pkl', 'rb'))\n",
    "            interval_reach_time[i,:]             = dill.load(open(data_path + f'{subname}_interval_reach_time.pkl', 'rb'))\n",
    "            coincidence_trial_start[i,:]         = dill.load(open(data_path + f'{subname}_coincidence_trial_start.pkl', 'rb'))\n",
    "            coincidence_reach_time[i,:]          = dill.load(open(data_path + f'{subname}_coincidence_reach_time.pkl', 'rb'))\n",
    "    \n",
    "    #* Load Task Data\n",
    "    if True:\n",
    "        # ---------------Controls-------------------------\n",
    "        task_trial_start          = np.zeros((NUM_SUBJECTS, TASK_BLOCKS, TASK_TRIALS))*np.nan\n",
    "        task_filenames            = np.empty((NUM_SUBJECTS, TASK_BLOCKS,TASK_TRIALS),dtype = object)\n",
    "        agent_task_leave_time     = np.zeros((NUM_SUBJECTS, TASK_BLOCKS,TASK_TRIALS))*np.nan\n",
    "        agent_task_decision_array = np.empty((NUM_SUBJECTS, TASK_BLOCKS,TASK_TRIALS))*np.nan\n",
    "        task_xypos_data           = np.zeros((NUM_SUBJECTS, TASK_BLOCKS,TASK_TRIALS, TRIAL_TIME,2))*np.nan\n",
    "        task_dist_data            = np.zeros((NUM_SUBJECTS, TASK_BLOCKS,TASK_TRIALS, TRIAL_TIME))*np.nan\n",
    "        task_xyvelocity_data      = np.zeros((NUM_SUBJECTS, TASK_BLOCKS,TASK_TRIALS, TRIAL_TIME,2))*np.nan\n",
    "        task_speed_data           = np.zeros((NUM_SUBJECTS, TASK_BLOCKS,TASK_TRIALS, TRIAL_TIME))*np.nan \n",
    "        \n",
    "        for i in range(NUM_SUBJECTS):\n",
    "            subname = figures_pull_list[i]\n",
    "            data_path = PATH+f'\\\\Subjects_Analyzed\\\\{subname}\\\\'\n",
    "            task_trial_start[i,...]          = dill.load(open(data_path + f'{subname}_task_trial_start.pkl','rb'))                      \n",
    "            agent_task_leave_time[i,...]     = dill.load(open(data_path + f'{subname}_agent_task_leave_time.pkl','rb'))  \n",
    "            agent_task_decision_array[i,...] = dill.load(open(data_path + f'{subname}_agent_task_decision_array.pkl','rb')) \n",
    "            task_xypos_data[i,...]           = dill.load(open(data_path + f'{subname}_task_xypos_data.pkl','rb'))           \n",
    "            task_dist_data[i,...]            = dill.load(open(data_path + f'{subname}_task_dist_data.pkl','rb'))            \n",
    "            task_xyvelocity_data[i,...]      = dill.load(open(data_path + f'{subname}_task_xyvelocity_data.pkl','rb'))      \n",
    "            task_speed_data[i,...]           = dill.load(open(data_path + f'{subname}_task_speed_data.pkl','rb'))           \n",
    "            \n",
    "    #* Generate Subject Objects\n",
    "    if True:\n",
    "        data_path = 'Subjects_Analyzed\\\\'\n",
    "        subject_objects = []\n",
    "        for i in range(2):\n",
    "            subname = figures_pull_list[i]\n",
    "            print(subname)\n",
    "            subject_object = SubjectBuilder(\n",
    "                subject = subname,experiment = experiment, num_task_trials_initial = TASK_TRIALS, num_task_blocks = TASK_BLOCKS, \n",
    "                num_reaction_blocks = REACTION_BLOCKS, num_reaction_trials = REACTION_TRIALS,num_timing_trials = TIMING_TRIALS, select_trials='All Trials',\n",
    "                \n",
    "                reaction_trial_start = reaction_trial_start[i], reaction_xypos_data = reaction_xypos_data[i],\n",
    "                reaction_dist_data = reaction_dist_data[i], reaction_xyvelocity_data = reaction_xyvelocity_data[i],\n",
    "                reaction_speed_data = reaction_speed_data[i], reaction_trial_type_array = reaction_trial_type_array[i], \n",
    "                agent_reaction_decision_array = agent_reaction_decision_array[i],agent_reaction_leave_time = agent_reaction_leave_time[i], \n",
    "                \n",
    "                task_xypos_data = task_xypos_data[i], task_dist_data = task_dist_data[i], task_xyvelocity_data = task_xyvelocity_data[i], task_speed_data = task_speed_data[i],\n",
    "                interval_trial_start = interval_trial_start[i], interval_reach_time = interval_reach_time[i], coincidence_trial_start = coincidence_trial_start[i], coincidence_reach_time = coincidence_reach_time[i],\n",
    "                agent_task_leave_time = agent_task_leave_time[i], agent_task_decision_array = agent_task_decision_array[i],\n",
    "                                        )\n",
    "            subject_objects.append(subject_object)\n",
    "    assert TRIAL_TIME == 2000    \n",
    "    return subject_objects"
   ]
  },
  {
   "cell_type": "code",
   "execution_count": 57,
   "metadata": {},
   "outputs": [
    {
     "name": "stdout",
     "output_type": "stream",
     "text": [
      "Sub1\n",
      "Sub2\n"
     ]
    }
   ],
   "source": [
    "sub1 = generate_subject_objects(experiment='Exp1')"
   ]
  },
  {
   "cell_type": "code",
   "execution_count": 59,
   "metadata": {},
   "outputs": [
    {
     "data": {
      "text/plain": [
       "array([[False, False, False, False, False, False, False, False, False,\n",
       "        False, False, False, False, False, False, False, False, False,\n",
       "        False, False, False, False, False, False, False, False, False,\n",
       "        False, False, False, False, False, False, False, False, False,\n",
       "        False, False, False, False, False, False, False, False, False,\n",
       "        False, False, False, False, False],\n",
       "       [False, False, False, False, False, False, False, False, False,\n",
       "        False, False, False, False, False, False, False, False, False,\n",
       "        False, False, False, False, False, False, False, False, False,\n",
       "        False, False, False, False, False, False, False, False, False,\n",
       "        False, False, False, False, False, False, False, False, False,\n",
       "        False, False, False, False, False],\n",
       "       [ True,  True,  True,  True,  True,  True,  True,  True,  True,\n",
       "         True,  True,  True,  True,  True,  True,  True,  True,  True,\n",
       "         True,  True,  True,  True,  True,  True,  True,  True,  True,\n",
       "         True,  True,  True,  True,  True,  True,  True,  True,  True,\n",
       "         True,  True,  True,  True,  True,  True,  True,  True,  True,\n",
       "         True,  True,  True,  True,  True]])"
      ]
     },
     "execution_count": 59,
     "metadata": {},
     "output_type": "execute_result"
    }
   ],
   "source": [
    "sub1[1].movement_metrics.movement_onset_times(task='reaction') == sub1[1].movement_metrics.reaction_times"
   ]
  },
  {
   "cell_type": "code",
   "execution_count": null,
   "metadata": {},
   "outputs": [],
   "source": []
  }
 ],
 "metadata": {
  "kernelspec": {
   "display_name": "aim1",
   "language": "python",
   "name": "python3"
  },
  "language_info": {
   "codemirror_mode": {
    "name": "ipython",
    "version": 3
   },
   "file_extension": ".py",
   "mimetype": "text/x-python",
   "name": "python",
   "nbconvert_exporter": "python",
   "pygments_lexer": "ipython3",
   "version": "3.10.11"
  },
  "orig_nbformat": 4
 },
 "nbformat": 4,
 "nbformat_minor": 2
}
