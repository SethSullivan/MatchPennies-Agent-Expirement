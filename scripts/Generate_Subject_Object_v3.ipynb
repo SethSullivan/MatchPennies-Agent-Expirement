{
 "cells": [
  {
   "cell_type": "code",
   "execution_count": 191,
   "metadata": {},
   "outputs": [
    {
     "name": "stdout",
     "output_type": "stream",
     "text": [
      "The autoreload extension is already loaded. To reload it, use:\n",
      "  %reload_ext autoreload\n"
     ]
    }
   ],
   "source": [
    "from Subject_Object_v3 import SubjectBuilder\n",
    "import Subject_Object_v2\n",
    "import read_data_functions as rdf\n",
    "import numpy as np\n",
    "import dill\n",
    "import os\n",
    "from time import time\n",
    "%load_ext autoreload\n",
    "%autoreload 2"
   ]
  },
  {
   "cell_type": "code",
   "execution_count": 192,
   "metadata": {},
   "outputs": [],
   "source": [
    "def pickle_subject_objects(subject_list,load_path):\n",
    "    '''\n",
    "    Deprecated, generating subject objects is faster than storing the processed objects\n",
    "    '''\n",
    "    subject_objects = []\n",
    "    for i,subname in enumerate(subject_list):\n",
    "        print(subname)\n",
    "        subject_object = dill.load(open(load_path + f'\\\\{subname}\\\\{subname}_object.pkl', 'rb'))\n",
    "        subject_objects.append(subject_object)\n",
    "    return subject_objects\n",
    "\n",
    "def generate_subject_objects(experiment):\n",
    "    #* Experiment specific Constants\n",
    "    if True:\n",
    "        experiment = experiment\n",
    "\n",
    "        if experiment == 'Exp1':\n",
    "            COINCIDENCE_TRIALS = 50\n",
    "            INTERVAL_TRIALS = 50\n",
    "            REACTION_TRIALS = 50\n",
    "            REACTION_BLOCKS = 3\n",
    "            REACTION_TRIAL_TIME = 5000\n",
    "            TASK_BLOCKS = 6\n",
    "            TASK_TRIALS = 80\n",
    "        elif experiment == 'Exp2':\n",
    "            COINCIDENCE_TRIALS = 50\n",
    "            INTERVAL_TRIALS = 50\n",
    "            REACTION_TRIALS = 100\n",
    "            REACTION_BLOCKS = 3\n",
    "            REACTION_TRIAL_TIME = 8000\n",
    "            TASK_BLOCKS = 4\n",
    "            TASK_TRIALS = 80\n",
    "        TIMING_TRIALS = 50\n",
    "        TRIAL_TIME = 2000\n",
    "        \n",
    "    #* Get pull list and num subjects\n",
    "    if True:\n",
    "        # Fields pull and pull list\n",
    "        PATH = f'D:\\\\OneDrive - University of Delaware - o365\\\\Subject_Data\\\\MatchPennies_Agent_{experiment}'\n",
    "        os.chdir(PATH)\n",
    "        figures_pull_list = []\n",
    "        fields_pull = []\n",
    "        with open(PATH+\"\\\\Figures_Pull_List.txt\", \"r\") as pull_file:\n",
    "            figures_pull_list = pull_file.read().splitlines()\n",
    "        with open(PATH+\"\\\\Fields_Pull.txt\", \"r\") as fields_pull:\n",
    "            fields_pull = fields_pull.read().splitlines()\n",
    "        NUM_SUBJECTS = len(figures_pull_list)\n",
    "    \n",
    "    #* Load control data\n",
    "    if True:\n",
    "        # ---------------Controls-------------------------\n",
    "        reaction_trial_start          = np.zeros((NUM_SUBJECTS, REACTION_BLOCKS, REACTION_TRIALS))*np.nan\n",
    "        reaction_filenames            = np.empty((NUM_SUBJECTS, REACTION_BLOCKS,REACTION_TRIALS),dtype = object)\n",
    "        agent_reaction_leave_time     = np.zeros((NUM_SUBJECTS, REACTION_BLOCKS,REACTION_TRIALS))*np.nan\n",
    "        agent_reaction_decision_array = np.empty((NUM_SUBJECTS, REACTION_BLOCKS,REACTION_TRIALS))*np.nan\n",
    "        reaction_trial_type_array     = np.zeros((NUM_SUBJECTS, REACTION_BLOCKS,REACTION_TRIALS))*np.nan\n",
    "        reaction_xypos_data           = np.zeros((NUM_SUBJECTS, REACTION_BLOCKS,REACTION_TRIALS, REACTION_TRIAL_TIME,2))*np.nan\n",
    "        reaction_dist_data            = np.zeros((NUM_SUBJECTS, REACTION_BLOCKS,REACTION_TRIALS, REACTION_TRIAL_TIME))*np.nan\n",
    "        reaction_xyvelocity_data      = np.zeros((NUM_SUBJECTS, REACTION_BLOCKS,REACTION_TRIALS, REACTION_TRIAL_TIME,2))*np.nan\n",
    "        reaction_speed_data           = np.zeros((NUM_SUBJECTS, REACTION_BLOCKS,REACTION_TRIALS, REACTION_TRIAL_TIME))*np.nan\n",
    "        # reaction_xyforce_data         = np.zeros((NUM_SUBJECTS, REACTION_BLOCKS,REACTION_TRIALS, REACTION_TRIAL_TIME,2))*np.nan\n",
    "        # reaction_force_data           = np.zeros((NUM_SUBJECTS, REACTION_BLOCKS,REACTION_TRIALS, REACTION_TRIAL_TIME))*np.nan \n",
    "\n",
    "        coincidence_trial_start                       = np.zeros((NUM_SUBJECTS, COINCIDENCE_TRIALS))*np.nan\n",
    "        coincidence_reach_time                        = np.zeros((NUM_SUBJECTS, COINCIDENCE_TRIALS))*np.nan\n",
    "        interval_trial_start                          = np.zeros((NUM_SUBJECTS, INTERVAL_TRIALS))*np.nan\n",
    "        interval_reach_time                           = np.zeros((NUM_SUBJECTS, INTERVAL_TRIALS))*np.nan\n",
    "\n",
    "        for i in range(NUM_SUBJECTS):\n",
    "            subname = figures_pull_list[i]\n",
    "            data_path = PATH+f'\\\\Subjects_Analyzed\\\\{subname}\\\\'\n",
    "            reaction_trial_start[i,...]          = dill.load(open(data_path + f'{subname}_reaction_trial_start.pkl','rb'))          \n",
    "            reaction_trial_type_array[i,...]          = dill.load(open(data_path + f'{subname}_reaction_trial_type_array.pkl','rb'))          \n",
    "            # reaction_filenames[i,...]            = dill.load(open(data_path + f'{subname}_reaction_filenames.pkl','rb'))            \n",
    "            agent_reaction_leave_time[i,...]     = dill.load(open(data_path + f'{subname}_agent_reaction_leave_time.pkl','rb'))  \n",
    "            agent_reaction_decision_array[i,...] = dill.load(open(data_path + f'{subname}_agent_reaction_decision_array.pkl','rb')) \n",
    "            reaction_xypos_data[i,...]           = dill.load(open(data_path + f'{subname}_reaction_xypos_data.pkl','rb'))           \n",
    "            reaction_dist_data[i,...]            = dill.load(open(data_path + f'{subname}_reaction_dist_data.pkl','rb'))            \n",
    "            reaction_xyvelocity_data[i,...]      = dill.load(open(data_path + f'{subname}_reaction_xyvelocity_data.pkl','rb'))      \n",
    "            reaction_speed_data[i,...]           = dill.load(open(data_path + f'{subname}_reaction_speed_data.pkl','rb'))            \n",
    "            interval_trial_start[i,:]            = dill.load(open(data_path + f'{subname}_interval_trial_start.pkl', 'rb'))\n",
    "            interval_reach_time[i,:]             = dill.load(open(data_path + f'{subname}_interval_reach_time.pkl', 'rb'))\n",
    "            coincidence_trial_start[i,:]         = dill.load(open(data_path + f'{subname}_coincidence_trial_start.pkl', 'rb'))\n",
    "            coincidence_reach_time[i,:]          = dill.load(open(data_path + f'{subname}_coincidence_reach_time.pkl', 'rb'))\n",
    "    \n",
    "    #* Load Task Data\n",
    "    if True:\n",
    "        # ---------------Controls-------------------------\n",
    "        task_trial_start          = np.zeros((NUM_SUBJECTS, TASK_BLOCKS, TASK_TRIALS))*np.nan\n",
    "        task_filenames            = np.empty((NUM_SUBJECTS, TASK_BLOCKS,TASK_TRIALS),dtype = object)\n",
    "        agent_task_leave_time     = np.zeros((NUM_SUBJECTS, TASK_BLOCKS,TASK_TRIALS))*np.nan\n",
    "        agent_task_decision_array = np.empty((NUM_SUBJECTS, TASK_BLOCKS,TASK_TRIALS))*np.nan\n",
    "        task_xypos_data           = np.zeros((NUM_SUBJECTS, TASK_BLOCKS,TASK_TRIALS, TRIAL_TIME,2))*np.nan\n",
    "        task_dist_data            = np.zeros((NUM_SUBJECTS, TASK_BLOCKS,TASK_TRIALS, TRIAL_TIME))*np.nan\n",
    "        task_xyvelocity_data      = np.zeros((NUM_SUBJECTS, TASK_BLOCKS,TASK_TRIALS, TRIAL_TIME,2))*np.nan\n",
    "        task_speed_data           = np.zeros((NUM_SUBJECTS, TASK_BLOCKS,TASK_TRIALS, TRIAL_TIME))*np.nan \n",
    "        \n",
    "        for i in range(NUM_SUBJECTS):\n",
    "            subname = figures_pull_list[i]\n",
    "            data_path = PATH+f'\\\\Subjects_Analyzed\\\\{subname}\\\\'\n",
    "            task_trial_start[i,...]          = dill.load(open(data_path + f'{subname}_task_trial_start.pkl','rb'))                      \n",
    "            agent_task_leave_time[i,...]     = dill.load(open(data_path + f'{subname}_agent_task_leave_time.pkl','rb'))  \n",
    "            agent_task_decision_array[i,...] = dill.load(open(data_path + f'{subname}_agent_task_decision_array.pkl','rb')) \n",
    "            task_xypos_data[i,...]           = dill.load(open(data_path + f'{subname}_task_xypos_data.pkl','rb'))           \n",
    "            task_dist_data[i,...]            = dill.load(open(data_path + f'{subname}_task_dist_data.pkl','rb'))            \n",
    "            task_xyvelocity_data[i,...]      = dill.load(open(data_path + f'{subname}_task_xyvelocity_data.pkl','rb'))      \n",
    "            task_speed_data[i,...]           = dill.load(open(data_path + f'{subname}_task_speed_data.pkl','rb'))           \n",
    "    start = time()  \n",
    "    #* Generate Subject Objects\n",
    "    if True:\n",
    "        data_path = 'Subjects_Analyzed\\\\'        \n",
    "        subject_object = SubjectBuilder(\n",
    "            subjects= figures_pull_list,experiment = experiment, num_task_trials_initial = TASK_TRIALS, num_task_blocks = TASK_BLOCKS, \n",
    "            num_reaction_blocks = REACTION_BLOCKS, num_reaction_trials = REACTION_TRIALS,num_timing_trials = TIMING_TRIALS, select_trials='All Trials',\n",
    "            \n",
    "            reaction_trial_start = reaction_trial_start, reaction_xypos_data = reaction_xypos_data,\n",
    "            reaction_dist_data = reaction_dist_data, reaction_xyvelocity_data = reaction_xyvelocity_data,\n",
    "            reaction_speed_data = reaction_speed_data, reaction_trial_type_array = reaction_trial_type_array, \n",
    "            agent_reaction_decision_array = agent_reaction_decision_array,agent_reaction_leave_time = agent_reaction_leave_time, \n",
    "            \n",
    "            task_xypos_data = task_xypos_data, task_dist_data = task_dist_data, task_xyvelocity_data = task_xyvelocity_data, task_speed_data = task_speed_data,\n",
    "            interval_trial_start = interval_trial_start, interval_reach_time = interval_reach_time, coincidence_trial_start = coincidence_trial_start, coincidence_reach_time = coincidence_reach_time,\n",
    "            agent_task_leave_time = agent_task_leave_time, agent_task_decision_array = agent_task_decision_array,\n",
    "                                    )\n",
    "    end = time()\n",
    "    print(end - start)\n",
    "    assert TRIAL_TIME == 2000    \n",
    "    return subject_object"
   ]
  },
  {
   "cell_type": "code",
   "execution_count": 193,
   "metadata": {},
   "outputs": [
    {
     "name": "stdout",
     "output_type": "stream",
     "text": [
      "Sub1\n",
      "Sub2\n",
      "Sub3\n",
      "Sub4\n",
      "Sub5\n",
      "Sub6\n",
      "Sub7\n",
      "Sub8\n",
      "Sub9\n",
      "Sub10\n",
      "Sub11\n",
      "Sub12\n",
      "Sub13\n",
      "Sub14\n",
      "Sub15\n",
      "Sub16\n",
      "Sub17\n",
      "Sub18\n",
      "Sub19\n",
      "Sub20\n"
     ]
    },
    {
     "name": "stderr",
     "output_type": "stream",
     "text": [
      "D:\\OneDrive - University of Delaware - o365\\Desktop\\MatchPennies-Agent-Expirement\\src\\Subject_Object_v2.py:492: RuntimeWarning: All-NaN slice encountered\n",
      "  self.init_reach_posx_single_timepoint = np.nanmax(self.init_reach_posx*self.init_reach_pos_mask,axis=2)\n",
      "D:\\OneDrive - University of Delaware - o365\\Desktop\\MatchPennies-Agent-Expirement\\src\\Subject_Object_v2.py:557: RuntimeWarning: divide by zero encountered in true_divide\n",
      "  self.mu_s = (self.phat_correct*self.mhat_correct - self.phat_error*self.mhat_error)/(self.phat_correct - self.phat_error)\n",
      "D:\\OneDrive - University of Delaware - o365\\Desktop\\MatchPennies-Agent-Expirement\\src\\Subject_Object_v2.py:568: RuntimeWarning: divide by zero encountered in true_divide\n",
      "  self.mu_s_alternate = (self.phat_correct*self.mhat_correct_alternate - self.phat_error*self.mhat_error_alternate)/(self.phat_correct - self.phat_error)\n"
     ]
    }
   ],
   "source": [
    "subject_objects = rdf.generate_subject_objects('Exp1')\n",
    "# pos_group = Subject_Object_v2.Group(subject_objects, select_trials = 'All Trials', num_stds_for_reaction_time = 2, \n",
    "#                                     task_leave_time_metric_name = 'player_pos_task_leave_time', task_movement_time_metric_name = 'player_pos_task_movement_time',\n",
    "#                                     reaction_time_metric_name = 'player_pos_reaction_time', reaction_movement_time_metric_name = 'player_pos_reaction_movement_time')\n",
    "# pos_group.analyze_data()\n",
    "# vel_group_thresh = Subject_Object_v2.Group(subject_objects, select_trials = 'All Trials', num_stds_for_reaction_time = 2, \n",
    "#                                     task_leave_time_metric_name = 'player_velocity_task_leave_time_thresh',task_movement_time_metric_name = 'player_velocity_task_movement_time_thresh',\n",
    "#                                     reaction_time_metric_name = 'player_velocity_reaction_time_thresh', reaction_movement_time_metric_name = 'player_velocity_reaction_movement_time_thresh')\n",
    "# vel_group_thresh.analyze_data()\n",
    "\n",
    "group = Subject_Object_v2.Group(subject_objects, select_trials = 'All Trials', num_stds_for_reaction_time = 2, \n",
    "                                    task_leave_time_metric_name = 'player_velocity_task_leave_time_thresh',task_movement_time_metric_name = 'player_velocity_task_movement_time_thresh',\n",
    "                                    reaction_time_metric_name = 'player_velocity_reaction_time_thresh', reaction_movement_time_metric_name = 'player_velocity_reaction_movement_time_thresh')\n",
    "group.analyze_data()"
   ]
  },
  {
   "cell_type": "code",
   "execution_count": 194,
   "metadata": {},
   "outputs": [
    {
     "name": "stdout",
     "output_type": "stream",
     "text": [
      "0.6368865966796875\n"
     ]
    }
   ],
   "source": [
    "subs = generate_subject_objects(experiment='Exp1')"
   ]
  },
  {
   "cell_type": "code",
   "execution_count": 195,
   "metadata": {},
   "outputs": [
    {
     "data": {
      "text/plain": [
       "200"
      ]
     },
     "execution_count": 195,
     "metadata": {},
     "output_type": "execute_result"
    }
   ],
   "source": [
    "subs.reaction_gamble_metrics.reaction_time_threshold"
   ]
  },
  {
   "cell_type": "code",
   "execution_count": 196,
   "metadata": {},
   "outputs": [
    {
     "data": {
      "text/plain": [
       "array([], shape=(0, 3), dtype=int64)"
      ]
     },
     "execution_count": 196,
     "metadata": {},
     "output_type": "execute_result"
    }
   ],
   "source": [
    "np.argwhere(~(subs.movement_metrics.target_reach_times('task')==subs.movement_metrics.big_num) == (group.player_task_reach_time==10000))"
   ]
  },
  {
   "cell_type": "code",
   "execution_count": 197,
   "metadata": {},
   "outputs": [
    {
     "data": {
      "text/plain": [
       "False"
      ]
     },
     "execution_count": 197,
     "metadata": {},
     "output_type": "execute_result"
    }
   ],
   "source": [
    "np.any(~(group.player_task_reach_time==10000) == (subs.movement_metrics.target_reach_times('task')==subs.movement_metrics.big_num))"
   ]
  },
  {
   "cell_type": "code",
   "execution_count": 198,
   "metadata": {},
   "outputs": [
    {
     "ename": "AttributeError",
     "evalue": "'SubjectBuilder' object has no attribute 'player_task_decision_array'",
     "output_type": "error",
     "traceback": [
      "\u001b[1;31m---------------------------------------------------------------------------\u001b[0m",
      "\u001b[1;31mAttributeError\u001b[0m                            Traceback (most recent call last)",
      "Cell \u001b[1;32mIn[198], line 1\u001b[0m\n\u001b[1;32m----> 1\u001b[0m subs\u001b[39m.\u001b[39;49mplayer_task_decision_array\n",
      "\u001b[1;31mAttributeError\u001b[0m: 'SubjectBuilder' object has no attribute 'player_task_decision_array'"
     ]
    }
   ],
   "source": [
    "subs.player_task_decision_array"
   ]
  },
  {
   "cell_type": "code",
   "execution_count": null,
   "metadata": {},
   "outputs": [],
   "source": [
    "num,denom,ans = subs.reaction_gamble_metrics.score_metric_that_were_reaction_guess('indecisions','react')"
   ]
  },
  {
   "cell_type": "code",
   "execution_count": 202,
   "metadata": {},
   "outputs": [
    {
     "data": {
      "text/plain": [
       "array([[ 3, 14, 13,  4,  3, 15],\n",
       "       [ 1,  7, 16, 13, 26, 18],\n",
       "       [ 3,  7, 27,  8, 26,  4],\n",
       "       [ 6,  9,  5, 11,  6, 16],\n",
       "       [ 5, 10, 19, 16, 18,  9],\n",
       "       [ 7,  6,  8, 25, 19,  5],\n",
       "       [13, 26, 28, 38, 75, 36],\n",
       "       [ 2,  9, 18,  7, 10,  6],\n",
       "       [ 4,  9, 23, 28, 35, 27],\n",
       "       [ 3, 19, 26, 18, 11, 15],\n",
       "       [ 3, 19,  9, 17, 23,  6],\n",
       "       [15, 17, 14, 15, 11, 16],\n",
       "       [ 7,  1, 63,  3, 16,  5],\n",
       "       [13, 13, 37, 15, 17, 14],\n",
       "       [ 2,  8,  9,  8, 15,  6],\n",
       "       [10, 22, 18, 32, 14, 16],\n",
       "       [ 3,  3,  3,  2,  1,  3],\n",
       "       [ 8, 18, 30, 20, 15, 13],\n",
       "       [ 0,  5, 14,  4, 17, 17],\n",
       "       [11,  7, 11, 11,  7,  3]], dtype=int64)"
      ]
     },
     "execution_count": 202,
     "metadata": {},
     "output_type": "execute_result"
    }
   ],
   "source": [
    "subs.score_metrics.score_metric('indecisions')"
   ]
  }
 ],
 "metadata": {
  "kernelspec": {
   "display_name": "aim1",
   "language": "python",
   "name": "python3"
  },
  "language_info": {
   "codemirror_mode": {
    "name": "ipython",
    "version": 3
   },
   "file_extension": ".py",
   "mimetype": "text/x-python",
   "name": "python",
   "nbconvert_exporter": "python",
   "pygments_lexer": "ipython3",
   "version": "3.10.11"
  },
  "orig_nbformat": 4
 },
 "nbformat": 4,
 "nbformat_minor": 2
}
