{
 "cells": [
  {
   "cell_type": "code",
   "execution_count": 1,
   "metadata": {},
   "outputs": [],
   "source": [
    "import numpy as np \n",
    "import nashpy"
   ]
  },
  {
   "cell_type": "code",
   "execution_count": 13,
   "metadata": {},
   "outputs": [
    {
     "name": "stdout",
     "output_type": "stream",
     "text": [
      "Expected value of left, right for guessing [0.66666667 0.22222222]\n",
      "total ev: 0.8888888888888888\n"
     ]
    }
   ],
   "source": [
    "prob_agent_left_right = np.array([1/3,2/3])\n",
    "prob_select_left_right = np.array([2/3,1/3])\n",
    "score_left_right = np.array([3,1])\n",
    "\n",
    "ev_guess = prob_agent_left_right*prob_select_left_right*score_left_right\n",
    "print(f'Expected value of left, right for guessing {ev_guess}')\n",
    "print(f'total ev: {np.sum(ev_guess)}')"
   ]
  },
  {
   "cell_type": "code",
   "execution_count": 14,
   "metadata": {},
   "outputs": [
    {
     "name": "stdout",
     "output_type": "stream",
     "text": [
      "Expected value of left, right for reacting [1.         0.66666667]\n",
      "total ev: 1.6666666666666665\n"
     ]
    }
   ],
   "source": [
    "ev_react = prob_agent_left_right*score_left_right\n",
    "print(f'Expected value of left, right for reacting {ev_react}')\n",
    "print(f'total ev: {np.sum(ev_react)}')"
   ]
  },
  {
   "cell_type": "code",
   "execution_count": null,
   "metadata": {},
   "outputs": [],
   "source": []
  }
 ],
 "metadata": {
  "kernelspec": {
   "display_name": "aim1",
   "language": "python",
   "name": "python3"
  },
  "language_info": {
   "codemirror_mode": {
    "name": "ipython",
    "version": 3
   },
   "file_extension": ".py",
   "mimetype": "text/x-python",
   "name": "python",
   "nbconvert_exporter": "python",
   "pygments_lexer": "ipython3",
   "version": "3.10.11"
  },
  "orig_nbformat": 4
 },
 "nbformat": 4,
 "nbformat_minor": 2
}
