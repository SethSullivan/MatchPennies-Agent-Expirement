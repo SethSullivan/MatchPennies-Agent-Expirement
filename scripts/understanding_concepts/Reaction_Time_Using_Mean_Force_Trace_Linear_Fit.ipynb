{
 "cells": [
  {
   "cell_type": "code",
   "execution_count": null,
   "metadata": {},
   "outputs": [],
   "source": [
    "# Align force data\n",
    "reaction_yforce_data_aligned = np.zeros_like(reaction_yforce_data)\n",
    "for i in range(num_subjects):\n",
    "    for j in range(num_blocks):\n",
    "        for k in range(num_trials):\n",
    "            if np.isnan(agent_reaction_decision_time[i,j,k]):\n",
    "                break\n",
    "            x = int(agent_reaction_decision_time[i,j,k])\n",
    "            reaction_yforce_data_aligned[i,j,k,:] = np.roll(reaction_yforce_data[i,j,k,:],-x)\n",
    "reaction_yforce_data_aligned[...,1000:] = np.nan"
   ]
  },
  {
   "cell_type": "code",
   "execution_count": null,
   "metadata": {},
   "outputs": [],
   "source": [
    "#* Split into react and gamble trials for first block\n",
    "shutoff_mask = trial_type_array==0\n",
    "go_mask = trial_type_array==1\n",
    "force_react_mask      = np.repeat(go_mask[...,np.newaxis],5000,axis=3)\n",
    "force_gamble_mask     = np.repeat(shutoff_mask[...,np.newaxis],5000,axis=3)\n",
    "\n",
    "react_yforce_data = reaction_yforce_data_aligned[force_react_mask].reshape(num_subjects,2,50,5000)   \n",
    "gamble_yforce_data = reaction_yforce_data_aligned[force_gamble_mask].reshape(num_subjects,2,50,5000)   \n",
    "\n",
    "react_yforce_data_mixed = react_yforce_data[:,0,...]\n",
    "react_yforce_data_only_react = react_yforce_data[:,1,...]\n",
    "\n",
    "gamble_yforce_data_mixed = gamble_yforce_data[:,0,...]\n",
    "gamble_yforce_data_only_gamble = gamble_yforce_data[:,1,...]"
   ]
  },
  {
   "cell_type": "code",
   "execution_count": null,
   "metadata": {},
   "outputs": [],
   "source": [
    "class Data():\n",
    "    def __init__(self,data):\n",
    "        self.data = data\n",
    "        self.num_subjects = 7\n",
    "        self.get_max_force_percentiles()\n",
    "    def get_max_force_percentiles(self):\n",
    "        #* Get average across all trials for each subject, each block\n",
    "        self.mean_force = np.nanmean(self.data,axis=1)\n",
    "\n",
    "        #* Find max peak in average signal and find 0.25 and 0.75 of the averaged force values\n",
    "        self.max_mean_force = np.nanmax(self.mean_force,axis=1)\n",
    "        self.index_max_mean_force = np.nanargmax(self.mean_force,axis=1)\n",
    "        self.max25 = 0.25*self.max_mean_force\n",
    "        self.max75 = 0.75*self.max_mean_force\n",
    "        self.max25_timepoint = np.zeros((num_subjects))\n",
    "        self.max75_timepoint = np.zeros_like(self.max25_timepoint)\n",
    "        for i in range(self.num_subjects):\n",
    "            a,_ = min(enumerate(self.mean_force[i,:self.index_max_mean_force[i]]), key=lambda x: abs(x[1]-self.max25[i])) # Enumerate mean force to get timepoint and value, only slice up to the max value, then find where it's closest to 25percent of max value\n",
    "            self.max25_timepoint[i] = a\n",
    "            b,_ = min(enumerate(self.mean_force[i,:self.index_max_mean_force[i]]), key=lambda x: abs(x[1]-self.max75[i]))\n",
    "            self.max75_timepoint[i] = b\n",
    "        self.x1vals = self.max25_timepoint\n",
    "        self.x2vals = self.max75_timepoint\n",
    "        self.y1vals = self.max25\n",
    "        self.y2vals = self.max75\n",
    "        self.slopes = (self.y2vals - self.y1vals)/(self.x2vals - self.x1vals)\n",
    "        self.intercepts = self.y2vals - self.slopes*self.x2vals\n",
    "        self.time_at_zero = -self.intercepts/self.slopes\n",
    "        self.player_reaction_time_force = self.time_at_zero"
   ]
  },
  {
   "cell_type": "code",
   "execution_count": null,
   "metadata": {},
   "outputs": [],
   "source": [
    "def plot(objects,label):\n",
    "    colors = cm.rainbow(np.linspace(0, 1, 4))\n",
    "    \n",
    "    \n",
    "    for i in range(num_subjects):\n",
    "        fig,ax = plt.subplots(dpi=170)\n",
    "        for j,o in enumerate(objects):\n",
    "            x1 = o.mean_force[i,:]\n",
    "            x1line = o.slopes[i]*np.arange(0,1000) + o.intercepts[i]\n",
    "\n",
    "            ax.plot(np.arange(0,1000),x1[:1000],c =colors[j],label=label[j])\n",
    "            ax.scatter(o.max25_timepoint[i],o.max25[i],c='grey')\n",
    "            ax.scatter(o.max75_timepoint[i],o.max75[i],c='grey')\n",
    "            ax.plot(x1line,c=colors[j],ls='--')\n",
    "\n",
    "            ax.scatter(o.index_max_mean_force[i],o.max_mean_force[i],marker='x')\n",
    "\n",
    "            ax.set_ylim(0,max(o.max_mean_force+1))\n",
    "            # ax.set_xlim(0,800)\n",
    "            ax.legend()\n",
    "        plt.show()"
   ]
  },
  {
   "cell_type": "code",
   "execution_count": null,
   "metadata": {},
   "outputs": [],
   "source": [
    "react_mixed = Data(react_yforce_data_mixed)\n",
    "react_only_react = Data(react_yforce_data_only_react)\n",
    "gamble_mixed = Data(gamble_yforce_data_mixed)\n",
    "gamble_only_gamble = Data(gamble_yforce_data_only_gamble)\n",
    "# mean_react_mixed, max_mean_react_mixed, index_max_mean_react_mixed, max25_react_mixed, max75_react_mixed, max25_timepoint_react_mixed, max75_timepoint_react_mixed = get_max_force_percentiles(react_yforce_data_mixed)\n",
    "# mean_only_react, max_mean_only_react, index_max_mean_only_react, max25_only_react, max75_only_react, max25_timepoint_only_react, max75_timepoint_only_react = get_max_force_percentiles(react_yforce_data_only_react)\n",
    "# mean_only_gamble, max_mean_only_gamble, index_max_mean_only_gamble, max25_only_gamble, max75_only_gamble, max25_timepoint_only_gamble, max75_timepoint_only_gamble = get_max_force_percentiles(gamble_yforce_data_only_gamble)\n",
    "# mean_gamble_mixed, max_mean_gamble_mixed, index_max_mean_gamble_mixed, max25_gamble_mixed, max75_gamble_mixed, max25_timepoint_gamble_mixed, max75_timepoint_gamble_mixed = get_max_force_percentiles(gamble_yforce_data_mixed)\n",
    "o = [react_mixed,react_only_react,gamble_mixed,gamble_only_gamble]"
   ]
  }
 ],
 "metadata": {
  "language_info": {
   "name": "python"
  },
  "orig_nbformat": 4
 },
 "nbformat": 4,
 "nbformat_minor": 2
}
