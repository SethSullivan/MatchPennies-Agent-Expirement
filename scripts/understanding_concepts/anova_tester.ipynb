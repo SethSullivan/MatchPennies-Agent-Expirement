{
 "cells": [
  {
   "cell_type": "code",
   "execution_count": 1,
   "metadata": {},
   "outputs": [],
   "source": [
    "import numpy as np\n",
    "import analysis_utilities as au\n",
    "import pingouin as pg\n",
    "import pandas as pd\n",
    "import matplotlib.pyplot as plt\n",
    "import numba as nb\n"
   ]
  },
  {
   "cell_type": "code",
   "execution_count": 2,
   "metadata": {},
   "outputs": [],
   "source": [
    "from numba import njit\n",
    "import numpy as np\n",
    "\n",
    "@njit\n",
    "def np_apply_along_axis(func1d, axis, arr):\n",
    "    assert arr.ndim == 2\n",
    "    assert axis in [0, 1]\n",
    "    if axis == 0:\n",
    "        result = np.empty(arr.shape[1])\n",
    "        for i in range(len(result)):\n",
    "            result[i] = func1d(arr[:, i])\n",
    "    else:\n",
    "        result = np.empty(arr.shape[0])\n",
    "        for i in range(len(result)):\n",
    "            result[i] = func1d(arr[i, :])\n",
    "    return result\n",
    "\n",
    "@njit\n",
    "def nb_nanstd(array, axis):\n",
    "    return np_apply_along_axis(np.nanstd, axis, array)\n",
    "\n",
    "@njit\n",
    "def nb_mean(array, axis):\n",
    "    return np_apply_along_axis(np.mean, axis, array)\n",
    "\n",
    "@njit\n",
    "def nb_nanmean(array, axis):\n",
    "    return np_apply_along_axis(np.nanmean, axis, array)"
   ]
  },
  {
   "cell_type": "code",
   "execution_count": 10,
   "metadata": {},
   "outputs": [],
   "source": [
    "@nb.njit\n",
    "def one_way_rm_anova(data):\n",
    "    grand_n = len(data.flatten()) # Total number of datapoints\n",
    "    n_i = data.shape[1] # Number of datapoints for each group, doesn't have to be equal for all groups but usually is\n",
    "    m = data.shape[0] # Total number of groups \n",
    "    grand_mean = np.mean(data)\n",
    "    group_means = nb_mean(data,axis=1)\n",
    "    subject_means = nb_mean(data,axis=0)\n",
    "    ss_total = np.sum((data.flatten() - grand_mean)**2)\n",
    "    ss_group = np.sum(n_i*(group_means - grand_mean)**2)\n",
    "    ss_subjects = m*np.sum((subject_means - grand_mean)**2)\n",
    "    \n",
    "    ss_error = ss_total - ss_group - ss_subjects\n",
    "    ms_group = ss_group/(m - 1)\n",
    "    ms_error = ss_error/((n_i-1)*(m-1))\n",
    "    \n",
    "    f_statistic = ms_group/ms_error\n",
    "    return f_statistic\n",
    "\n",
    "@nb.njit\n",
    "def boostrap_rm_anova(data, alternative = 'two-sided', M = 1e5):\n",
    "    f_store = np.zeros(int(M))\n",
    "    M = int(M)\n",
    "    original_f = one_way_anova(data)\n",
    "    data_len = data.shape[1]\n",
    "    for i in nb.prange(M):\n",
    "\n",
    "        indices = np.random.choice(np.arange(0,data_len,1), size = data_len, replace=True)\n",
    "        data_boot = data[:,indices]     \n",
    "    \n",
    "        assert np.all(data[:,indices[0]] == data_boot[:,0])\n",
    "        grand_n = len(data.flatten()) # Total number of datapoints\n",
    "        n_i = data.shape[1] # Number of datapoints for each group, doesn't have to be equal for all groups but usually is\n",
    "        m = data.shape[0] # Total number of groups \n",
    "        grand_mean = np.mean(data_boot)\n",
    "        group_means = nb_mean(data_boot,axis=1)\n",
    "        subject_means = nb_mean(data_boot,axis=0)\n",
    "        ss_total = np.sum((data_boot.flatten() - grand_mean)**2)\n",
    "        ss_group = np.sum(n_i*(group_means - grand_mean)**2)\n",
    "        ss_subjects = m*np.sum((subject_means - grand_mean)**2)\n",
    "        \n",
    "        ss_error = ss_total - ss_group - ss_subjects\n",
    "        ms_group = ss_group/(m - 1)\n",
    "        ms_error = ss_error/((n_i-1)*(m-1))\n",
    "        f_statistic = ms_group/ms_error\n",
    "        f_store[i] = one_way_anova(data_boot)\n",
    "    \n",
    "    centered_results = f_store - original_f\n",
    "    \n",
    "    #are the results more extreme than the original?\n",
    "    p_val = np.sum(centered_results > abs(original_f)) + np.sum(centered_results < -abs(original_f))\n",
    "    returned_distribution = centered_results\n",
    "    \n",
    "    return p_valf_store"
   ]
  },
  {
   "cell_type": "code",
   "execution_count": 11,
   "metadata": {},
   "outputs": [
    {
     "data": {
      "text/plain": [
       "30.988285468448627"
      ]
     },
     "execution_count": 11,
     "metadata": {},
     "output_type": "execute_result"
    }
   ],
   "source": [
    "np.random.seed(0)\n",
    "group_1 = np.random.normal(0, 4, 60)\n",
    "group_2 = np.random.normal(4, 4, 60)\n",
    "group_3 = np.random.normal(4, 4, 60)\n",
    "# group_1 = np.arange(0,10,1)\n",
    "# group_2 = np.arange(0,10,1)\n",
    "data = np.vstack((group_1, group_2))\n",
    "one_way_anova(data)"
   ]
  },
  {
   "cell_type": "code",
   "execution_count": null,
   "metadata": {},
   "outputs": [],
   "source": []
  },
  {
   "cell_type": "code",
   "execution_count": 12,
   "metadata": {},
   "outputs": [],
   "source": [
    "result = boostrap_rm_anova(data,M=1e3)\n"
   ]
  },
  {
   "cell_type": "code",
   "execution_count": 8,
   "metadata": {},
   "outputs": [
    {
     "data": {
      "image/png": "[encoded data removed]",
      "text/plain": [
       "<Figure size 640x480 with 1 Axes>"
      ]
     },
     "metadata": {},
     "output_type": "display_data"
    }
   ],
   "source": [
    "fig,ax = plt.subplots()\n",
    "ax.hist(result)\n",
    "plt.show()"
   ]
  },
  {
   "cell_type": "code",
   "execution_count": null,
   "metadata": {},
   "outputs": [
    {
     "data": {
      "text/html": [
       "<div>\n",
       "<style scoped>\n",
       "    .dataframe tbody tr th:only-of-type {\n",
       "        vertical-align: middle;\n",
       "    }\n",
       "\n",
       "    .dataframe tbody tr th {\n",
       "        vertical-align: top;\n",
       "    }\n",
       "\n",
       "    .dataframe thead th {\n",
       "        text-align: right;\n",
       "    }\n",
       "</style>\n",
       "<table border=\"1\" class=\"dataframe\">\n",
       "  <thead>\n",
       "    <tr style=\"text-align: right;\">\n",
       "      <th></th>\n",
       "      <th>Subject</th>\n",
       "      <th>Treatment</th>\n",
       "      <th>Values</th>\n",
       "    </tr>\n",
       "  </thead>\n",
       "  <tbody>\n",
       "    <tr>\n",
       "      <th>0</th>\n",
       "      <td>0.0</td>\n",
       "      <td>0.0</td>\n",
       "      <td>7.056209</td>\n",
       "    </tr>\n",
       "    <tr>\n",
       "      <th>1</th>\n",
       "      <td>1.0</td>\n",
       "      <td>0.0</td>\n",
       "      <td>1.600629</td>\n",
       "    </tr>\n",
       "    <tr>\n",
       "      <th>2</th>\n",
       "      <td>2.0</td>\n",
       "      <td>0.0</td>\n",
       "      <td>3.914952</td>\n",
       "    </tr>\n",
       "    <tr>\n",
       "      <th>3</th>\n",
       "      <td>3.0</td>\n",
       "      <td>0.0</td>\n",
       "      <td>8.963573</td>\n",
       "    </tr>\n",
       "    <tr>\n",
       "      <th>4</th>\n",
       "      <td>4.0</td>\n",
       "      <td>0.0</td>\n",
       "      <td>7.470232</td>\n",
       "    </tr>\n",
       "  </tbody>\n",
       "</table>\n",
       "</div>"
      ],
      "text/plain": [
       "   Subject  Treatment    Values\n",
       "0      0.0        0.0  7.056209\n",
       "1      1.0        0.0  1.600629\n",
       "2      2.0        0.0  3.914952\n",
       "3      3.0        0.0  8.963573\n",
       "4      4.0        0.0  7.470232"
      ]
     },
     "execution_count": 128,
     "metadata": {},
     "output_type": "execute_result"
    }
   ],
   "source": [
    "subject_num = np.tile(np.arange(group_1.shape[0], dtype=int),data.shape[0])\n",
    "treatment_num = np.repeat([0,1],60)\n",
    "data_ = np.vstack((subject_num,treatment_num,data.flatten()))\n",
    "df_data = pd.DataFrame(data_.T, columns = ['Subject','Treatment', 'Values'])\n",
    "df_data.head()"
   ]
  },
  {
   "cell_type": "code",
   "execution_count": null,
   "metadata": {},
   "outputs": [
    {
     "data": {
      "text/html": [
       "<div>\n",
       "<style scoped>\n",
       "    .dataframe tbody tr th:only-of-type {\n",
       "        vertical-align: middle;\n",
       "    }\n",
       "\n",
       "    .dataframe tbody tr th {\n",
       "        vertical-align: top;\n",
       "    }\n",
       "\n",
       "    .dataframe thead th {\n",
       "        text-align: right;\n",
       "    }\n",
       "</style>\n",
       "<table border=\"1\" class=\"dataframe\">\n",
       "  <thead>\n",
       "    <tr style=\"text-align: right;\">\n",
       "      <th></th>\n",
       "      <th>Source</th>\n",
       "      <th>ddof1</th>\n",
       "      <th>ddof2</th>\n",
       "      <th>F</th>\n",
       "      <th>p-unc</th>\n",
       "      <th>ng2</th>\n",
       "      <th>eps</th>\n",
       "    </tr>\n",
       "  </thead>\n",
       "  <tbody>\n",
       "    <tr>\n",
       "      <th>0</th>\n",
       "      <td>Treatment</td>\n",
       "      <td>1</td>\n",
       "      <td>59</td>\n",
       "      <td>30.988285</td>\n",
       "      <td>6.685840e-07</td>\n",
       "      <td>0.221035</td>\n",
       "      <td>1.0</td>\n",
       "    </tr>\n",
       "  </tbody>\n",
       "</table>\n",
       "</div>"
      ],
      "text/plain": [
       "      Source  ddof1  ddof2          F         p-unc       ng2  eps\n",
       "0  Treatment      1     59  30.988285  6.685840e-07  0.221035  1.0"
      ]
     },
     "execution_count": 129,
     "metadata": {},
     "output_type": "execute_result"
    }
   ],
   "source": [
    "pg.rm_anova(df_data, dv='Values', within='Treatment',subject='Subject')"
   ]
  },
  {
   "cell_type": "code",
   "execution_count": 14,
   "metadata": {},
   "outputs": [],
   "source": [
    "df = pg.read_dataset('rm_anova')\n"
   ]
  },
  {
   "cell_type": "code",
   "execution_count": 15,
   "metadata": {},
   "outputs": [
    {
     "data": {
      "text/html": [
       "<div>\n",
       "<style scoped>\n",
       "    .dataframe tbody tr th:only-of-type {\n",
       "        vertical-align: middle;\n",
       "    }\n",
       "\n",
       "    .dataframe tbody tr th {\n",
       "        vertical-align: top;\n",
       "    }\n",
       "\n",
       "    .dataframe thead th {\n",
       "        text-align: right;\n",
       "    }\n",
       "</style>\n",
       "<table border=\"1\" class=\"dataframe\">\n",
       "  <thead>\n",
       "    <tr style=\"text-align: right;\">\n",
       "      <th></th>\n",
       "      <th>Subject</th>\n",
       "      <th>Gender</th>\n",
       "      <th>Region</th>\n",
       "      <th>Education</th>\n",
       "      <th>DesireToKill</th>\n",
       "      <th>Disgustingness</th>\n",
       "      <th>Frighteningness</th>\n",
       "    </tr>\n",
       "  </thead>\n",
       "  <tbody>\n",
       "    <tr>\n",
       "      <th>0</th>\n",
       "      <td>1</td>\n",
       "      <td>Female</td>\n",
       "      <td>North</td>\n",
       "      <td>some</td>\n",
       "      <td>10.0</td>\n",
       "      <td>High</td>\n",
       "      <td>High</td>\n",
       "    </tr>\n",
       "    <tr>\n",
       "      <th>1</th>\n",
       "      <td>1</td>\n",
       "      <td>Female</td>\n",
       "      <td>North</td>\n",
       "      <td>some</td>\n",
       "      <td>9.0</td>\n",
       "      <td>High</td>\n",
       "      <td>Low</td>\n",
       "    </tr>\n",
       "    <tr>\n",
       "      <th>2</th>\n",
       "      <td>1</td>\n",
       "      <td>Female</td>\n",
       "      <td>North</td>\n",
       "      <td>some</td>\n",
       "      <td>6.0</td>\n",
       "      <td>Low</td>\n",
       "      <td>High</td>\n",
       "    </tr>\n",
       "    <tr>\n",
       "      <th>3</th>\n",
       "      <td>1</td>\n",
       "      <td>Female</td>\n",
       "      <td>North</td>\n",
       "      <td>some</td>\n",
       "      <td>6.0</td>\n",
       "      <td>Low</td>\n",
       "      <td>Low</td>\n",
       "    </tr>\n",
       "    <tr>\n",
       "      <th>4</th>\n",
       "      <td>2</td>\n",
       "      <td>Female</td>\n",
       "      <td>North</td>\n",
       "      <td>advance</td>\n",
       "      <td>10.0</td>\n",
       "      <td>High</td>\n",
       "      <td>High</td>\n",
       "    </tr>\n",
       "  </tbody>\n",
       "</table>\n",
       "</div>"
      ],
      "text/plain": [
       "   Subject  Gender Region Education  DesireToKill Disgustingness  \\\n",
       "0        1  Female  North      some          10.0           High   \n",
       "1        1  Female  North      some           9.0           High   \n",
       "2        1  Female  North      some           6.0            Low   \n",
       "3        1  Female  North      some           6.0            Low   \n",
       "4        2  Female  North   advance          10.0           High   \n",
       "\n",
       "  Frighteningness  \n",
       "0            High  \n",
       "1             Low  \n",
       "2            High  \n",
       "3             Low  \n",
       "4            High  "
      ]
     },
     "execution_count": 15,
     "metadata": {},
     "output_type": "execute_result"
    }
   ],
   "source": [
    "df.head()"
   ]
  },
  {
   "cell_type": "code",
   "execution_count": 17,
   "metadata": {},
   "outputs": [
    {
     "data": {
      "text/html": [
       "<div>\n",
       "<style scoped>\n",
       "    .dataframe tbody tr th:only-of-type {\n",
       "        vertical-align: middle;\n",
       "    }\n",
       "\n",
       "    .dataframe tbody tr th {\n",
       "        vertical-align: top;\n",
       "    }\n",
       "\n",
       "    .dataframe thead th {\n",
       "        text-align: right;\n",
       "    }\n",
       "</style>\n",
       "<table border=\"1\" class=\"dataframe\">\n",
       "  <thead>\n",
       "    <tr style=\"text-align: right;\">\n",
       "      <th></th>\n",
       "      <th>Source</th>\n",
       "      <th>SS</th>\n",
       "      <th>ddof1</th>\n",
       "      <th>ddof2</th>\n",
       "      <th>MS</th>\n",
       "      <th>F</th>\n",
       "      <th>p-unc</th>\n",
       "      <th>p-GG-corr</th>\n",
       "      <th>ng2</th>\n",
       "      <th>eps</th>\n",
       "    </tr>\n",
       "  </thead>\n",
       "  <tbody>\n",
       "    <tr>\n",
       "      <th>0</th>\n",
       "      <td>Disgustingness</td>\n",
       "      <td>48.752841</td>\n",
       "      <td>1</td>\n",
       "      <td>87</td>\n",
       "      <td>48.752841</td>\n",
       "      <td>12.175190</td>\n",
       "      <td>7.623808e-04</td>\n",
       "      <td>7.623808e-04</td>\n",
       "      <td>0.018554</td>\n",
       "      <td>1.0</td>\n",
       "    </tr>\n",
       "    <tr>\n",
       "      <th>1</th>\n",
       "      <td>Frighteningness</td>\n",
       "      <td>177.556818</td>\n",
       "      <td>1</td>\n",
       "      <td>87</td>\n",
       "      <td>177.556818</td>\n",
       "      <td>41.629663</td>\n",
       "      <td>6.011447e-09</td>\n",
       "      <td>6.011447e-09</td>\n",
       "      <td>0.064415</td>\n",
       "      <td>1.0</td>\n",
       "    </tr>\n",
       "    <tr>\n",
       "      <th>2</th>\n",
       "      <td>Disgustingness * Frighteningness</td>\n",
       "      <td>6.545455</td>\n",
       "      <td>1</td>\n",
       "      <td>87</td>\n",
       "      <td>6.545455</td>\n",
       "      <td>2.152300</td>\n",
       "      <td>1.459622e-01</td>\n",
       "      <td>1.459622e-01</td>\n",
       "      <td>0.002532</td>\n",
       "      <td>1.0</td>\n",
       "    </tr>\n",
       "  </tbody>\n",
       "</table>\n",
       "</div>"
      ],
      "text/plain": [
       "                             Source          SS  ddof1  ddof2          MS  \\\n",
       "0                    Disgustingness   48.752841      1     87   48.752841   \n",
       "1                   Frighteningness  177.556818      1     87  177.556818   \n",
       "2  Disgustingness * Frighteningness    6.545455      1     87    6.545455   \n",
       "\n",
       "           F         p-unc     p-GG-corr       ng2  eps  \n",
       "0  12.175190  7.623808e-04  7.623808e-04  0.018554  1.0  \n",
       "1  41.629663  6.011447e-09  6.011447e-09  0.064415  1.0  \n",
       "2   2.152300  1.459622e-01  1.459622e-01  0.002532  1.0  "
      ]
     },
     "execution_count": 17,
     "metadata": {},
     "output_type": "execute_result"
    }
   ],
   "source": [
    "pg.rm_anova(df, dv= 'DesireToKill', within=['Disgustingness', 'Frighteningness'], subject='Subject')"
   ]
  },
  {
   "cell_type": "code",
   "execution_count": null,
   "metadata": {},
   "outputs": [],
   "source": []
  }
 ],
 "metadata": {
  "kernelspec": {
   "display_name": "aim1",
   "language": "python",
   "name": "python3"
  },
  "language_info": {
   "codemirror_mode": {
    "name": "ipython",
    "version": 3
   },
   "file_extension": ".py",
   "mimetype": "text/x-python",
   "name": "python",
   "nbconvert_exporter": "python",
   "pygments_lexer": "ipython3",
   "version": "3.10.11"
  },
  "orig_nbformat": 4
 },
 "nbformat": 4,
 "nbformat_minor": 2
}
