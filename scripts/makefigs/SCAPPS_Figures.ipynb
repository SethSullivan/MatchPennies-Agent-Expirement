{
 "cells": [
  {
   "cell_type": "code",
   "execution_count": null,
   "metadata": {},
   "outputs": [],
   "source": [
    "import numpy as np\n",
    "import dill\n",
    "import matplotlib.pyplot as plt\n",
    "import data_visualization as dv\n",
    "from copy import deepcopy\n",
    "import time\n",
    "from pathlib import Path\n",
    "import pandas as pd\n",
    "from IPython.display import display\n",
    "\n",
    "import read_data_functions as rdf\n",
    "import plot_functions as pf\n",
    "from Optimal_Stopping_Object import ModelConstructor\n",
    "from initializer import InitialThangs\n",
    "import loss_functions as lf\n",
    "%load_ext autoreload\n",
    "%autoreload 2\n",
    "pd.set_option('display.max_columns', None)"
   ]
  },
  {
   "cell_type": "markdown",
   "metadata": {},
   "source": [
    "# Select Exp1 or Exp2\n"
   ]
  },
  {
   "cell_type": "code",
   "execution_count": null,
   "metadata": {},
   "outputs": [],
   "source": [
    "EXPERIMENT = \"Exp1\""
   ]
  },
  {
   "cell_type": "markdown",
   "metadata": {},
   "source": [
    "# Initial Thangs\n"
   ]
  },
  {
   "cell_type": "code",
   "execution_count": null,
   "metadata": {},
   "outputs": [],
   "source": [
    "plt.style.use(\"cashaback_dark\")\n",
    "wheel = dv.ColorWheel()\n",
    "\n",
    "# Get path and save path \n",
    "LOAD_PATH = Path(f\"D:\\\\OneDrive - University of Delaware - o365\\\\Subject_Data\\\\MatchPennies_Agent_{EXPERIMENT}\")\n",
    "SAVE_PATH = Path(f\"D:\\\\OneDrive - University of Delaware - o365\\\\Desktop\\\\MatchPennies-Agent-Expirement\\\\results\\\\{EXPERIMENT}\")\n",
    "it = InitialThangs(EXPERIMENT)"
   ]
  },
  {
   "cell_type": "markdown",
   "metadata": {},
   "source": [
    "# Pickle Data\n"
   ]
  },
  {
   "cell_type": "code",
   "execution_count": null,
   "metadata": {},
   "outputs": [],
   "source": [
    "if \"group\" not in locals():\n",
    "    group = rdf.generate_subject_object_v3(EXPERIMENT, \"All Trials\")\n",
    "else:\n",
    "    if group.exp_info.experiment != EXPERIMENT:  # This means i changed experiment and need to run again\n",
    "        group = rdf.generate_subject_object_v3(EXPERIMENT, \"All Trials\")\n",
    "    \n",
    "model_path = Path(f'D:\\\\OneDrive - University of Delaware - o365\\\\Desktop\\\\MatchPennies-Agent-Expirement\\\\results\\\\{EXPERIMENT}\\\\models')\n",
    "\n",
    "model_description_dfs = list(model_path.glob(f\"{EXPERIMENT}_model_descriptions*\"))\n",
    "model_parameter_dfs = list(model_path.glob(f\"{EXPERIMENT}_model_parameters*\"))\n",
    "\n",
    "# with open(model_path / 'exp1_model_table.pkl', 'rb') as f:\n",
    "#     model_df = dill.load(f)"
   ]
  },
  {
   "cell_type": "markdown",
   "metadata": {},
   "source": [
    "## Get models"
   ]
  },
  {
   "cell_type": "code",
   "execution_count": null,
   "metadata": {},
   "outputs": [],
   "source": [
    "df_description = pd.read_pickle(model_description_dfs[-1])\n",
    "df = pd.read_pickle(model_parameter_dfs[-1])"
   ]
  },
  {
   "cell_type": "markdown",
   "metadata": {},
   "source": [
    "### Select Models you want"
   ]
  },
  {
   "cell_type": "code",
   "execution_count": null,
   "metadata": {},
   "outputs": [],
   "source": [
    "\n",
    "# model_names_from_df = list(df_description.query('Parameters == 0 or (Known_Agent_SD==False and Known_Guess_SD==False and Known_Switch_Delay==False and Incorrect_Cost == \"Less\" and Parameters==4)')['Model'])\n",
    "model_names_from_df = list(df_description.query('Parameters == 0 or (Incorrect_Cost==\"Less\" and Known_Switch_Delay==False and Parameters==2)')['Model'])\n",
    "# model_names_from_df = list(df_description.query('Parameters == 0')['Model'])\n",
    "base_model_df = df[df['Model'].isin(model_names_from_df)]\n",
    "base_model_df = base_model_df.sort_values('Parameters')\n",
    "model_names = ['Theoretical Optimal', 'Theoretical Optimal\\n(Not Accounting for Switch Delay)', \"Blah\", \"Blah\"]\n",
    "display(base_model_df)\n",
    "models = {}\n",
    "for i, (index, row) in enumerate(base_model_df.iterrows()):\n",
    "    model  = ModelConstructor(\n",
    "        experiment=EXPERIMENT,\n",
    "        num_blocks=row.num_blocks,\n",
    "        num_timesteps=1800,\n",
    "        agent_means=row.agent_means,\n",
    "        agent_sds=row.agent_sds, #!\n",
    "        reaction_time=row.reaction_time,\n",
    "        movement_time=row.movement_time,\n",
    "        reaction_sd=row.reaction_sd, #! Reducing these, aka the particiapnt thinks they are more certain than they are\n",
    "        movement_sd=row.movement_sd,\n",
    "        timing_sd=row.timing_sd,\n",
    "        guess_switch_delay=row.guess_switch_delay, # Designed like this for broadcasting reasons\n",
    "        guess_switch_sd=row.guess_switch_sd, # This includes electromechanical delay sd and timing sd bc it's straight from data\n",
    "        # guess_sd=row.guess_sd,\n",
    "        electromechanical_delay=row.electromechanical_delay,\n",
    "        switch_cost_exists=True,\n",
    "        expected=True,\n",
    "        win_reward=row.win_reward,\n",
    "        incorrect_cost=row.incorrect_cost,\n",
    "        indecision_cost=row.indecision_cost,\n",
    "        round_num = 23\n",
    "    )\n",
    "    models.update({model_names[i]:model})"
   ]
  }
 ],
 "metadata": {
  "kernelspec": {
   "display_name": "aim1",
   "language": "python",
   "name": "python3"
  },
  "language_info": {
   "name": "python",
   "version": "3.10.11"
  },
  "orig_nbformat": 4
 },
 "nbformat": 4,
 "nbformat_minor": 2
}
