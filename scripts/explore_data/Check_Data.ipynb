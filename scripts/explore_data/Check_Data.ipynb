{
 "cells": [
  {
   "cell_type": "code",
   "execution_count": 11,
   "metadata": {},
   "outputs": [
    {
     "name": "stdout",
     "output_type": "stream",
     "text": [
      "The autoreload extension is already loaded. To reload it, use:\n",
      "  %reload_ext autoreload\n"
     ]
    }
   ],
   "source": [
    "from matplotlib import pyplot as plt\n",
    "import matplotlib\n",
    "import numpy as np\n",
    "import os\n",
    "import data_visualization as dv\n",
    "import dill\n",
    "import scipy \n",
    "from scipy.stats import norm\n",
    "from scipy import stats\n",
    "import importlib\n",
    "import plot_functions as pf\n",
    "import read_data_functions as rdf\n",
    "from Subject_Object_v3 import collapse_across_subjects, mask_array, perc\n",
    "from initializer import InitialThangs\n",
    "%load_ext autoreload\n",
    "%autoreload 2\n",
    "'''\n",
    "This make figs script uses the Subject_Object_v3 \n",
    "'''\n",
    "%matplotlib inline"
   ]
  },
  {
   "cell_type": "markdown",
   "metadata": {},
   "source": [
    "# Initial Thangs"
   ]
  },
  {
   "cell_type": "code",
   "execution_count": 12,
   "metadata": {},
   "outputs": [
    {
     "data": {
      "text/plain": [
       "'D:\\\\OneDrive - University of Delaware - o365\\\\Subject_Data\\\\MatchPennies_Agent_Exp1'"
      ]
     },
     "execution_count": 12,
     "metadata": {},
     "output_type": "execute_result"
    }
   ],
   "source": [
    "experiment = 'Exp2'\n",
    "it = InitialThangs(experiment)\n",
    "# plt.style.use('cashaback_dark')\n",
    "wheel = dv.ColorWheel()\n",
    "os.getcwd()"
   ]
  },
  {
   "cell_type": "markdown",
   "metadata": {},
   "source": [
    "# Pickle Data and Generate Objects "
   ]
  },
  {
   "cell_type": "code",
   "execution_count": 13,
   "metadata": {},
   "outputs": [],
   "source": [
    "group = rdf.generate_subject_object_v3(experiment,)"
   ]
  },
  {
   "cell_type": "code",
   "execution_count": 34,
   "metadata": {},
   "outputs": [
    {
     "data": {
      "text/plain": [
       "array([[ 0,  2,  5],\n",
       "       [15,  0, 70],\n",
       "       [17,  0, 26],\n",
       "       [22,  0,  0],\n",
       "       [23,  1,  0]], dtype=int64)"
      ]
     },
     "execution_count": 34,
     "metadata": {},
     "output_type": "execute_result"
    }
   ],
   "source": [
    "np.argwhere((np.argmax(group.raw_data.reaction_speed_data > 0.05, axis=3) - group.raw_data.agent_reaction_leave_time) < 0)"
   ]
  }
 ],
 "metadata": {
  "kernelspec": {
   "display_name": "aim1",
   "language": "python",
   "name": "python3"
  },
  "language_info": {
   "codemirror_mode": {
    "name": "ipython",
    "version": 3
   },
   "file_extension": ".py",
   "mimetype": "text/x-python",
   "name": "python",
   "nbconvert_exporter": "python",
   "pygments_lexer": "ipython3",
   "version": "3.10.11"
  }
 },
 "nbformat": 4,
 "nbformat_minor": 2
}
