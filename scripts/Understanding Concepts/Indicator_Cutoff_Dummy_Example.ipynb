{
 "cells": [
  {
   "cell_type": "code",
   "execution_count": 149,
   "metadata": {},
   "outputs": [
    {
     "data": {
      "text/plain": [
       "\"\\n3/27/23 - Solved the problem\\n\\nThe first part is my dummy example\\n\\nThe second part is using the values i'm gonna use in the model\\n  - I need to use numba to speed everything up\\n  - I can probably vectorize this but I don't care at this point\\n  - I need to divide by the probability that x is in the new set, to get the actual expected value\\n     - This normalizes it and makes it match the random sampling method, \\n\""
      ]
     },
     "execution_count": 149,
     "metadata": {},
     "output_type": "execute_result"
    }
   ],
   "source": [
    "import numpy as np\n",
    "from scipy import stats\n",
    "from numba import njit\n",
    "import matplotlib.pyplot as plt\n",
    "'''\n",
    "3/27/23 - Solved the problem\n",
    "\n",
    "The first part is my dummy example, the solved part for the model is in the script\n",
    "\n",
    "Model_Indicator_Cutoff_Understanding_WORKS\n",
    "'''"
   ]
  },
  {
   "cell_type": "code",
   "execution_count": null,
   "metadata": {},
   "outputs": [],
   "source": []
  },
  {
   "cell_type": "code",
   "execution_count": 150,
   "metadata": {},
   "outputs": [],
   "source": [
    "rv_x = [1,2,3,4,5]\n",
    "pmf_x = [0.1,0.2,0.4,0.2,0.1]\n",
    "rv_y = [3,4,5,6,7]\n",
    "pmf_y = [0.1,0.2,0.4,0.2,0.1]\n",
    "joint_set_A = [[(1,3),(1,4),(1,5),(1,6),(1,7)],\n",
    "               [(2,3),(2,4),(2,5),(2,6),(2,7)],\n",
    "               [(3,4),(3,5),(3,6),(3,7)],\n",
    "               [(4,5),(4,6),(4,7)],\n",
    "               [(5,6),(5,7)]\n",
    "               ]\n"
   ]
  },
  {
   "cell_type": "code",
   "execution_count": 151,
   "metadata": {},
   "outputs": [],
   "source": [
    "indicator_prob = []\n",
    "for row in joint_set_A:\n",
    "    indicator_prob.append(len(row)/len(rv_x)) "
   ]
  },
  {
   "cell_type": "code",
   "execution_count": 167,
   "metadata": {},
   "outputs": [],
   "source": [
    "@njit\n",
    "def indicator_func(x,y):\n",
    "    if x<y:\n",
    "        return 1\n",
    "    else:\n",
    "        return 0"
   ]
  },
  {
   "cell_type": "code",
   "execution_count": 168,
   "metadata": {},
   "outputs": [],
   "source": [
    "prob_x_in_A = []\n",
    "\n",
    "for x,px in zip(rv_x,pmf_x):    \n",
    "    s = 0\n",
    "    for y,py in zip(rv_y,pmf_y):    \n",
    "        s+= py*indicator_func(x,y)\n",
    "    prob_x_in_A.append(s)"
   ]
  },
  {
   "cell_type": "code",
   "execution_count": 169,
   "metadata": {},
   "outputs": [
    {
     "data": {
      "text/plain": [
       "[1.0000000000000002,\n",
       " 1.0000000000000002,\n",
       " 0.9,\n",
       " 0.7000000000000001,\n",
       " 0.30000000000000004]"
      ]
     },
     "execution_count": 169,
     "metadata": {},
     "output_type": "execute_result"
    }
   ],
   "source": [
    "prob_x_in_A"
   ]
  },
  {
   "attachments": {},
   "cell_type": "markdown",
   "metadata": {},
   "source": [
    "Expected Value of Z"
   ]
  },
  {
   "cell_type": "code",
   "execution_count": 170,
   "metadata": {},
   "outputs": [],
   "source": [
    "ev = 0\n",
    "for x,px in zip(rv_x,pmf_x):    \n",
    "    for y,py in zip(rv_y,pmf_y):    \n",
    "        ev+= x*px*py*indicator_func(x,y)"
   ]
  },
  {
   "cell_type": "code",
   "execution_count": 171,
   "metadata": {},
   "outputs": [
    {
     "data": {
      "text/plain": [
       "2.2900000000000005"
      ]
     },
     "execution_count": 171,
     "metadata": {},
     "output_type": "execute_result"
    }
   ],
   "source": [
    "ev"
   ]
  },
  {
   "cell_type": "code",
   "execution_count": null,
   "metadata": {},
   "outputs": [],
   "source": []
  }
 ],
 "metadata": {
  "kernelspec": {
   "display_name": "base",
   "language": "python",
   "name": "python3"
  },
  "language_info": {
   "codemirror_mode": {
    "name": "ipython",
    "version": 3
   },
   "file_extension": ".py",
   "mimetype": "text/x-python",
   "name": "python",
   "nbconvert_exporter": "python",
   "pygments_lexer": "ipython3",
   "version": "3.9.16"
  },
  "orig_nbformat": 4
 },
 "nbformat": 4,
 "nbformat_minor": 2
}
