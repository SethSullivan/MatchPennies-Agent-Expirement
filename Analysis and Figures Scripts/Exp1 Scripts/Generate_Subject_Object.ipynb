{
 "cells": [
  {
   "cell_type": "code",
   "execution_count": 34,
   "metadata": {},
   "outputs": [],
   "source": [
    "import pandas as pd\n",
    "from matplotlib import pyplot as plt\n",
    "import numpy as np\n",
    "import os\n",
    "import dill\n",
    "import importlib\n"
   ]
  },
  {
   "cell_type": "code",
   "execution_count": 35,
   "metadata": {},
   "outputs": [],
   "source": [
    "import Subject_Object\n",
    "importlib.reload(Subject_Object)\n",
    "from Subject_Object import *"
   ]
  },
  {
   "cell_type": "markdown",
   "metadata": {},
   "source": [
    "## Initial Thangs"
   ]
  },
  {
   "cell_type": "code",
   "execution_count": 36,
   "metadata": {},
   "outputs": [],
   "source": [
    "os.chdir('D:\\\\Subject_Data\\\\Seth_MatchPennies_Agent_Exp1\\\\')\n",
    "PATH = os.getcwd()\n",
    "# Fields pull and pull list\n",
    "os.chdir('D:\\Subject_Data\\Seth_MatchPennies_Agent_Exp1')\n",
    "PATH = os.getcwd()\n",
    "figures_pull_list = []\n",
    "fields_pull = []\n",
    "with open(PATH+\"\\\\Figures_Pull_List.txt\", \"r\") as pull_file:\n",
    "    figures_pull_list = pull_file.read().splitlines()\n",
    "with open(PATH+\"\\\\Fields_Pull.txt\", \"r\") as fields_pull:\n",
    "    fields_pull = fields_pull.read().splitlines()\n",
    "NUM_SUBJECTS = len(figures_pull_list)\n",
    "task_name = 'Seth_MatchPennies_Agent_Exp1'"
   ]
  },
  {
   "attachments": {},
   "cell_type": "markdown",
   "metadata": {},
   "source": [
    "## dill Load"
   ]
  },
  {
   "attachments": {},
   "cell_type": "markdown",
   "metadata": {},
   "source": [
    "dill Load Control Tasks\n"
   ]
  },
  {
   "cell_type": "code",
   "execution_count": 37,
   "metadata": {},
   "outputs": [
    {
     "name": "stdout",
     "output_type": "stream",
     "text": [
      "Sub1\n",
      "Sub2\n",
      "Sub3\n",
      "Sub4\n",
      "Sub5\n",
      "Sub6\n",
      "Sub7\n",
      "Sub8\n",
      "Sub9\n",
      "Sub10\n",
      "Sub11\n",
      "Sub12\n",
      "Sub13\n",
      "Sub14\n",
      "Sub15\n",
      "Sub16\n",
      "Sub17\n",
      "Sub18\n",
      "Sub19\n"
     ]
    }
   ],
   "source": [
    "coincidence_trials = 50\n",
    "reaction_trials = 50\n",
    "interval_trials = 50\n",
    "# ---------------Controls-------------------------\n",
    "player_reaction_decision_array = np.empty((NUM_SUBJECTS, reaction_trials))\n",
    "agent_reaction_decision_array = np.empty((NUM_SUBJECTS, reaction_trials))\n",
    "player_reaction_time = np.zeros([NUM_SUBJECTS,reaction_trials])*np.nan \n",
    "player_reaction_movement_time = np.zeros([NUM_SUBJECTS,reaction_trials])*np.nan\n",
    "player_reaction_plus_movement_time = np.zeros([NUM_SUBJECTS,reaction_trials])*np.nan\n",
    "reaction_trial_start = np.zeros((NUM_SUBJECTS,reaction_trials))*np.nan \n",
    "coincidence_trial_start = np.zeros((NUM_SUBJECTS, coincidence_trials))*np.nan\n",
    "coincidence_reach_time = np.zeros((NUM_SUBJECTS, coincidence_trials))*np.nan\n",
    "interval_trial_start = np.zeros((NUM_SUBJECTS, interval_trials))*np.nan\n",
    "interval_reach_time = np.zeros((NUM_SUBJECTS, interval_trials))*np.nan\n",
    "\n",
    "for i in range(NUM_SUBJECTS):\n",
    "    subname = figures_pull_list[i]\n",
    "    data_path = PATH+f'\\\\Subjects_Analyzed\\\\{subname}\\\\'\n",
    "    reaction_trial_start[i,:] = dill.load(open(data_path + f'{subname}_reaction_trial_start.pkl', 'rb'))\n",
    "    player_reaction_time[i,:] = dill.load(open(data_path + f'{subname}_player_reaction_time.pkl', 'rb'))\n",
    "    player_reaction_movement_time[i,:] = dill.load(open(data_path + f'{subname}_player_reaction_movement_time.pkl', 'rb'))\n",
    "    player_reaction_plus_movement_time[i,:] = dill.load(open(data_path + f'{subname}_player_reaction_plus_movement_time.pkl', 'rb'))\n",
    "    player_reaction_decision_array[i,:] = dill.load(open(data_path + f'{subname}_player_reaction_decision_array.pkl', 'rb'))\n",
    "    agent_reaction_decision_array[i,:] = dill.load(open(data_path + f'{subname}_agent_reaction_decision_time.pkl', 'rb'))\n",
    "    reaction_trial_start[i,:] = dill.load(open(data_path + f'{subname}_reaction_trial_start.pkl', 'rb'))\n",
    "    interval_trial_start[i,:] = dill.load(open(data_path + f'{subname}_interval_trial_start.pkl', 'rb'))\n",
    "    interval_reach_time[i,:] = dill.load(open(data_path + f'{subname}_interval_reach_time.pkl', 'rb'))\n",
    "    coincidence_trial_start[i,:] = dill.load(open(data_path + f'{subname}_coincidence_trial_start.pkl', 'rb'))\n",
    "    coincidence_reach_time[i,:] =  dill.load(open(data_path + f'{subname}_coincidence_reach_time.pkl', 'rb'))\n",
    "    print(subname)"
   ]
  },
  {
   "attachments": {},
   "cell_type": "markdown",
   "metadata": {},
   "source": [
    "dill Load Task and Washout"
   ]
  },
  {
   "cell_type": "code",
   "execution_count": 38,
   "metadata": {},
   "outputs": [],
   "source": [
    "path1 = PATH+'\\\\'+'Sub1_Task'\n",
    "task_df = pd.read_csv(path1+f'\\\\Sub1_TaskTrial_Table.csv')\n",
    "task_df = task_df.loc[task_df['Condition type']==3] # Only get the task condition \n",
    "num_trials = int(task_df.iloc[-1]['Block_Step']) # number of trials in each block\n",
    "num_blocks = int(task_df.iloc[-1]['Block_Row']/2)\n",
    "tot_trials = int(num_trials*num_blocks)\n",
    "trial_time = int(task_df.iloc[0]['Condition time'])\n",
    "task_df_columns = len(fields_pull)\n",
    "trial_table = np.empty((NUM_SUBJECTS, tot_trials, 4), int)\n",
    "#----------------- TASK--------------------------------\n",
    "player_task_reach_time = np.zeros([NUM_SUBJECTS,num_blocks,num_trials])*np.nan \n",
    "player_task_decision_time = np.zeros([NUM_SUBJECTS,num_blocks,num_trials])*np.nan \n",
    "player_task_decision_array = np.zeros([NUM_SUBJECTS,num_blocks,num_trials])*np.nan\n",
    "player_task_movement_time = np.zeros([NUM_SUBJECTS,num_blocks,num_trials])*np.nan\n",
    "agent_task_reach_time = np.zeros([NUM_SUBJECTS,num_blocks,num_trials])*np.nan \n",
    "agent_task_decision_time = np.zeros([NUM_SUBJECTS,num_blocks,num_trials])*np.nan \n",
    "agent_task_decision_array = np.zeros([NUM_SUBJECTS,num_blocks,num_trials])*np.nan\n",
    "\n",
    "# -------------- Washout-------------------\n",
    "washout_trials = 25\n",
    "player_washout_reach_time = np.zeros([NUM_SUBJECTS,num_blocks,washout_trials])*np.nan \n",
    "player_washout_decision_time = np.zeros([NUM_SUBJECTS,num_blocks,washout_trials])*np.nan \n",
    "player_washout_decision_array = np.zeros([NUM_SUBJECTS,num_blocks,washout_trials])*np.nan\n",
    "player_washout_movement_time = np.zeros([NUM_SUBJECTS,num_blocks,washout_trials])*np.nan\n",
    "agent_washout_reach_time = np.zeros([NUM_SUBJECTS,num_blocks,washout_trials])*np.nan \n",
    "agent_washout_decision_time = np.zeros([NUM_SUBJECTS,num_blocks,washout_trials])*np.nan \n",
    "agent_washout_decision_array = np.zeros([NUM_SUBJECTS,num_blocks,washout_trials])*np.nan\n",
    "agent_washout_movement_time = np.zeros([NUM_SUBJECTS,num_blocks,washout_trials])*np.nan\n",
    "\n",
    "for i in range(NUM_SUBJECTS):\n",
    "    subname = figures_pull_list[i]\n",
    "    data_path = PATH+f'\\\\Subjects_Analyzed\\\\{subname}\\\\'\n",
    "    #task_data[i,:,:,:,:] = dill.load(open(data_path + f'{subname}_task_data.pkl', 'rb'))\n",
    "    player_task_decision_time[i,:,:] = dill.load( open(data_path + f'{subname}_player_task_decision_time.pkl', 'rb'))\n",
    "    player_task_decision_array[i,:,:] = dill.load( open(data_path + f'{subname}_player_task_decision_array.pkl', 'rb'))\n",
    "    player_task_movement_time[i,:,:] = dill.load(open(data_path + f'{subname}_player_task_movement_time.pkl', 'rb'))\n",
    "    player_task_reach_time[i,:,:] = dill.load( open(data_path + f'{subname}_player_task_reach_time.pkl', 'rb'))\n",
    "    agent_task_decision_time[i,:,:] = dill.load( open(data_path + f'{subname}_agent_task_decision_time.pkl', 'rb'))\n",
    "    agent_task_decision_array[i,:,:] = dill.load(open(data_path + f'{subname}_agent_task_decision_array.pkl', 'rb'))\n",
    "    agent_task_reach_time[i,:,:] = agent_task_decision_time[i,:,:] + 150\n",
    "    player_washout_decision_time[i,:,:] = dill.load( open(data_path + f'{subname}_player_washout_decision_time.pkl', 'rb'))\n",
    "    player_washout_decision_array[i,:,:] = dill.load( open(data_path + f'{subname}_player_washout_decision_array.pkl', 'rb'))\n",
    "    player_washout_movement_time[i,:,:] = dill.load(open(data_path + f'{subname}_player_washout_movement_time.pkl', 'rb'))\n",
    "    player_washout_reach_time[i,:,:] = dill.load( open(data_path + f'{subname}_player_washout_reach_time.pkl', 'rb'))\n",
    "    agent_washout_decision_time[i,:,:] = dill.load( open(data_path + f'{subname}_agent_washout_decision_time.pkl', 'rb'))\n",
    "    agent_washout_decision_array[i,:,:] = dill.load(open(data_path + f'{subname}_agent_washout_decision_array.pkl', 'rb'))\n",
    "    agent_washout_reach_time[i,:,:] = dill.load(open(data_path + f'{subname}_agent_washout_reach_time.pkl', 'rb'))"
   ]
  },
  {
   "cell_type": "code",
   "execution_count": 39,
   "metadata": {},
   "outputs": [
    {
     "name": "stdout",
     "output_type": "stream",
     "text": [
      "0\n",
      "2\n"
     ]
    }
   ],
   "source": [
    "for i in range(3):\n",
    "    if i == 1:\n",
    "        continue\n",
    "    print(i)"
   ]
  },
  {
   "attachments": {},
   "cell_type": "markdown",
   "metadata": {},
   "source": [
    "## Generate Subject Objects"
   ]
  },
  {
   "cell_type": "code",
   "execution_count": 40,
   "metadata": {},
   "outputs": [
    {
     "name": "stderr",
     "output_type": "stream",
     "text": [
      "c:\\Users\\Seth Sullivan\\OneDrive - University of Delaware - o365\\Desktop\\MatchPennies-Agent-Expirement\\Analysis and Figures Scripts\\Exp1 Scripts\\Subject_Object.py:245: RuntimeWarning: invalid value encountered in divide\n",
      "  \n",
      "c:\\Users\\Seth Sullivan\\OneDrive - University of Delaware - o365\\Desktop\\MatchPennies-Agent-Expirement\\Analysis and Figures Scripts\\Exp1 Scripts\\Subject_Object.py:335: RuntimeWarning: invalid value encountered in divide\n",
      "  self.player_indecisions_second_half = np.zeros(( self.num_blocks))\n",
      "c:\\Users\\Seth Sullivan\\OneDrive - University of Delaware - o365\\Desktop\\MatchPennies-Agent-Expirement\\Analysis and Figures Scripts\\Exp1 Scripts\\Subject_Object.py:336: RuntimeWarning: invalid value encountered in divide\n",
      "  self.player_wins_second_half = np.zeros(( self.num_blocks))\n",
      "c:\\Users\\Seth Sullivan\\OneDrive - University of Delaware - o365\\Desktop\\MatchPennies-Agent-Expirement\\Analysis and Figures Scripts\\Exp1 Scripts\\Subject_Object.py:337: RuntimeWarning: invalid value encountered in divide\n",
      "  self.player_incorrects_second_half = np.zeros((self.num_blocks))\n",
      "c:\\Users\\Seth Sullivan\\OneDrive - University of Delaware - o365\\Desktop\\MatchPennies-Agent-Expirement\\Analysis and Figures Scripts\\Exp1 Scripts\\Subject_Object.py:339: RuntimeWarning: Mean of empty slice\n",
      "  self.agent_task_decision_time_second_half = np.zeros((self.num_blocks,m))\n",
      "c:\\Users\\Seth Sullivan\\OneDrive - University of Delaware - o365\\Desktop\\MatchPennies-Agent-Expirement\\Analysis and Figures Scripts\\Exp1 Scripts\\Subject_Object.py:340: RuntimeWarning: Mean of empty slice\n",
      "  \n",
      "c:\\Users\\Seth Sullivan\\OneDrive - University of Delaware - o365\\Desktop\\MatchPennies-Agent-Expirement\\Analysis and Figures Scripts\\Exp1 Scripts\\Subject_Object.py:226: RuntimeWarning: invalid value encountered in divide\n",
      "  \n",
      "c:\\Users\\Seth Sullivan\\OneDrive - University of Delaware - o365\\Desktop\\MatchPennies-Agent-Expirement\\Analysis and Figures Scripts\\Exp1 Scripts\\Subject_Object.py:227: RuntimeWarning: invalid value encountered in divide\n",
      "  self.perc_wins_that_were_gambles = (self.gamble_wins/self.player_wins) *100\n",
      "c:\\Users\\Seth Sullivan\\OneDrive - University of Delaware - o365\\Desktop\\MatchPennies-Agent-Expirement\\Analysis and Figures Scripts\\Exp1 Scripts\\Subject_Object.py:228: RuntimeWarning: invalid value encountered in divide\n",
      "  self.perc_indecisions_that_were_gambles = (self.gamble_indecisions/self.player_indecisions)*100\n",
      "c:\\Users\\Seth Sullivan\\OneDrive - University of Delaware - o365\\Desktop\\MatchPennies-Agent-Expirement\\Analysis and Figures Scripts\\Exp1 Scripts\\Subject_Object.py:251: RuntimeWarning: Mean of empty slice\n",
      "  #         perc_reaction_incorrects[i] = np.nan\n",
      "c:\\Users\\Seth Sullivan\\anaconda3\\lib\\site-packages\\numpy\\lib\\nanfunctions.py:1878: RuntimeWarning: Degrees of freedom <= 0 for slice.\n",
      "  var = nanvar(a, axis=axis, dtype=dtype, out=out, ddof=ddof,\n",
      "c:\\Users\\Seth Sullivan\\OneDrive - University of Delaware - o365\\Desktop\\MatchPennies-Agent-Expirement\\Analysis and Figures Scripts\\Exp1 Scripts\\Subject_Object.py:254: RuntimeWarning: Mean of empty slice\n",
      "  \n",
      "c:\\Users\\Seth Sullivan\\OneDrive - University of Delaware - o365\\Desktop\\MatchPennies-Agent-Expirement\\Analysis and Figures Scripts\\Exp1 Scripts\\Subject_Object.py:237: RuntimeWarning: invalid value encountered in divide\n",
      "  self.gamble_decision_time_sd = np.nanstd(self.gamble_decision_time, axis = 1 )\n",
      "c:\\Users\\Seth Sullivan\\OneDrive - University of Delaware - o365\\Desktop\\MatchPennies-Agent-Expirement\\Analysis and Figures Scripts\\Exp1 Scripts\\Subject_Object.py:241: RuntimeWarning: invalid value encountered in divide\n",
      "  self.agent_task_decision_time_reaction_mean = np.nanmean(self.agent_task_decision_time_reactions, axis = 1)\n",
      "c:\\Users\\Seth Sullivan\\OneDrive - University of Delaware - o365\\Desktop\\MatchPennies-Agent-Expirement\\Analysis and Figures Scripts\\Exp1 Scripts\\Subject_Object.py:133: RuntimeWarning: Mean of empty slice\n",
      "  self.agent_mean_task_reach_time_on_indecisions = np.nanmean(self.agent_task_decision_time_on_indecisions,axis=1)\n",
      "c:\\Users\\Seth Sullivan\\OneDrive - University of Delaware - o365\\Desktop\\MatchPennies-Agent-Expirement\\Analysis and Figures Scripts\\Exp1 Scripts\\Subject_Object.py:134: RuntimeWarning: Mean of empty slice\n",
      "  self.player_mean_task_reach_time_on_indecisions = np.nanmean(self.player_task_reach_time_on_indecisions,axis=1)\n",
      "c:\\Users\\Seth Sullivan\\OneDrive - University of Delaware - o365\\Desktop\\MatchPennies-Agent-Expirement\\Analysis and Figures Scripts\\Exp1 Scripts\\Subject_Object.py:135: RuntimeWarning: Mean of empty slice\n",
      "  self.player_mean_left_time_on_indecisions = np.nanmean(self.player_left_time_on_indecisions,axis=1)\n",
      "c:\\Users\\Seth Sullivan\\OneDrive - University of Delaware - o365\\Desktop\\MatchPennies-Agent-Expirement\\Analysis and Figures Scripts\\Exp1 Scripts\\Subject_Object.py:236: RuntimeWarning: invalid value encountered in divide\n",
      "  self.gamble_decision_time_mean = np.nanmean(self.gamble_decision_time, axis = 1 )\n",
      "c:\\Users\\Seth Sullivan\\OneDrive - University of Delaware - o365\\Desktop\\MatchPennies-Agent-Expirement\\Analysis and Figures Scripts\\Exp1 Scripts\\Subject_Object.py:240: RuntimeWarning: invalid value encountered in divide\n",
      "  self.agent_task_decision_time_gamble_mean = np.nanmean(self.agent_task_decision_time_gambles, axis = 1)\n",
      "c:\\Users\\Seth Sullivan\\OneDrive - University of Delaware - o365\\Desktop\\MatchPennies-Agent-Expirement\\Analysis and Figures Scripts\\Exp1 Scripts\\Subject_Object.py:485: RuntimeWarning: Mean of empty slice\n",
      "  Flattens out the subject dimension to get array of all the subjects\n",
      "c:\\Users\\Seth Sullivan\\OneDrive - University of Delaware - o365\\Desktop\\MatchPennies-Agent-Expirement\\Analysis and Figures Scripts\\Exp1 Scripts\\Subject_Object.py:486: RuntimeWarning: Mean of empty slice\n",
      "  \n",
      "c:\\Users\\Seth Sullivan\\OneDrive - University of Delaware - o365\\Desktop\\MatchPennies-Agent-Expirement\\Analysis and Figures Scripts\\Exp1 Scripts\\Subject_Object.py:487: RuntimeWarning: Mean of empty slice\n",
      "  Usually used for group distributions\n",
      "c:\\Users\\Seth Sullivan\\OneDrive - University of Delaware - o365\\Desktop\\MatchPennies-Agent-Expirement\\Analysis and Figures Scripts\\Exp1 Scripts\\Subject_Object.py:488: RuntimeWarning: Mean of empty slice\n",
      "  '''\n",
      "c:\\Users\\Seth Sullivan\\OneDrive - University of Delaware - o365\\Desktop\\MatchPennies-Agent-Expirement\\Analysis and Figures Scripts\\Exp1 Scripts\\Subject_Object.py:489: RuntimeWarning: Mean of empty slice\n",
      "  arr = self.combine_all_subjects(metric)\n"
     ]
    },
    {
     "name": "stdout",
     "output_type": "stream",
     "text": [
      "(11, 6)\n",
      "327.0355263157894\n",
      "(11, 6)\n",
      "294.7767886848478\n",
      "(11, 6)\n",
      "262.51805105390616\n"
     ]
    }
   ],
   "source": [
    "NUM_STDS = [0,1,2]\n",
    "append_dict = {0:'reaction_time_no_sd_off',1:'reaction_time_minus_sd',2:'reaction_time_minus_2sd'}\n",
    "data_path = 'D:\\\\Subject_Data\\\\Seth_MatchPennies_Agent_Exp1\\\\Subjects_Analyzed\\\\'\n",
    "for sd in NUM_STDS:\n",
    "    subject_object_dict = {}\n",
    "    for i in range(NUM_SUBJECTS):\n",
    "        subname = figures_pull_list[i]\n",
    "        # print(subname)\n",
    "        subject_object_dict.update({subname: Subject(num_trials = 80, num_blocks = 6, num_control_trials = 50, num_washout_trials = 25, reaction_time = player_reaction_time[i], reaction_movement_time = player_reaction_movement_time[i],reaction_plus_movement_time = player_reaction_plus_movement_time[i],\n",
    "                                    interval_trial_start = interval_trial_start[i], interval_reach_time = interval_reach_time[i], coincidence_trial_start = coincidence_trial_start[i], coincidence_reach_time = coincidence_reach_time[i],\n",
    "                                    player_task_reach_time = player_task_reach_time[i], player_task_decision_time = player_task_decision_time[i], player_task_decision_array = player_task_decision_array[i],\n",
    "                                    player_task_movement_time = player_task_movement_time[i], agent_task_reach_time = agent_task_reach_time[i], agent_task_decision_time = agent_task_decision_time[i], agent_task_decision_array = agent_task_decision_array[i],\n",
    "                                    player_washout_reach_time = player_washout_reach_time[i], player_washout_decision_time = player_washout_decision_time[i], player_washout_decision_array = player_washout_decision_array[i],\n",
    "                                    player_washout_movement_time = player_washout_movement_time[i], agent_washout_reach_time = agent_washout_reach_time[i], agent_washout_decision_time = agent_washout_decision_time[i], agent_washout_decision_array = agent_washout_decision_array[i],\n",
    "                                    num_stds_for_reaction_time = sd\n",
    "                                    )}\n",
    "                                )\n",
    "        # print(player_reaction_time[i])\n",
    "        dill.dump(subject_object_dict[subname], open(data_path + f'{subname}\\\\{subname}_object_{append_dict[sd]}.pkl', 'wb'))\n",
    "    dill.dump(subject_object_dict,open(data_path + f'subject_object_{append_dict[sd]}_dict.pkl', 'wb'))\n",
    "\n",
    "    group = Group(list(subject_object_dict.values()))\n",
    "    print(group.adjusted_reaction_time_mean)\n",
    "    dill.dump(group,open(data_path + f'group_object_{append_dict[sd]}.pkl','wb'))"
   ]
  },
  {
   "cell_type": "code",
   "execution_count": null,
   "metadata": {},
   "outputs": [],
   "source": []
  },
  {
   "cell_type": "code",
   "execution_count": 41,
   "metadata": {},
   "outputs": [
    {
     "name": "stdout",
     "output_type": "stream",
     "text": [
      "[ 3. 14. 13.  4.  3. 15.]\n",
      "[ 1.  7. 16. 13. 26. 18.]\n",
      "[ 4.  7. 28.  8. 26.  4.]\n",
      "[ 6.  9.  5. 11.  6. 16.]\n",
      "[ 5. 10. 19. 16. 18.  9.]\n",
      "[ 7.  6.  8. 25. 19.  5.]\n",
      "[13. 27. 28. 38. 75. 36.]\n",
      "[ 2.  9. 19.  7. 10.  6.]\n",
      "[ 4.  9. 23. 28. 35. 27.]\n",
      "[ 3. 19. 27. 18. 11. 15.]\n",
      "[ 3. 19.  9. 17. 23.  6.]\n",
      "[15. 17. 14. 15. 11. 17.]\n",
      "[ 7.  1. 63.  3. 17.  5.]\n",
      "[13. 13. 37. 15. 17. 14.]\n",
      "[ 2.  8.  9.  8. 15.  6.]\n",
      "[10. 22. 18. 32. 14. 16.]\n",
      "[3. 3. 3. 3. 1. 3.]\n",
      "[ 8. 18. 30. 20. 15. 13.]\n",
      "[ 0.  5. 14.  4. 17. 17.]\n"
     ]
    }
   ],
   "source": [
    "for sub in figures_pull_list:\n",
    "    print(subject_object_dict[sub].player_indecisions)"
   ]
  },
  {
   "attachments": {},
   "cell_type": "markdown",
   "metadata": {},
   "source": []
  }
 ],
 "metadata": {
  "kernelspec": {
   "display_name": "Python 3.9.12 ('base')",
   "language": "python",
   "name": "python3"
  },
  "language_info": {
   "codemirror_mode": {
    "name": "ipython",
    "version": 3
   },
   "file_extension": ".py",
   "mimetype": "text/x-python",
   "name": "python",
   "nbconvert_exporter": "python",
   "pygments_lexer": "ipython3",
   "version": "3.9.16"
  },
  "orig_nbformat": 4,
  "vscode": {
   "interpreter": {
    "hash": "1a00c1525417994d84940f6a64b96d4df953e4f0863c4f32c2c802abdf8195ff"
   }
  }
 },
 "nbformat": 4,
 "nbformat_minor": 2
}
