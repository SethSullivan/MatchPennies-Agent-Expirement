{
 "cells": [
  {
   "cell_type": "code",
   "execution_count": 21,
   "metadata": {},
   "outputs": [],
   "source": [
    "import pandas as pd\n",
    "from matplotlib import pyplot as plt\n",
    "import numpy as np\n",
    "import os\n",
    "import dill\n",
    "import importlib\n"
   ]
  },
  {
   "cell_type": "code",
   "execution_count": 22,
   "metadata": {},
   "outputs": [],
   "source": [
    "import Subject_Object\n",
    "importlib.reload(Subject_Object)\n",
    "from Subject_Object import *"
   ]
  },
  {
   "cell_type": "markdown",
   "metadata": {},
   "source": [
    "## Initial Thangs"
   ]
  },
  {
   "cell_type": "code",
   "execution_count": 23,
   "metadata": {},
   "outputs": [],
   "source": [
    "os.chdir('D:\\\\Subject_Data\\\\Seth_MatchPennies_Agent_Exp1\\\\')\n",
    "PATH = os.getcwd()\n",
    "# Fields pull and pull list\n",
    "os.chdir('D:\\Subject_Data\\Seth_MatchPennies_Agent_Exp1')\n",
    "PATH = os.getcwd()\n",
    "figures_pull_list = []\n",
    "fields_pull = []\n",
    "with open(PATH+\"\\\\Figures_Pull_List.txt\", \"r\") as pull_file:\n",
    "    figures_pull_list = pull_file.read().splitlines()\n",
    "with open(PATH+\"\\\\Fields_Pull.txt\", \"r\") as fields_pull:\n",
    "    fields_pull = fields_pull.read().splitlines()\n",
    "NUM_SUBJECTS = len(figures_pull_list)\n",
    "task_name = 'Seth_MatchPennies_Agent_Exp1'"
   ]
  },
  {
   "attachments": {},
   "cell_type": "markdown",
   "metadata": {},
   "source": [
    "## dill Load"
   ]
  },
  {
   "attachments": {},
   "cell_type": "markdown",
   "metadata": {},
   "source": [
    "dill Load Control Tasks\n"
   ]
  },
  {
   "cell_type": "code",
   "execution_count": 24,
   "metadata": {},
   "outputs": [
    {
     "name": "stdout",
     "output_type": "stream",
     "text": [
      "Sub1\n",
      "[570. 417. 289. 319. 315. 346. 333. 315. 356. 457. 243. 247. 258. 288.\n",
      " 307. 293. 269. 306. 275. 292. 251. 319. 268. 295. 326. 261. 314. 258.\n",
      " 303. 294. 275. 328. 276. 286. 264. 249. 270. 271. 257. 277. 239. 312.\n",
      " 261. 255. 266. 279. 320. 301. 260. 285.]\n",
      "Sub2\n",
      "[497. 329. 334. 259. 300. 297. 292. 302. 299. 327. 325. 305. 338. 286.\n",
      " 275. 293. 285. 344. 346. 313. 271. 315. 318. 298. 283. 300. 330. 299.\n",
      " 349. 314. 338. 337. 335. 270. 294. 314. 309. 324. 308. 302. 308. 325.\n",
      " 308. 284. 309. 270. 291. 350. 316. 316.]\n",
      "Sub3\n",
      "[387. 266. 323. 389. 351. 327. 304. 343. 309. 362. 309. 343. 272. 263.\n",
      " 292. 323. 264. 328. 313. 338. 378. 346. 283. 308. 320. 294. 313. 344.\n",
      " 451. 316. 325. 326. 390. 319. 410. 359. 352. 390. 293. 294. 327. 380.\n",
      " 280. 290. 352. 282. 372. 353. 326. 394.]\n",
      "Sub4\n",
      "[520. 392. 328. 339. 390. 452. 365. 397. 346. 317. 331. 342. 351. 334.\n",
      " 363. 298. 307. 377. 333. 299. 409. 411. 313. 319. 356. 331. 465. 333.\n",
      " 393. 345. 307. 310. 313. 333. 336. 314. 361. 308. 321. 394. 347. 326.\n",
      " 335. 324. 327. 337. 282. 301. 341. 338.]\n",
      "Sub5\n",
      "[597. 346. 289. 352. 290. 357. 371. 344. 362. 325. 367. 363. 284. 292.\n",
      " 305. 280. 363. 325. 361. 305. 293. 280. 305. 334. 299. 362. 333. 314.\n",
      " 322. 322. 339. 415. 291. 324. 292. 286. 318. 296. 307. 301. 319. 407.\n",
      " 316. 293. 350. 390. 375. 368. 311. 280.]\n",
      "Sub6\n",
      "[350. 331. 351. 279. 316. 267. 273. 322. 310. 271. 289. 374. 320. 298.\n",
      " 319. 303. 383. 325. 346. 310. 313. 302. 301. 364. 350. 348. 312. 294.\n",
      " 306. 300. 329. 314. 324. 289. 324. 235. 257. 273. 298. 355. 319. 336.\n",
      " 329. 273. 337. 245. 362. 314. 317. 315.]\n",
      "Sub7\n",
      "[474. 333. 377. 367. 376. 348. 497. 312. 332. 308. 349. 295. 286. 274.\n",
      " 306. 317. 302. 317. 308. 344. 319. 352. 334. 301. 305. 366. 306. 329.\n",
      " 302. 344. 280. 313. 322. 319. 315. 312. 292. 308. 308. 324. 273. 295.\n",
      " 328. 331. 330. 369. 317. 334. 299. 270.]\n",
      "Sub8\n",
      "[626. 331. 346. 289. 315. 354. 331. 272. 319. 308. 321. 285. 278. 300.\n",
      " 347. 315. 286. 248. 258. 287. 375. 354. 334. 284. 364. 363. 360. 294.\n",
      " 294. 148. 322. 335. 363. 324. 325. 321. 340. 332. 299. 310. 294. 327.\n",
      " 335. 339. 318. 311. 292. 334. 303. 333.]\n",
      "Sub9\n",
      "[359. 353. 388. 322. 296. 298. 329. 351. 330. 393. 380. 288. 279. 312.\n",
      " 315. 357. 297. 333. 358. 346. 275. 322. 275. 372. 271. 287. 310. 263.\n",
      " 315. 379. 305. 292. 318. 319. 328. 310. 297. 289. 320. 325. 322. 311.\n",
      " 287. 304. 327. 270. 286. 304. 388. 276.]\n",
      "Sub10\n",
      "[422. 374. 328. 334. 312. 380. 309. 294. 351. 329. 347. 374. 318. 296.\n",
      " 303. 335. 332. 328. 354. 293. 330. 296. 331. 323. 338. 293. 332. 332.\n",
      " 302. 284. 341. 281. 295. 295. 302. 276. 370. 325. 334. 320. 308. 288.\n",
      " 344. 317. 309. 356. 285. 326. 346. 316.]\n",
      "Sub11\n",
      "[310. 270. 296. 259. 310. 269. 337. 325. 277. 286. 365. 307. 279. 277.\n",
      " 295. 329. 301. 268. 304. 289. 316. 290. 280. 333. 301. 284. 308. 316.\n",
      " 266. 289. 340. 330. 356. 283. 338. 258. 321. 276. 286. 274. 286. 269.\n",
      " 264. 262. 333. 346. 286. 288. 294. 299.]\n",
      "Sub12\n",
      "[505. 364. 346. 340. 372. 359. 361. 349. 326. 334. 351. 393. 303. 361.\n",
      " 334. 349. 377. 273. 319. 343. 341. 354. 307. 287. 294. 299. 296. 323.\n",
      " 370. 361. 347. 349. 373. 344. 334. 271. 291. 294. 307. 339. 352. 319.\n",
      " 345. 302. 377. 341. 337. 351. 338. 336.]\n",
      "Sub13\n",
      "[386. 299. 348. 347. 367. 329. 391. 368. 330. 359. 397. 326. 384. 463.\n",
      " 317. 487. 353. 352. 383. 406. 415. 343. 326. 359. 368. 342. 331. 405.\n",
      " 366. 485. 362. 348. 389. 381. 459. 326. 394. 379. 368. 399. 360. 400.\n",
      " 396. 374. 310. 419. 457. 344. 385. 390.]\n",
      "Sub14\n",
      "[422. 337. 377. 308. 327. 406. 394. 317. 335. 300. 338. 359. 353. 331.\n",
      " 380. 474. 341. 297. 321. 353. 332. 329. 357. 356. 296. 354. 334. 361.\n",
      " 327. 359. 354. 332. 335. 307. 344. 368. 320. 355. 319. 324. 332. 342.\n",
      " 313. 331. 314. 299. 318. 275. 284. 342.]\n",
      "Sub15\n",
      "[623. 367. 351. 308. 300. 314. 380. 384. 309. 393. 337. 327. 332. 343.\n",
      " 346. 310. 382. 342. 355. 272. 349. 313. 271. 290. 375. 297. 323. 350.\n",
      " 335. 311. 312. 365. 325. 331. 361. 342. 340. 355. 378. 320. 358. 381.\n",
      " 424. 300. 368. 343. 336. 360. 373. 405.]\n",
      "Sub16\n",
      "[484. 401. 344. 280. 272. 312. 312. 314. 240. 287. 287. 335. 242. 325.\n",
      " 286. 273. 279. 341. 341. 292. 329. 287. 353. 308. 326. 326. 328. 348.\n",
      " 320. 316. 329. 423. 358. 321. 368. 313. 391. 311. 296. 270. 306. 284.\n",
      " 307. 371. 276. 315. 343. 337. 348. 456.]\n",
      "Sub17\n",
      "[375. 348. 353. 421. 334. 367. 314. 308. 365. 323. 349. 331. 303. 326.\n",
      " 329. 313. 315. 303. 305. 337. 288. 310. 322. 358. 350. 336. 379. 291.\n",
      " 353. 356. 307. 377. 361. 331. 357. 317. 324. 318. 277. 296. 320. 298.\n",
      " 348. 294. 333. 283. 340. 323. 289. 306.]\n",
      "Sub18\n",
      "[461. 423. 396. 471. 503. 390. 428. 473. 351. 406. 392. 431. 392. 375.\n",
      " 372. 432. 430. 418. 363. 442. 420. 384. 436. 359. 349. 371. 358. 438.\n",
      " 423. 378. 397. 448. 399. 406. 429. 397. 385. 369. 519. 414. 355. 387.\n",
      " 419. 404. 384. 321. 338. 405. 337. 342.]\n",
      "Sub19\n",
      "[393. 309. 342. 339. 318. 317. 322. 313. 367. 271. 304. 266. 272. 276.\n",
      " 281. 327. 306. 273. 298. 300. 301. 365. 342. 307. 276. 326. 332. 288.\n",
      " 344. 352. 281. 321. 357. 269. 330. 290. 283. 398. 352. 362. 322. 364.\n",
      " 375. 316. 348. 356. 310. 318. 330. 387.]\n"
     ]
    }
   ],
   "source": [
    "coincidence_trials = 50\n",
    "reaction_trials = 50\n",
    "interval_trials = 50\n",
    "# ---------------Controls-------------------------\n",
    "player_reaction_decision_array = np.empty((NUM_SUBJECTS, reaction_trials))\n",
    "agent_reaction_decision_array = np.empty((NUM_SUBJECTS, reaction_trials))\n",
    "player_reaction_time = np.zeros([NUM_SUBJECTS,reaction_trials])*np.nan \n",
    "player_reaction_movement_time = np.zeros([NUM_SUBJECTS,reaction_trials])*np.nan\n",
    "reaction_trial_start = np.zeros((NUM_SUBJECTS,reaction_trials))*np.nan \n",
    "coincidence_trial_start = np.zeros((NUM_SUBJECTS, coincidence_trials))*np.nan\n",
    "coincidence_reach_time = np.zeros((NUM_SUBJECTS, coincidence_trials))*np.nan\n",
    "interval_trial_start = np.zeros((NUM_SUBJECTS, interval_trials))*np.nan\n",
    "interval_reach_time = np.zeros((NUM_SUBJECTS, interval_trials))*np.nan\n",
    "\n",
    "for i in range(NUM_SUBJECTS):\n",
    "    subname = figures_pull_list[i]\n",
    "    data_path = PATH+f'\\\\Subjects_Analyzed\\\\{subname}\\\\'\n",
    "    reaction_trial_start[i,:] = dill.load(open(data_path + f'{subname}_reaction_trial_start.pkl', 'rb'))\n",
    "    player_reaction_time[i,:] = dill.load(open(data_path + f'{subname}_player_reaction_time.pkl', 'rb'))\n",
    "    player_reaction_movement_time[i,:] = dill.load(open(data_path + f'{subname}_player_reaction_movement_time.pkl', 'rb'))\n",
    "    player_reaction_decision_array[i,:] = dill.load(open(data_path + f'{subname}_player_reaction_decision_array.pkl', 'rb'))\n",
    "    agent_reaction_decision_array[i,:] = dill.load(open(data_path + f'{subname}_agent_reaction_decision_time.pkl', 'rb'))\n",
    "    reaction_trial_start[i,:] = dill.load(open(data_path + f'{subname}_reaction_trial_start.pkl', 'rb'))\n",
    "    interval_trial_start[i,:] = dill.load(open(data_path + f'{subname}_interval_trial_start.pkl', 'rb'))\n",
    "    interval_reach_time[i,:] = dill.load(open(data_path + f'{subname}_interval_reach_time.pkl', 'rb'))\n",
    "    coincidence_trial_start[i,:] = dill.load(open(data_path + f'{subname}_coincidence_trial_start.pkl', 'rb'))\n",
    "    coincidence_reach_time[i,:] =  dill.load(open(data_path + f'{subname}_coincidence_reach_time.pkl', 'rb'))\n",
    "    print(subname)\n",
    "    print(player_reaction_time[i])"
   ]
  },
  {
   "attachments": {},
   "cell_type": "markdown",
   "metadata": {},
   "source": [
    "dill Load Task and Washout"
   ]
  },
  {
   "cell_type": "code",
   "execution_count": 25,
   "metadata": {},
   "outputs": [],
   "source": [
    "path1 = PATH+'\\\\'+'Sub1_Task'\n",
    "task_df = pd.read_csv(path1+f'\\\\Sub1_TaskTrial_Table.csv')\n",
    "task_df = task_df.loc[task_df['Condition type']==3] # Only get the task condition \n",
    "num_trials = int(task_df.iloc[-1]['Block_Step']) # number of trials in each block\n",
    "num_blocks = int(task_df.iloc[-1]['Block_Row']/2)\n",
    "tot_trials = int(num_trials*num_blocks)\n",
    "trial_time = int(task_df.iloc[0]['Condition time'])\n",
    "task_df_columns = len(fields_pull)\n",
    "trial_table = np.empty((NUM_SUBJECTS, tot_trials, 4), int)\n",
    "#----------------- TASK--------------------------------\n",
    "player_task_reach_time = np.zeros([NUM_SUBJECTS,num_blocks,num_trials])*np.nan \n",
    "player_task_decision_time = np.zeros([NUM_SUBJECTS,num_blocks,num_trials])*np.nan \n",
    "player_task_decision_array = np.zeros([NUM_SUBJECTS,num_blocks,num_trials])*np.nan\n",
    "player_task_movement_time = np.zeros([NUM_SUBJECTS,num_blocks,num_trials])*np.nan\n",
    "agent_task_reach_time = np.zeros([NUM_SUBJECTS,num_blocks,num_trials])*np.nan \n",
    "agent_task_decision_time = np.zeros([NUM_SUBJECTS,num_blocks,num_trials])*np.nan \n",
    "agent_task_decision_array = np.zeros([NUM_SUBJECTS,num_blocks,num_trials])*np.nan\n",
    "\n",
    "# -------------- Washout-------------------\n",
    "washout_trials = 25\n",
    "player_washout_reach_time = np.zeros([NUM_SUBJECTS,num_blocks,washout_trials])*np.nan \n",
    "player_washout_decision_time = np.zeros([NUM_SUBJECTS,num_blocks,washout_trials])*np.nan \n",
    "player_washout_decision_array = np.zeros([NUM_SUBJECTS,num_blocks,washout_trials])*np.nan\n",
    "player_washout_movement_time = np.zeros([NUM_SUBJECTS,num_blocks,washout_trials])*np.nan\n",
    "agent_washout_reach_time = np.zeros([NUM_SUBJECTS,num_blocks,washout_trials])*np.nan \n",
    "agent_washout_decision_time = np.zeros([NUM_SUBJECTS,num_blocks,washout_trials])*np.nan \n",
    "agent_washout_decision_array = np.zeros([NUM_SUBJECTS,num_blocks,washout_trials])*np.nan\n",
    "agent_washout_movement_time = np.zeros([NUM_SUBJECTS,num_blocks,washout_trials])*np.nan\n",
    "\n",
    "for i in range(NUM_SUBJECTS):\n",
    "    subname = figures_pull_list[i]\n",
    "    data_path = PATH+f'\\\\Subjects_Analyzed\\\\{subname}\\\\'\n",
    "    #task_data[i,:,:,:,:] = dill.load(open(data_path + f'{subname}_task_data.pkl', 'rb'))\n",
    "    player_task_decision_time[i,:,:] = dill.load( open(data_path + f'{subname}_player_task_decision_time.pkl', 'rb'))\n",
    "    player_task_decision_array[i,:,:] = dill.load( open(data_path + f'{subname}_player_task_decision_array.pkl', 'rb'))\n",
    "    player_task_movement_time[i,:,:] = dill.load(open(data_path + f'{subname}_player_task_movement_time.pkl', 'rb'))\n",
    "    player_task_reach_time[i,:,:] = dill.load( open(data_path + f'{subname}_player_task_reach_time.pkl', 'rb'))\n",
    "    agent_task_decision_time[i,:,:] = dill.load( open(data_path + f'{subname}_agent_task_decision_time.pkl', 'rb'))\n",
    "    agent_task_decision_array[i,:,:] = dill.load(open(data_path + f'{subname}_agent_task_decision_array.pkl', 'rb'))\n",
    "    agent_task_reach_time[i,:,:] = agent_task_decision_time[i,:,:] + 150\n",
    "    player_washout_decision_time[i,:,:] = dill.load( open(data_path + f'{subname}_player_washout_decision_time.pkl', 'rb'))\n",
    "    player_washout_decision_array[i,:,:] = dill.load( open(data_path + f'{subname}_player_washout_decision_array.pkl', 'rb'))\n",
    "    player_washout_movement_time[i,:,:] = dill.load(open(data_path + f'{subname}_player_washout_movement_time.pkl', 'rb'))\n",
    "    player_washout_reach_time[i,:,:] = dill.load( open(data_path + f'{subname}_player_washout_reach_time.pkl', 'rb'))\n",
    "    agent_washout_decision_time[i,:,:] = dill.load( open(data_path + f'{subname}_agent_washout_decision_time.pkl', 'rb'))\n",
    "    agent_washout_decision_array[i,:,:] = dill.load(open(data_path + f'{subname}_agent_washout_decision_array.pkl', 'rb'))\n",
    "    agent_washout_reach_time[i,:,:] = dill.load(open(data_path + f'{subname}_agent_washout_reach_time.pkl', 'rb'))"
   ]
  },
  {
   "cell_type": "code",
   "execution_count": null,
   "metadata": {},
   "outputs": [],
   "source": []
  },
  {
   "attachments": {},
   "cell_type": "markdown",
   "metadata": {},
   "source": [
    "## Generate Subject Objects"
   ]
  },
  {
   "cell_type": "code",
   "execution_count": 26,
   "metadata": {},
   "outputs": [
    {
     "name": "stderr",
     "output_type": "stream",
     "text": [
      "c:\\Users\\Seth Sullivan\\OneDrive - University of Delaware - o365\\Desktop\\MatchPennies-Agent-Expirement\\Analysis and Figures Scripts\\Exp1 Scripts\\Subject_Object.py:298: RuntimeWarning: invalid value encountered in divide\n",
      "  # Get percentages based on bin length\n",
      "c:\\Users\\Seth Sullivan\\OneDrive - University of Delaware - o365\\Desktop\\MatchPennies-Agent-Expirement\\Analysis and Figures Scripts\\Exp1 Scripts\\Subject_Object.py:299: RuntimeWarning: invalid value encountered in divide\n",
      "  self.perc_binned_player_wins = (self.binned_player_wins/self.bin_length_each_condition)*100\n",
      "c:\\Users\\Seth Sullivan\\OneDrive - University of Delaware - o365\\Desktop\\MatchPennies-Agent-Expirement\\Analysis and Figures Scripts\\Exp1 Scripts\\Subject_Object.py:300: RuntimeWarning: invalid value encountered in divide\n",
      "  self.perc_binned_player_indecisions = (self.binned_player_indecisions/self.bin_length_each_condition)*100\n",
      "c:\\Users\\Seth Sullivan\\OneDrive - University of Delaware - o365\\Desktop\\MatchPennies-Agent-Expirement\\Analysis and Figures Scripts\\Exp1 Scripts\\Subject_Object.py:302: RuntimeWarning: Mean of empty slice\n",
      "  # Calculate mean across all trials\n",
      "c:\\Users\\Seth Sullivan\\OneDrive - University of Delaware - o365\\Desktop\\MatchPennies-Agent-Expirement\\Analysis and Figures Scripts\\Exp1 Scripts\\Subject_Object.py:303: RuntimeWarning: Mean of empty slice\n",
      "  self.binned_player_task_decision_times_mean = np.nanmean(self.binned_player_task_decision_times,axis=2) # Mean for each bin, each condition\n",
      "c:\\Users\\Seth Sullivan\\OneDrive - University of Delaware - o365\\Desktop\\MatchPennies-Agent-Expirement\\Analysis and Figures Scripts\\Exp1 Scripts\\Subject_Object.py:220: RuntimeWarning: invalid value encountered in divide\n",
      "  self.perc_indecisions_that_were_gambles = (self.gamble_indecisions/self.player_indecisions)*100\n",
      "c:\\Users\\Seth Sullivan\\OneDrive - University of Delaware - o365\\Desktop\\MatchPennies-Agent-Expirement\\Analysis and Figures Scripts\\Exp1 Scripts\\Subject_Object.py:224: RuntimeWarning: invalid value encountered in divide\n",
      "  self.perc_indecisions_that_were_reactions = (self.reaction_indecisions/self.player_indecisions)*100\n",
      "c:\\Users\\Seth Sullivan\\OneDrive - University of Delaware - o365\\Desktop\\MatchPennies-Agent-Expirement\\Analysis and Figures Scripts\\Exp1 Scripts\\Subject_Object.py:209: RuntimeWarning: invalid value encountered in divide\n",
      "  # OF the total reactions what were the percents\n",
      "c:\\Users\\Seth Sullivan\\OneDrive - University of Delaware - o365\\Desktop\\MatchPennies-Agent-Expirement\\Analysis and Figures Scripts\\Exp1 Scripts\\Subject_Object.py:210: RuntimeWarning: invalid value encountered in divide\n",
      "  self.perc_reaction_wins = (self.reaction_wins/self.total_reactions)*100 # Array division\n",
      "c:\\Users\\Seth Sullivan\\OneDrive - University of Delaware - o365\\Desktop\\MatchPennies-Agent-Expirement\\Analysis and Figures Scripts\\Exp1 Scripts\\Subject_Object.py:211: RuntimeWarning: invalid value encountered in divide\n",
      "  self.perc_reaction_incorrects = (self.reaction_incorrects/self.total_reactions)*100\n",
      "c:\\Users\\Seth Sullivan\\OneDrive - University of Delaware - o365\\Desktop\\MatchPennies-Agent-Expirement\\Analysis and Figures Scripts\\Exp1 Scripts\\Subject_Object.py:229: RuntimeWarning: Mean of empty slice\n",
      "  self.gamble_decision_time_sd = np.nanstd(self.gamble_decision_time, axis = 1 )\n",
      "c:\\Users\\Seth Sullivan\\anaconda3\\lib\\site-packages\\numpy\\lib\\nanfunctions.py:1878: RuntimeWarning: Degrees of freedom <= 0 for slice.\n",
      "  var = nanvar(a, axis=axis, dtype=dtype, out=out, ddof=ddof,\n",
      "c:\\Users\\Seth Sullivan\\OneDrive - University of Delaware - o365\\Desktop\\MatchPennies-Agent-Expirement\\Analysis and Figures Scripts\\Exp1 Scripts\\Subject_Object.py:232: RuntimeWarning: Mean of empty slice\n",
      "  self.agent_task_decision_time_gamble_mean = np.nanmean(self.agent_task_decision_time_gambles, axis = 1)\n",
      "c:\\Users\\Seth Sullivan\\OneDrive - University of Delaware - o365\\Desktop\\MatchPennies-Agent-Expirement\\Analysis and Figures Scripts\\Exp1 Scripts\\Subject_Object.py:132: RuntimeWarning: Mean of empty slice\n",
      "  \n",
      "c:\\Users\\Seth Sullivan\\OneDrive - University of Delaware - o365\\Desktop\\MatchPennies-Agent-Expirement\\Analysis and Figures Scripts\\Exp1 Scripts\\Subject_Object.py:133: RuntimeWarning: Mean of empty slice\n",
      "  self.agent_mean_task_reach_time_on_indecisions = np.nanmean(self.agent_task_decision_time_on_indecisions,axis=1)\n",
      "c:\\Users\\Seth Sullivan\\OneDrive - University of Delaware - o365\\Desktop\\MatchPennies-Agent-Expirement\\Analysis and Figures Scripts\\Exp1 Scripts\\Subject_Object.py:134: RuntimeWarning: Mean of empty slice\n",
      "  self.player_mean_task_reach_time_on_indecisions = np.nanmean(self.player_task_reach_time_on_indecisions,axis=1)\n",
      "c:\\Users\\Seth Sullivan\\OneDrive - University of Delaware - o365\\Desktop\\MatchPennies-Agent-Expirement\\Analysis and Figures Scripts\\Exp1 Scripts\\Subject_Object.py:219: RuntimeWarning: invalid value encountered in divide\n",
      "  self.perc_wins_that_were_gambles = (self.gamble_wins/self.player_wins) *100\n",
      "c:\\Users\\Seth Sullivan\\OneDrive - University of Delaware - o365\\Desktop\\MatchPennies-Agent-Expirement\\Analysis and Figures Scripts\\Exp1 Scripts\\Subject_Object.py:223: RuntimeWarning: invalid value encountered in divide\n",
      "  self.perc_wins_that_were_reactions = (self.reaction_wins/self.player_wins)*100\n",
      "c:\\Users\\Seth Sullivan\\OneDrive - University of Delaware - o365\\Desktop\\MatchPennies-Agent-Expirement\\Analysis and Figures Scripts\\Exp1 Scripts\\Subject_Object.py:448: RuntimeWarning: Mean of empty slice\n",
      "  # Binned mean across all participants\n",
      "c:\\Users\\Seth Sullivan\\OneDrive - University of Delaware - o365\\Desktop\\MatchPennies-Agent-Expirement\\Analysis and Figures Scripts\\Exp1 Scripts\\Subject_Object.py:449: RuntimeWarning: Mean of empty slice\n",
      "  self.perc_binned_player_wins_mean = np.nanmean(self.combine_all_subjects('perc_binned_player_wins'),axis = 0)\n",
      "c:\\Users\\Seth Sullivan\\OneDrive - University of Delaware - o365\\Desktop\\MatchPennies-Agent-Expirement\\Analysis and Figures Scripts\\Exp1 Scripts\\Subject_Object.py:450: RuntimeWarning: Mean of empty slice\n",
      "  self.perc_binned_player_indecisions_mean = np.nanmean(self.combine_all_subjects('perc_binned_player_indecisions'),axis = 0)\n",
      "c:\\Users\\Seth Sullivan\\OneDrive - University of Delaware - o365\\Desktop\\MatchPennies-Agent-Expirement\\Analysis and Figures Scripts\\Exp1 Scripts\\Subject_Object.py:451: RuntimeWarning: Mean of empty slice\n",
      "  self.perc_binned_player_incorrects_mean = np.nanmean(self.combine_all_subjects('perc_binned_player_incorrects'),axis = 0)\n",
      "c:\\Users\\Seth Sullivan\\OneDrive - University of Delaware - o365\\Desktop\\MatchPennies-Agent-Expirement\\Analysis and Figures Scripts\\Exp1 Scripts\\Subject_Object.py:452: RuntimeWarning: Mean of empty slice\n",
      "  self.binned_player_minus_agent_task_decision_time_mean = np.nanmean(self.combine_all_subjects('binned_player_minus_agent_task_decision_time_mean'),axis = 0)\n"
     ]
    },
    {
     "name": "stdout",
     "output_type": "stream",
     "text": [
      "(11, 6)\n",
      "262.51805105390616\n"
     ]
    }
   ],
   "source": [
    "NUM_STDS = 2\n",
    "append_dict = {0:'reaction_time_no_sd_off',1:'reaction_time_minus_sd',2:'reaction_time_minus_2sd'}\n",
    "data_path = 'D:\\\\Subject_Data\\\\Seth_MatchPennies_Agent_Exp1\\\\Subjects_Analyzed\\\\'\n",
    "subject_object_dict = {}\n",
    "for i in range(NUM_SUBJECTS):\n",
    "    subname = figures_pull_list[i]\n",
    "    # print(subname)\n",
    "    subject_object_dict.update({subname: Subject(num_trials = 80, num_blocks = 6, num_control_trials = 50, num_washout_trials = 25, reaction_time = player_reaction_time[i], reaction_movement_time = player_reaction_movement_time[i],\n",
    "                                interval_trial_start = interval_trial_start[i], interval_reach_time = interval_reach_time[i], coincidence_trial_start = coincidence_trial_start[i], coincidence_reach_time = coincidence_reach_time[i],\n",
    "                                player_task_reach_time = player_task_reach_time[i], player_task_decision_time = player_task_decision_time[i], player_task_decision_array = player_task_decision_array[i],\n",
    "                                player_task_movement_time = player_task_movement_time[i], agent_task_reach_time = agent_task_reach_time[i], agent_task_decision_time = agent_task_decision_time[i], agent_task_decision_array = agent_task_decision_array[i],\n",
    "                                player_washout_reach_time = player_washout_reach_time[i], player_washout_decision_time = player_washout_decision_time[i], player_washout_decision_array = player_washout_decision_array[i],\n",
    "                                player_washout_movement_time = player_washout_movement_time[i], agent_washout_reach_time = agent_washout_reach_time[i], agent_washout_decision_time = agent_washout_decision_time[i], agent_washout_decision_array = agent_washout_decision_array[i],\n",
    "                                num_stds_for_reaction_time = NUM_STDS\n",
    "                                )}\n",
    "                               )\n",
    "    # print(player_reaction_time[i])\n",
    "    dill.dump(subject_object_dict[subname], open(data_path + f'{subname}\\\\{subname}_object_{append_dict[NUM_STDS]}.pkl', 'wb'))\n",
    "dill.dump(subject_object_dict,open(data_path + f'subject_object_{append_dict[NUM_STDS]}_dict.pkl', 'wb'))\n",
    "\n",
    "group = Group(list(subject_object_dict.values()))\n",
    "print(group.adjusted_reaction_time_mean)\n",
    "dill.dump(group,open(data_path + f'group_object_{append_dict[NUM_STDS]}.pkl','wb'))"
   ]
  },
  {
   "cell_type": "code",
   "execution_count": null,
   "metadata": {},
   "outputs": [],
   "source": []
  },
  {
   "cell_type": "code",
   "execution_count": 27,
   "metadata": {},
   "outputs": [
    {
     "name": "stdout",
     "output_type": "stream",
     "text": [
      "[ 3. 14. 13.  4.  3. 15.]\n",
      "[ 1.  7. 16. 13. 26. 18.]\n",
      "[ 4.  7. 28.  8. 26.  4.]\n",
      "[ 6.  9.  5. 11.  6. 16.]\n",
      "[ 5. 10. 19. 16. 18.  9.]\n",
      "[ 7.  6.  8. 25. 19.  5.]\n",
      "[13. 27. 28. 38. 75. 36.]\n",
      "[ 2.  9. 19.  7. 10.  6.]\n",
      "[ 4.  9. 23. 28. 35. 27.]\n",
      "[ 3. 19. 27. 18. 11. 15.]\n",
      "[ 3. 19.  9. 17. 23.  6.]\n",
      "[15. 17. 14. 15. 11. 17.]\n",
      "[ 7.  1. 63.  3. 17.  5.]\n",
      "[13. 13. 37. 15. 17. 14.]\n",
      "[ 2.  8.  9.  8. 15.  6.]\n",
      "[10. 22. 18. 32. 14. 16.]\n",
      "[3. 3. 3. 3. 1. 3.]\n",
      "[ 8. 18. 30. 20. 15. 13.]\n",
      "[ 0.  5. 14.  4. 17. 17.]\n"
     ]
    }
   ],
   "source": [
    "for sub in figures_pull_list:\n",
    "    print(subject_object_dict[sub].player_indecisions)"
   ]
  },
  {
   "attachments": {},
   "cell_type": "markdown",
   "metadata": {},
   "source": []
  }
 ],
 "metadata": {
  "kernelspec": {
   "display_name": "Python 3.9.12 ('base')",
   "language": "python",
   "name": "python3"
  },
  "language_info": {
   "codemirror_mode": {
    "name": "ipython",
    "version": 3
   },
   "file_extension": ".py",
   "mimetype": "text/x-python",
   "name": "python",
   "nbconvert_exporter": "python",
   "pygments_lexer": "ipython3",
   "version": "3.9.16"
  },
  "orig_nbformat": 4,
  "vscode": {
   "interpreter": {
    "hash": "1a00c1525417994d84940f6a64b96d4df953e4f0863c4f32c2c802abdf8195ff"
   }
  }
 },
 "nbformat": 4,
 "nbformat_minor": 2
}
