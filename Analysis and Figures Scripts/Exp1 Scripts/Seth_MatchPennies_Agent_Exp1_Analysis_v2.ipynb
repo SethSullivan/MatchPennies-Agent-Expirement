{
 "cells": [
  {
   "cell_type": "code",
   "execution_count": 27,
   "metadata": {},
   "outputs": [
    {
     "data": {
      "text/plain": [
       "'\\nThis script pulls\\n1. Decision array of agent and player\\n2. Decision time of agent and player\\n   - Possibly calculate this with velocity in the future\\n3. Control things\\n   - Reaction times, interval target reach times, coincidence target reach times\\n   \\n   \\n*****v2 GOES BACK TO THE REACTION WITH THE CIRCLES INSTEAD OF THE AGENT****\\n'"
      ]
     },
     "execution_count": 27,
     "metadata": {},
     "output_type": "execute_result"
    }
   ],
   "source": [
    "import pandas as pd\n",
    "from matplotlib import pyplot as plt\n",
    "import numpy as np\n",
    "import glob\n",
    "import os\n",
    "import math\n",
    "from os import listdir\n",
    "import data_visualization as dv\n",
    "import pickle\n",
    "import scipy \n",
    "from scipy.stats import norm\n",
    "from scipy import stats\n",
    "from tqdm import tqdm \n",
    "'''\n",
    "This script pulls\n",
    "1. Decision array of agent and player\n",
    "2. Decision time of agent and player\n",
    "   - Possibly calculate this with velocity in the future\n",
    "3. Control things\n",
    "   - Reaction times, interval target reach times, coincidence target reach times\n",
    "   \n",
    "   \n",
    "*****v2 GOES BACK TO THE REACTION WITH THE CIRCLES INSTEAD OF THE AGENT****\n",
    "'''"
   ]
  },
  {
   "cell_type": "code",
   "execution_count": 28,
   "metadata": {},
   "outputs": [],
   "source": [
    "# Fields pull and pull list\n",
    "os.chdir('D:\\Subject_Data\\Seth_MatchPennies_Agent_Exp1')\n",
    "PATH = os.getcwd()\n",
    "analysis_pull_list = []\n",
    "analysis_pull_list_control = []\n",
    "analysis_pull_list_task = []\n",
    "fields_pull = []\n",
    "with open(PATH+\"\\\\Analysis_Pull_List.txt\", \"r\") as pull_file:\n",
    "    analysis_pull_list = pull_file.read().splitlines()\n",
    "with open(PATH+\"\\\\Analysis_Pull_List_Control.txt\", \"r\") as pull_file:\n",
    "    analysis_pull_list_control = pull_file.read().splitlines()\n",
    "with open(PATH+\"\\\\Analysis_Pull_List_Task.txt\", \"r\") as pull_file:\n",
    "    analysis_pull_list_task = pull_file.read().splitlines()\n",
    "with open(PATH+\"\\\\Fields_Pull.txt\", \"r\") as fields_pull:\n",
    "    fields_pull = fields_pull.read().splitlines()\n",
    "    \n",
    "num_subjects = len(analysis_pull_list_control)\n",
    "task_name = 'Seth_MatchPennies_Agent_Exp1'\n",
    "\n"
   ]
  },
  {
   "cell_type": "markdown",
   "metadata": {},
   "source": [
    "Target information"
   ]
  },
  {
   "cell_type": "markdown",
   "metadata": {},
   "source": [
    "- Row 0 = Start Target\n",
    "\n",
    "- Row 1 = Left screen, right target x pos (left target is 2*startx - right targetx)\n",
    "\n",
    "- Dim 1 = Radius\n",
    "\n",
    "- Dim 2 = Thickness of the circle edge (don't know if this matters)\n",
    "\n",
    "\n",
    "Dataframe is in centimeters, so need to divide everything by 100"
   ]
  },
  {
   "cell_type": "code",
   "execution_count": 29,
   "metadata": {},
   "outputs": [],
   "source": [
    "file = PATH+'\\\\Sub1_Task\\\\Sub1_TaskTarget_Table.csv'\n",
    "df = pd.read_csv(file)\n",
    "df[\"X\"] = df[\"X\"]/100\n",
    "df[\"Y\"] = df[\"Y\"]/100\n",
    "df['Dim 1'] = df['Dim 1']/100 # Target table is in centimeters, I guess this doesn't matter but it makes me feel better\n",
    "df['Dim 2'] = df['Dim 2']/100\n",
    "# Target information for Right Hand (keeping this because the positions of target 3 and 4 are based on target 1 and start 1)\n",
    "startx = df.loc[0]['X']\n",
    "starty = df.loc[0]['Y']\n",
    "start_radius = df.loc[0]['Dim 1'] \n",
    "\n",
    "target1x = df.loc[1]['X']\n",
    "target1y = df.loc[1]['Y']\n",
    "target1_radius = df.loc[1]['Dim 1']\n",
    "\n",
    "target2x = 2*startx - target1x\n",
    "target2y = target1y\n",
    "target2_radius = target1_radius\n",
    "\n",
    "# Timing target\n",
    "timing_targetx = startx\n",
    "timing_targety = target1y\n",
    "timing_target_pos = np.sqrt(timing_targetx**2 + timing_targety**2)\n",
    "timing_target_radius = target1_radius   "
   ]
  },
  {
   "cell_type": "markdown",
   "metadata": {},
   "source": [
    "Control Experiment Data"
   ]
  },
  {
   "cell_type": "code",
   "execution_count": 30,
   "metadata": {},
   "outputs": [
    {
     "name": "stdout",
     "output_type": "stream",
     "text": [
      "0 Sub1_Control\n"
     ]
    },
    {
     "name": "stderr",
     "output_type": "stream",
     "text": [
      "100%|██████████| 150/150 [00:02<00:00, 65.54it/s]\n"
     ]
    },
    {
     "name": "stdout",
     "output_type": "stream",
     "text": [
      "1 Sub2_Control\n"
     ]
    },
    {
     "name": "stderr",
     "output_type": "stream",
     "text": [
      "100%|██████████| 150/150 [00:01<00:00, 84.39it/s]\n"
     ]
    },
    {
     "name": "stdout",
     "output_type": "stream",
     "text": [
      "2 Sub3_Control\n"
     ]
    },
    {
     "name": "stderr",
     "output_type": "stream",
     "text": [
      "100%|██████████| 150/150 [00:01<00:00, 91.97it/s]\n"
     ]
    },
    {
     "name": "stdout",
     "output_type": "stream",
     "text": [
      "3 Sub4_Control\n"
     ]
    },
    {
     "name": "stderr",
     "output_type": "stream",
     "text": [
      "100%|██████████| 150/150 [00:01<00:00, 89.57it/s]\n"
     ]
    },
    {
     "name": "stdout",
     "output_type": "stream",
     "text": [
      "4 Sub5_Control\n"
     ]
    },
    {
     "name": "stderr",
     "output_type": "stream",
     "text": [
      "100%|██████████| 150/150 [00:01<00:00, 86.43it/s]\n"
     ]
    },
    {
     "name": "stdout",
     "output_type": "stream",
     "text": [
      "5 Sub6_Control\n"
     ]
    },
    {
     "name": "stderr",
     "output_type": "stream",
     "text": [
      "100%|██████████| 150/150 [00:01<00:00, 85.08it/s]\n"
     ]
    },
    {
     "name": "stdout",
     "output_type": "stream",
     "text": [
      "6 Sub7_Control\n"
     ]
    },
    {
     "name": "stderr",
     "output_type": "stream",
     "text": [
      "100%|██████████| 150/150 [00:01<00:00, 83.78it/s]\n"
     ]
    },
    {
     "name": "stdout",
     "output_type": "stream",
     "text": [
      "7 Sub8_Control\n"
     ]
    },
    {
     "name": "stderr",
     "output_type": "stream",
     "text": [
      "100%|██████████| 150/150 [00:03<00:00, 45.07it/s]\n"
     ]
    },
    {
     "name": "stdout",
     "output_type": "stream",
     "text": [
      "8 Sub9_Control\n"
     ]
    },
    {
     "name": "stderr",
     "output_type": "stream",
     "text": [
      "100%|██████████| 150/150 [00:04<00:00, 35.83it/s]\n"
     ]
    },
    {
     "name": "stdout",
     "output_type": "stream",
     "text": [
      "9 Sub10_Control\n"
     ]
    },
    {
     "name": "stderr",
     "output_type": "stream",
     "text": [
      "100%|██████████| 150/150 [00:01<00:00, 93.99it/s]\n"
     ]
    },
    {
     "name": "stdout",
     "output_type": "stream",
     "text": [
      "10 Sub11_Control\n"
     ]
    },
    {
     "name": "stderr",
     "output_type": "stream",
     "text": [
      "100%|██████████| 150/150 [00:02<00:00, 73.43it/s]\n"
     ]
    },
    {
     "name": "stdout",
     "output_type": "stream",
     "text": [
      "11 Sub12_Control\n"
     ]
    },
    {
     "name": "stderr",
     "output_type": "stream",
     "text": [
      "100%|██████████| 150/150 [00:01<00:00, 91.46it/s]\n"
     ]
    }
   ],
   "source": [
    "#%% Get reaction time data\n",
    "reaction_trial_time = 5000\n",
    "reaction_trials = 50\n",
    "player_reaction_decision_array = np.empty((num_subjects, reaction_trials))\n",
    "reaction_trial_start = np.zeros((num_subjects, reaction_trials))*np.nan\n",
    "player_reaction_movement_time = np.zeros((num_subjects, reaction_trials))*np.nan\n",
    "reaction_time = np.zeros((num_subjects, reaction_trials))*np.nan\n",
    "player_reaction_time = np.zeros((num_subjects, reaction_trials))*np.nan\n",
    "agent_reaction_decision_time = np.zeros((num_subjects, reaction_trials))*np.nan\n",
    "player_reaction_reach_time = np.zeros((num_subjects, reaction_trials))*np.nan\n",
    "reaction_data = np.zeros((num_subjects, reaction_trials, reaction_trial_time, 2))*np.nan\n",
    "\n",
    "\n",
    "coincidence_trial_time = 2500\n",
    "coincidence_trials = 50\n",
    "coincidence_trial_start = np.zeros((num_subjects, coincidence_trials))*np.nan\n",
    "coincidence_reach_time = np.zeros((num_subjects, coincidence_trials))*np.nan\n",
    "coincidence_data = np.zeros((num_subjects, coincidence_trials, coincidence_trial_time, 2))*np.nan\n",
    "\n",
    "interval_trial_time = 2500\n",
    "interval_trials = 50\n",
    "interval_trial_start = np.zeros((num_subjects, interval_trials))*np.nan\n",
    "interval_reach_time =  np.zeros((num_subjects, interval_trials))*np.nan\n",
    "interval_data = np.zeros((num_subjects, interval_trials, interval_trial_time, 2))*np.nan\n",
    "\n",
    "control_trials = interval_trials + coincidence_trials + reaction_trials\n",
    "###-------------------------------------------------------------------------------------------------------\n",
    "for i in range(num_subjects):\n",
    "    sub_name = analysis_pull_list_control[i]\n",
    "    print(i, sub_name)\n",
    "    path1 = PATH+'\\\\'+sub_name\n",
    "    file = path1+f'\\\\{sub_name}Trial_Table.csv'\n",
    "    control_trial_table = pd.read_csv(file)\n",
    "    block_number = 1\n",
    "    tp_num = 1\n",
    "    for x in tqdm((range(control_trials))):\n",
    "        block_number = control_trial_table.iloc[x]['Block_Row']\n",
    "        tp_num = control_trial_table.iloc[x]['TP_Row']\n",
    "        block_trial_num = control_trial_table.iloc[x]['Block_Step']\n",
    "        filename = PATH+f\"\\\\{sub_name}\\\\{task_name}_{sub_name}_C{block_number}_TP{tp_num}_T{block_trial_num}.csv\"\n",
    "        j = tp_num - 1 # Block number\n",
    "        k = block_trial_num - 1 # Trial number in that block\n",
    "        data = pd.read_csv(filename, low_memory=False)\n",
    "        # if 'Agent_Initial_Time' in data.columns:\n",
    "        #     data = data.rename(columns = {'Agent_Inital_Time':'Agent_Decision_Time'}, inplace=True)\n",
    "        # f = data['Agent_Decision_Time']\n",
    "        start_time = int(data[data['Event_Codes']=='E_SOUND_SIGNAL'].index[0])\n",
    "        # Get Interval Timing Data\n",
    "        if tp_num == 1:\n",
    "            end_time = start_time + interval_trial_time\n",
    "            interval_trial_start[i,k] = start_time # Store start time\n",
    "            lhx = np.array(data.iloc[start_time:end_time]['Left_HandX'])\n",
    "            lhy = np.array(data.iloc[start_time:end_time]['Left_HandY'])\n",
    "            q = np.argwhere(np.sqrt((lhx-timing_targetx)**2 + (lhy-timing_targety)**2) < timing_target_radius) # THIS NEEDS TO BE THE CENTER TARGET... x poisition should be the start\n",
    "            if np.size(q)>0:\n",
    "                interval_reach_time[i,k] = q[0]\n",
    "        # Get Coincidence Timing Data\n",
    "        if tp_num == 2:\n",
    "            end_time = start_time + coincidence_trial_time\n",
    "            coincidence_trial_start[i,k] = start_time # Store start time\n",
    "            lhx = np.array(data.iloc[start_time:end_time]['Left_HandX'])\n",
    "            lhy = np.array(data.iloc[start_time:end_time]['Left_HandY'])\n",
    "            q = np.argwhere(np.sqrt((lhx-timing_targetx)**2 + (lhy-timing_targety)**2) < timing_target_radius) # THIS NEEDS TO BE THE CENTER TARGET... x poisition should be the start\n",
    "            if np.size(q)>0:\n",
    "                coincidence_reach_time[i,k] = q[0]\n",
    "        # Get Reaction Time Data\n",
    "        if tp_num == 3:\n",
    "            end_time = start_time + reaction_trial_time\n",
    "            reaction_trial_start[i,k] = start_time\n",
    "            lhx = np.array(data.iloc[start_time:end_time]['Left_HandX'])\n",
    "            lhy = np.array(data.iloc[start_time:end_time]['Left_HandY'])\n",
    "            q = np.argwhere(np.sqrt((lhx-target1x)**2 + (lhy-target1y)**2) < target1_radius)\n",
    "            r = np.argwhere(np.sqrt((lhx-target2x)**2 + (lhy-target2y)**2) < target2_radius) \n",
    "            s = np.argwhere(np.sqrt((lhx-startx)**2 + (lhy-starty)**2) > start_radius*2) # Multiplied by 2 so people don't accidentally drift outside start\n",
    "            if np.size(s)>0: \n",
    "                player_reaction_time[i,k] = s[0] # lhx and lhy are already constrained from start_time to end_time, so as soon as they leave the start, that's their reaction time\n",
    "            if np.size(q)>0: #if LH enters right target\n",
    "                player_reaction_decision_array[i,k] = 1\n",
    "                player_reaction_movement_time[i,k] = q[0] - s[0]\n",
    "                player_reaction_reach_time[i,k] = q[0]\n",
    "            elif np.size(r)>0: #if LH enters left target\n",
    "                player_reaction_decision_array[i,k] = -1   \n",
    "                player_reaction_movement_time[i,k] = r[0] - s[0]\n",
    "                player_reaction_reach_time[i,k] = r[0]\n",
    "                \n",
    "                \n",
    "            # #plot path for Reactions\n",
    "            if False:\n",
    "                for i in range(1):\n",
    "                    plot_end_time = int(start_time + player_reaction_reach_time[i,k])\n",
    "                    lhx_new = np.array(data.iloc[start_time:int(plot_end_time)]['Left_HandX'])\n",
    "                    lhy_new = np.array(data.iloc[start_time:int(plot_end_time)]['Left_HandY'])\n",
    "                    plt.figure(dpi=300)\n",
    "                    circleR = plt.Circle((target1x,target1y), target1_radius, color = 'r', fill = False)\n",
    "                    circleL = plt.Circle((target2x,target2y), target2_radius, color = 'r', fill = False)\n",
    "                    startCirc = plt.Circle((startx,starty), start_radius, color = 'r', fill = False)\n",
    "                    fig, ax = plt.subplots()\n",
    "                    ax.add_patch(circleR)\n",
    "                    ax.add_patch(circleL)\n",
    "                    ax.add_patch(startCirc)\n",
    "                    plt.plot(lhx_new,lhy_new) \n",
    "                    plt.scatter(lhx_new[int(s[0])], lhy_new[int(s[0])])\n",
    "\n",
    "                    plt.title(\"w =%1.0f \" %i + \"x=%1.0f \"%j + \"c=%1.0f\"%k + 'vely=%1.5f'%vel_check)\n",
    "                    plt.show()\n",
    "\n",
    "           "
   ]
  },
  {
   "cell_type": "code",
   "execution_count": 31,
   "metadata": {},
   "outputs": [
    {
     "name": "stdout",
     "output_type": "stream",
     "text": [
      "D:\\Subject_Data\\Seth_MatchPennies_Agent_Exp1\\Subjects_Analyzed\\Sub1\\\n",
      "[570. 417. 289. 319. 315. 346. 333. 315. 356. 457. 243. 247. 258. 288.\n",
      " 307. 293. 269. 306. 275. 292. 251. 319. 268. 295. 326. 261. 314. 258.\n",
      " 303. 294. 275. 328. 276. 286. 264. 249. 270. 271. 257. 277. 239. 312.\n",
      " 261. 255. 266. 279. 320. 301. 260. 285.]\n",
      "D:\\Subject_Data\\Seth_MatchPennies_Agent_Exp1\\Subjects_Analyzed\\Sub2\\\n",
      "[497. 329. 334. 259. 300. 297. 292. 302. 299. 327. 325. 305. 338. 286.\n",
      " 275. 293. 285. 344. 346. 313. 271. 315. 318. 298. 283. 300. 330. 299.\n",
      " 349. 314. 338. 337. 335. 270. 294. 314. 309. 324. 308. 302. 308. 325.\n",
      " 308. 284. 309. 270. 291. 350. 316. 316.]\n",
      "D:\\Subject_Data\\Seth_MatchPennies_Agent_Exp1\\Subjects_Analyzed\\Sub3\\\n",
      "[387. 266. 323. 389. 351. 327. 304. 343. 309. 362. 309. 343. 272. 263.\n",
      " 292. 323. 264. 328. 313. 338. 378. 346. 283. 308. 320. 294. 313. 344.\n",
      " 451. 316. 325. 326. 390. 319. 410. 359. 352. 390. 293. 294. 327. 380.\n",
      " 280. 290. 352. 282. 372. 353. 326. 394.]\n",
      "D:\\Subject_Data\\Seth_MatchPennies_Agent_Exp1\\Subjects_Analyzed\\Sub4\\\n",
      "[520. 392. 328. 339. 390. 452. 365. 397. 346. 317. 331. 342. 351. 334.\n",
      " 363. 298. 307. 377. 333. 299. 409. 411. 313. 319. 356. 331. 465. 333.\n",
      " 393. 345. 307. 310. 313. 333. 336. 314. 361. 308. 321. 394. 347. 326.\n",
      " 335. 324. 327. 337. 282. 301. 341. 338.]\n",
      "D:\\Subject_Data\\Seth_MatchPennies_Agent_Exp1\\Subjects_Analyzed\\Sub5\\\n",
      "[597. 346. 289. 352. 290. 357. 371. 344. 362. 325. 367. 363. 284. 292.\n",
      " 305. 280. 363. 325. 361. 305. 293. 280. 305. 334. 299. 362. 333. 314.\n",
      " 322. 322. 339. 415. 291. 324. 292. 286. 318. 296. 307. 301. 319. 407.\n",
      " 316. 293. 350. 390. 375. 368. 311. 280.]\n",
      "D:\\Subject_Data\\Seth_MatchPennies_Agent_Exp1\\Subjects_Analyzed\\Sub6\\\n",
      "[350. 331. 351. 279. 316. 267. 273. 322. 310. 271. 289. 374. 320. 298.\n",
      " 319. 303. 383. 325. 346. 310. 313. 302. 301. 364. 350. 348. 312. 294.\n",
      " 306. 300. 329. 314. 324. 289. 324. 235. 257. 273. 298. 355. 319. 336.\n",
      " 329. 273. 337. 245. 362. 314. 317. 315.]\n",
      "D:\\Subject_Data\\Seth_MatchPennies_Agent_Exp1\\Subjects_Analyzed\\Sub7\\\n",
      "[474. 333. 377. 367. 376. 348. 497. 312. 332. 308. 349. 295. 286. 274.\n",
      " 306. 317. 302. 317. 308. 344. 319. 352. 334. 301. 305. 366. 306. 329.\n",
      " 302. 344. 280. 313. 322. 319. 315. 312. 292. 308. 308. 324. 273. 295.\n",
      " 328. 331. 330. 369. 317. 334. 299. 270.]\n",
      "D:\\Subject_Data\\Seth_MatchPennies_Agent_Exp1\\Subjects_Analyzed\\Sub8\\\n",
      "[626. 331. 346. 289. 315. 354. 331. 272. 319. 308. 321. 285. 278. 300.\n",
      " 347. 315. 286. 248. 258. 287. 375. 354. 334. 284. 364. 363. 360. 294.\n",
      " 294. 148. 322. 335. 363. 324. 325. 321. 340. 332. 299. 310. 294. 327.\n",
      " 335. 339. 318. 311. 292. 334. 303. 333.]\n",
      "D:\\Subject_Data\\Seth_MatchPennies_Agent_Exp1\\Subjects_Analyzed\\Sub9\\\n",
      "[359. 353. 388. 322. 296. 298. 329. 351. 330. 393. 380. 288. 279. 312.\n",
      " 315. 357. 297. 333. 358. 346. 275. 322. 275. 372. 271. 287. 310. 263.\n",
      " 315. 379. 305. 292. 318. 319. 328. 310. 297. 289. 320. 325. 322. 311.\n",
      " 287. 304. 327. 270. 286. 304. 388. 276.]\n",
      "D:\\Subject_Data\\Seth_MatchPennies_Agent_Exp1\\Subjects_Analyzed\\Sub10\\\n",
      "[422. 374. 328. 334. 312. 380. 309. 294. 351. 329. 347. 374. 318. 296.\n",
      " 303. 335. 332. 328. 354. 293. 330. 296. 331. 323. 338. 293. 332. 332.\n",
      " 302. 284. 341. 281. 295. 295. 302. 276. 370. 325. 334. 320. 308. 288.\n",
      " 344. 317. 309. 356. 285. 326. 346. 316.]\n",
      "D:\\Subject_Data\\Seth_MatchPennies_Agent_Exp1\\Subjects_Analyzed\\Sub11\\\n",
      "[310. 270. 296. 259. 310. 269. 337. 325. 277. 286. 365. 307. 279. 277.\n",
      " 295. 329. 301. 268. 304. 289. 316. 290. 280. 333. 301. 284. 308. 316.\n",
      " 266. 289. 340. 330. 356. 283. 338. 258. 321. 276. 286. 274. 286. 269.\n",
      " 264. 262. 333. 346. 286. 288. 294. 299.]\n",
      "D:\\Subject_Data\\Seth_MatchPennies_Agent_Exp1\\Subjects_Analyzed\\Sub12\\\n",
      "[505. 364. 346. 340. 372. 359. 361. 349. 326. 334. 351. 393. 303. 361.\n",
      " 334. 349. 377. 273. 319. 343. 341. 354. 307. 287. 294. 299. 296. 323.\n",
      " 370. 361. 347. 349. 373. 344. 334. 271. 291. 294. 307. 339. 352. 319.\n",
      " 345. 302. 377. 341. 337. 351. 338. 336.]\n"
     ]
    }
   ],
   "source": [
    "analysis_pull_list = []\n",
    "with open(PATH+\"\\\\Analysis_Pull_List.txt\",\"r\") as pull_file:\n",
    "    analysis_pull_list = pull_file.read().splitlines()\n",
    "i=-1\n",
    "for subname in analysis_pull_list:\n",
    "    i+=1\n",
    "    data_path = PATH+f'\\\\Subjects_Analyzed\\\\{subname}\\\\'\n",
    "    if not os.path.exists(data_path):\n",
    "        os.makedirs(data_path)\n",
    "    print(data_path)\n",
    "    # Reaction time \n",
    "    pickle.dump(reaction_trial_start[i,:], open(data_path + f'{subname}_reaction_trial_start.pkl', 'wb'))\n",
    "    print(player_reaction_time[i,:])\n",
    "    pickle.dump(player_reaction_time[i,:], open(data_path + f'{subname}_player_reaction_time.pkl', 'wb'))\n",
    "    pickle.dump(player_reaction_movement_time[i,:], open(data_path + f'{subname}_player_reaction_movement_time.pkl', 'wb'))\n",
    "    pickle.dump(player_reaction_decision_array[i,:], open(data_path + f'{subname}_player_reaction_decision_array.pkl', 'wb'))\n",
    "    pickle.dump(agent_reaction_decision_time[i,:], open(data_path + f'{subname}_agent_reaction_decision_time.pkl', 'wb'))\n",
    "    pickle.dump(reaction_trial_start[i,:], open(data_path + f'{subname}_reaction_trial_start.pkl', 'wb'))\n",
    "    pickle.dump(interval_trial_start[i,:], open(data_path + f'{subname}_interval_trial_start.pkl', 'wb'))\n",
    "    pickle.dump(interval_reach_time[i,:], open(data_path + f'{subname}_interval_reach_time.pkl', 'wb'))\n",
    "    pickle.dump(coincidence_trial_start[i,:], open(data_path + f'{subname}_coincidence_trial_start.pkl', 'wb'))\n",
    "    pickle.dump(coincidence_reach_time[i,:], open(data_path + f'{subname}_coincidence_reach_time.pkl', 'wb'))\n"
   ]
  },
  {
   "cell_type": "markdown",
   "metadata": {},
   "source": [
    "Task Data "
   ]
  },
  {
   "cell_type": "code",
   "execution_count": 32,
   "metadata": {},
   "outputs": [
    {
     "name": "stdout",
     "output_type": "stream",
     "text": [
      "0 Sub1_Task\n"
     ]
    },
    {
     "name": "stderr",
     "output_type": "stream",
     "text": [
      "100%|██████████| 480/480 [00:07<00:00, 61.78it/s]\n"
     ]
    },
    {
     "name": "stdout",
     "output_type": "stream",
     "text": [
      "1 Sub2_Task\n"
     ]
    },
    {
     "name": "stderr",
     "output_type": "stream",
     "text": [
      "100%|██████████| 480/480 [00:08<00:00, 55.47it/s]\n"
     ]
    },
    {
     "name": "stdout",
     "output_type": "stream",
     "text": [
      "2 Sub3_Task\n"
     ]
    },
    {
     "name": "stderr",
     "output_type": "stream",
     "text": [
      "100%|██████████| 480/480 [00:15<00:00, 31.70it/s]\n"
     ]
    },
    {
     "name": "stdout",
     "output_type": "stream",
     "text": [
      "3 Sub4_Task\n"
     ]
    },
    {
     "name": "stderr",
     "output_type": "stream",
     "text": [
      "100%|██████████| 480/480 [00:06<00:00, 76.21it/s]\n"
     ]
    },
    {
     "name": "stdout",
     "output_type": "stream",
     "text": [
      "4 Sub5_Task\n"
     ]
    },
    {
     "name": "stderr",
     "output_type": "stream",
     "text": [
      "100%|██████████| 480/480 [00:06<00:00, 78.59it/s]\n"
     ]
    },
    {
     "name": "stdout",
     "output_type": "stream",
     "text": [
      "5 Sub6_Task\n"
     ]
    },
    {
     "name": "stderr",
     "output_type": "stream",
     "text": [
      "100%|██████████| 480/480 [00:06<00:00, 77.10it/s]\n"
     ]
    },
    {
     "name": "stdout",
     "output_type": "stream",
     "text": [
      "6 Sub7_Task\n"
     ]
    },
    {
     "name": "stderr",
     "output_type": "stream",
     "text": [
      "100%|██████████| 480/480 [00:06<00:00, 75.57it/s]\n"
     ]
    },
    {
     "name": "stdout",
     "output_type": "stream",
     "text": [
      "7 Sub8_Task\n"
     ]
    },
    {
     "name": "stderr",
     "output_type": "stream",
     "text": [
      "100%|██████████| 480/480 [00:06<00:00, 72.23it/s]\n"
     ]
    },
    {
     "name": "stdout",
     "output_type": "stream",
     "text": [
      "8 Sub9_Task\n"
     ]
    },
    {
     "name": "stderr",
     "output_type": "stream",
     "text": [
      "100%|██████████| 480/480 [00:09<00:00, 52.13it/s]\n"
     ]
    },
    {
     "name": "stdout",
     "output_type": "stream",
     "text": [
      "9 Sub10_Task\n"
     ]
    },
    {
     "name": "stderr",
     "output_type": "stream",
     "text": [
      "100%|██████████| 480/480 [00:09<00:00, 52.43it/s]\n"
     ]
    },
    {
     "name": "stdout",
     "output_type": "stream",
     "text": [
      "10 Sub11_Task\n"
     ]
    },
    {
     "name": "stderr",
     "output_type": "stream",
     "text": [
      "100%|██████████| 480/480 [00:07<00:00, 64.49it/s]\n"
     ]
    },
    {
     "name": "stdout",
     "output_type": "stream",
     "text": [
      "11 Sub12_Task\n"
     ]
    },
    {
     "name": "stderr",
     "output_type": "stream",
     "text": [
      "100%|██████████| 480/480 [00:12<00:00, 38.26it/s]\n"
     ]
    }
   ],
   "source": [
    "#%% Get task time task_df\n",
    "# Get trials, blocks, trial_time from trial_table\n",
    "path1 = PATH+'\\\\'+'Sub1_Task'\n",
    "task_df = pd.read_csv(path1+f'\\\\Sub1_TaskTrial_Table.csv')\n",
    "task_df = task_df.loc[task_df['Condition type']==3] # Only get the task condition \n",
    "num_trials = int(task_df.iloc[-1]['Block_Step']) # number of trials in each block\n",
    "num_blocks = int(task_df.iloc[-1]['Block_Row']/2)\n",
    "tot_trials = int(num_trials*num_blocks)\n",
    "trial_time = int(task_df.iloc[0]['Condition time'])\n",
    "task_df_columns = len(fields_pull)\n",
    "# Need to be kept outside subject for-loop\n",
    "task_trial_end = np.zeros([num_subjects, num_blocks, num_trials, 2])*np.nan\n",
    "task_trial_start = np.zeros((num_subjects, num_blocks, num_trials))*np.nan\n",
    "filename_storage = np.empty((num_subjects, num_blocks, num_trials), dtype=object)\n",
    "\n",
    "task_data = np.zeros((num_subjects, num_blocks, num_trials, trial_time+500, task_df_columns))*np.nan\n",
    "win_check_R = np.zeros((num_subjects, num_blocks))\n",
    "win_check_L = np.zeros((num_subjects, num_blocks))\n",
    "num_miss_check_R = np.zeros((num_subjects, num_blocks))\n",
    "num_miss_check_L = np.zeros((num_subjects, num_blocks))\n",
    "#########\n",
    "player_task_decision_array = np.empty((num_subjects, num_blocks, num_trials))\n",
    "player_task_reach_time = np.zeros([num_subjects, num_blocks, num_trials])*np.nan\n",
    "player_task_decision_time = np.zeros([num_subjects, num_blocks, num_trials])*np.nan\n",
    "player_task_movement_time = np.zeros([num_subjects, num_blocks, num_trials])*np.nan\n",
    "agent_task_decision_time = np.zeros((num_subjects, num_blocks, num_trials))\n",
    "agent_task_reach_time = np.zeros((num_subjects, num_blocks, num_trials))\n",
    "agent_task_decision_array = np.zeros((num_subjects, num_blocks, num_trials))\n",
    "\n",
    "###-------------------------------------------------------------------------------------------------------\n",
    "for i in range(num_subjects):\n",
    "    sub_name = analysis_pull_list_task[i]\n",
    "    print(i, sub_name)\n",
    "    path1 = PATH+'\\\\'+sub_name\n",
    "    file = path1+f'\\\\{sub_name}Trial_Table.csv'\n",
    "    trial_table = pd.read_csv(file)\n",
    "    # Splt trial table into task and washout based on condition type\n",
    "    task_trial_table = trial_table[trial_table['Condition type']==3]\n",
    "    block_number = 1\n",
    "    tp_num = 1\n",
    "    for x in tqdm((range(tot_trials))):\n",
    "        block_number = task_trial_table.iloc[x]['Block_Row']\n",
    "        tp_num = task_trial_table.iloc[x]['TP_Row']\n",
    "        block_trial_num = task_trial_table.iloc[x]['Block_Step']\n",
    "        j = tp_num - task_trial_table['TP_Row'].min()  # Block number\n",
    "        k = block_trial_num - 1 # Trial number in that block\n",
    "        \n",
    "        filename = PATH+f\"\\\\{sub_name}\\\\{task_name}_{sub_name}_C{block_number}_TP{tp_num}_T{block_trial_num}.csv\"\n",
    "        task_df = pd.read_csv(filename, low_memory=False)\n",
    "        start_time = int(task_df[task_df['Event_Codes']=='E_SOUND_SIGNAL'].index[0])\n",
    "        end_time = start_time + trial_time + 500 # Add 500 to see when they got there when trial ended\n",
    "        data_task_df = task_df.drop(columns ='Event_Codes') # Drop event codes cuz it's not number column and can't be an array \n",
    "        task_data[i,j,k,:,:] = np.array(data_task_df.iloc[start_time:end_time])\n",
    "\n",
    "        task_trial_start[i,j,k] = start_time\n",
    "        lhx = np.array(task_df.iloc[start_time:end_time]['Left_HandX'])\n",
    "        lhy = np.array(task_df.iloc[start_time:end_time]['Left_HandY'])\n",
    "        q = np.argwhere(np.sqrt((lhx-target1x)**2 + (lhy-target1y)**2) < target1_radius)\n",
    "        r = np.argwhere(np.sqrt((lhx-target2x)**2 + (lhy-target2y)**2) < target2_radius) \n",
    "        s = np.argwhere(np.sqrt((lhx-startx)**2 + (lhy-starty)**2) > start_radius*2) # Multiplied by 2 so people don't accidentally drift outside start\n",
    "        \n",
    "        #print(vel_check)\n",
    "        agent_task_decision_time[i,j,k] = task_df.iloc[start_time+1]['Agent_Decision_Time'] \n",
    "        agent_task_reach_time[i,j,k] = agent_task_decision_time[i,j,k] + 150  \n",
    "        agent_task_decision_array[i,j,k] = task_df.iloc[start_time+1]['Agent_Target_Selection']\n",
    "        if np.size(s)>0: \n",
    "            vel_check = task_df.iloc[s[0]]['Left_HandYVel']\n",
    "            player_task_decision_time[i,j,k] = s[0]\n",
    "            \n",
    "        if np.size(q)>0: #if LH enters right target\n",
    "            player_task_decision_array[i,j,k] = 1\n",
    "            player_task_movement_time[i,j,k] = q[0] - s[0]\n",
    "            player_task_reach_time[i,j,k] = q[0]\n",
    "        elif np.size(r)>0: #if LH enters left target\n",
    "            player_task_decision_array[i,j,k] = -1   \n",
    "            player_task_movement_time[i,j,k] = r[0] - s[0]\n",
    "            player_task_reach_time[i,j,k] = r[0]\n",
    "        if player_task_reach_time[i,j,k] > 1500 or np.isnan(player_task_reach_time[i,j,k]):\n",
    "            player_task_decision_array[i,j,k] = 0\n",
    "        if agent_task_reach_time[i,j,k]>1500:\n",
    "            agent_task_decision_array[i,j,k] = 0    \n",
    "        #plot path for tasks\n",
    "        if False:\n",
    "            for i in range(1):\n",
    "                plot_end_time = int(start_time + player_task_reach_time[i,j,k])\n",
    "                lhx_new = np.array(task_df.iloc[start_time:int(plot_end_time)]['Left_HandX'])\n",
    "                lhy_new = np.array(task_df.iloc[start_time:int(plot_end_time)]['Left_HandY'])\n",
    "                plt.figure(dpi=300)\n",
    "                circleR = plt.Circle((target1x,target1y), target1_radius, color = 'r', fill = False)\n",
    "                circleL = plt.Circle((target2x,target2y), target2_radius, color = 'r', fill = False)\n",
    "                startCirc = plt.Circle((startx,starty), start_radius, color = 'r', fill = False)\n",
    "                fig, ax = plt.subplots()\n",
    "                ax.add_patch(circleR)\n",
    "                ax.add_patch(circleL)\n",
    "                ax.add_patch(startCirc)\n",
    "                plt.plot(lhx_new,lhy_new) \n",
    "                plt.scatter(lhx_new[int(s[0])], lhy_new[int(s[0])])\n",
    "\n",
    "                plt.title(\"w =%1.0f \" %i + \"x=%1.0f \"%j + \"c=%1.0f\"%k + 'vely=%1.5f'%vel_check)\n",
    "                plt.show()\n",
    "\n",
    "           "
   ]
  },
  {
   "cell_type": "markdown",
   "metadata": {},
   "source": [
    "Pickle Task Data"
   ]
  },
  {
   "cell_type": "code",
   "execution_count": 33,
   "metadata": {},
   "outputs": [
    {
     "name": "stdout",
     "output_type": "stream",
     "text": [
      "Sub1\n",
      "Sub2\n",
      "Sub3\n",
      "Sub4\n",
      "Sub5\n",
      "Sub6\n",
      "Sub7\n",
      "Sub8\n",
      "Sub9\n",
      "Sub10\n",
      "Sub11\n",
      "Sub12\n"
     ]
    }
   ],
   "source": [
    "# Pickle\n",
    "analysis_pull_list = []\n",
    "with open(PATH+\"\\\\Analysis_Pull_List.txt\",\"r\") as pull_file:\n",
    "    analysis_pull_list = pull_file.read().splitlines()\n",
    "i=-1\n",
    "for subname in analysis_pull_list:\n",
    "    i+=1\n",
    "    data_path = PATH+f'\\\\Subjects_Analyzed\\\\{subname}\\\\'\n",
    "    if not os.path.exists(data_path):\n",
    "        os.makedirs(data_path)\n",
    "    print(subname)\n",
    "    pickle.dump(task_data[i,:,:,:,:], open(data_path + f'{subname}_task_data.pkl', 'wb'))\n",
    "    pickle.dump(player_task_decision_time[i,:,:], open(data_path + f'{subname}_player_task_decision_time.pkl', 'wb'))\n",
    "    pickle.dump(player_task_decision_array[i,:,:], open(data_path + f'{subname}_player_task_decision_array.pkl', 'wb'))\n",
    "    pickle.dump(player_task_movement_time[i,:,:], open(data_path + f'{subname}_player_task_movement_time.pkl', 'wb'))\n",
    "    pickle.dump(player_task_reach_time[i,:,:], open(data_path + f'{subname}_player_task_reach_time.pkl', 'wb'))\n",
    "    pickle.dump(agent_task_decision_time[i,:,:], open(data_path + f'{subname}_agent_task_decision_time.pkl', 'wb'))\n",
    "    pickle.dump(agent_task_decision_array[i,:,:], open(data_path + f'{subname}_agent_task_decision_array.pkl', 'wb'))\n",
    "    pickle.dump(agent_task_reach_time[i,:,:], open(data_path + f'{subname}_agent_task_reach_time.pkl', 'wb'))"
   ]
  },
  {
   "cell_type": "markdown",
   "metadata": {},
   "source": [
    "Washout Data"
   ]
  },
  {
   "cell_type": "code",
   "execution_count": 34,
   "metadata": {},
   "outputs": [
    {
     "name": "stdout",
     "output_type": "stream",
     "text": [
      "0 Sub1_Task\n"
     ]
    },
    {
     "name": "stderr",
     "output_type": "stream",
     "text": [
      "100%|██████████| 25/25 [00:00<00:00, 62.75it/s]\n",
      "100%|██████████| 25/25 [00:00<00:00, 65.15it/s]\n",
      "100%|██████████| 25/25 [00:00<00:00, 57.69it/s]\n",
      "100%|██████████| 25/25 [00:00<00:00, 65.36it/s]\n",
      "100%|██████████| 25/25 [00:00<00:00, 64.84it/s]\n",
      "100%|██████████| 25/25 [00:00<00:00, 63.53it/s]\n"
     ]
    },
    {
     "name": "stdout",
     "output_type": "stream",
     "text": [
      "1 Sub2_Task\n"
     ]
    },
    {
     "name": "stderr",
     "output_type": "stream",
     "text": [
      "100%|██████████| 25/25 [00:00<00:00, 55.87it/s]\n",
      "100%|██████████| 25/25 [00:00<00:00, 55.01it/s]\n",
      "100%|██████████| 25/25 [00:00<00:00, 55.96it/s]\n",
      "100%|██████████| 25/25 [00:00<00:00, 54.85it/s]\n",
      "100%|██████████| 25/25 [00:00<00:00, 55.15it/s]\n",
      "100%|██████████| 25/25 [00:00<00:00, 54.96it/s]\n"
     ]
    },
    {
     "name": "stdout",
     "output_type": "stream",
     "text": [
      "2 Sub3_Task\n"
     ]
    },
    {
     "name": "stderr",
     "output_type": "stream",
     "text": [
      "100%|██████████| 25/25 [00:00<00:00, 31.92it/s]\n",
      "100%|██████████| 25/25 [00:00<00:00, 31.62it/s]\n",
      "100%|██████████| 25/25 [00:00<00:00, 31.78it/s]\n",
      "100%|██████████| 25/25 [00:00<00:00, 31.80it/s]\n",
      "100%|██████████| 25/25 [00:00<00:00, 31.86it/s]\n",
      "100%|██████████| 25/25 [00:00<00:00, 31.62it/s]\n"
     ]
    },
    {
     "name": "stdout",
     "output_type": "stream",
     "text": [
      "3 Sub4_Task\n"
     ]
    },
    {
     "name": "stderr",
     "output_type": "stream",
     "text": [
      "100%|██████████| 25/25 [00:00<00:00, 76.74it/s]\n",
      "100%|██████████| 25/25 [00:00<00:00, 69.30it/s]\n",
      "100%|██████████| 25/25 [00:00<00:00, 77.33it/s]\n",
      "100%|██████████| 25/25 [00:00<00:00, 77.10it/s]\n",
      "100%|██████████| 25/25 [00:00<00:00, 78.34it/s]\n",
      "100%|██████████| 25/25 [00:00<00:00, 77.80it/s]\n"
     ]
    },
    {
     "name": "stdout",
     "output_type": "stream",
     "text": [
      "4 Sub5_Task\n"
     ]
    },
    {
     "name": "stderr",
     "output_type": "stream",
     "text": [
      "100%|██████████| 25/25 [00:00<00:00, 79.88it/s]\n",
      "100%|██████████| 25/25 [00:00<00:00, 73.01it/s]\n",
      "100%|██████████| 25/25 [00:00<00:00, 79.01it/s]\n",
      "100%|██████████| 25/25 [00:00<00:00, 78.37it/s]\n",
      "100%|██████████| 25/25 [00:00<00:00, 78.26it/s]\n",
      "100%|██████████| 25/25 [00:00<00:00, 79.34it/s]\n"
     ]
    },
    {
     "name": "stdout",
     "output_type": "stream",
     "text": [
      "5 Sub6_Task\n"
     ]
    },
    {
     "name": "stderr",
     "output_type": "stream",
     "text": [
      "100%|██████████| 25/25 [00:00<00:00, 77.14it/s]\n",
      "100%|██████████| 25/25 [00:00<00:00, 74.19it/s]\n",
      "100%|██████████| 25/25 [00:00<00:00, 76.82it/s]\n",
      "100%|██████████| 25/25 [00:00<00:00, 77.34it/s]\n",
      "100%|██████████| 25/25 [00:00<00:00, 77.54it/s]\n",
      "100%|██████████| 25/25 [00:00<00:00, 78.61it/s]\n"
     ]
    },
    {
     "name": "stdout",
     "output_type": "stream",
     "text": [
      "6 Sub7_Task\n"
     ]
    },
    {
     "name": "stderr",
     "output_type": "stream",
     "text": [
      "100%|██████████| 25/25 [00:00<00:00, 75.90it/s]\n",
      "100%|██████████| 25/25 [00:00<00:00, 75.57it/s]\n",
      "100%|██████████| 25/25 [00:00<00:00, 76.67it/s]\n",
      "100%|██████████| 25/25 [00:00<00:00, 76.89it/s]\n",
      "100%|██████████| 25/25 [00:00<00:00, 69.76it/s]\n",
      "100%|██████████| 25/25 [00:00<00:00, 77.59it/s]\n"
     ]
    },
    {
     "name": "stdout",
     "output_type": "stream",
     "text": [
      "7 Sub8_Task\n"
     ]
    },
    {
     "name": "stderr",
     "output_type": "stream",
     "text": [
      "100%|██████████| 25/25 [00:00<00:00, 71.44it/s]\n",
      "100%|██████████| 25/25 [00:00<00:00, 72.22it/s]\n",
      "100%|██████████| 25/25 [00:00<00:00, 56.15it/s]\n",
      "100%|██████████| 25/25 [00:00<00:00, 67.34it/s]\n",
      "100%|██████████| 25/25 [00:00<00:00, 71.24it/s]\n",
      "100%|██████████| 25/25 [00:00<00:00, 67.21it/s]\n"
     ]
    },
    {
     "name": "stdout",
     "output_type": "stream",
     "text": [
      "8 Sub9_Task\n"
     ]
    },
    {
     "name": "stderr",
     "output_type": "stream",
     "text": [
      "100%|██████████| 25/25 [00:00<00:00, 52.26it/s]\n",
      "100%|██████████| 25/25 [00:00<00:00, 51.99it/s]\n",
      "100%|██████████| 25/25 [00:00<00:00, 48.82it/s]\n",
      "100%|██████████| 25/25 [00:00<00:00, 48.20it/s]\n",
      "100%|██████████| 25/25 [00:00<00:00, 52.72it/s]\n",
      "100%|██████████| 25/25 [00:00<00:00, 52.25it/s]\n"
     ]
    },
    {
     "name": "stdout",
     "output_type": "stream",
     "text": [
      "9 Sub10_Task\n"
     ]
    },
    {
     "name": "stderr",
     "output_type": "stream",
     "text": [
      "100%|██████████| 25/25 [00:00<00:00, 53.41it/s]\n",
      "100%|██████████| 25/25 [00:00<00:00, 53.64it/s]\n",
      "100%|██████████| 25/25 [00:00<00:00, 53.66it/s]\n",
      "100%|██████████| 25/25 [00:00<00:00, 53.77it/s]\n",
      "100%|██████████| 25/25 [00:00<00:00, 54.15it/s]\n",
      "100%|██████████| 25/25 [00:00<00:00, 53.81it/s]\n"
     ]
    },
    {
     "name": "stdout",
     "output_type": "stream",
     "text": [
      "10 Sub11_Task\n"
     ]
    },
    {
     "name": "stderr",
     "output_type": "stream",
     "text": [
      "100%|██████████| 25/25 [00:00<00:00, 66.25it/s]\n",
      "100%|██████████| 25/25 [00:00<00:00, 64.45it/s]\n",
      "100%|██████████| 25/25 [00:00<00:00, 65.56it/s]\n",
      "100%|██████████| 25/25 [00:00<00:00, 67.36it/s]\n",
      "100%|██████████| 25/25 [00:00<00:00, 59.44it/s]\n",
      "100%|██████████| 25/25 [00:00<00:00, 65.84it/s]\n"
     ]
    },
    {
     "name": "stdout",
     "output_type": "stream",
     "text": [
      "11 Sub12_Task\n"
     ]
    },
    {
     "name": "stderr",
     "output_type": "stream",
     "text": [
      "100%|██████████| 25/25 [00:00<00:00, 38.56it/s]\n",
      "100%|██████████| 25/25 [00:00<00:00, 38.98it/s]\n",
      "100%|██████████| 25/25 [00:00<00:00, 37.11it/s]\n",
      "100%|██████████| 25/25 [00:00<00:00, 39.32it/s]\n",
      "100%|██████████| 25/25 [00:00<00:00, 39.14it/s]\n",
      "100%|██████████| 25/25 [00:00<00:00, 39.53it/s]\n"
     ]
    }
   ],
   "source": [
    "#%% Get washout time washout_df\n",
    "# Get trials, blocks, trial_time from trial_table\n",
    "path1 = PATH+'\\\\'+'Sub1_Task'\n",
    "trial_table = pd.read_csv(path1+'\\\\Sub1_TaskTrial_Table.csv')\n",
    "block_table = pd.read_csv(path1+'\\\\Sub1_TaskBlock_Table.csv')\n",
    "washout_trial_table = trial_table[trial_table['Condition type']==4] # Only get the washout condition \n",
    "num_trials = int(washout_trial_table.iloc[-1]['Block_Step']) # number of trials in each block\n",
    "num_blocks = pd.DataFrame(block_table[block_table['TP_LIST']==12]['TP_LIST'].value_counts()).iloc[0]['TP_LIST'] # Counts how many times TP_LIST is 12 (washout tp), and then gets that number with .iloc[0]['TP_LIST]\n",
    "tot_trials = int(num_trials*num_blocks)\n",
    "trial_time = int(washout_trial_table.iloc[0]['Condition time'])\n",
    "washout_columns = len(fields_pull)\n",
    "# Need to be kept outside subject for-loop\n",
    "washout_trial_end = np.zeros([num_subjects, num_blocks, num_trials, 2])*np.nan\n",
    "washout_trial_start = np.zeros((num_subjects, num_blocks, num_trials))*np.nan\n",
    "filename_storage = np.empty((num_subjects, num_blocks, num_trials), dtype=object)\n",
    "\n",
    "washout_data = np.zeros((num_subjects, num_blocks, num_trials, trial_time+500, washout_columns))*np.nan\n",
    "win_check_R = np.zeros((num_subjects, num_blocks))\n",
    "win_check_L = np.zeros((num_subjects, num_blocks))\n",
    "num_miss_check_R = np.zeros((num_subjects, num_blocks))\n",
    "num_miss_check_L = np.zeros((num_subjects, num_blocks))\n",
    "#########\n",
    "player_washout_decision_array = np.empty((num_subjects, num_blocks, num_trials))\n",
    "player_washout_reach_time = np.zeros([num_subjects, num_blocks, num_trials])*np.nan\n",
    "player_washout_decision_time = np.zeros([num_subjects, num_blocks, num_trials])*np.nan\n",
    "player_washout_movement_time = np.zeros([num_subjects, num_blocks, num_trials])*np.nan\n",
    "agent_washout_decision_time = np.zeros((num_subjects, num_blocks, num_trials))\n",
    "agent_washout_reach_time = np.zeros((num_subjects, num_blocks, num_trials))\n",
    "agent_washout_decision_array = np.zeros((num_subjects, num_blocks, num_trials))\n",
    "\n",
    "###-------------------------------------------------------------------------------------------------------\n",
    "for i in (range(num_subjects)):\n",
    "    sub_name = analysis_pull_list_task[i]\n",
    "    print(i, sub_name)\n",
    "    path1 = PATH+'\\\\'+sub_name\n",
    "    file = path1+f'\\\\{sub_name}Trial_Table.csv'\n",
    "    trial_table = pd.read_csv(file)\n",
    "    # Splt trial table into washout and washout based on condition type\n",
    "    washout_trial_table = trial_table[trial_table['Condition type']==4]\n",
    "    x = -1\n",
    "    for j in (range(num_blocks)):\n",
    "        for k in tqdm(range(num_trials)):\n",
    "            x += 1\n",
    "            block_number = washout_trial_table.iloc[x]['Block_Row']\n",
    "            tp_num = washout_trial_table.iloc[x]['TP_Row']\n",
    "            block_trial_num = washout_trial_table.iloc[x]['Block_Step']\n",
    "            filename = PATH+f\"\\\\{sub_name}\\\\{task_name}_{sub_name}_C{block_number}_TP{tp_num}_T{block_trial_num}.csv\"\n",
    "            washout_df = pd.read_csv(filename, low_memory=False)\n",
    "            start_time = int(washout_df[washout_df['Event_Codes']=='E_SOUND_SIGNAL'].index[0])\n",
    "            end_time = start_time + trial_time + 500 # Add 500 to see when they got there when trial ended\n",
    "            data_washout_df = washout_df.drop(columns ='Event_Codes') # Drop event codes cuz it's not number column and can't be an array \n",
    "            washout_data[i,j,k,:,:] = np.array(data_washout_df.iloc[start_time:end_time])\n",
    "\n",
    "            washout_trial_start[i,j,k] = start_time\n",
    "            lhx = np.array(washout_df.iloc[start_time:end_time]['Left_HandX'])\n",
    "            lhy = np.array(washout_df.iloc[start_time:end_time]['Left_HandY'])\n",
    "            q = np.argwhere(np.sqrt((lhx-target1x)**2 + (lhy-target1y)**2) < target1_radius)\n",
    "            r = np.argwhere(np.sqrt((lhx-target2x)**2 + (lhy-target2y)**2) < target2_radius) \n",
    "            s = np.argwhere(np.sqrt((lhx-startx)**2 + (lhy-starty)**2) > start_radius*2) # Multiplied by 2 so people don't accidentally drift outside start\n",
    "            \n",
    "            #print(vel_check)\n",
    "            agent_washout_decision_time[i,j,k] = washout_df.iloc[start_time+1]['Agent_Decision_Time']   \n",
    "            agent_washout_decision_array[i,j,k] = washout_df.iloc[start_time+1]['Agent_Target_Selection']\n",
    "            if np.size(s)>0: \n",
    "                vel_check = washout_df.iloc[s[0]]['Left_HandYVel']\n",
    "                player_washout_decision_time[i,j,k] = s[0]\n",
    "                \n",
    "            if np.size(q)>0: #if LH enters right target\n",
    "                player_washout_decision_array[i,j,k] = 1\n",
    "                player_washout_movement_time[i,j,k] = q[0] - s[0]\n",
    "                player_washout_reach_time[i,j,k] = q[0]\n",
    "            elif np.size(r)>0: #if LH enters left target\n",
    "                player_washout_decision_array[i,j,k] = -1   \n",
    "                player_washout_movement_time[i,j,k] = r[0] - s[0]\n",
    "                player_washout_reach_time[i,j,k] = r[0]\n",
    "            if player_washout_reach_time[i,j,k] > 1500 or np.isnan(player_washout_reach_time[i,j,k]):\n",
    "                player_washout_decision_array[i,j,k] = 0\n",
    "            \n",
    "        # #plot path for washouts\n",
    "        if False:\n",
    "            for i in range(1):\n",
    "                plot_end_time = int(start_time + player_washout_reach_time[i,j,k])\n",
    "                lhx_new = np.array(washout_df.iloc[start_time:int(plot_end_time)]['Left_HandX'])\n",
    "                lhy_new = np.array(washout_df.iloc[start_time:int(plot_end_time)]['Left_HandY'])\n",
    "                plt.figure(dpi=300)\n",
    "                circleR = plt.Circle((target1x,target1y), target1_radius, color = 'r', fill = False)\n",
    "                circleL = plt.Circle((target2x,target2y), target2_radius, color = 'r', fill = False)\n",
    "                startCirc = plt.Circle((startx,starty), start_radius, color = 'r', fill = False)\n",
    "                fig, ax = plt.subplots()\n",
    "                ax.add_patch(circleR)\n",
    "                ax.add_patch(circleL)\n",
    "                ax.add_patch(startCirc)\n",
    "                plt.plot(lhx_new,lhy_new) \n",
    "                plt.scatter(lhx_new[int(s[0])], lhy_new[int(s[0])])\n",
    "\n",
    "                plt.title(\"w =%1.0f \" %i + \"x=%1.0f \"%j + \"c=%1.0f\"%k + 'vely=%1.5f'%vel_check)\n",
    "                plt.show()\n",
    "\n",
    "           "
   ]
  },
  {
   "cell_type": "markdown",
   "metadata": {},
   "source": [
    "Pickle Washout"
   ]
  },
  {
   "cell_type": "code",
   "execution_count": 35,
   "metadata": {},
   "outputs": [
    {
     "name": "stdout",
     "output_type": "stream",
     "text": [
      "Sub1\n",
      "Sub2\n",
      "Sub3\n",
      "Sub4\n",
      "Sub5\n",
      "Sub6\n",
      "Sub7\n",
      "Sub8\n",
      "Sub9\n",
      "Sub10\n",
      "Sub11\n",
      "Sub12\n"
     ]
    }
   ],
   "source": [
    "# Pickle\n",
    "analysis_pull_list = []\n",
    "with open(PATH+\"\\\\Analysis_Pull_List.txt\",\"r\") as pull_file:\n",
    "    analysis_pull_list = pull_file.read().splitlines()\n",
    "i=-1\n",
    "for subname in analysis_pull_list:\n",
    "    i+=1\n",
    "    data_path = PATH+f'\\\\Subjects_Analyzed\\\\{subname}\\\\'\n",
    "    if not os.path.exists(data_path):\n",
    "        os.makedirs(data_path)\n",
    "    print(subname)\n",
    "    pickle.dump(washout_data[i,:,:,:,:], open(data_path + f'{subname}_washout_data.pkl', 'wb'))\n",
    "    pickle.dump(player_washout_decision_time[i,:], open(data_path + f'{subname}_player_washout_decision_time.pkl', 'wb'))\n",
    "    pickle.dump(player_washout_decision_array[i,:], open(data_path + f'{subname}_player_washout_decision_array.pkl', 'wb'))\n",
    "    pickle.dump(player_washout_movement_time[i,:], open(data_path + f'{subname}_player_washout_movement_time.pkl', 'wb'))\n",
    "    pickle.dump(player_washout_reach_time[i,:], open(data_path + f'{subname}_player_washout_reach_time.pkl', 'wb'))\n",
    "    pickle.dump(agent_washout_decision_time[i,:], open(data_path + f'{subname}_agent_washout_decision_time.pkl', 'wb'))\n",
    "    pickle.dump(agent_washout_decision_array[i,:], open(data_path + f'{subname}_agent_washout_decision_array.pkl', 'wb'))\n",
    "    pickle.dump(agent_washout_reach_time[i,:], open(data_path + f'{subname}_agent_washout_reach_time.pkl', 'wb'))"
   ]
  },
  {
   "cell_type": "markdown",
   "metadata": {},
   "source": [
    "Keep Order That Participants Did Condition"
   ]
  },
  {
   "cell_type": "code",
   "execution_count": 38,
   "metadata": {},
   "outputs": [
    {
     "data": {
      "text/plain": [
       "array([[-1.,  1.,  1., -1., -1., -1.,  1.,  1., -1.,  1., -1., -1., -1.,\n",
       "        -1., -1.,  1.,  1., -1.,  1.,  1.,  1., -1., -1., -1., -1., -1.,\n",
       "         1., -1.,  1., -1.,  1.,  1.,  1., -1., -1., -1.,  1., -1.,  1.,\n",
       "         1.,  1., -1.,  1., -1.,  1., -1., -1., -1., -1., -1.,  1.,  1.,\n",
       "         1.,  1.,  1.,  1., -1., -1.,  1., -1.,  1.,  1.,  1.,  1.,  1.,\n",
       "         1., -1., -1., -1.,  1.,  1.,  1., -1., -1., -1., -1., -1., -1.,\n",
       "        -1., -1.],\n",
       "       [-1., -1.,  1., -1.,  1., -1., -1.,  1., -1.,  1.,  1.,  1., -1.,\n",
       "        -1., -1.,  1., -1., -1., -1.,  1.,  1., -1.,  1.,  1., -1.,  1.,\n",
       "        -1., -1., -1.,  1.,  1.,  1.,  1.,  1., -1.,  1.,  1., -1.,  1.,\n",
       "        -1., -1., -1.,  1., -1.,  1., -1.,  1., -1.,  1.,  1.,  1.,  1.,\n",
       "         0.,  1.,  1., -1., -1., -1.,  1.,  1.,  1., -1.,  1., -1., -1.,\n",
       "         1., -1.,  1.,  1.,  1., -1.,  1., -1., -1.,  1., -1., -1.,  1.,\n",
       "         1.,  1.],\n",
       "       [ 1.,  1.,  1., -1.,  1.,  1.,  1., -1., -1.,  1.,  1.,  1.,  1.,\n",
       "        -1.,  1.,  1.,  1., -1.,  1., -1.,  1.,  1.,  1., -1., -1.,  1.,\n",
       "        -1., -1., -1., -1.,  1., -1., -1., -1.,  1.,  1.,  1.,  1.,  1.,\n",
       "         1.,  1., -1., -1.,  1.,  1.,  1.,  1.,  1.,  1., -1.,  1.,  1.,\n",
       "         1., -1., -1.,  1., -1., -1.,  1.,  1.,  1.,  1., -1.,  1.,  1.,\n",
       "         1.,  1.,  1.,  1., -1., -1., -1., -1.,  1.,  1.,  1.,  1., -1.,\n",
       "         1., -1.],\n",
       "       [-1.,  1.,  1.,  1.,  0.,  1., -1.,  1.,  1., -1., -1., -1., -1.,\n",
       "         0.,  1.,  1., -1., -1.,  1.,  1.,  1., -1.,  0., -1., -1., -1.,\n",
       "         0.,  1., -1.,  1., -1., -1.,  1.,  1., -1.,  1., -1.,  1.,  1.,\n",
       "        -1.,  1.,  1., -1., -1.,  1., -1.,  1.,  1.,  1., -1., -1., -1.,\n",
       "         1.,  1.,  1., -1.,  1., -1., -1.,  1., -1.,  1., -1., -1., -1.,\n",
       "         1.,  1., -1.,  1.,  1.,  1.,  0., -1.,  1., -1., -1.,  0., -1.,\n",
       "        -1.,  1.],\n",
       "       [ 1.,  1., -1.,  1.,  1., -1., -1., -1., -1., -1., -1., -1.,  1.,\n",
       "        -1.,  1., -1., -1.,  1.,  1.,  1.,  1.,  1.,  1., -1.,  1., -1.,\n",
       "         1., -1.,  1., -1., -1., -1., -1., -1., -1.,  1.,  1.,  1., -1.,\n",
       "        -1., -1.,  1., -1.,  1.,  1.,  1., -1.,  1.,  1., -1., -1.,  1.,\n",
       "         1., -1., -1., -1.,  1.,  1., -1., -1.,  1.,  1., -1.,  1., -1.,\n",
       "        -1., -1.,  1., -1.,  1., -1., -1., -1.,  1., -1.,  1., -1., -1.,\n",
       "        -1.,  1.],\n",
       "       [ 1., -1.,  0.,  0., -1.,  1.,  0., -1.,  1.,  0.,  1.,  1.,  1.,\n",
       "        -1., -1., -1., -1.,  1.,  1.,  1., -1., -1.,  1., -1., -1.,  1.,\n",
       "         1., -1., -1.,  0.,  1., -1., -1.,  0., -1.,  1., -1.,  1., -1.,\n",
       "         1., -1.,  1.,  0.,  1.,  1.,  1., -1.,  1.,  0., -1., -1., -1.,\n",
       "        -1.,  0.,  0.,  1.,  0.,  1.,  0.,  0.,  1., -1.,  1.,  1.,  1.,\n",
       "        -1.,  1., -1.,  1.,  0., -1., -1.,  1.,  0., -1.,  1., -1., -1.,\n",
       "         1.,  1.]])"
      ]
     },
     "execution_count": 38,
     "metadata": {},
     "output_type": "execute_result"
    }
   ],
   "source": [
    "agent_task_decision_array[0]"
   ]
  },
  {
   "cell_type": "code",
   "execution_count": null,
   "metadata": {},
   "outputs": [],
   "source": []
  },
  {
   "cell_type": "code",
   "execution_count": null,
   "metadata": {},
   "outputs": [],
   "source": []
  },
  {
   "cell_type": "code",
   "execution_count": null,
   "metadata": {},
   "outputs": [],
   "source": []
  },
  {
   "cell_type": "markdown",
   "metadata": {},
   "source": [
    "Use event codes to get wins and indecisions"
   ]
  },
  {
   "cell_type": "code",
   "execution_count": 37,
   "metadata": {},
   "outputs": [],
   "source": [
    "# # Use event codes to find number of wins and indecisions\n",
    "# #%% Extract Hand Position data\n",
    "# for w in range(num_subjects): #len(pull_list)):\n",
    "#     print(w)\n",
    "#     sub_name = analysis_pull_list_task[w]\n",
    "#     print(sub_name)\n",
    "#     path1 = PATH+'\\\\'+sub_name\n",
    "#     file = path1+f'\\\\{sub_name}Trial_Table.csv'\n",
    "#     task_trial_table = pd.read_csv(file)\n",
    "#     task_trial_table = task_trial_table.loc[task_trial_table['TP_Row']>=3]\n",
    "#     for i in tqdm((range(tot_trials))):\n",
    "#         block_number = task_trial_table.iloc[i]['Block_Row']\n",
    "#         tp_num = task_trial_table.iloc[i]['TP_Row']\n",
    "#         block_trial_num = task_trial_table.iloc[i]['Block_Step']\n",
    "#         x = tp_num - 3 #used for indexing, subtraction number needs to change to 1 if I start with TP1 \n",
    "#         c = block_trial_num - 1 #used for indexing, block trial number starts with 1\n",
    "#         filename = PATH+f\"\\\\{sub_name}\\\\Seth_MatchPennies_Agent_Pilot_v3_{sub_name}_C{block_number}_TP{tp_num}_T{block_trial_num}.csv\"\n",
    "#         filename_storage[w,x,c] = filename\n",
    "#         data = pd.read_csv(filename, low_memory=False) #read in data\n",
    "#         #Create start time and max end time array\n",
    "#         score_index = int(data[data['Event_Codes']=='E_END_TRIAL'].index[0]) \n",
    "#         trial_start[w,x,c]= int(data[data['Event_Codes']==list_event_codes[0]].index[0]) #if event codes column is equal to the list event codes, give the index (time)\n",
    "#         trial_start = trial_start.astype(int)\n",
    "#         end_time = trial_start[w,x,c]+2000\n",
    "#         agent_target_select_index = int(data[data['Event_Codes']=='E_END_TRIAL'].index[0]) \n",
    "#         # Get Agent mean reach time... data starts at next index from E_SOUNG_SIGNAL aka trial_start\n",
    "#         agent_decision_time[w,x,c] = data.iloc[trial_start[w,x,c]+1]['Agent_Reach_Time'] #CALLED AGENT REACH TIME BUT IT'S NOW DECISION TIME IN V3\n",
    "#         agent_decision_array[w,x,c] = data.iloc[agent_target_select_index]['Agent_decision_array']\n",
    "#         agent_indecision_index = np.argwhere(agent_decision_time+150>1500)\n",
    "#         for i,j,k in agent_indecision_index:\n",
    "#             agent_decision_array[i,j,k] = 0\n",
    "#         data = np.array(data)\n",
    "#         event_codes[w,x,c,:] = data[trial_start[w,x,c]:end_time,4] # create event codes array\n",
    "#         hand_data = data[:,0:4] # data is only columns 0 thru 3 (RHX,RHY,LHX,LHY)\n",
    "#         hand_data = hand_data.astype(float)\n",
    "#         hand_pos_data[w,x,c,:,:] = hand_data[trial_start[w,x,c]:end_time,:]\n",
    "        \n",
    "#         # If you want the scores\n",
    "#         # scoreA = data[score_index, 4]\n",
    "#         # scoreB = data[score_index, 5]\n",
    "#         # if scoreA == 1:\n",
    "#         #     win_check_R[w,x]+=1\n",
    "#         # if scoreB == 1:\n",
    "#         #     win_check_L[w,x]+=1\n",
    "#         # print(filename)\n",
    "#         # print(data[trial_start[w,x,c]:end_time,:])\n",
    "#         #------------------------------------------------------------------\n",
    "           \n",
    "#         # LEFT HAND\n",
    "#         lhx = hand_pos_data[w,x,c,:,2]\n",
    "#         lhy = hand_pos_data[w,x,c,:,3]\n",
    "#         q = np.argwhere(np.sqrt((lhx-target3x)**2 + (lhy-target3y)**2) < target3_radius/2)\n",
    "#         r = np.argwhere(np.sqrt((lhx-target4x)**2 + (lhy-target4y)**2) < target4_radius/2) \n",
    "#         s = np.argwhere(np.sqrt((lhx-start2x)**2 + (lhy-start2y)**2) > start2_radius/2)\n",
    "#         if np.size(s)>0: \n",
    "#             player_decision_time[w,x,c] = s[0]\n",
    "#         if np.size(q)>0: #if LH enters right target\n",
    "#             player_decision_array[w,x,c] = 1\n",
    "#             player_reach_time[w,x,c] = q[0]\n",
    "#         elif np.size(r)>0: #if LH enters left target\n",
    "#             player_decision_array[w,x,c] = -1   \n",
    "#             player_reach_time[w,x,c] = r[0]\n",
    "            \n",
    "#         if player_reach_time[w,x,c] > 1500 or np.isnan(player_reach_time[w,x,c]):\n",
    "#             player_decision_array[w,x,c] = 0"
   ]
  }
 ],
 "metadata": {
  "kernelspec": {
   "display_name": "Python 3.9.12 ('base')",
   "language": "python",
   "name": "python3"
  },
  "language_info": {
   "codemirror_mode": {
    "name": "ipython",
    "version": 3
   },
   "file_extension": ".py",
   "mimetype": "text/x-python",
   "name": "python",
   "nbconvert_exporter": "python",
   "pygments_lexer": "ipython3",
   "version": "3.9.12"
  },
  "orig_nbformat": 4,
  "vscode": {
   "interpreter": {
    "hash": "1a00c1525417994d84940f6a64b96d4df953e4f0863c4f32c2c802abdf8195ff"
   }
  }
 },
 "nbformat": 4,
 "nbformat_minor": 2
}
