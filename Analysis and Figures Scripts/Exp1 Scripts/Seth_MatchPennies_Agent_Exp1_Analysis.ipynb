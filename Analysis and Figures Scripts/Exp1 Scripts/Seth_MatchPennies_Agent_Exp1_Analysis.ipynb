{
 "cells": [
  {
   "cell_type": "code",
   "execution_count": 45,
   "metadata": {},
   "outputs": [
    {
     "data": {
      "text/plain": [
       "'\\nThis script pulls\\n1. Decision array of agent and player\\n2. Decision time of agent and player\\n   - Possibly calculate this with velocity in the future\\n3. Control things\\n   - Reaction times, interval target reach times, coincidence target reach times\\n'"
      ]
     },
     "execution_count": 45,
     "metadata": {},
     "output_type": "execute_result"
    }
   ],
   "source": [
    "import pandas as pd\n",
    "from matplotlib import pyplot as plt\n",
    "import numpy as np\n",
    "import glob\n",
    "import os\n",
    "import math\n",
    "from os import listdir\n",
    "import data_visualization as dv\n",
    "import pickle\n",
    "import scipy \n",
    "from scipy.stats import norm\n",
    "from scipy import stats\n",
    "from tqdm import tqdm \n",
    "'''\n",
    "This script pulls\n",
    "1. Decision array of agent and player\n",
    "2. Decision time of agent and player\n",
    "   - Possibly calculate this with velocity in the future\n",
    "3. Control things\n",
    "   - Reaction times, interval target reach times, coincidence target reach times\n",
    "'''"
   ]
  },
  {
   "cell_type": "code",
   "execution_count": 46,
   "metadata": {},
   "outputs": [],
   "source": [
    "# Fields pull and pull list\n",
    "os.chdir('D:\\Subject_Data\\Seth_MatchPennies_Agent_Exp1')\n",
    "PATH = os.getcwd()\n",
    "analysis_pull_list = []\n",
    "analysis_pull_list_control = []\n",
    "analysis_pull_list_task = []\n",
    "fields_pull = []\n",
    "with open(PATH+\"\\\\Analysis_Pull_List.txt\", \"r\") as pull_file:\n",
    "    analysis_pull_list = pull_file.read().splitlines()\n",
    "with open(PATH+\"\\\\Analysis_Pull_List_Control.txt\", \"r\") as pull_file:\n",
    "    analysis_pull_list_control = pull_file.read().splitlines()\n",
    "with open(PATH+\"\\\\Analysis_Pull_List_Task.txt\", \"r\") as pull_file:\n",
    "    analysis_pull_list_task = pull_file.read().splitlines()\n",
    "with open(PATH+\"\\\\Fields_Pull.txt\", \"r\") as fields_pull:\n",
    "    fields_pull = fields_pull.read().splitlines()\n",
    "    \n",
    "num_subjects = len(analysis_pull_list_control)\n",
    "task_name = 'Seth_MatchPennies_Agent_Exp1'\n",
    "\n"
   ]
  },
  {
   "cell_type": "markdown",
   "metadata": {},
   "source": [
    "Target information"
   ]
  },
  {
   "cell_type": "markdown",
   "metadata": {},
   "source": [
    "- Row 0 = Start Target\n",
    "\n",
    "- Row 1 = Left screen, right target x pos (left target is 2*startx - right targetx)\n",
    "\n",
    "- Dim 1 = Radius\n",
    "\n",
    "- Dim 2 = Thickness of the circle edge (don't know if this matters)\n",
    "\n",
    "\n",
    "Dataframe is in centimeters, so need to divide everything by 100"
   ]
  },
  {
   "cell_type": "code",
   "execution_count": 47,
   "metadata": {},
   "outputs": [],
   "source": [
    "file = PATH+'\\\\Sub1_Task\\\\Sub1_TaskTarget_Table.csv'\n",
    "df = pd.read_csv(file)\n",
    "df[\"X\"] = df[\"X\"]/100\n",
    "df[\"Y\"] = df[\"Y\"]/100\n",
    "df['Dim 1'] = df['Dim 1']/100 # Target table is in centimeters, I guess this doesn't matter but it makes me feel better\n",
    "df['Dim 2'] = df['Dim 2']/100\n",
    "# Target information for Right Hand (keeping this because the positions of target 3 and 4 are based on target 1 and start 1)\n",
    "startx = df.loc[0]['X']\n",
    "starty = df.loc[0]['Y']\n",
    "start_radius = df.loc[0]['Dim 1'] \n",
    "\n",
    "target1x = df.loc[1]['X']\n",
    "target1y = df.loc[1]['Y']\n",
    "target1_radius = df.loc[1]['Dim 1']\n",
    "\n",
    "target2x = 2*startx - target1x\n",
    "target2y = target1y\n",
    "target2_radius = target1_radius\n",
    "\n",
    "# Timing target\n",
    "timing_targetx = startx\n",
    "timing_targety = target1y\n",
    "timing_target_pos = np.sqrt(timing_targetx**2 + timing_targety**2)\n",
    "timing_target_radius = target1_radius   "
   ]
  },
  {
   "cell_type": "markdown",
   "metadata": {},
   "source": [
    "Control Experiment Data"
   ]
  },
  {
   "cell_type": "code",
   "execution_count": 48,
   "metadata": {},
   "outputs": [
    {
     "name": "stdout",
     "output_type": "stream",
     "text": [
      "0 Sub4_Control\n"
     ]
    },
    {
     "name": "stderr",
     "output_type": "stream",
     "text": [
      "100%|██████████| 150/150 [00:04<00:00, 35.38it/s]\n"
     ]
    },
    {
     "name": "stdout",
     "output_type": "stream",
     "text": [
      "1 Sub5_Control\n"
     ]
    },
    {
     "name": "stderr",
     "output_type": "stream",
     "text": [
      "100%|██████████| 150/150 [00:03<00:00, 43.74it/s]\n"
     ]
    }
   ],
   "source": [
    "#%% Get reaction time data\n",
    "reaction_trial_time = 5000\n",
    "reaction_trials = 50\n",
    "player_reaction_decision_array = np.empty((num_subjects, reaction_trials))\n",
    "reaction_trial_start = np.zeros((num_subjects, reaction_trials))*np.nan\n",
    "reaction_movement_time = np.zeros((num_subjects, reaction_trials))*np.nan\n",
    "reaction_time = np.zeros((num_subjects, reaction_trials))*np.nan\n",
    "player_reaction_decision_time = np.zeros((num_subjects, reaction_trials))*np.nan\n",
    "agent_reaction_decision_time = np.zeros((num_subjects, reaction_trials))*np.nan\n",
    "player_reaction_reach_time = np.zeros((num_subjects, reaction_trials))*np.nan\n",
    "reaction_data = np.zeros((num_subjects, reaction_trials, reaction_trial_time, 2))*np.nan\n",
    "\n",
    "\n",
    "coincidence_trial_time = 2500\n",
    "coincidence_trials = 50\n",
    "coincidence_trial_start = np.zeros((num_subjects, coincidence_trials))*np.nan\n",
    "coincidence_reach_time = np.zeros((num_subjects, coincidence_trials))*np.nan\n",
    "coincidence_data = np.zeros((num_subjects, coincidence_trials, coincidence_trial_time, 2))*np.nan\n",
    "\n",
    "interval_trial_time = 2500\n",
    "interval_trials = 50\n",
    "interval_trial_start = np.zeros((num_subjects, interval_trials))*np.nan\n",
    "interval_reach_time =  np.zeros((num_subjects, interval_trials))*np.nan\n",
    "interval_data = np.zeros((num_subjects, interval_trials, interval_trial_time, 2))*np.nan\n",
    "\n",
    "control_trials = interval_trials + coincidence_trials + reaction_trials\n",
    "###-------------------------------------------------------------------------------------------------------\n",
    "for i in range(num_subjects):\n",
    "    sub_name = analysis_pull_list_control[i]\n",
    "    print(i, sub_name)\n",
    "    path1 = PATH+'\\\\'+sub_name\n",
    "    file = path1+f'\\\\{sub_name}Trial_Table.csv'\n",
    "    control_trial_table = pd.read_csv(file)\n",
    "    block_number = 1\n",
    "    tp_num = 1\n",
    "    for x in tqdm((range(control_trials))):\n",
    "        block_number = control_trial_table.iloc[x]['Block_Row']\n",
    "        tp_num = control_trial_table.iloc[x]['TP_Row']\n",
    "        block_trial_num = control_trial_table.iloc[x]['Block_Step']\n",
    "        filename = PATH+f\"\\\\{sub_name}\\\\{task_name}_{sub_name}_C{block_number}_TP{tp_num}_T{block_trial_num}.csv\"\n",
    "        j = tp_num - 1 # Block number\n",
    "        k = block_trial_num - 1 # Trial number in that block\n",
    "        data = pd.read_csv(filename, low_memory=False)\n",
    "        # if 'Agent_Initial_Time' in data.columns:\n",
    "        #     data = data.rename(columns = {'Agent_Inital_Time':'Agent_Decision_Time'}, inplace=True)\n",
    "        # f = data['Agent_Decision_Time']\n",
    "        start_time = int(data[data['Event_Codes']=='E_SOUND_SIGNAL'].index[0])\n",
    "        # Get Interval Timing Data\n",
    "        if tp_num == 1:\n",
    "            end_time = start_time + interval_trial_time\n",
    "            interval_trial_start[i,k] = start_time # Store start time\n",
    "            lhx = np.array(data.iloc[start_time:end_time]['Left_HandX'])\n",
    "            lhy = np.array(data.iloc[start_time:end_time]['Left_HandY'])\n",
    "            q = np.argwhere(np.sqrt((lhx-timing_targetx)**2 + (lhy-timing_targety)**2) < timing_target_radius) # THIS NEEDS TO BE THE CENTER TARGET... x poisition should be the start\n",
    "            if np.size(q)>0:\n",
    "                interval_reach_time[i,k] = q[0]\n",
    "        # Get Coincidence Timing Data\n",
    "        if tp_num == 2:\n",
    "            end_time = start_time + coincidence_trial_time\n",
    "            coincidence_trial_start[i,k] = start_time # Store start time\n",
    "            lhx = np.array(data.iloc[start_time:end_time]['Left_HandX'])\n",
    "            lhy = np.array(data.iloc[start_time:end_time]['Left_HandY'])\n",
    "            q = np.argwhere(np.sqrt((lhx-timing_targetx)**2 + (lhy-timing_targety)**2) < timing_target_radius) # THIS NEEDS TO BE THE CENTER TARGET... x poisition should be the start\n",
    "            if np.size(q)>0:\n",
    "                coincidence_reach_time[i,k] = q[0]\n",
    "        # Get Reaction Time Data\n",
    "        if tp_num == 3:\n",
    "            end_time = start_time + reaction_trial_time\n",
    "            reaction_trial_start[i,k] = start_time\n",
    "            lhx = np.array(data.iloc[start_time:end_time]['Left_HandX'])\n",
    "            lhy = np.array(data.iloc[start_time:end_time]['Left_HandY'])\n",
    "            q = np.argwhere(np.sqrt((lhx-target1x)**2 + (lhy-target1y)**2) < target1_radius)\n",
    "            r = np.argwhere(np.sqrt((lhx-target2x)**2 + (lhy-target2y)**2) < target2_radius) \n",
    "            s = np.argwhere(np.sqrt((lhx-startx)**2 + (lhy-starty)**2) > start_radius*2) # Multiplied by 2 so people don't accidentally drift outside start\n",
    "            \n",
    "            vel_check = data.iloc[s[0]]['Left_HandYVel']\n",
    "            #print(vel_check)\n",
    "            agent_reaction_decision_time[i,k] = data.iloc[start_time+1]['Agent_Reach_Time'] - 150    \n",
    "            if np.size(s)>0: \n",
    "                player_reaction_decision_time[i,k] = s[0]\n",
    "                reaction_time[i,k] = s[0] - agent_reaction_decision_time[i,k]\n",
    "            if np.size(q)>0: #if LH enters right target\n",
    "                player_reaction_decision_array[i,k] = 1\n",
    "                reaction_movement_time[i,k] = q[0] - s[0]\n",
    "                player_reaction_reach_time[i,k] = q[0]\n",
    "            elif np.size(r)>0: #if LH enters left target\n",
    "                player_reaction_decision_array[i,k] = -1   \n",
    "                reaction_movement_time[i,k] = r[0] - s[0]\n",
    "                player_reaction_reach_time[i,k] = r[0]\n",
    "                \n",
    "                \n",
    "            # #plot path for Reactions\n",
    "            # for i in range(1):\n",
    "                # plot_end_time = int(start_time + player_reaction_reach_time[i,k])\n",
    "                # lhx_new = np.array(data.iloc[start_time:int(plot_end_time)]['Left_HandX'])\n",
    "                # lhy_new = np.array(data.iloc[start_time:int(plot_end_time)]['Left_HandY'])\n",
    "                # plt.figure(dpi=300)\n",
    "                # circleR = plt.Circle((target1x,target1y), target1_radius, color = 'r', fill = False)\n",
    "                # circleL = plt.Circle((target2x,target2y), target2_radius, color = 'r', fill = False)\n",
    "                # startCirc = plt.Circle((startx,starty), start_radius, color = 'r', fill = False)\n",
    "                # fig, ax = plt.subplots()\n",
    "                # ax.add_patch(circleR)\n",
    "                # ax.add_patch(circleL)\n",
    "                # ax.add_patch(startCirc)\n",
    "                # plt.plot(lhx_new,lhy_new) \n",
    "                # plt.scatter(lhx_new[int(s[0])], lhy_new[int(s[0])])\n",
    "\n",
    "                # plt.title(\"w =%1.0f \" %i + \"x=%1.0f \"%j + \"c=%1.0f\"%k + 'vely=%1.5f'%vel_check)\n",
    "                # plt.show()\n",
    "\n",
    "           "
   ]
  },
  {
   "cell_type": "markdown",
   "metadata": {},
   "source": [
    "Pickle Control Data"
   ]
  },
  {
   "cell_type": "code",
   "execution_count": 49,
   "metadata": {},
   "outputs": [
    {
     "name": "stdout",
     "output_type": "stream",
     "text": [
      "Sub4\n",
      "Sub5\n"
     ]
    }
   ],
   "source": [
    "analysis_pull_list = []\n",
    "with open(PATH+\"\\\\Analysis_Pull_List.txt\",\"r\") as pull_file:\n",
    "    analysis_pull_list = pull_file.read().splitlines()\n",
    "i=0\n",
    "for subname in analysis_pull_list:\n",
    "    data_path = PATH+f'\\\\Subjects_Analyzed\\\\{subname}\\\\'\n",
    "    if not os.path.exists(data_path):\n",
    "        os.makedirs(data_path)\n",
    "    print(subname)\n",
    "    # Reaction time \n",
    "    pickle.dump(reaction_trial_start[i,:], open(data_path + f'{subname}_reaction_trial_start.pkl', 'wb'))\n",
    "    pickle.dump(reaction_time[i,:], open(data_path + f'{subname}_reaction_time.pkl', 'wb'))\n",
    "    pickle.dump(reaction_movement_time[i,:], open(data_path + f'{subname}_reaction_movement_time.pkl', 'wb'))\n",
    "    pickle.dump(player_reaction_decision_array[i,:], open(data_path + f'{subname}_player_reaction_decision_array.pkl', 'wb'))\n",
    "    pickle.dump(agent_reaction_decision_time[i,:], open(data_path + f'{subname}_agent_reaction_decision_time.pkl', 'wb'))\n",
    "    pickle.dump(reaction_trial_start[i,:], open(data_path + f'{subname}_reaction_trial_start.pkl', 'wb'))\n",
    "    pickle.dump(interval_trial_start[i,:], open(data_path + f'{subname}_interval_trial_start.pkl', 'wb'))\n",
    "    pickle.dump(interval_reach_time[i,:], open(data_path + f'{subname}_interval_reach_time.pkl', 'wb'))\n",
    "    pickle.dump(coincidence_trial_start[i,:], open(data_path + f'{subname}_coincidence_trial_start.pkl', 'wb'))\n",
    "    pickle.dump(coincidence_reach_time[i,:], open(data_path + f'{subname}_coincidence_reach_time.pkl', 'wb'))\n"
   ]
  },
  {
   "cell_type": "markdown",
   "metadata": {},
   "source": [
    "Task Data "
   ]
  },
  {
   "cell_type": "code",
   "execution_count": 50,
   "metadata": {},
   "outputs": [
    {
     "name": "stdout",
     "output_type": "stream",
     "text": [
      "0 Sub4_Task\n"
     ]
    },
    {
     "name": "stderr",
     "output_type": "stream",
     "text": [
      "100%|██████████| 480/480 [00:12<00:00, 37.45it/s]\n"
     ]
    },
    {
     "name": "stdout",
     "output_type": "stream",
     "text": [
      "1 Sub5_Task\n"
     ]
    },
    {
     "name": "stderr",
     "output_type": "stream",
     "text": [
      "100%|██████████| 480/480 [00:14<00:00, 32.52it/s]\n"
     ]
    }
   ],
   "source": [
    "#%% Get task time task_df\n",
    "# Get trials, blocks, trial_time from trial_table\n",
    "path1 = PATH+'\\\\'+'Sub1_Task'\n",
    "task_df = pd.read_csv(path1+f'\\\\Sub1_TaskTrial_Table.csv')\n",
    "task_df = task_df.loc[task_df['Condition type']==3] # Only get the task condition \n",
    "num_trials = int(task_df.iloc[-1]['Block_Step']) # number of trials in each block\n",
    "num_blocks = int(task_df.iloc[-1]['Block_Row']/2)\n",
    "tot_trials = int(num_trials*num_blocks)\n",
    "trial_time = int(task_df.iloc[0]['Condition time'])\n",
    "task_df_columns = len(fields_pull)\n",
    "# Need to be kept outside subject for-loop\n",
    "task_trial_end = np.zeros([num_subjects, num_blocks, num_trials, 2])*np.nan\n",
    "task_trial_start = np.zeros((num_subjects, num_blocks, num_trials))*np.nan\n",
    "filename_storage = np.empty((num_subjects, num_blocks, num_trials), dtype=object)\n",
    "\n",
    "task_data = np.zeros((num_subjects, num_blocks, num_trials, trial_time+500, task_df_columns))*np.nan\n",
    "win_check_R = np.zeros((num_subjects, num_blocks))\n",
    "win_check_L = np.zeros((num_subjects, num_blocks))\n",
    "num_miss_check_R = np.zeros((num_subjects, num_blocks))\n",
    "num_miss_check_L = np.zeros((num_subjects, num_blocks))\n",
    "#########\n",
    "player_task_decision_array = np.empty((num_subjects, num_blocks, num_trials))\n",
    "player_task_reach_time = np.zeros([num_subjects, num_blocks, num_trials])*np.nan\n",
    "player_task_decision_time = np.zeros([num_subjects, num_blocks, num_trials])*np.nan\n",
    "player_task_movement_time = np.zeros([num_subjects, num_blocks, num_trials])*np.nan\n",
    "agent_task_decision_time = np.zeros((num_subjects, num_blocks, num_trials))\n",
    "agent_task_reach_time = np.zeros((num_subjects, num_blocks, num_trials))\n",
    "agent_task_decision_array = np.zeros((num_subjects, num_blocks, num_trials))\n",
    "\n",
    "###-------------------------------------------------------------------------------------------------------\n",
    "for i in range(num_subjects):\n",
    "    sub_name = analysis_pull_list_task[i]\n",
    "    print(i, sub_name)\n",
    "    path1 = PATH+'\\\\'+sub_name\n",
    "    file = path1+f'\\\\{sub_name}Trial_Table.csv'\n",
    "    trial_table = pd.read_csv(file)\n",
    "    # Splt trial table into task and washout based on condition type\n",
    "    task_trial_table = trial_table[trial_table['Condition type']==3]\n",
    "    block_number = 1\n",
    "    tp_num = 1\n",
    "    for x in tqdm((range(tot_trials))):\n",
    "        block_number = task_trial_table.iloc[x]['Block_Row']\n",
    "        tp_num = task_trial_table.iloc[x]['TP_Row']\n",
    "        block_trial_num = task_trial_table.iloc[x]['Block_Step']\n",
    "        j = tp_num - task_trial_table['TP_Row'].min()  # Block number\n",
    "        k = block_trial_num - 1 # Trial number in that block\n",
    "        \n",
    "        filename = PATH+f\"\\\\{sub_name}\\\\{task_name}_{sub_name}_C{block_number}_TP{tp_num}_T{block_trial_num}.csv\"\n",
    "        task_df = pd.read_csv(filename, low_memory=False)\n",
    "        start_time = int(task_df[task_df['Event_Codes']=='E_SOUND_SIGNAL'].index[0])\n",
    "        end_time = start_time + trial_time + 500 # Add 500 to see when they got there when trial ended\n",
    "        data_task_df = task_df.drop(columns ='Event_Codes') # Drop event codes cuz it's not number column and can't be an array \n",
    "        task_data[i,j,k,:,:] = np.array(data_task_df.iloc[start_time:end_time])\n",
    "\n",
    "        task_trial_start[i,j,k] = start_time\n",
    "        lhx = np.array(task_df.iloc[start_time:end_time]['Left_HandX'])\n",
    "        lhy = np.array(task_df.iloc[start_time:end_time]['Left_HandY'])\n",
    "        q = np.argwhere(np.sqrt((lhx-target1x)**2 + (lhy-target1y)**2) < target1_radius)\n",
    "        r = np.argwhere(np.sqrt((lhx-target2x)**2 + (lhy-target2y)**2) < target2_radius) \n",
    "        s = np.argwhere(np.sqrt((lhx-startx)**2 + (lhy-starty)**2) > start_radius*2) # Multiplied by 2 so people don't accidentally drift outside start\n",
    "        \n",
    "        #print(vel_check)\n",
    "        agent_task_decision_time[i,j,k] = task_df.iloc[start_time+1]['Agent_Decision_Time']   \n",
    "        agent_task_decision_array[i,j,k] = task_df.iloc[start_time+1]['Agent_Target_Selection']\n",
    "        if np.size(s)>0: \n",
    "            vel_check = task_df.iloc[s[0]]['Left_HandYVel']\n",
    "            player_task_decision_time[i,j,k] = s[0]\n",
    "            \n",
    "        if np.size(q)>0: #if LH enters right target\n",
    "            player_task_decision_array[i,j,k] = 1\n",
    "            player_task_movement_time[i,j,k] = q[0] - s[0]\n",
    "            player_task_reach_time[i,j,k] = q[0]\n",
    "        elif np.size(r)>0: #if LH enters left target\n",
    "            player_task_decision_array[i,j,k] = -1   \n",
    "            player_task_movement_time[i,j,k] = r[0] - s[0]\n",
    "            player_task_reach_time[i,j,k] = r[0]\n",
    "        if player_task_reach_time[i,j,k] > 1500 or np.isnan(player_task_reach_time[i,j,k]):\n",
    "            player_task_decision_array[i,j,k] = 0\n",
    "            \n",
    "        # #plot path for tasks\n",
    "        # for i in range(1):\n",
    "            # plot_end_time = int(start_time + player_task_reach_time[i,j,k])\n",
    "            # lhx_new = np.array(task_df.iloc[start_time:int(plot_end_time)]['Left_HandX'])\n",
    "            # lhy_new = np.array(task_df.iloc[start_time:int(plot_end_time)]['Left_HandY'])\n",
    "            # plt.figure(dpi=300)\n",
    "            # circleR = plt.Circle((target1x,target1y), target1_radius, color = 'r', fill = False)\n",
    "            # circleL = plt.Circle((target2x,target2y), target2_radius, color = 'r', fill = False)\n",
    "            # startCirc = plt.Circle((startx,starty), start_radius, color = 'r', fill = False)\n",
    "            # fig, ax = plt.subplots()\n",
    "            # ax.add_patch(circleR)\n",
    "            # ax.add_patch(circleL)\n",
    "            # ax.add_patch(startCirc)\n",
    "            # plt.plot(lhx_new,lhy_new) \n",
    "            # plt.scatter(lhx_new[int(s[0])], lhy_new[int(s[0])])\n",
    "\n",
    "            # plt.title(\"w =%1.0f \" %i + \"x=%1.0f \"%j + \"c=%1.0f\"%k + 'vely=%1.5f'%vel_check)\n",
    "            # plt.show()\n",
    "\n",
    "           "
   ]
  },
  {
   "cell_type": "markdown",
   "metadata": {},
   "source": [
    "Pickle Task Data"
   ]
  },
  {
   "cell_type": "code",
   "execution_count": 51,
   "metadata": {},
   "outputs": [
    {
     "name": "stdout",
     "output_type": "stream",
     "text": [
      "Sub4\n",
      "Sub5\n"
     ]
    }
   ],
   "source": [
    "# Pickle\n",
    "analysis_pull_list = []\n",
    "with open(PATH+\"\\\\Analysis_Pull_List.txt\",\"r\") as pull_file:\n",
    "    analysis_pull_list = pull_file.read().splitlines()\n",
    "i=0\n",
    "for subname in analysis_pull_list:\n",
    "    data_path = PATH+f'\\\\Subjects_Analyzed\\\\{subname}\\\\'\n",
    "    if not os.path.exists(data_path):\n",
    "        os.makedirs(data_path)\n",
    "    print(subname)\n",
    "    pickle.dump(task_data[i,:,:,:,:], open(data_path + f'{subname}_task_data.pkl', 'wb'))\n",
    "    pickle.dump(player_task_decision_time[i,:,:], open(data_path + f'{subname}_player_task_decision_time.pkl', 'wb'))\n",
    "    pickle.dump(player_task_decision_array[i,:,:], open(data_path + f'{subname}_player_task_decision_array.pkl', 'wb'))\n",
    "    pickle.dump(player_task_movement_time[i,:,:], open(data_path + f'{subname}_player_task_movement_time.pkl', 'wb'))\n",
    "    pickle.dump(player_task_reach_time[i,:,:], open(data_path + f'{subname}_player_task_reach_time.pkl', 'wb'))\n",
    "    pickle.dump(agent_task_decision_time[i,:,:], open(data_path + f'{subname}_agent_task_decision_time.pkl', 'wb'))\n",
    "    pickle.dump(agent_task_decision_array[i,:,:], open(data_path + f'{subname}_agent_task_decision_array.pkl', 'wb'))\n",
    "    pickle.dump(agent_task_reach_time[i,:,:], open(data_path + f'{subname}_agent_task_reach_time.pkl', 'wb'))"
   ]
  },
  {
   "cell_type": "markdown",
   "metadata": {},
   "source": [
    "Washout Data"
   ]
  },
  {
   "cell_type": "code",
   "execution_count": 52,
   "metadata": {},
   "outputs": [
    {
     "name": "stderr",
     "output_type": "stream",
     "text": [
      "  0%|          | 0/2 [00:00<?, ?it/s]"
     ]
    },
    {
     "name": "stdout",
     "output_type": "stream",
     "text": [
      "0 Sub4_Task\n"
     ]
    },
    {
     "name": "stderr",
     "output_type": "stream",
     "text": [
      " 50%|█████     | 1/2 [00:03<00:03,  3.92s/it]"
     ]
    },
    {
     "name": "stdout",
     "output_type": "stream",
     "text": [
      "1 Sub5_Task\n"
     ]
    },
    {
     "name": "stderr",
     "output_type": "stream",
     "text": [
      "100%|██████████| 2/2 [00:07<00:00,  3.99s/it]\n"
     ]
    }
   ],
   "source": [
    "#%% Get washout time washout_df\n",
    "# Get trials, blocks, trial_time from trial_table\n",
    "path1 = PATH+'\\\\'+'Sub1_Task'\n",
    "trial_table = pd.read_csv(path1+'\\\\Sub1_TaskTrial_Table.csv')\n",
    "block_table = pd.read_csv(path1+'\\\\Sub1_TaskBlock_Table.csv')\n",
    "washout_trial_table = trial_table[trial_table['Condition type']==4] # Only get the washout condition \n",
    "num_trials = int(washout_trial_table.iloc[-1]['Block_Step']) # number of trials in each block\n",
    "num_blocks = pd.DataFrame(block_table[block_table['TP_LIST']==12]['TP_LIST'].value_counts()).iloc[0]['TP_LIST'] # Counts how many times TP_LIST is 12 (washout tp), and then gets that number with .iloc[0]['TP_LIST]\n",
    "tot_trials = int(num_trials*num_blocks)\n",
    "trial_time = int(washout_trial_table.iloc[0]['Condition time'])\n",
    "washout_columns = len(fields_pull)\n",
    "# Need to be kept outside subject for-loop\n",
    "washout_trial_end = np.zeros([num_subjects, num_blocks, num_trials, 2])*np.nan\n",
    "washout_trial_start = np.zeros((num_subjects, num_blocks, num_trials))*np.nan\n",
    "filename_storage = np.empty((num_subjects, num_blocks, num_trials), dtype=object)\n",
    "\n",
    "washout_data = np.zeros((num_subjects, num_blocks, num_trials, trial_time+500, washout_columns))*np.nan\n",
    "win_check_R = np.zeros((num_subjects, num_blocks))\n",
    "win_check_L = np.zeros((num_subjects, num_blocks))\n",
    "num_miss_check_R = np.zeros((num_subjects, num_blocks))\n",
    "num_miss_check_L = np.zeros((num_subjects, num_blocks))\n",
    "#########\n",
    "player_washout_decision_array = np.empty((num_subjects, num_blocks, num_trials))\n",
    "player_washout_reach_time = np.zeros([num_subjects, num_blocks, num_trials])*np.nan\n",
    "player_washout_decision_time = np.zeros([num_subjects, num_blocks, num_trials])*np.nan\n",
    "player_washout_movement_time = np.zeros([num_subjects, num_blocks, num_trials])*np.nan\n",
    "agent_washout_decision_time = np.zeros((num_subjects, num_blocks, num_trials))\n",
    "agent_washout_reach_time = np.zeros((num_subjects, num_blocks, num_trials))\n",
    "agent_washout_decision_array = np.zeros((num_subjects, num_blocks, num_trials))\n",
    "\n",
    "###-------------------------------------------------------------------------------------------------------\n",
    "for i in tqdm(range(num_subjects)):\n",
    "    sub_name = analysis_pull_list_task[i]\n",
    "    print(i, sub_name)\n",
    "    path1 = PATH+'\\\\'+sub_name\n",
    "    file = path1+f'\\\\{sub_name}Trial_Table.csv'\n",
    "    trial_table = pd.read_csv(file)\n",
    "    # Splt trial table into washout and washout based on condition type\n",
    "    washout_trial_table = trial_table[trial_table['Condition type']==4]\n",
    "    x = -1\n",
    "    for j in (range(num_blocks)):\n",
    "        for k in range(num_trials):\n",
    "            x += 1\n",
    "            block_number = washout_trial_table.iloc[x]['Block_Row']\n",
    "            tp_num = washout_trial_table.iloc[x]['TP_Row']\n",
    "            block_trial_num = washout_trial_table.iloc[x]['Block_Step']\n",
    "            filename = PATH+f\"\\\\{sub_name}\\\\{task_name}_{sub_name}_C{block_number}_TP{tp_num}_T{block_trial_num}.csv\"\n",
    "            washout_df = pd.read_csv(filename, low_memory=False)\n",
    "            start_time = int(washout_df[washout_df['Event_Codes']=='E_SOUND_SIGNAL'].index[0])\n",
    "            end_time = start_time + trial_time + 500 # Add 500 to see when they got there when trial ended\n",
    "            data_washout_df = washout_df.drop(columns ='Event_Codes') # Drop event codes cuz it's not number column and can't be an array \n",
    "            washout_data[i,j,k,:,:] = np.array(data_washout_df.iloc[start_time:end_time])\n",
    "\n",
    "            washout_trial_start[i,j,k] = start_time\n",
    "            lhx = np.array(washout_df.iloc[start_time:end_time]['Left_HandX'])\n",
    "            lhy = np.array(washout_df.iloc[start_time:end_time]['Left_HandY'])\n",
    "            q = np.argwhere(np.sqrt((lhx-target1x)**2 + (lhy-target1y)**2) < target1_radius)\n",
    "            r = np.argwhere(np.sqrt((lhx-target2x)**2 + (lhy-target2y)**2) < target2_radius) \n",
    "            s = np.argwhere(np.sqrt((lhx-startx)**2 + (lhy-starty)**2) > start_radius*2) # Multiplied by 2 so people don't accidentally drift outside start\n",
    "            \n",
    "            #print(vel_check)\n",
    "            agent_washout_decision_time[i,j,k] = washout_df.iloc[start_time+1]['Agent_Decision_Time']   \n",
    "            agent_washout_decision_array[i,j,k] = washout_df.iloc[start_time+1]['Agent_Target_Selection']\n",
    "            if np.size(s)>0: \n",
    "                vel_check = washout_df.iloc[s[0]]['Left_HandYVel']\n",
    "                player_washout_decision_time[i,j,k] = s[0]\n",
    "                \n",
    "            if np.size(q)>0: #if LH enters right target\n",
    "                player_washout_decision_array[i,j,k] = 1\n",
    "                player_washout_movement_time[i,j,k] = q[0] - s[0]\n",
    "                player_washout_reach_time[i,j,k] = q[0]\n",
    "            elif np.size(r)>0: #if LH enters left target\n",
    "                player_washout_decision_array[i,j,k] = -1   \n",
    "                player_washout_movement_time[i,j,k] = r[0] - s[0]\n",
    "                player_washout_reach_time[i,j,k] = r[0]\n",
    "            if player_washout_reach_time[i,j,k] > 1500 or np.isnan(player_washout_reach_time[i,j,k]):\n",
    "                player_washout_decision_array[i,j,k] = 0\n",
    "            \n",
    "        # #plot path for washouts\n",
    "        # for i in range(1):\n",
    "            # plot_end_time = int(start_time + player_washout_reach_time[i,j,k])\n",
    "            # lhx_new = np.array(washout_df.iloc[start_time:int(plot_end_time)]['Left_HandX'])\n",
    "            # lhy_new = np.array(washout_df.iloc[start_time:int(plot_end_time)]['Left_HandY'])\n",
    "            # plt.figure(dpi=300)\n",
    "            # circleR = plt.Circle((target1x,target1y), target1_radius, color = 'r', fill = False)\n",
    "            # circleL = plt.Circle((target2x,target2y), target2_radius, color = 'r', fill = False)\n",
    "            # startCirc = plt.Circle((startx,starty), start_radius, color = 'r', fill = False)\n",
    "            # fig, ax = plt.subplots()\n",
    "            # ax.add_patch(circleR)\n",
    "            # ax.add_patch(circleL)\n",
    "            # ax.add_patch(startCirc)\n",
    "            # plt.plot(lhx_new,lhy_new) \n",
    "            # plt.scatter(lhx_new[int(s[0])], lhy_new[int(s[0])])\n",
    "\n",
    "            # plt.title(\"w =%1.0f \" %i + \"x=%1.0f \"%j + \"c=%1.0f\"%k + 'vely=%1.5f'%vel_check)\n",
    "            # plt.show()\n",
    "\n",
    "           "
   ]
  },
  {
   "cell_type": "markdown",
   "metadata": {},
   "source": [
    "Pickle Washout"
   ]
  },
  {
   "cell_type": "code",
   "execution_count": 53,
   "metadata": {},
   "outputs": [
    {
     "name": "stdout",
     "output_type": "stream",
     "text": [
      "Sub4\n",
      "Sub5\n"
     ]
    }
   ],
   "source": [
    "# Pickle\n",
    "analysis_pull_list = []\n",
    "with open(PATH+\"\\\\Analysis_Pull_List.txt\",\"r\") as pull_file:\n",
    "    analysis_pull_list = pull_file.read().splitlines()\n",
    "i=0\n",
    "for subname in analysis_pull_list:\n",
    "    data_path = PATH+f'\\\\Subjects_Analyzed\\\\{subname}\\\\'\n",
    "    if not os.path.exists(data_path):\n",
    "        os.makedirs(data_path)\n",
    "    print(subname)\n",
    "    pickle.dump(washout_data[i,:,:,:,:], open(data_path + f'{subname}_washout_data.pkl', 'wb'))\n",
    "    pickle.dump(player_washout_decision_time[i,:], open(data_path + f'{subname}_player_washout_decision_time.pkl', 'wb'))\n",
    "    pickle.dump(player_washout_decision_array[i,:], open(data_path + f'{subname}_player_washout_decision_array.pkl', 'wb'))\n",
    "    pickle.dump(player_washout_movement_time[i,:], open(data_path + f'{subname}_player_washout_movement_time.pkl', 'wb'))\n",
    "    pickle.dump(player_washout_reach_time[i,:], open(data_path + f'{subname}_player_washout_reach_time.pkl', 'wb'))\n",
    "    pickle.dump(agent_washout_decision_time[i,:], open(data_path + f'{subname}_agent_washout_decision_time.pkl', 'wb'))\n",
    "    pickle.dump(agent_washout_decision_array[i,:], open(data_path + f'{subname}_agent_washout_decision_array.pkl', 'wb'))\n",
    "    pickle.dump(agent_washout_reach_time[i,:], open(data_path + f'{subname}_agent_washout_reach_time.pkl', 'wb'))"
   ]
  },
  {
   "cell_type": "markdown",
   "metadata": {},
   "source": [
    "Keep Order That Participants Did Condition"
   ]
  },
  {
   "cell_type": "code",
   "execution_count": null,
   "metadata": {},
   "outputs": [],
   "source": []
  },
  {
   "cell_type": "code",
   "execution_count": null,
   "metadata": {},
   "outputs": [],
   "source": []
  },
  {
   "cell_type": "code",
   "execution_count": null,
   "metadata": {},
   "outputs": [],
   "source": []
  },
  {
   "cell_type": "code",
   "execution_count": null,
   "metadata": {},
   "outputs": [],
   "source": []
  },
  {
   "cell_type": "markdown",
   "metadata": {},
   "source": [
    "Use event codes to get wins and indecisions"
   ]
  },
  {
   "cell_type": "code",
   "execution_count": 54,
   "metadata": {},
   "outputs": [],
   "source": [
    "# # Use event codes to find number of wins and indecisions\n",
    "# #%% Extract Hand Position data\n",
    "# for w in range(num_subjects): #len(pull_list)):\n",
    "#     print(w)\n",
    "#     sub_name = analysis_pull_list_task[w]\n",
    "#     print(sub_name)\n",
    "#     path1 = PATH+'\\\\'+sub_name\n",
    "#     file = path1+f'\\\\{sub_name}Trial_Table.csv'\n",
    "#     task_trial_table = pd.read_csv(file)\n",
    "#     task_trial_table = task_trial_table.loc[task_trial_table['TP_Row']>=3]\n",
    "#     for i in tqdm((range(tot_trials))):\n",
    "#         block_number = task_trial_table.iloc[i]['Block_Row']\n",
    "#         tp_num = task_trial_table.iloc[i]['TP_Row']\n",
    "#         block_trial_num = task_trial_table.iloc[i]['Block_Step']\n",
    "#         x = tp_num - 3 #used for indexing, subtraction number needs to change to 1 if I start with TP1 \n",
    "#         c = block_trial_num - 1 #used for indexing, block trial number starts with 1\n",
    "#         filename = PATH+f\"\\\\{sub_name}\\\\Seth_MatchPennies_Agent_Pilot_v3_{sub_name}_C{block_number}_TP{tp_num}_T{block_trial_num}.csv\"\n",
    "#         filename_storage[w,x,c] = filename\n",
    "#         data = pd.read_csv(filename, low_memory=False) #read in data\n",
    "#         #Create start time and max end time array\n",
    "#         score_index = int(data[data['Event_Codes']=='E_END_TRIAL'].index[0]) \n",
    "#         trial_start[w,x,c]= int(data[data['Event_Codes']==list_event_codes[0]].index[0]) #if event codes column is equal to the list event codes, give the index (time)\n",
    "#         trial_start = trial_start.astype(int)\n",
    "#         end_time = trial_start[w,x,c]+2000\n",
    "#         agent_target_select_index = int(data[data['Event_Codes']=='E_END_TRIAL'].index[0]) \n",
    "#         # Get Agent mean reach time... data starts at next index from E_SOUNG_SIGNAL aka trial_start\n",
    "#         agent_decision_time[w,x,c] = data.iloc[trial_start[w,x,c]+1]['Agent_Reach_Time'] #CALLED AGENT REACH TIME BUT IT'S NOW DECISION TIME IN V3\n",
    "#         agent_decision_array[w,x,c] = data.iloc[agent_target_select_index]['Agent_decision_array']\n",
    "#         agent_indecision_index = np.argwhere(agent_decision_time+150>1500)\n",
    "#         for i,j,k in agent_indecision_index:\n",
    "#             agent_decision_array[i,j,k] = 0\n",
    "#         data = np.array(data)\n",
    "#         event_codes[w,x,c,:] = data[trial_start[w,x,c]:end_time,4] # create event codes array\n",
    "#         hand_data = data[:,0:4] # data is only columns 0 thru 3 (RHX,RHY,LHX,LHY)\n",
    "#         hand_data = hand_data.astype(float)\n",
    "#         hand_pos_data[w,x,c,:,:] = hand_data[trial_start[w,x,c]:end_time,:]\n",
    "        \n",
    "#         # If you want the scores\n",
    "#         # scoreA = data[score_index, 4]\n",
    "#         # scoreB = data[score_index, 5]\n",
    "#         # if scoreA == 1:\n",
    "#         #     win_check_R[w,x]+=1\n",
    "#         # if scoreB == 1:\n",
    "#         #     win_check_L[w,x]+=1\n",
    "#         # print(filename)\n",
    "#         # print(data[trial_start[w,x,c]:end_time,:])\n",
    "#         #------------------------------------------------------------------\n",
    "           \n",
    "#         # LEFT HAND\n",
    "#         lhx = hand_pos_data[w,x,c,:,2]\n",
    "#         lhy = hand_pos_data[w,x,c,:,3]\n",
    "#         q = np.argwhere(np.sqrt((lhx-target3x)**2 + (lhy-target3y)**2) < target3_radius/2)\n",
    "#         r = np.argwhere(np.sqrt((lhx-target4x)**2 + (lhy-target4y)**2) < target4_radius/2) \n",
    "#         s = np.argwhere(np.sqrt((lhx-start2x)**2 + (lhy-start2y)**2) > start2_radius/2)\n",
    "#         if np.size(s)>0: \n",
    "#             player_decision_time[w,x,c] = s[0]\n",
    "#         if np.size(q)>0: #if LH enters right target\n",
    "#             player_decision_array[w,x,c] = 1\n",
    "#             player_reach_time[w,x,c] = q[0]\n",
    "#         elif np.size(r)>0: #if LH enters left target\n",
    "#             player_decision_array[w,x,c] = -1   \n",
    "#             player_reach_time[w,x,c] = r[0]\n",
    "            \n",
    "#         if player_reach_time[w,x,c] > 1500 or np.isnan(player_reach_time[w,x,c]):\n",
    "#             player_decision_array[w,x,c] = 0"
   ]
  }
 ],
 "metadata": {
  "kernelspec": {
   "display_name": "Python 3.9.12 ('base')",
   "language": "python",
   "name": "python3"
  },
  "language_info": {
   "codemirror_mode": {
    "name": "ipython",
    "version": 3
   },
   "file_extension": ".py",
   "mimetype": "text/x-python",
   "name": "python",
   "nbconvert_exporter": "python",
   "pygments_lexer": "ipython3",
   "version": "3.9.12"
  },
  "orig_nbformat": 4,
  "vscode": {
   "interpreter": {
    "hash": "1a00c1525417994d84940f6a64b96d4df953e4f0863c4f32c2c802abdf8195ff"
   }
  }
 },
 "nbformat": 4,
 "nbformat_minor": 2
}
