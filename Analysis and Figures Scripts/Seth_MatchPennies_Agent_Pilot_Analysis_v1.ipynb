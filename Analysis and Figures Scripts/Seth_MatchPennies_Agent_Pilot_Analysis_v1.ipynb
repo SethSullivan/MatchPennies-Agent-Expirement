{
 "cells": [
  {
   "cell_type": "code",
   "execution_count": 77,
   "metadata": {},
   "outputs": [],
   "source": [
    "import pandas as pd\n",
    "from matplotlib import pyplot as plt\n",
    "import numpy as np\n",
    "import glob\n",
    "import os\n",
    "import math\n",
    "from os import listdir\n",
    "import data_visualization as dv\n",
    "import pickle\n",
    "import scipy \n",
    "from scipy.stats import norm\n",
    "from scipy import stats\n",
    "from tqdm import tqdm "
   ]
  },
  {
   "cell_type": "code",
   "execution_count": 78,
   "metadata": {},
   "outputs": [],
   "source": [
    "# Fields pull and pull list\n",
    "experiment1 = 1\n",
    "if experiment1==1:\n",
    "    os.chdir('D:\\Subject_Data\\Seth_MatchPennies_Agent_Pilot_v1')\n",
    "PATH = os.getcwd()\n",
    "analysis_pull_list = []\n",
    "analysis_pull_list_react = []\n",
    "analysis_pull_list_task = []\n",
    "fields_pull = []\n",
    "with open(PATH+\"\\\\Analysis_Pull_List_React.txt\",\"r\") as pull_file:\n",
    "    analysis_pull_list = pull_file.read().splitlines()\n",
    "with open(PATH+\"\\\\Analysis_Pull_List_React.txt\",\"r\") as pull_file:\n",
    "    analysis_pull_list_react = pull_file.read().splitlines()\n",
    "with open(PATH+\"\\\\Analysis_Pull_List_Task.txt\",\"r\") as pull_file:\n",
    "    analysis_pull_list_task = pull_file.read().splitlines()\n",
    "with open(PATH+\"\\\\Fields_Pull.txt\",\"r\") as fields_pull:\n",
    "    fields_pull = fields_pull.read().splitlines()  \n",
    "\n",
    "# SPECIFIC TO EXPERIMENT    \n",
    "reaction_trials = 50\n",
    "timing_trials = 50   \n",
    "reaction_timing_trials = reaction_trials + timing_trials\n",
    "num_trials = 80 #number of trials in each block \n",
    "num_blocks = 8\n",
    "tot_trials = (num_trials*num_blocks)\n",
    "data_columns = len(fields_pull)\n",
    "trial_time = 1500\n",
    "num_subjects = len(analysis_pull_list_react)\n",
    "\n",
    "# Need to be kept outside subject for-loop\n",
    "trial_end = np.zeros([num_subjects,num_blocks,num_trials,2])*np.nan \n",
    "trial_start = np.zeros((num_subjects,num_blocks,num_trials))*np.nan \n",
    "filename_storage = np.empty((num_subjects,num_blocks,num_trials), dtype = object)\n",
    "csv_files = np.empty((num_subjects,tot_trials), dtype = object)  \n",
    "csv_block_ordered = np.empty((num_subjects, num_blocks, num_trials))\n",
    "\n",
    "\n",
    "player_decision_array = np.empty((num_subjects,num_blocks,num_trials))     \n",
    "player_reach_time = np.zeros([num_subjects,num_blocks,num_trials])*np.nan \n",
    "player_left_start_time = np.zeros([num_subjects,num_blocks,num_trials])*np.nan \n",
    "\n",
    "hand_pos_data = np.zeros((num_subjects, num_blocks, num_trials, trial_time+500, 4))*np.nan\n",
    "\n",
    "event_codes = np.empty((num_subjects, num_blocks, num_trials, trial_time+500), str)\n",
    "list_event_codes = [\"E_SOUND_SIGNAL\",\"E_END_REACHED_A\", \"E_END_REACHED_B\"] \n",
    "tp_list = (\"TP4\",\"TP3\",\"TP2\")\n",
    "scanned_files = []\n",
    "\n",
    "win_check_R = np.zeros((num_subjects,num_blocks))\n",
    "win_check_L = np.zeros((num_subjects,num_blocks))\n",
    "num_miss_check_R = np.zeros((num_subjects,num_blocks))\n",
    "num_miss_check_L = np.zeros((num_subjects,num_blocks))\n",
    "\n",
    "rt_decision_array = np.empty((num_subjects,reaction_trials))  \n",
    "rmt_decision_array = np.empty((num_subjects,reaction_trials))  \n",
    "rt_trial_start = np.zeros((num_subjects,reaction_trials))*np.nan \n",
    "reaction_movement_time = np.zeros([num_subjects,reaction_trials])*np.nan \n",
    "reaction_time = np.zeros([num_subjects,reaction_trials])*np.nan \n",
    "timing_reach_time = np.zeros([num_subjects,timing_trials])*np.nan \n",
    "rt_hand_pos_data = np.zeros((num_subjects, reaction_timing_trials, trial_time+1000, 4))*np.nan\n",
    "\n",
    "#########\n",
    "agent_reach_time = np.zeros((num_subjects,num_blocks,num_trials))\n",
    "agent_target_selection = np.zeros((num_subjects,num_blocks,num_trials))\n",
    "\n",
    "## Target information for Right Hand\n",
    "start1x = 0.55\n",
    "start1y = 0.15\n",
    "start1_diameter = 0.015\n",
    "target1x = 0.6611\n",
    "target1y= 0.31664\n",
    "t1_pos = np.sqrt(target1x**2 + target1y**2)\n",
    "target1_diameter = 0.08\n",
    "\n",
    "target2x = 2*start1x - target1x\n",
    "target2y = 0.31664\n",
    "t2_pos = np.sqrt(target2x**2 + target2y**2)\n",
    "target2_diameter = 0.08\n",
    "\n",
    "## for Left Hand\n",
    "start2x = -0.55\n",
    "start2y = 0.15\n",
    "start2_diameter = 0.015\n",
    "\n",
    "target3x = target1x - 2*start1x\n",
    "target3y = 0.31664\n",
    "t3_pos = np.sqrt(target3x**2 + target3y**2)\n",
    "target3_diameter = 0.08\n",
    "\n",
    "target4x = 2*start2x - target3x\n",
    "target4y = 0.3\n",
    "t4_pos = np.sqrt(target4x**2 + target4y**2)\n",
    "target4_diameter = 0.08\n",
    "\n",
    "# Timing target\n",
    "timing_targetx = start2x\n",
    "timing_targety = 0.31664\n",
    "timing_target_pos = np.sqrt(timing_targetx**2 + timing_targety**2)\n",
    "timing_target_diameter = 0.08"
   ]
  },
  {
   "cell_type": "code",
   "execution_count": 79,
   "metadata": {},
   "outputs": [
    {
     "name": "stdout",
     "output_type": "stream",
     "text": [
      "0\n",
      "1\n",
      "2\n",
      "0\n",
      "1\n",
      "2\n"
     ]
    }
   ],
   "source": [
    "#%% Get trial table for reaction and timing\n",
    "reaction_timing_trial_table = np.empty((num_subjects, reaction_timing_trials, 4), int)\n",
    "task_trial_table = np.empty((num_subjects, tot_trials, 4))\n",
    "for w in range(len(analysis_pull_list_react)): #len(pull_list)):\n",
    "    print(w)\n",
    "    sub_name = analysis_pull_list_react[w]\n",
    "    path1 = PATH+'\\\\'+sub_name\n",
    "    file = path1+f'\\\\{sub_name}Trial_Table.csv'\n",
    "    df = pd.read_csv(file)\n",
    "\n",
    "    df = df.loc[df['TP_Row']<3]\n",
    "    reaction_timing_trial_table[w,:,:] = df[['Trial_Num','Block_Row','Block_Step','TP_Row']]\n",
    "\n",
    "#%% Get trial table for task\n",
    "for w in range(len(analysis_pull_list_task)): #len(pull_list)):\n",
    "    print(w)\n",
    "    sub_name = analysis_pull_list_task[w]\n",
    "    path1 = PATH+'\\\\'+sub_name\n",
    "    df = pd.read_csv(path1+f'\\\\{sub_name}Trial_Table.csv')\n",
    "    df = df.loc[df['TP_Row']>=3]\n",
    "    task_trial_table[w,:,:] = df[['Trial_Num','Block_Row','Block_Step','TP_Row']]"
   ]
  },
  {
   "cell_type": "code",
   "execution_count": 80,
   "metadata": {},
   "outputs": [
    {
     "name": "stdout",
     "output_type": "stream",
     "text": [
      "0 Sub1_React\n"
     ]
    },
    {
     "name": "stderr",
     "output_type": "stream",
     "text": [
      "100%|██████████| 100/100 [00:03<00:00, 29.98it/s]\n"
     ]
    },
    {
     "name": "stdout",
     "output_type": "stream",
     "text": [
      "1 Sub3_React\n"
     ]
    },
    {
     "name": "stderr",
     "output_type": "stream",
     "text": [
      "100%|██████████| 100/100 [00:03<00:00, 30.80it/s]\n"
     ]
    },
    {
     "name": "stdout",
     "output_type": "stream",
     "text": [
      "2 Sub4_React\n"
     ]
    },
    {
     "name": "stderr",
     "output_type": "stream",
     "text": [
      "100%|██████████| 100/100 [00:03<00:00, 28.94it/s]\n"
     ]
    }
   ],
   "source": [
    "#%% Get reaction time data\n",
    "for w in range(num_subjects):\n",
    "    sub_name = analysis_pull_list_react[w]\n",
    "    print(w, sub_name)\n",
    "    block_number = 1\n",
    "    tp_num = 1\n",
    "    sub_name = analysis_pull_list_react[w]\n",
    "    path1 = PATH+'\\\\'+sub_name\n",
    "    file = path1+f'\\\\{sub_name}Trial_Table.csv'\n",
    "    reaction_timing_trial_table = pd.read_csv(file)\n",
    "    for i in tqdm((range(reaction_timing_trials))):\n",
    "        block_number = reaction_timing_trial_table.iloc[i]['Block_Row']\n",
    "        tp_num = reaction_timing_trial_table.iloc[i]['TP_Row']\n",
    "        block_trial_num = reaction_timing_trial_table.iloc[i]['Block_Step']\n",
    "        x = tp_num - 1\n",
    "        c = block_trial_num - 1\n",
    "        filename = PATH+f\"\\\\{sub_name}\\\\Seth_MatchPennies_Agent_Pilot_v1_{sub_name}_C{block_number}_TP{tp_num}_T{block_trial_num}.csv\"\n",
    "\n",
    "        data = pd.read_csv(filename, low_memory=False)\n",
    "        rt_trial_start[w,c]= int(data[data['Event_Codes']=='E_SOUND_SIGNAL'].index[0]) #if event codes column is equal to the list event codes, give the index (time)\n",
    "        rt_trial_start = rt_trial_start.astype(int)\n",
    "        end_time = rt_trial_start[w,c]+2500\n",
    "\n",
    "        data = np.array(data)\n",
    "        hand_data = data[:,0:4] # data is only columns 0 thru 3 (RHX,RHY,LHX,LHY)\n",
    "        hand_data = hand_data.astype(float)\n",
    "        rt_hand_pos_data[w,c,:,:] = hand_data[rt_trial_start[w,c]:end_time,:]\n",
    "         # LEFT HAND\n",
    "        lhx = rt_hand_pos_data[w,c,:,2]\n",
    "        lhy = rt_hand_pos_data[w,c,:,3]\n",
    "        if tp_num == 1:\n",
    "            q = np.argwhere(np.sqrt((lhx-target3x)**2 + (lhy-target3y)**2) < target3_diameter/2)\n",
    "            r = np.argwhere(np.sqrt((lhx-target4x)**2 + (lhy-target4y)**2) < target4_diameter/2) \n",
    "            s = np.argwhere(np.sqrt((lhx-start2x)**2 + (lhy-start2y)**2) > start2_diameter/2)\n",
    "            if np.size(s)>0: \n",
    "                reaction_time[w,c] = s[0]\n",
    "            if np.size(q)>0: #if LH enters right target\n",
    "                rmt_decision_array[w,c] = 1\n",
    "                reaction_movement_time[w,c] = q[0]\n",
    "            elif np.size(r)>0: #if LH enters left target\n",
    "                rmt_decision_array[w,c] = -1   \n",
    "                reaction_movement_time[w,c] = r[0]\n",
    "        if tp_num == 2:\n",
    "            q = np.argwhere(np.sqrt((lhx-timing_targetx)**2 + (lhy-timing_targety)**2) < timing_target_diameter/2) # THIS NEEDS TO BE THE CENTER TARGET... x poisition should be the start\n",
    "            if np.size(q)>0:\n",
    "                timing_reach_time[w,c] = q[0]\n"
   ]
  },
  {
   "cell_type": "code",
   "execution_count": 81,
   "metadata": {},
   "outputs": [
    {
     "name": "stdout",
     "output_type": "stream",
     "text": [
      "0\n",
      "Sub1_Task\n"
     ]
    },
    {
     "name": "stderr",
     "output_type": "stream",
     "text": [
      " 89%|████████▉ | 570/640 [00:09<00:01, 59.74it/s]"
     ]
    }
   ],
   "source": [
    "#%% Extract Hand Position data\n",
    "for w in range(num_subjects): #len(pull_list)):\n",
    "    print(w)\n",
    "    sub_name = analysis_pull_list_task[w]\n",
    "    print(sub_name)\n",
    "    path1 = PATH+'\\\\'+sub_name\n",
    "    file = path1+f'\\\\{sub_name}Trial_Table.csv'\n",
    "    task_trial_table = pd.read_csv(file)\n",
    "    task_trial_table = task_trial_table.loc[df['TP_Row']>=3]\n",
    "    for i in tqdm((range(tot_trials))):\n",
    "        block_number = task_trial_table.iloc[i]['Block_Row']\n",
    "        tp_num = task_trial_table.iloc[i]['TP_Row']\n",
    "        block_trial_num = task_trial_table.iloc[i]['Block_Step']\n",
    "        x = tp_num - 3 #used for indexing, subtraction number needs to change to 1 if I start with TP1 \n",
    "        c = block_trial_num - 1 #used for indexing, block trial number starts with 1\n",
    "        # if tp_num[i] != tp_num[i-1] and i>0:\n",
    "        #     print(x)\n",
    "        \n",
    "        filename = PATH+f\"\\\\{sub_name}\\\\Seth_MatchPennies_Agent_Pilot_v1_{sub_name}_C{block_number}_TP{tp_num}_T{block_trial_num}.csv\"\n",
    "        filename_storage[w,x,c] = filename\n",
    "        data = pd.read_csv(filename, low_memory=False) #read in data\n",
    "        #Create start time and max end time array\n",
    "        score_index = int(data[data['Event_Codes']=='E_END_TRIAL'].index[0]) \n",
    "        trial_start[w,x,c]= int(data[data['Event_Codes']==list_event_codes[0]].index[0]) #if event codes column is equal to the list event codes, give the index (time)\n",
    "        trial_start = trial_start.astype(int)\n",
    "        end_time = trial_start[w,x,c]+2000\n",
    "        agent_target_select_index = int(data[data['Event_Codes']=='E_END_TRIAL'].index[0]) \n",
    "        # Get Agent mean reach time... data starts at next index from E_SOUNG_SIGNAL aka trial_start\n",
    "        agent_reach_time[w,x,c] = data.iloc[trial_start[w,x,c]+1]['Agent_Reach_Time']\n",
    "        agent_target_selection[w,x,c] = data.iloc[agent_target_select_index]['Agent_Target_Selection']\n",
    "        agent_indecision_index = np.argwhere(agent_reach_time>1500)\n",
    "        for i,j,k in agent_indecision_index:\n",
    "            agent_target_selection[i,j,k] =0\n",
    "        data = np.array(data)\n",
    "        event_codes[w,x,c,:] = data[trial_start[w,x,c]:end_time,4] # create event codes array\n",
    "        hand_data = data[:,0:4] # data is only columns 0 thru 3 (RHX,RHY,LHX,LHY)\n",
    "        hand_data = hand_data.astype(float)\n",
    "        hand_pos_data[w,x,c,:,:] = hand_data[trial_start[w,x,c]:end_time,:]\n",
    "        \n",
    "        # If you want the scores\n",
    "        # scoreA = data[score_index, 4]\n",
    "        # scoreB = data[score_index, 5]\n",
    "        # if scoreA == 1:\n",
    "        #     win_check_R[w,x]+=1\n",
    "        # if scoreB == 1:\n",
    "        #     win_check_L[w,x]+=1\n",
    "        # print(filename)\n",
    "        # print(data[trial_start[w,x,c]:end_time,:])\n",
    "        #------------------------------------------------------------------\n",
    "        # # RIGHT HAND\n",
    "        # rhx1 = data[trial_start[w,x,c]:end_time,0]\n",
    "        # rhy1 = data[trial_start[w,x,c]:end_time,1]\n",
    "        # rhx = hand_pos_data[w,x,c,:,0]\n",
    "        # rhy = hand_pos_data[w,x,c,:,1]\n",
    "        # if np.any(rhx1 != rhx) or np.any(rhy1 !=rhy):\n",
    "        #     print(\"fail\")\n",
    "        # z = np.argwhere(np.sqrt((rhx-target1x)**2 + (rhy-target1y)**2) < target1_diameter/2)\n",
    "        # t = np.argwhere(np.sqrt((rhx-target2x)**2 + (rhy-target2y)**2) < target2_diameter/2)\n",
    "        # if np.size(z)>0: #if RH enters right target\n",
    "        #     player_decision_array[w,x,c] = 1\n",
    "        #     target_reached_R[w,x,c] = z[0]\n",
    "        \n",
    "        # elif np.size(t)>0: #if RH enters left target\n",
    "        #     player_decision_array[w,x,c] = -1\n",
    "        #     target_reached_R[w,x,c] = t[0]\n",
    "        # else: #No decision\n",
    "        #     player_decision_array[w,x,c] = 0\n",
    "        #     num_miss[w,x,0] = num_miss[w,x,0] + 1\n",
    "           \n",
    "        # LEFT HAND\n",
    "        lhx = hand_pos_data[w,x,c,:,2]\n",
    "        lhy = hand_pos_data[w,x,c,:,3]\n",
    "        q = np.argwhere(np.sqrt((lhx-target3x)**2 + (lhy-target3y)**2) < target3_diameter/2)\n",
    "        r = np.argwhere(np.sqrt((lhx-target4x)**2 + (lhy-target4y)**2) < target4_diameter/2) \n",
    "        s = np.argwhere(np.sqrt((lhx-start2x)**2 + (lhy-start2y)**2) > start2_diameter/2)\n",
    "        if np.size(s)>0: \n",
    "            player_left_start_time[w,x,c] = s[0]\n",
    "        if np.size(q)>0: #if LH enters right target\n",
    "            player_decision_array[w,x,c] = 1\n",
    "            player_reach_time[w,x,c] = q[0]\n",
    "        elif np.size(r)>0: #if LH enters left target\n",
    "            player_decision_array[w,x,c] = -1   \n",
    "            player_reach_time[w,x,c] = r[0]\n",
    "            \n",
    "        if player_reach_time[w,x,c] > 1500 or np.isnan(player_reach_time[w,x,c]):\n",
    "            player_decision_array[w,x,c] = 0\n",
    "        # if w == 0 and x == 2 and c ==95:   \n",
    "        #     lhx_new = hand_pos_data[w,x,c,:1500,2]\n",
    "        #     lhy_new = hand_pos_data[w,x,c,:1500,3]\n",
    "        #     #plot path for TargetNotReached\n",
    "        #     #plt.figure(dpi=300)\n",
    "        #     circleR = plt.Circle((target1x,target1y), target1_diameter/2, color = 'r', fill = False)\n",
    "        #     circleL = plt.Circle((target2x,target2y), target2_diameter/2, color = 'r', fill = False)\n",
    "        #     fig, ax = plt.subplots()\n",
    "        #     ax.add_patch(circleR)\n",
    "        #     ax.add_patch(circleL)\n",
    "        #     plt.plot(lhx_new*-1,lhy_new) \n",
    "            \n",
    "        #     plt.title(\"w =%1.0f \" %w + \"x=%1.0f \"%x + \"c=%1.0f\"%c)\n",
    "        #     plt.show()"
   ]
  },
  {
   "cell_type": "code",
   "execution_count": null,
   "metadata": {},
   "outputs": [],
   "source": [
    "# Win, Loss, Indecision counts\n",
    "# Make sure agent_target_selection replaces 2 with -1 from the first pilot\n",
    "agent_target_selection = np.where(agent_target_selection ==2,-1,agent_target_selection)\n",
    "\n",
    "player_indecisions = np.zeros((num_subjects, num_blocks))\n",
    "player_wins = np.zeros((num_subjects, num_blocks))\n",
    "player_incorrect_decisions = np.zeros((num_subjects,num_blocks))\n",
    "for i in range(num_subjects):\n",
    "    for j in range(num_blocks):\n",
    "        player_indecisions[i,j] = np.count_nonzero(player_decision_array[i,j,:] == 0)\n",
    "        player_wins[i,j] = np.count_nonzero(np.logical_and(player_decision_array[i,j,:] == 1 , agent_target_selection[i,j,:] == 1))\n",
    "        player_wins[i,j]+= np.count_nonzero(np.logical_and(player_decision_array[i,j,:] == -1 , agent_target_selection[i,j,:] == -1))\n",
    "        player_wins[i,j]+= np.count_nonzero(np.logical_and(player_decision_array[i,j,:] == -1 , agent_target_selection[i,j,:] == 0))\n",
    "        player_wins[i,j]+= np.count_nonzero(np.logical_and(player_decision_array[i,j,:] == 1 , agent_target_selection[i,j,:] == 0))\n",
    "        player_incorrect_decisions[i,j] = np.count_nonzero(np.logical_and(player_decision_array[i,j,:] == 1 , agent_target_selection[i,j,:] == -1))\n",
    "        player_incorrect_decisions[i,j] += np.count_nonzero(np.logical_and(player_decision_array[i,j,:] == -1 , agent_target_selection[i,j,:] == 1))\n",
    "        player_indecisions[i,j] = np.count_nonzero(player_decision_array[i,j,:] == 0)\n",
    "perc_player_indecisions = (player_indecisions / num_trials)*100\n",
    "perc_player_wins = (player_wins / num_trials)*100"
   ]
  },
  {
   "cell_type": "code",
   "execution_count": null,
   "metadata": {},
   "outputs": [
    {
     "name": "stdout",
     "output_type": "stream",
     "text": [
      "Sub1\n",
      "Sub3\n",
      "Sub4\n"
     ]
    }
   ],
   "source": [
    "# Pickle\n",
    "analysis_pull_list = []\n",
    "with open(PATH+\"\\\\Analysis_Pull_List.txt\",\"r\") as pull_file:\n",
    "    analysis_pull_list = pull_file.read().splitlines()\n",
    "i=0\n",
    "for subname in analysis_pull_list:\n",
    "    data_path = PATH+f'\\\\Subjects_Analyzed\\\\{subname}\\\\'\n",
    "    if not os.path.exists(data_path):\n",
    "        os.makedirs(data_path)\n",
    "    print(subname)\n",
    "    # Reaction time \n",
    "    pickle.dump(rt_trial_start[i,:], open(data_path + f'{subname}_rt_trial_start.pkl', 'wb'))\n",
    "    pickle.dump(reaction_movement_time[i,:], open(data_path + f'{subname}_reaction_movement_time.pkl', 'wb'))\n",
    "    pickle.dump(reaction_time[i,:], open(data_path + f'{subname}_reaction_time.pkl', 'wb'))\n",
    "    pickle.dump(rmt_decision_array[i,:], open(data_path + f'{subname}_rmt_decision_array.pkl', 'wb'))\n",
    "    # Timing\n",
    "    pickle.dump(timing_reach_time[i,:], open(data_path + f'{subname}_timing_reach_time.pkl', 'wb'))\n",
    "    # Hand position thangs\n",
    "    pickle.dump(player_indecisions[i,:],open(data_path + f'{subname}_player_indecisions.pkl', 'wb')) #\n",
    "    pickle.dump(player_wins[i,:],open(data_path + f'{subname}_player_wins.pkl', 'wb'))\n",
    "    pickle.dump(perc_player_indecisions[i,:],open(data_path + f'{subname}_perc_player_indecisions.pkl', 'wb')) #\n",
    "    pickle.dump(perc_player_wins[i,:],open(data_path + f'{subname}_perc_player_wins.pkl', 'wb'))\n",
    "    pickle.dump(hand_pos_data[i,:,:,:,:], open(data_path + f'{subname}_hand_pos_data.pkl', 'wb'))\n",
    "    pickle.dump(trial_start[i,:,:], open(data_path + f'{subname}_trial_start.pkl', 'wb'))\n",
    "    pickle.dump(player_reach_time[i,:,:], open(data_path + f'{subname}_player_reach_time.pkl', 'wb'))   \n",
    "    #pickle.dump(trial_table[i,:,:], open(data_path + f'{subname}_trial_table.pkl', 'wb'))\n",
    "    pickle.dump(player_decision_array[i,:,:], open(data_path + f'{subname}_player_decision_array.pkl', 'wb'))\n",
    "    pickle.dump(player_incorrect_decisions[i,:], open(data_path + f'{subname}_player_incorrect_decisions.pkl', 'wb'))\n",
    "    pickle.dump(player_left_start_time[i,:,:], open(data_path + f'{subname}_player_left_start_time.pkl', 'wb'))\n",
    "    pickle.dump(player_decision_array[i,:,:], open(data_path + f'{subname}_player_decision_array.pkl', 'wb'))\n",
    "    \n",
    "    # Agent stuff\n",
    "    pickle.dump(agent_target_selection[i,:,:],open(data_path + f'{subname}_agent_target_selection.pkl', 'wb'))\n",
    "    pickle.dump(agent_reach_time[i,:,:],open(data_path + f'{subname}_agent_reach_time.pkl', 'wb'))\n",
    "\n",
    "    i += 1         "
   ]
  },
  {
   "cell_type": "code",
   "execution_count": null,
   "metadata": {},
   "outputs": [
    {
     "data": {
      "text/plain": [
       "(3, 50)"
      ]
     },
     "execution_count": 64,
     "metadata": {},
     "output_type": "execute_result"
    }
   ],
   "source": [
    "np.shape(reaction_movement_time)\n"
   ]
  },
  {
   "cell_type": "code",
   "execution_count": null,
   "metadata": {},
   "outputs": [],
   "source": []
  }
 ],
 "metadata": {
  "interpreter": {
   "hash": "64a46d0edbada2c3d5c88bebb80422636c3e61e7e47fea1274bd295f450d6956"
  },
  "kernelspec": {
   "display_name": "Python 3.8.8 ('base')",
   "language": "python",
   "name": "python3"
  },
  "language_info": {
   "codemirror_mode": {
    "name": "ipython",
    "version": 3
   },
   "file_extension": ".py",
   "mimetype": "text/x-python",
   "name": "python",
   "nbconvert_exporter": "python",
   "pygments_lexer": "ipython3",
   "version": "3.8.8"
  },
  "orig_nbformat": 4
 },
 "nbformat": 4,
 "nbformat_minor": 2
}
