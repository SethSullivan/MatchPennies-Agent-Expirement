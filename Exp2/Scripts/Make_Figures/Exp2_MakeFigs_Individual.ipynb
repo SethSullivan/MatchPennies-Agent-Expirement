{
 "cells": [
  {
   "cell_type": "code",
   "execution_count": 2,
   "metadata": {},
   "outputs": [
    {
     "data": {
      "text/plain": [
       "'\\nThis make figs script uses the objects instead of pickling and calculating like v1\\n'"
      ]
     },
     "execution_count": 2,
     "metadata": {},
     "output_type": "execute_result"
    }
   ],
   "source": [
    "import pandas as pd\n",
    "from matplotlib import pyplot as plt\n",
    "import matplotlib\n",
    "import numpy as np\n",
    "import glob\n",
    "import os\n",
    "import math\n",
    "from os import listdir\n",
    "import data_visualization as dv\n",
    "import dill\n",
    "import scipy \n",
    "from scipy.stats import norm\n",
    "from scipy import stats\n",
    "import random\n",
    "import sys\n",
    "import importlib\n",
    "'''\n",
    "This make figs script uses the objects instead of pickling and calculating like v1\n",
    "'''"
   ]
  },
  {
   "cell_type": "code",
   "execution_count": 3,
   "metadata": {},
   "outputs": [],
   "source": [
    "sys.path.insert(0,r'D:\\OneDrive - University of Delaware - o365\\Desktop\\MatchPennies-Agent-Expirement\\Exp2\\Scripts\\Analysis_and_Statistics')\n",
    "sys.path.insert(0,r'D:\\OneDrive - University of Delaware - o365\\Desktop\\MatchPennies-Agent-Expirement')\n",
    "import plot_functions \n",
    "import Exp2_Subject_Object\n",
    "importlib.reload(Exp2_Subject_Object)\n",
    "from Exp2_Subject_Object import *\n",
    "importlib.reload(plot_functions)\n",
    "import plot_functions as pf"
   ]
  },
  {
   "cell_type": "markdown",
   "metadata": {},
   "source": [
    "## Initial Thangs"
   ]
  },
  {
   "cell_type": "code",
   "execution_count": 4,
   "metadata": {},
   "outputs": [
    {
     "data": {
      "text/plain": [
       "3"
      ]
     },
     "execution_count": 4,
     "metadata": {},
     "output_type": "execute_result"
    }
   ],
   "source": [
    "plt.style.use('cashaback_dark')\n",
    "wheel = dv.ColorWheel()\n",
    "\n",
    "# Initial thangs\n",
    "os.chdir('D:\\OneDrive - University of Delaware - o365\\Subject_Data\\MatchPennies_Agent_Exp2')\n",
    "PATH = os.getcwd()\n",
    "SAVE_PATH = r'C:\\Users\\Seth Sullivan\\OneDrive - University of Delaware - o365\\Desktop\\MatchPennies-Agent-Expirement\\Group_Figures\\Exp1\\\\'\n",
    "if not os.path.exists(SAVE_PATH):\n",
    "    os.makedirs(SAVE_PATH)\n",
    "\n",
    "# Fields pull and pull list\n",
    "figures_pull_list = []\n",
    "figures_pull_list_control = []\n",
    "figures_pull_list_task = []\n",
    "fields_pull = []\n",
    "with open(PATH+\"\\\\Figures_Pull_List.txt\", \"r\") as pull_file:\n",
    "    figures_pull_list = pull_file.read().splitlines()\n",
    "with open(PATH+\"\\\\Fields_Pull.txt\", \"r\") as fields_pull:\n",
    "    fields_pull = fields_pull.read().splitlines()\n",
    "num_subjects = len(figures_pull_list)\n",
    "task_name = 'Seth_MatchPennies_Agent_Exp1'\n",
    "num_subjects"
   ]
  },
  {
   "cell_type": "code",
   "execution_count": 5,
   "metadata": {},
   "outputs": [],
   "source": [
    "tp3_title = \"Win = 1\\nIncorrect = 0\\nIndecision = 0\"\n",
    "tp4_title = \"Win = 1\\nIncorrect = -1\\nIndecision = 0\"\n",
    "tp5_title = \"Win = 1\\nIncorrect = 0\\nIndecision = -1\"\n",
    "tp6_title = \"Win = 1\\nIncorrect = -1\\nIndecision = -1\"\n",
    "trial_block_titles = [tp3_title, tp4_title, tp5_title,tp6_title]\n",
    "num_blocks = len(trial_block_titles)"
   ]
  },
  {
   "cell_type": "markdown",
   "metadata": {},
   "source": [
    "## Pickle Objects"
   ]
  },
  {
   "cell_type": "code",
   "execution_count": 6,
   "metadata": {},
   "outputs": [
    {
     "name": "stderr",
     "output_type": "stream",
     "text": [
      "D:\\OneDrive - University of Delaware - o365\\Desktop\\MatchPennies-Agent-Expirement\\Exp2\\Scripts\\Analysis_and_Statistics\\Exp2_Subject_Object.py:274: RuntimeWarning: Mean of empty slice\n",
      "  self.agent_mean_task_leave_time_on_incorrects   = np.nanmean(self.agent_task_leave_time_on_incorrects,axis=1)\n",
      "c:\\Users\\Seth Sullivan\\anaconda3\\envs\\py311\\Lib\\site-packages\\numpy\\lib\\nanfunctions.py:1878: RuntimeWarning: Degrees of freedom <= 0 for slice.\n",
      "  var = nanvar(a, axis=axis, dtype=dtype, out=out, ddof=ddof,\n",
      "D:\\OneDrive - University of Delaware - o365\\Desktop\\MatchPennies-Agent-Expirement\\Exp2\\Scripts\\Analysis_and_Statistics\\Exp2_Subject_Object.py:291: RuntimeWarning: Mean of empty slice\n",
      "  self.player_mean_task_leave_time_on_incorrects   = np.nanmean(self.player_task_leave_time_on_incorrects,axis=1)\n",
      "D:\\OneDrive - University of Delaware - o365\\Desktop\\MatchPennies-Agent-Expirement\\Exp2\\Scripts\\Analysis_and_Statistics\\Exp2_Subject_Object.py:298: RuntimeWarning: Mean of empty slice\n",
      "  self.player_mean_task_reach_time_on_incorrects      = np.nanmean(self.player_task_reach_time_on_incorrects,axis=1)\n",
      "D:\\OneDrive - University of Delaware - o365\\Desktop\\MatchPennies-Agent-Expirement\\Exp2\\Scripts\\Analysis_and_Statistics\\Exp2_Subject_Object.py:516: RuntimeWarning: Mean of empty slice\n",
      "  self.binned_player_task_leave_times_mean            = np.nanmean(self.binned_player_task_leave_times,axis=2) # Mean for each bin, each condition\n",
      "D:\\OneDrive - University of Delaware - o365\\Desktop\\MatchPennies-Agent-Expirement\\Exp2\\Scripts\\Analysis_and_Statistics\\Exp2_Subject_Object.py:517: RuntimeWarning: Mean of empty slice\n",
      "  self.binned_player_minus_agent_task_leave_time_mean = np.nanmean(self.binned_player_minus_agent_task_leave_time,axis=2)\n",
      "D:\\OneDrive - University of Delaware - o365\\Desktop\\MatchPennies-Agent-Expirement\\Exp2\\Scripts\\Analysis_and_Statistics\\Exp2_Subject_Object.py:421: RuntimeWarning: Mean of empty slice\n",
      "  self.player_reaction_leave_time_mean                       = np.nanmean(self.player_reaction_leave_time, axis = 1)\n",
      "c:\\Users\\Seth Sullivan\\anaconda3\\envs\\py311\\Lib\\site-packages\\numpy\\lib\\nanfunctions.py:1217: RuntimeWarning: All-NaN slice encountered\n",
      "  r, k = function_base._ureduce(a, func=_nanmedian, axis=axis, out=out,\n",
      "D:\\OneDrive - University of Delaware - o365\\Desktop\\MatchPennies-Agent-Expirement\\Exp2\\Scripts\\Analysis_and_Statistics\\Exp2_Subject_Object.py:424: RuntimeWarning: Mean of empty slice\n",
      "  self.player_minus_agent_reaction_leave_time_mean           = np.nanmean(self.player_minus_agent_reaction_leave_time, axis = 1)\n",
      "D:\\OneDrive - University of Delaware - o365\\Desktop\\MatchPennies-Agent-Expirement\\Exp2\\Scripts\\Analysis_and_Statistics\\Exp2_Subject_Object.py:425: RuntimeWarning: Mean of empty slice\n",
      "  self.agent_reaction_leave_time_mean                   = np.nanmean(self.agent_reaction_leave_time, axis = 1)\n",
      "D:\\OneDrive - University of Delaware - o365\\Desktop\\MatchPennies-Agent-Expirement\\Exp2\\Scripts\\Analysis_and_Statistics\\Exp2_Subject_Object.py:428: RuntimeWarning: Mean of empty slice\n",
      "  self.player_reaction_reach_time_mean                       = np.nanmean(self.player_reaction_reach_time, axis = 1)\n",
      "D:\\OneDrive - University of Delaware - o365\\Desktop\\MatchPennies-Agent-Expirement\\Exp2\\Scripts\\Analysis_and_Statistics\\Exp2_Subject_Object.py:545: VisibleDeprecationWarning: Creating an ndarray from ragged nested sequences (which is a list-or-tuple of lists-or-tuples-or ndarrays with different lengths or shapes) is deprecated. If you meant to do this, you must specify 'dtype=object' when creating the ndarray.\n",
      "  setattr(self,a,np.array([getattr(o,a) for o in self.objects]))\n"
     ]
    }
   ],
   "source": [
    "NUM_STDS = 2\n",
    "append_dict = {0:'reaction_time_no_sd_off',1:'reaction_time_minus_sd',2:'reaction_time_minus_2sd'}\n",
    "load_path = r'Subjects_Analyzed'\n",
    "group = dill.load((open(load_path + f'\\\\group_object_{append_dict[NUM_STDS]}.pkl', 'rb')))\n",
    "group.analyze_data_v2()"
   ]
  },
  {
   "cell_type": "markdown",
   "metadata": {},
   "source": [
    "## Set Save to True or False"
   ]
  },
  {
   "cell_type": "code",
   "execution_count": 7,
   "metadata": {},
   "outputs": [],
   "source": [
    "save = True"
   ]
  },
  {
   "cell_type": "markdown",
   "metadata": {},
   "source": [
    "Reaction Time Distributions (Group)"
   ]
  },
  {
   "cell_type": "code",
   "execution_count": 17,
   "metadata": {},
   "outputs": [
    {
     "data": {
      "text/plain": [
       "(50,)"
      ]
     },
     "execution_count": 17,
     "metadata": {},
     "output_type": "execute_result"
    }
   ],
   "source": [
    "group.objects[0].gamble_reaction_time_only_gamble.shape"
   ]
  },
  {
   "cell_type": "code",
   "execution_count": 15,
   "metadata": {},
   "outputs": [
    {
     "data": {
      "text/plain": [
       "(3,)"
      ]
     },
     "execution_count": 15,
     "metadata": {},
     "output_type": "execute_result"
    }
   ],
   "source": [
    "group.gamble_reaction_time_only_gamble.shape"
   ]
  },
  {
   "cell_type": "code",
   "execution_count": 18,
   "metadata": {},
   "outputs": [
    {
     "data": {
      "text/plain": [
       "(50,)"
      ]
     },
     "execution_count": 18,
     "metadata": {},
     "output_type": "execute_result"
    }
   ],
   "source": [
    "group.objects[0].react_reaction_time_only_react.shape"
   ]
  },
  {
   "cell_type": "code",
   "execution_count": 21,
   "metadata": {},
   "outputs": [
    {
     "data": {
      "text/plain": [
       "(3, 50)"
      ]
     },
     "execution_count": 21,
     "metadata": {},
     "output_type": "execute_result"
    }
   ],
   "source": [
    "group.react_reaction_time_only_react.shape"
   ]
  },
  {
   "cell_type": "code",
   "execution_count": 9,
   "metadata": {},
   "outputs": [
    {
     "ename": "IndexError",
     "evalue": "too many indices for array: array is 1-dimensional, but 2 were indexed",
     "output_type": "error",
     "traceback": [
      "\u001b[1;31m---------------------------------------------------------------------------\u001b[0m",
      "\u001b[1;31mIndexError\u001b[0m                                Traceback (most recent call last)",
      "Cell \u001b[1;32mIn[9], line 3\u001b[0m\n\u001b[0;32m      1\u001b[0m \u001b[39mfor\u001b[39;00m i \u001b[39min\u001b[39;00m \u001b[39mrange\u001b[39m(num_subjects):\n\u001b[0;32m      2\u001b[0m     fig,axs \u001b[39m=\u001b[39m plt\u001b[39m.\u001b[39msubplots(\u001b[39m2\u001b[39m,\u001b[39m2\u001b[39m,figsize \u001b[39m=\u001b[39m (\u001b[39m6\u001b[39m,\u001b[39m6\u001b[39m))\n\u001b[1;32m----> 3\u001b[0m     reaction_time_list \u001b[39m=\u001b[39m [group\u001b[39m.\u001b[39mreact_reaction_time_only_react[i,:],group\u001b[39m.\u001b[39;49mgamble_reaction_time_only_gamble[i,:],\n\u001b[0;32m      4\u001b[0m                           group\u001b[39m.\u001b[39mreact_reaction_time_mixed[i,:],group\u001b[39m.\u001b[39mgamble_reaction_time_mixed[i,:]]\n\u001b[0;32m      6\u001b[0m     \u001b[39mfor\u001b[39;00m j,ax \u001b[39min\u001b[39;00m \u001b[39menumerate\u001b[39m(axs\u001b[39m.\u001b[39mflatten()):\n\u001b[0;32m      7\u001b[0m         ax\u001b[39m.\u001b[39mhist(reaction_time_list[j] ,bins\u001b[39m=\u001b[39m\u001b[39m20\u001b[39m,density\u001b[39m=\u001b[39m\u001b[39mTrue\u001b[39;00m)\n",
      "\u001b[1;31mIndexError\u001b[0m: too many indices for array: array is 1-dimensional, but 2 were indexed"
     ]
    },
    {
     "data": {
      "image/png": "[encoded data removed]",
      "text/plain": [
       "<Figure size 750x750 with 4 Axes>"
      ]
     },
     "metadata": {},
     "output_type": "display_data"
    }
   ],
   "source": [
    "\n",
    "for i in range(num_subjects):\n",
    "    fig,axs = plt.subplots(2,2,figsize = (6,6))\n",
    "    reaction_time_list = [group.react_reaction_time_only_react[i,:],group.gamble_reaction_time_only_gamble[i,:],\n",
    "                          group.react_reaction_time_mixed[i,:],group.gamble_reaction_time_mixed[i,:]]\n",
    "\n",
    "    for j,ax in enumerate(axs.flatten()):\n",
    "        ax.hist(reaction_time_list[j] ,bins=20,density=True)\n",
    "        ax.set_xlabel('Time (ms)')\n",
    "        ax.set_xlim(100,700)\n",
    "        ax.set_ylim(0,0.03)\n",
    "        \n",
    "    axs[0,0].set_ylabel('Density')\n",
    "    axs[1,0].set_ylabel('Density')\n",
    "    plt.suptitle(f'Subject {i}',fontsize = 12)\n",
    "    plt.tight_layout()\n",
    "    plt.show()"
   ]
  },
  {
   "cell_type": "code",
   "execution_count": null,
   "metadata": {},
   "outputs": [],
   "source": []
  }
 ],
 "metadata": {
  "kernelspec": {
   "display_name": "py311",
   "language": "python",
   "name": "python3"
  },
  "language_info": {
   "codemirror_mode": {
    "name": "ipython",
    "version": 3
   },
   "file_extension": ".py",
   "mimetype": "text/x-python",
   "name": "python",
   "nbconvert_exporter": "python",
   "pygments_lexer": "ipython3",
   "version": "3.11.2"
  },
  "orig_nbformat": 4
 },
 "nbformat": 4,
 "nbformat_minor": 2
}
