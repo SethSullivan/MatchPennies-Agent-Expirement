{
 "cells": [
  {
   "cell_type": "code",
   "execution_count": 1,
   "metadata": {},
   "outputs": [
    {
     "data": {
      "text/plain": [
       "'\\n\\n'"
      ]
     },
     "execution_count": 1,
     "metadata": {},
     "output_type": "execute_result"
    }
   ],
   "source": [
    "import pandas as pd\n",
    "from matplotlib import pyplot as plt\n",
    "import numpy as np\n",
    "import os\n",
    "from os import listdir\n",
    "import data_visualization as dv\n",
    "import dill\n",
    "from scipy.stats import norm\n",
    "from scipy import stats\n",
    "from tqdm import tqdm \n",
    "from scipy.signal import find_peaks\n",
    "'''\n",
    "\n",
    "'''"
   ]
  },
  {
   "cell_type": "code",
   "execution_count": 2,
   "metadata": {},
   "outputs": [],
   "source": [
    "# Fields pull and pull list\n",
    "os.chdir('D:\\OneDrive - University of Delaware - o365\\Subject_Data\\MatchPennies_Agent_Exp2')\n",
    "PATH = os.getcwd()\n",
    "\n",
    "analysis_pull_list = []\n",
    "with open(\"Analysis_Pull_List.txt\", \"r\") as file:\n",
    "    analysis_pull_list = file.read().splitlines()\n",
    "analysis_pull_list_reaction = [s+'_Reaction' for s in analysis_pull_list]\n",
    "analysis_pull_list_timing = [s+'_Timing' for s in analysis_pull_list]\n",
    "analysis_pull_list_task = [s+'_Task' for s in analysis_pull_list]\n",
    "# with open(\"\\\\Analysis_Pull_List_Control.txt\", \"r\") as pull_file:\n",
    "#     analysis_pull_list_control = pull_file.read().splitlines()\n",
    "# with open(\"\\\\Analysis_Pull_List_Task.txt\", \"r\") as pull_file:\n",
    "#     analysis_pull_list_task = pull_file.read().splitlines()\n",
    "with open(\"Fields_Pull.txt\", \"r\") as fields_pull:\n",
    "    fields_pull = fields_pull.read().splitlines()\n",
    "    \n",
    "num_subjects = len(analysis_pull_list)\n",
    "task_name = 'Matchpennies_Agent_Exp2'"
   ]
  },
  {
   "cell_type": "markdown",
   "metadata": {},
   "source": [
    "Target information"
   ]
  },
  {
   "cell_type": "markdown",
   "metadata": {},
   "source": [
    "- Row 0 = Start Target\n",
    "\n",
    "- Row 1 = Left screen, right target x pos (left target is 2*startx - right targetx)\n",
    "\n",
    "- Dim 1 = Radius\n",
    "\n",
    "- Dim 2 = Thickness of the circle edge (don't know if this matters)\n",
    "\n",
    "\n",
    "Dataframe is in centimeters, so need to divide everything by 100"
   ]
  },
  {
   "cell_type": "markdown",
   "metadata": {},
   "source": []
  },
  {
   "cell_type": "code",
   "execution_count": 3,
   "metadata": {},
   "outputs": [],
   "source": [
    "file = 'Sub1_Reaction\\\\Sub1_ReactionTarget_Table.csv'\n",
    "df = pd.read_csv(file)\n",
    "df[\"X\"] = df[\"X\"]/100\n",
    "df[\"Y\"] = df[\"Y\"]/100\n",
    "df['Dim 1'] = df['Dim 1']/100 # Target table is in centimeters, I guess this doesn't matter but it makes me feel better\n",
    "df['Dim 2'] = df['Dim 2']/100\n",
    "# Target information for Right Hand (keeping this because the positions of target 3 and 4 are based on target 1 and start 1)\n",
    "startx = df.loc[0]['X']\n",
    "starty = df.loc[0]['Y']\n",
    "start_radius = df.loc[0]['Dim 1'] \n",
    "\n",
    "target1x = df.loc[1]['X']\n",
    "target1y = df.loc[1]['Y']\n",
    "target1_radius = df.loc[1]['Dim 1']\n",
    "\n",
    "target2x = 2*startx - target1x\n",
    "target2y = target1y\n",
    "target2_radius = target1_radius\n",
    "\n",
    "# Timing target\n",
    "timing_targetx = startx\n",
    "timing_targety = target1y\n",
    "timing_target_pos = np.sqrt(timing_targetx**2 + timing_targety**2)\n",
    "timing_target_radius = target1_radius   "
   ]
  },
  {
   "attachments": {},
   "cell_type": "markdown",
   "metadata": {},
   "source": [
    "# Parse Reaction Task Data"
   ]
  },
  {
   "cell_type": "code",
   "execution_count": 4,
   "metadata": {},
   "outputs": [
    {
     "name": "stdout",
     "output_type": "stream",
     "text": [
      "0 Sub3_Reaction\n"
     ]
    }
   ],
   "source": [
    "#%% Get reaction time data\n",
    "block_table = pd.read_csv(f'Sub1_Reaction\\\\Sub1_ReactionBlock_Table.csv')\n",
    "num_trials = block_table['List_Reps'].loc[0]\n",
    "num_blocks = sum(~block_table['TP_LIST'].isna())\n",
    "trial_time = 2500\n",
    "tot_trials = int(sum(block_table['List_Reps']))\n",
    "\n",
    "filenames = np.empty((num_subjects, num_blocks,num_trials),dtype = object)\n",
    "trial_start = np.zeros((num_subjects, num_blocks,num_trials))*np.nan\n",
    "agent_reaction_decision_time = np.zeros((num_subjects, num_blocks,num_trials))*np.nan\n",
    "agent_reaction_decision_array = np.empty((num_subjects, num_blocks,num_trials))*np.nan\n",
    "\n",
    "player_reaction_decision_array = np.empty((num_subjects, num_blocks,num_trials))*np.nan\n",
    "player_reaction_decision_time = np.zeros((num_subjects, num_blocks,num_trials))*np.nan\n",
    "player_reaction_time = np.zeros((num_subjects, num_blocks,num_trials))*np.nan\n",
    "player_reaction_movement_time = np.zeros((num_subjects, num_blocks,num_trials))*np.nan\n",
    "player_reaction_plus_movement_time = np.zeros((num_subjects, num_blocks,num_trials))*np.nan\n",
    "player_reaction_reach_time = np.zeros((num_subjects, num_blocks,num_trials))*np.nan\n",
    "player_reaction_time_vel = np.zeros((num_subjects, num_blocks,num_trials))*np.nan\n",
    "\n",
    "trial_type_array = np.zeros((num_subjects, num_blocks,num_trials))*np.nan\n",
    "\n",
    "data = np.zeros((num_subjects, num_blocks,num_trials, trial_time, 2))*np.nan\n",
    "\n",
    "###-------------------------------------------------------------------------------------------------------\n",
    "for i in range(num_subjects):\n",
    "    subname = analysis_pull_list_reaction[i]\n",
    "    print(i, subname)\n",
    "    trial_table = pd.read_csv(subname+f'\\\\{subname}Trial_Table.csv')\n",
    "    for x in ((range(tot_trials))):\n",
    "        block_number = trial_table.iloc[x]['Block_Row']\n",
    "        tp_num = trial_table.iloc[x]['TP_Row']\n",
    "        block_trial_num = trial_table.iloc[x]['Block_Step']\n",
    "        filename = f\"{subname}\\\\{task_name}_{subname}_C{block_number}_TP{tp_num}_T{block_trial_num}.csv\"\n",
    "        j = tp_num - 1 # Block number\n",
    "        k = block_trial_num - 1 # Trial number in that block\n",
    "        filenames[i,j,k] = filename\n",
    "        data = pd.read_csv(filename, low_memory=False)\n",
    "        event_code_col = data['Event_Codes']\n",
    "        # if 'E_REDO_TRIAL' in event_code_col.unique():\n",
    "        #     data_start = data.index[data['Event_Codes']=='E_REDO_TRIAL']\n",
    "        #     data = data.iloc[data_start[-1]:]\n",
    "        if 'E_GO_TRIAL' in event_code_col.unique():\n",
    "            start_time = int(data[data['Event_Codes']=='E_GO_TRIAL'].index[-1])\n",
    "            trial_type_array[i,j,k] = 1\n",
    "        elif 'E_SHUTOFF_TRIAL' in event_code_col.unique():\n",
    "            start_time = int(data[data['Event_Codes']=='E_SHUTOFF_TRIAL'].index[-1])\n",
    "            trial_type_array[i,j,k] = 0\n",
    "        else:\n",
    "            raise Exception('ERROR, event code not found')\n",
    "            \n",
    "        # Get Reaction Time Data\n",
    "        end_time = start_time + trial_time\n",
    "        trial_start[i,j,k] = start_time\n",
    "        agent_reaction_decision_time[i,j,k] = data.iloc[start_time]['Agent_Decision_Time']\n",
    "        \n",
    "        lhx = np.array(data.iloc[start_time:end_time]['Left_HandX'])\n",
    "        lhy = np.array(data.iloc[start_time:end_time]['Left_HandY'])\n",
    "        lhx_vel = np.array(data.iloc[start_time:end_time]['Left_HandXVel'])\n",
    "        lhy_vel = np.array(data.iloc[start_time:end_time]['Left_HandYVel'])\n",
    "        q = np.argwhere(np.sqrt((lhx-target1x)**2 + (lhy-target1y)**2) < target1_radius)\n",
    "        r = np.argwhere(np.sqrt((lhx-target2x)**2 + (lhy-target2y)**2) < target2_radius) \n",
    "        s = np.argwhere(np.sqrt((lhx-startx)**2 + (lhy-starty)**2) > start_radius*1) # Multiplied by 1.2 so people don't accidentally drift outside start\n",
    "        \n",
    "        t = np.argwhere(np.sqrt((lhx_vel)**2 + (lhy_vel)**2) > 0.05)\n",
    "        speed = np.sqrt((lhx_vel)**2 + (lhy_vel)**2)\n",
    "\n",
    "        if np.size(t)>0:\n",
    "            player_reaction_time_vel[i,j,k] = t[0] - agent_reaction_decision_time[i,j,k]\n",
    "\n",
    "        if np.size(s)>0: \n",
    "            player_reaction_decision_time[i,j,k] = s[0]\n",
    "            player_reaction_time[i,j,k] = s[0]  - agent_reaction_decision_time[i,j,k]\n",
    "        if np.size(q)>0: #if LH enters right target\n",
    "            player_reaction_decision_array[i,j,k] = 1\n",
    "            player_reaction_movement_time[i,j,k] = q[0] - s[0]\n",
    "            player_reaction_plus_movement_time[i,j,k] = q[0] - agent_reaction_decision_time[i,j,k]\n",
    "            \n",
    "        elif np.size(r)>0: #if LH enters left target\n",
    "            player_reaction_decision_array[i,j,k] = -1   \n",
    "            player_reaction_movement_time[i,j,k] = r[0] - s[0]\n",
    "            player_reaction_plus_movement_time[i,j,k] = r[0] - agent_reaction_decision_time[i,j,k]          \n",
    "            \n",
    "        # #plot path for Reactions\n",
    "        if False:\n",
    "            for i in range(1):\n",
    "                plot_end_time = int(agent_reaction_decision_time[i,j,k] + player_reaction_time[i,j,k])\n",
    "                # plot_end_time = int(start_time + 500)\n",
    "                lhx_new = np.array(data.iloc[start_time:int(start_time+s[0][0])]['Left_HandX'])\n",
    "                lhy_new = np.array(data.iloc[start_time:int(start_time+s[0][0])]['Left_HandY'])\n",
    "                plt.figure(dpi=300)\n",
    "                circleR = plt.Circle((target1x,target1y), target1_radius, color = 'r', fill = False)\n",
    "                circleL = plt.Circle((target2x,target2y), target2_radius, color = 'r', fill = False)\n",
    "                startCirc = plt.Circle((startx,starty), start_radius, color = 'r', fill = False)\n",
    "                fig, ax = plt.subplots()\n",
    "                ax.add_patch(circleR)\n",
    "                ax.add_patch(circleL)\n",
    "                ax.add_patch(startCirc)\n",
    "                plt.plot(lhx_new,lhy_new) \n",
    "                # plt.scatter(lhx_new[int(s[0])], lhy_new[int(s[0])])\n",
    "                print(player_reaction_time[i,j,k])\n",
    "                # plt.title(\"w =%1.0f \" %i + \"x=%1.0f \"%j + \"c=%1.0f\"%k + 'vely=%1.5f'%vel_check)\n",
    "                plt.show()\n",
    "shutoff_mask = trial_type_array == 0\n",
    "go_mask = trial_type_array == 1\n",
    "player_shutoff_reaction_time = player_reaction_time*shutoff_mask     \n",
    "player_shutoff_reaction_time[~shutoff_mask] = np.nan      \n",
    "player_go_reaction_time = player_reaction_time*go_mask          \n",
    "player_go_reaction_time[~go_mask] = np.nan      \n",
    " "
   ]
  },
  {
   "cell_type": "code",
   "execution_count": 5,
   "metadata": {},
   "outputs": [],
   "source": [
    "nanmask1 = np.isnan(player_go_reaction_time)\n",
    "reaction_time_react_switch = np.nanmedian(player_go_reaction_time[0,0,:][~nanmask1[0,0,:]])\n",
    "reaction_time_react = np.nanmedian(player_go_reaction_time[0,1,:][~nanmask1[0,1,:]])\n",
    "\n",
    "nanmask2 = np.isnan(player_shutoff_reaction_time)\n",
    "reaction_time_gamble_switch = np.nanmedian(player_shutoff_reaction_time[0,0,:][~nanmask2[0,0,:]])\n",
    "reaction_time_gamble = np.nanmedian(player_shutoff_reaction_time[0,2,:][~nanmask2[0,2,:]])"
   ]
  },
  {
   "attachments": {},
   "cell_type": "markdown",
   "metadata": {},
   "source": [
    "# Pickle Reaction Stuff"
   ]
  },
  {
   "cell_type": "code",
   "execution_count": 6,
   "metadata": {},
   "outputs": [
    {
     "name": "stdout",
     "output_type": "stream",
     "text": [
      "Sub3\n",
      "Subjects_Analyzed\\Sub3\\\n"
     ]
    }
   ],
   "source": [
    "i=-1\n",
    "for subname in analysis_pull_list:\n",
    "    i+=1\n",
    "    data_path = f'Subjects_Analyzed\\\\{subname}\\\\'\n",
    "    if not os.path.exists(data_path):\n",
    "        os.makedirs(data_path)\n",
    "    print(subname)\n",
    "    print(data_path)\n",
    "    dill.dump(player_reaction_time[i,:,:], open(data_path + f'{subname}_player_reaction_time.pkl', 'wb'))\n",
    "    dill.dump(player_reaction_movement_time[i,:,:], open(data_path + f'{subname}_player_reaction_movement_time.pkl', 'wb'))\n",
    "    dill.dump(player_reaction_plus_movement_time[i,:,:], open(data_path + f'{subname}_player_reaction_plus_movement_time.pkl', 'wb'))\n",
    "    dill.dump(player_reaction_decision_array[i,:,:], open(data_path + f'{subname}_player_reaction_decision_array.pkl', 'wb'))\n",
    "    dill.dump(agent_reaction_decision_array[i,:,:], open(data_path + f'{subname}_agent_reaction_decision_array.pkl', 'wb'))\n",
    "    dill.dump(agent_reaction_decision_time[i,:,:], open(data_path + f'{subname}_agent_reaction_decision_time.pkl', 'wb'))\n",
    "    dill.dump(trial_type_array[i,:,:], open(data_path + f'{subname}_reaction_trial_type_array.pkl', 'wb'))\n",
    "    \n",
    "    # dill.dump(agent_decision_time[i,:], open(data_path + f'{subname}_agent_decision_time.pkl', 'wb'))\n"
   ]
  },
  {
   "attachments": {},
   "cell_type": "markdown",
   "metadata": {},
   "source": [
    "# Parse Timing Data"
   ]
  },
  {
   "cell_type": "code",
   "execution_count": 7,
   "metadata": {},
   "outputs": [
    {
     "name": "stdout",
     "output_type": "stream",
     "text": [
      "0 Sub3_Timing\n"
     ]
    }
   ],
   "source": [
    "coincidence_trial_time = 2500\n",
    "coincidence_trials = 50\n",
    "coincidence_trial_start = np.zeros((num_subjects, coincidence_trials))*np.nan\n",
    "coincidence_reach_time = np.zeros((num_subjects, coincidence_trials))*np.nan\n",
    "\n",
    "interval_trial_time = 2500\n",
    "interval_trials = 50\n",
    "interval_trial_start = np.zeros((num_subjects, interval_trials))*np.nan\n",
    "interval_reach_time =  np.zeros((num_subjects, interval_trials))*np.nan\n",
    "\n",
    "control_trials = interval_trials + coincidence_trials\n",
    "###-------------------------------------------------------------------------------------------------------\n",
    "for i in range(num_subjects):\n",
    "    sub_name = analysis_pull_list_timing[i]\n",
    "    print(i, sub_name)\n",
    "    file = f'{sub_name}\\\\{sub_name}Trial_Table.csv'\n",
    "    control_trial_table = pd.read_csv(file)\n",
    "    block_number = 1\n",
    "    tp_num = 1\n",
    "    for x in ((range(control_trials))):\n",
    "        block_number = control_trial_table.iloc[x]['Block_Row']\n",
    "        tp_num = control_trial_table.iloc[x]['TP_Row']\n",
    "        block_trial_num = control_trial_table.iloc[x]['Block_Step']\n",
    "        filename = f'{sub_name}\\\\{task_name}_{sub_name}_C{block_number}_TP{tp_num}_T{block_trial_num}.csv'\n",
    "        j = tp_num - 1 # Block number\n",
    "        k = block_trial_num - 1 # Trial number in that block\n",
    "        data = pd.read_csv(filename, low_memory=False)\n",
    "        # if 'Agent_Initial_Time' in data.columns:\n",
    "        #     data = data.rename(columns = {'Agent_Inital_Time':'Agent_Decision_Time'}, inplace=True)\n",
    "        # f = data['Agent_Decision_Time']\n",
    "        start_time = int(data[data['Event_Codes']=='E_SOUND_SIGNAL'].index[0])\n",
    "        # Get Interval Timing Data\n",
    "        if tp_num == 1:\n",
    "            end_time = start_time + interval_trial_time\n",
    "            interval_trial_start[i,k] = start_time # Store start time\n",
    "            lhx = np.array(data.iloc[start_time:end_time]['Left_HandX'])\n",
    "            lhy = np.array(data.iloc[start_time:end_time]['Left_HandY'])\n",
    "            q = np.argwhere(np.sqrt((lhx-timing_targetx)**2 + (lhy-timing_targety)**2) < timing_target_radius) # THIS NEEDS TO BE THE CENTER TARGET... x poisition should be the start\n",
    "            if np.size(q)>0:\n",
    "                interval_reach_time[i,k] = q[0]\n",
    "        # Get Coincidence Timing Data\n",
    "        if tp_num == 2:\n",
    "            end_time = start_time + coincidence_trial_time\n",
    "            coincidence_trial_start[i,k] = start_time # Store start time\n",
    "            lhx = np.array(data.iloc[start_time:end_time]['Left_HandX'])\n",
    "            lhy = np.array(data.iloc[start_time:end_time]['Left_HandY'])\n",
    "            q = np.argwhere(np.sqrt((lhx-timing_targetx)**2 + (lhy-timing_targety)**2) < timing_target_radius) # THIS NEEDS TO BE THE CENTER TARGET... x poisition should be the start\n",
    "            if np.size(q)>0:\n",
    "                coincidence_reach_time[i,k] = q[0] \n",
    "                \n",
    "            # #plot path for Reactions\n",
    "            if False:\n",
    "                for i in range(1):\n",
    "                    player_reaction_time[0,0] = 500\n",
    "                    plot_end_time = int(start_time + player_reaction_time[i,k])\n",
    "                    # plot_end_time = int(start_time + 500)\n",
    "                    lhx_new = np.array(data.iloc[start_time:int(plot_end_time)]['Left_HandX'])\n",
    "                    lhy_new = np.array(data.iloc[start_time:int(plot_end_time)]['Left_HandY'])\n",
    "                    plt.figure(dpi=300)\n",
    "                    circleR = plt.Circle((target1x,target1y), target1_radius, color = 'r', fill = False)\n",
    "                    circleL = plt.Circle((target2x,target2y), target2_radius, color = 'r', fill = False)\n",
    "                    startCirc = plt.Circle((startx,starty), start_radius, color = 'r', fill = False)\n",
    "                    fig, ax = plt.subplots()\n",
    "                    ax.add_patch(circleR)\n",
    "                    ax.add_patch(circleL)\n",
    "                    ax.add_patch(startCirc)\n",
    "                    plt.plot(lhx_new,lhy_new) \n",
    "                    # plt.scatter(lhx_new[int(s[0])], lhy_new[int(s[0])])\n",
    "                    print(player_reaction_time[i,k])\n",
    "                    # plt.title(\"w =%1.0f \" %i + \"x=%1.0f \"%j + \"c=%1.0f\"%k + 'vely=%1.5f'%vel_check)\n",
    "                    plt.show()"
   ]
  },
  {
   "attachments": {},
   "cell_type": "markdown",
   "metadata": {},
   "source": [
    "# Pickle Timing Data"
   ]
  },
  {
   "cell_type": "code",
   "execution_count": 8,
   "metadata": {},
   "outputs": [
    {
     "name": "stdout",
     "output_type": "stream",
     "text": [
      "Sub3\n",
      "Subjects_Analyzed\\Sub3\\\n"
     ]
    }
   ],
   "source": [
    "i=-1\n",
    "for subname in analysis_pull_list:\n",
    "    i+=1\n",
    "    data_path = f'Subjects_Analyzed\\\\{subname}\\\\'\n",
    "    if not os.path.exists(data_path):\n",
    "        os.makedirs(data_path)\n",
    "    print(subname)\n",
    "    print(data_path)\n",
    "    dill.dump(interval_trial_start[i,:], open(data_path + f'{subname}_interval_trial_start.pkl', 'wb'))\n",
    "    dill.dump(interval_reach_time[i,:], open(data_path + f'{subname}_interval_reach_time.pkl', 'wb'))\n",
    "    dill.dump(coincidence_trial_start[i,:], open(data_path + f'{subname}_coincidence_trial_start.pkl', 'wb'))\n",
    "    dill.dump(coincidence_reach_time[i,:], open(data_path + f'{subname}_coincidence_reach_time.pkl', 'wb'))"
   ]
  },
  {
   "attachments": {},
   "cell_type": "markdown",
   "metadata": {},
   "source": [
    "# Parse Task Data"
   ]
  },
  {
   "cell_type": "code",
   "execution_count": 9,
   "metadata": {},
   "outputs": [
    {
     "name": "stdout",
     "output_type": "stream",
     "text": [
      "0 Sub3_Task\n"
     ]
    },
    {
     "name": "stderr",
     "output_type": "stream",
     "text": [
      "100%|██████████| 320/320 [00:05<00:00, 54.58it/s]"
     ]
    },
    {
     "name": "stdout",
     "output_type": "stream",
     "text": [
      "[ 752.  917.  773.  692.  822.  833.  778.  698.  797.  720. 1015. 1007.\n",
      "  823.  792.  528.  674.  627.  643.  558.  518.  586.  605.  901.  959.\n",
      "  896.  489.  742.  862.  704.  952.  659.  834.  652.  847.  782.  833.\n",
      "  607.  721.  885.  792.  772.  823. 1062.  896.  725.  941.  749.  635.\n",
      "  817.  605.  692.  724.  660.  973.  908.  744.  812.  848.  723.  780.\n",
      "  771.  932. 1091. 1251. 1136.  635. 1143. 1336. 1587.  660.  565. 1052.\n",
      "  836.  793.  705.  727.  818.  555.  936.  967.]\n"
     ]
    },
    {
     "name": "stderr",
     "output_type": "stream",
     "text": [
      "\n"
     ]
    }
   ],
   "source": [
    "#%% Get task time task_df\n",
    "# Get trials, blocks, trial_time from trial_table\n",
    "path1 = PATH+'\\\\'+'Sub1_Task'\n",
    "task_df = pd.read_csv(path1+f'\\\\Sub1_TaskTrial_Table.csv')\n",
    "task_df = task_df.loc[task_df['Condition type']==3] # Only get the task condition \n",
    "num_trials = int(task_df.iloc[-1]['Block_Step']) # number of trials in each block\n",
    "num_blocks = int(task_df.iloc[-1]['Block_Row'])\n",
    "tot_trials = int(num_trials*num_blocks)\n",
    "trial_time = int(task_df.iloc[0]['Condition time'])\n",
    "task_df_columns = len(fields_pull)\n",
    "# Need to be kept outside subject for-loop\n",
    "task_trial_end = np.zeros([num_subjects, num_blocks, num_trials, 2])*np.nan\n",
    "task_trial_start = np.zeros((num_subjects, num_blocks, num_trials))*np.nan\n",
    "filename_storage = np.empty((num_subjects, num_blocks, num_trials), dtype=object)\n",
    "\n",
    "task_data = np.zeros((num_subjects, num_blocks, num_trials, trial_time+500, task_df_columns))*np.nan\n",
    "win_check_R = np.zeros((num_subjects, num_blocks))\n",
    "win_check_L = np.zeros((num_subjects, num_blocks))\n",
    "num_miss_check_R = np.zeros((num_subjects, num_blocks))\n",
    "num_miss_check_L = np.zeros((num_subjects, num_blocks))\n",
    "#########\n",
    "player_task_decision_array = np.empty((num_subjects, num_blocks, num_trials))\n",
    "player_task_reach_time = np.zeros([num_subjects, num_blocks, num_trials])*np.nan\n",
    "player_task_decision_time = np.zeros([num_subjects, num_blocks, num_trials])*np.nan\n",
    "player_task_movement_time = np.zeros([num_subjects, num_blocks, num_trials])*np.nan\n",
    "agent_task_decision_time = np.zeros((num_subjects, num_blocks, num_trials))\n",
    "agent_task_reach_time = np.zeros((num_subjects, num_blocks, num_trials))\n",
    "agent_task_decision_array = np.zeros((num_subjects, num_blocks, num_trials))\n",
    "\n",
    "###-------------------------------------------------------------------------------------------------------\n",
    "for i in range(num_subjects):\n",
    "    sub_name = analysis_pull_list_task[i]\n",
    "    print(i, sub_name)\n",
    "    path1 = PATH+'\\\\'+sub_name\n",
    "    file = path1+f'\\\\{sub_name}Trial_Table.csv'\n",
    "    trial_table = pd.read_csv(file)\n",
    "    # Splt trial table into task and washout based on condition type\n",
    "    task_trial_table = trial_table[trial_table['Condition type']==3]\n",
    "    block_number = 1\n",
    "    tp_num = 1\n",
    "    for x in tqdm((range(tot_trials))):\n",
    "        block_number = task_trial_table.iloc[x]['Block_Row']\n",
    "        tp_num = task_trial_table.iloc[x]['TP_Row']\n",
    "        block_trial_num = task_trial_table.iloc[x]['Block_Step']\n",
    "        j = tp_num - task_trial_table['TP_Row'].min()  # Block number\n",
    "        k = block_trial_num - 1 # Trial number in that block\n",
    "        \n",
    "        filename = PATH+f\"\\\\{sub_name}\\\\{task_name}_{sub_name}_C{block_number}_TP{tp_num}_T{block_trial_num}.csv\"\n",
    "        task_df = pd.read_csv(filename, low_memory=False)\n",
    "        start_time = int(task_df[task_df['Event_Codes']=='E_SOUND_SIGNAL'].index[0])\n",
    "        end_time = start_time + trial_time + 500 # Add 500 to see when they got there when trial ended\n",
    "        data_task_df = task_df.drop(columns ='Event_Codes') # Drop event codes cuz it's not number column and can't be an array \n",
    "        task_data[i,j,k,:,:] = np.array(data_task_df.iloc[start_time:end_time])\n",
    "\n",
    "        task_trial_start[i,j,k] = start_time\n",
    "        lhx = np.array(task_df.iloc[start_time:end_time]['Left_HandX'])\n",
    "        lhy = np.array(task_df.iloc[start_time:end_time]['Left_HandY'])\n",
    "        q = np.argwhere(np.sqrt((lhx-target1x)**2 + (lhy-target1y)**2) < target1_radius)\n",
    "        r = np.argwhere(np.sqrt((lhx-target2x)**2 + (lhy-target2y)**2) < target2_radius) \n",
    "        s = np.argwhere(np.sqrt((lhx-startx)**2 + (lhy-starty)**2) > start_radius*1.2) # Multiplied by 2 so people don't accidentally drift outside start\n",
    "        \n",
    "        #print(vel_check)\n",
    "        agent_task_decision_time[i,j,k] = task_df.iloc[start_time+1]['Agent_Decision_Time'] \n",
    "        agent_task_reach_time[i,j,k] = agent_task_decision_time[i,j,k] + 150  \n",
    "        agent_task_decision_array[i,j,k] = task_df.iloc[start_time+1]['Agent_Target_Selection']\n",
    "        if np.size(s)>0: \n",
    "            vel_check = task_df.iloc[s[0]]['Left_HandYVel']\n",
    "            player_task_decision_time[i,j,k] = s[0]\n",
    "            \n",
    "        if np.size(q)>0: #if LH enters right target\n",
    "            player_task_decision_array[i,j,k] = 1\n",
    "            player_task_movement_time[i,j,k] = q[0] - s[0]\n",
    "            player_task_reach_time[i,j,k] = q[0]\n",
    "        elif np.size(r)>0: #if LH enters left target\n",
    "            player_task_decision_array[i,j,k] = -1   \n",
    "            player_task_movement_time[i,j,k] = r[0] - s[0]\n",
    "            player_task_reach_time[i,j,k] = r[0]\n",
    "        if player_task_reach_time[i,j,k] > 1500 or np.isnan(player_task_reach_time[i,j,k]):\n",
    "            player_task_decision_array[i,j,k] = 0\n",
    "        if agent_task_reach_time[i,j,k]>1500:\n",
    "            agent_task_decision_array[i,j,k] = 0    \n",
    "        #plot path for tasks\n",
    "        if False:\n",
    "            for i in range(1):\n",
    "                plot_end_time = int(start_time + player_task_reach_time[i,j,k])\n",
    "                lhx_new = np.array(task_df.iloc[start_time:int(plot_end_time)]['Left_HandX'])\n",
    "                lhy_new = np.array(task_df.iloc[start_time:int(plot_end_time)]['Left_HandY'])\n",
    "                plt.figure(dpi=300)\n",
    "                circleR = plt.Circle((target1x,target1y), target1_radius, color = 'r', fill = False)\n",
    "                circleL = plt.Circle((target2x,target2y), target2_radius, color = 'r', fill = False)\n",
    "                startCirc = plt.Circle((startx,starty), start_radius, color = 'r', fill = False)\n",
    "                fig, ax = plt.subplots()\n",
    "                ax.add_patch(circleR)\n",
    "                ax.add_patch(circleL)\n",
    "                ax.add_patch(startCirc)\n",
    "                plt.plot(lhx_new,lhy_new) \n",
    "                plt.scatter(lhx_new[int(s[0])], lhy_new[int(s[0])])\n",
    "\n",
    "                plt.title(\"w =%1.0f \" %i + \"x=%1.0f \"%j + \"c=%1.0f\"%k + 'vely=%1.5f'%vel_check)\n",
    "                plt.show()\n",
    "    print(player_task_decision_time[i,0,:])\n",
    "           "
   ]
  },
  {
   "attachments": {},
   "cell_type": "markdown",
   "metadata": {},
   "source": [
    "# Pickle Task Data"
   ]
  },
  {
   "cell_type": "code",
   "execution_count": 10,
   "metadata": {},
   "outputs": [
    {
     "name": "stdout",
     "output_type": "stream",
     "text": [
      "Sub3\n"
     ]
    }
   ],
   "source": [
    "i=-1\n",
    "for subname in analysis_pull_list:\n",
    "    i+=1\n",
    "    data_path = PATH+f'\\\\Subjects_Analyzed\\\\{subname}\\\\'\n",
    "    if not os.path.exists(data_path):\n",
    "        os.makedirs(data_path)\n",
    "    print(subname)\n",
    "    dill.dump(task_data[i,:,:,:,:], open(data_path + f'{subname}_task_data.pkl', 'wb'))\n",
    "    dill.dump(player_task_decision_time[i,:,:], open(data_path + f'{subname}_player_task_decision_time.pkl', 'wb'))\n",
    "    dill.dump(player_task_decision_array[i,:,:], open(data_path + f'{subname}_player_task_decision_array.pkl', 'wb'))\n",
    "    dill.dump(player_task_movement_time[i,:,:], open(data_path + f'{subname}_player_task_movement_time.pkl', 'wb'))\n",
    "    dill.dump(player_task_reach_time[i,:,:], open(data_path + f'{subname}_player_task_reach_time.pkl', 'wb'))\n",
    "    dill.dump(agent_task_decision_time[i,:,:], open(data_path + f'{subname}_agent_task_decision_time.pkl', 'wb'))\n",
    "    dill.dump(agent_task_decision_array[i,:,:], open(data_path + f'{subname}_agent_task_decision_array.pkl', 'wb'))\n",
    "    dill.dump(agent_task_reach_time[i,:,:], open(data_path + f'{subname}_agent_task_reach_time.pkl', 'wb'))"
   ]
  },
  {
   "cell_type": "code",
   "execution_count": 11,
   "metadata": {},
   "outputs": [],
   "source": [
    "a = np.array([1,2,3,4])"
   ]
  },
  {
   "cell_type": "markdown",
   "metadata": {},
   "source": []
  }
 ],
 "metadata": {
  "kernelspec": {
   "display_name": "Python 3.9.12 ('base')",
   "language": "python",
   "name": "python3"
  },
  "language_info": {
   "codemirror_mode": {
    "name": "ipython",
    "version": 3
   },
   "file_extension": ".py",
   "mimetype": "text/x-python",
   "name": "python",
   "nbconvert_exporter": "python",
   "pygments_lexer": "ipython3",
   "version": "3.11.2"
  },
  "orig_nbformat": 4,
  "vscode": {
   "interpreter": {
    "hash": "1a00c1525417994d84940f6a64b96d4df953e4f0863c4f32c2c802abdf8195ff"
   }
  }
 },
 "nbformat": 4,
 "nbformat_minor": 2
}
