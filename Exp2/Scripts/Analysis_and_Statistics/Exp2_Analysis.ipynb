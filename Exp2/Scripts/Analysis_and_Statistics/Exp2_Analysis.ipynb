{
 "cells": [
  {
   "cell_type": "code",
   "execution_count": 1,
   "metadata": {},
   "outputs": [
    {
     "name": "stderr",
     "output_type": "stream",
     "text": [
      "c:\\Users\\Seth Sullivan\\anaconda3\\lib\\site-packages\\numpy\\_distributor_init.py:30: UserWarning: loaded more than 1 DLL from .libs:\n",
      "c:\\Users\\Seth Sullivan\\anaconda3\\lib\\site-packages\\numpy\\.libs\\libopenblas.EL2C6PLE4ZYW3ECEVIV3OXXGRN2NRFM2.gfortran-win_amd64.dll\n",
      "c:\\Users\\Seth Sullivan\\anaconda3\\lib\\site-packages\\numpy\\.libs\\libopenblas.fb5ae2tyxyh2ijrdkgdgq3xbklktf43h.gfortran-win_amd64.dll\n",
      "  warnings.warn(\"loaded more than 1 DLL from .libs:\"\n"
     ]
    },
    {
     "data": {
      "text/plain": [
       "'\\n\\n'"
      ]
     },
     "execution_count": 1,
     "metadata": {},
     "output_type": "execute_result"
    }
   ],
   "source": [
    "import pandas as pd\n",
    "from matplotlib import pyplot as plt\n",
    "import numpy as np\n",
    "import os\n",
    "import dill\n",
    "from tqdm import tqdm \n",
    "from scipy.signal import find_peaks\n",
    "import sys\n",
    "'''\n",
    "\n",
    "'''"
   ]
  },
  {
   "cell_type": "code",
   "execution_count": 2,
   "metadata": {},
   "outputs": [],
   "source": [
    "sys.path.insert(0,'D:\\OneDrive - University of Delaware - o365\\Desktop\\MatchPennies-Agent-Expirement')\n",
    "import filter_functions as ff\n",
    "                "
   ]
  },
  {
   "cell_type": "code",
   "execution_count": 3,
   "metadata": {},
   "outputs": [],
   "source": [
    "# Fields pull and pull list\n",
    "os.chdir('D:\\OneDrive - University of Delaware - o365\\Subject_Data\\MatchPennies_Agent_Exp2')\n",
    "PATH = os.getcwd()\n",
    "\n",
    "analysis_pull_list = []\n",
    "with open(\"Analysis_Pull_List.txt\", \"r\") as file:\n",
    "    analysis_pull_list = file.read().splitlines()\n",
    "analysis_pull_list_reaction = [s+'_Reaction' for s in analysis_pull_list]\n",
    "analysis_pull_list_timing = [s+'_Timing' for s in analysis_pull_list]\n",
    "analysis_pull_list_task = [s+'_Task' for s in analysis_pull_list]\n",
    "# with open(\"\\\\Analysis_Pull_List_Control.txt\", \"r\") as pull_file:\n",
    "#     analysis_pull_list_control = pull_file.read().splitlines()\n",
    "# with open(\"\\\\Analysis_Pull_List_Task.txt\", \"r\") as pull_file:\n",
    "#     analysis_pull_list_task = pull_file.read().splitlines()\n",
    "with open(\"Fields_Pull.txt\", \"r\") as fields_pull:\n",
    "    fields_pull = fields_pull.read().splitlines()\n",
    "    \n",
    "num_subjects = len(analysis_pull_list)\n",
    "task_name = 'Matchpennies_Agent_Exp2'"
   ]
  },
  {
   "cell_type": "markdown",
   "metadata": {},
   "source": [
    "Target information"
   ]
  },
  {
   "cell_type": "markdown",
   "metadata": {},
   "source": [
    "- Row 0 = Start Target\n",
    "\n",
    "- Row 1 = Left screen, right target x pos (left target is 2*startx - right targetx)\n",
    "\n",
    "- Dim 1 = Radius\n",
    "\n",
    "- Dim 2 = Thickness of the circle edge (don't know if this matters)\n",
    "\n",
    "\n",
    "Dataframe is in centimeters, so need to divide everything by 100"
   ]
  },
  {
   "cell_type": "markdown",
   "metadata": {},
   "source": []
  },
  {
   "cell_type": "code",
   "execution_count": 4,
   "metadata": {},
   "outputs": [],
   "source": [
    "file = 'Sub1_Reaction\\\\Sub1_ReactionTarget_Table.csv'\n",
    "df = pd.read_csv(file)\n",
    "df[\"X\"] = df[\"X\"]/100\n",
    "df[\"Y\"] = df[\"Y\"]/100\n",
    "df['Dim 1'] = df['Dim 1']/100 # Target table is in centimeters, I guess this doesn't matter but it makes me feel better\n",
    "df['Dim 2'] = df['Dim 2']/100\n",
    "# Target information for Right Hand (keeping this because the positions of target 3 and 4 are based on target 1 and start 1)\n",
    "startx = df.loc[0]['X']\n",
    "starty = df.loc[0]['Y']\n",
    "start_radius = df.loc[0]['Dim 1'] \n",
    "\n",
    "target1x = df.loc[1]['X']\n",
    "target1y = df.loc[1]['Y']\n",
    "target1_radius = df.loc[1]['Dim 1']\n",
    "\n",
    "target2x = 2*startx - target1x\n",
    "target2y = target1y\n",
    "target2_radius = target1_radius\n",
    "\n",
    "# Timing target\n",
    "timing_targetx = startx\n",
    "timing_targety = target1y\n",
    "timing_target_pos = np.sqrt(timing_targetx**2 + timing_targety**2)\n",
    "timing_target_radius = target1_radius   "
   ]
  },
  {
   "attachments": {},
   "cell_type": "markdown",
   "metadata": {},
   "source": [
    "# Parse Reaction Task Data"
   ]
  },
  {
   "cell_type": "code",
   "execution_count": 19,
   "metadata": {},
   "outputs": [
    {
     "name": "stdout",
     "output_type": "stream",
     "text": [
      "0 Sub4_Reaction\n"
     ]
    }
   ],
   "source": [
    "#%% Get reaction time data\n",
    "block_table = pd.read_csv(f'Sub1_Reaction\\\\Sub1_ReactionBlock_Table.csv')\n",
    "num_trials = block_table['List_Reps'].loc[0]\n",
    "num_blocks = sum(~block_table['TP_LIST'].isna())\n",
    "trial_time = 2000\n",
    "tot_trials = int(sum(block_table['List_Reps']))\n",
    "\n",
    "filenames = np.empty((num_subjects, num_blocks,num_trials),dtype = object)\n",
    "trial_start = np.zeros((num_subjects, num_blocks,num_trials))*np.nan\n",
    "agent_reaction_decision_time = np.zeros((num_subjects, num_blocks,num_trials))*np.nan\n",
    "agent_reaction_decision_array = np.empty((num_subjects, num_blocks,num_trials))*np.nan\n",
    "\n",
    "player_reaction_decision_array = np.empty((num_subjects, num_blocks,num_trials))*np.nan\n",
    "player_reaction_decision_time = np.zeros((num_subjects, num_blocks,num_trials))*np.nan\n",
    "player_reaction_time = np.zeros((num_subjects, num_blocks,num_trials))*np.nan\n",
    "player_reaction_movement_time = np.zeros((num_subjects, num_blocks,num_trials))*np.nan\n",
    "player_reaction_plus_movement_time = np.zeros((num_subjects, num_blocks,num_trials))*np.nan\n",
    "player_reaction_reach_time = np.zeros((num_subjects, num_blocks,num_trials))*np.nan\n",
    "player_reaction_time_vel = np.zeros((num_subjects, num_blocks,num_trials))*np.nan\n",
    "\n",
    "trial_type_array = np.zeros((num_subjects, num_blocks,num_trials))*np.nan\n",
    "\n",
    "data = np.zeros((num_subjects, num_blocks,num_trials, trial_time, 2))*np.nan\n",
    "\n",
    "###-------------------------------------------------------------------------------------------------------\n",
    "for i in range(1):\n",
    "    subname = analysis_pull_list_reaction[i]\n",
    "    print(i, subname)\n",
    "    trial_table = pd.read_csv(subname+f'\\\\{subname}Trial_Table.csv')\n",
    "    for x in ((range(tot_trials))):\n",
    "        block_number = trial_table.iloc[x]['Block_Row']\n",
    "        tp_num = trial_table.iloc[x]['TP_Row']\n",
    "        block_trial_num = trial_table.iloc[x]['Block_Step']\n",
    "        filename = f\"{subname}\\\\{task_name}_{subname}_C{block_number}_TP{tp_num}_T{block_trial_num}.csv\"\n",
    "        j = tp_num - 1 # Block number\n",
    "        k = block_trial_num - 1 # Trial number in that block\n",
    "        filenames[i,j,k] = filename\n",
    "        data = pd.read_csv(filename, low_memory=False)\n",
    "        event_code_col = data['Event_Codes']\n",
    "        # if 'E_REDO_TRIAL' in event_code_col.unique():\n",
    "        #     data_start = data.index[data['Event_Codes']=='E_REDO_TRIAL']\n",
    "        #     data = data.iloc[data_start[-1]:]\n",
    "        if 'E_GO_TRIAL' in event_code_col.unique():\n",
    "            start_time = int(data[data['Event_Codes']=='E_GO_TRIAL'].index[-1])\n",
    "            trial_type_array[i,j,k] = 1\n",
    "        elif 'E_SHUTOFF_TRIAL' in event_code_col.unique():\n",
    "            start_time = int(data[data['Event_Codes']=='E_SHUTOFF_TRIAL'].index[-1])\n",
    "            trial_type_array[i,j,k] = 0\n",
    "        else:\n",
    "            raise Exception('ERROR, event code not found')\n",
    "            \n",
    "        # Get Reaction Time Data\n",
    "        end_time = start_time + trial_time\n",
    "        trial_start[i,j,k] = start_time\n",
    "        agent_reaction_decision_time[i,j,k] = data.iloc[start_time]['Agent_Decision_Time']\n",
    "        \n",
    "        lhx = data.iloc[start_time:end_time]['Left_HandX'].to_numpy()\n",
    "        lhy = data.iloc[start_time:end_time]['Left_HandY'].to_numpy()\n",
    "        lhx_vel = data.iloc[start_time:end_time]['Left_HandXVel'].to_numpy()\n",
    "        lhy_vel = data.iloc[start_time:end_time]['Left_HandYVel'].to_numpy()\n",
    "        lhx_vel = ff.Filter_KIN(data.iloc[start_time:end_time]['Left_HandXVel'].to_numpy())\n",
    "        lhy_vel = ff.Filter_KIN(data.iloc[start_time:end_time]['Left_HandYVel'].to_numpy())\n",
    "\n",
    "        q = np.argwhere(np.sqrt((lhx-target1x)**2 + (lhy-target1y)**2) < target1_radius)\n",
    "        r = np.argwhere(np.sqrt((lhx-target2x)**2 + (lhy-target2y)**2) < target2_radius) \n",
    "        s = np.argwhere(np.sqrt((lhx-startx)**2 + (lhy-starty)**2) > start_radius*1) # Multiplied by 1.2 so people don't accidentally drift outside start\n",
    "        \n",
    "        t = np.argwhere(np.sqrt((lhx_vel)**2 + (lhy_vel)**2) > 0.05)\n",
    "        speed = np.sqrt((lhx_vel)**2 + (lhy_vel)**2)\n",
    "        \n",
    "\n",
    "        if np.size(t)>0:\n",
    "            player_reaction_time_vel[i,j,k] = t[0] - agent_reaction_decision_time[i,j,k]\n",
    "\n",
    "        if np.size(s)>0: \n",
    "            player_reaction_decision_time[i,j,k] = s[0]\n",
    "            player_reaction_time[i,j,k] = s[0]  - agent_reaction_decision_time[i,j,k]\n",
    "        if np.size(q)>0: #if LH enters right target\n",
    "            player_reaction_decision_array[i,j,k] = 1\n",
    "            player_reaction_movement_time[i,j,k] = q[0] - s[0]\n",
    "            player_reaction_plus_movement_time[i,j,k] = q[0] - agent_reaction_decision_time[i,j,k]\n",
    "            \n",
    "        elif np.size(r)>0: #if LH enters left target\n",
    "            player_reaction_decision_array[i,j,k] = -1   \n",
    "            player_reaction_movement_time[i,j,k] = r[0] - s[0]\n",
    "            player_reaction_plus_movement_time[i,j,k] = r[0] - agent_reaction_decision_time[i,j,k]          \n",
    "            \n",
    "        # #plot path for Reactions\n",
    "        if False:\n",
    "            for i in range(1):\n",
    "                plot_end_time = int(agent_reaction_decision_time[i,j,k] + player_reaction_time[i,j,k])\n",
    "                # plot_end_time = int(start_time + 500)\n",
    "                lhx_new = np.array(data.iloc[start_time:int(start_time+s[0][0])]['Left_HandX'])\n",
    "                lhy_new = np.array(data.iloc[start_time:int(start_time+s[0][0])]['Left_HandY'])\n",
    "                plt.figure(dpi=300)\n",
    "                circleR = plt.Circle((target1x,target1y), target1_radius, color = 'r', fill = False)\n",
    "                circleL = plt.Circle((target2x,target2y), target2_radius, color = 'r', fill = False)\n",
    "                startCirc = plt.Circle((startx,starty), start_radius, color = 'r', fill = False)\n",
    "                fig, ax = plt.subplots()\n",
    "                ax.add_patch(circleR)\n",
    "                ax.add_patch(circleL)\n",
    "                ax.add_patch(startCirc)\n",
    "                plt.plot(lhx_new,lhy_new) \n",
    "                # plt.scatter(lhx_new[int(s[0])], lhy_new[int(s[0])])\n",
    "                # print(player_reaction_time[i,j,k])\n",
    "                # plt.title(\"w =%1.0f \" %i + \"x=%1.0f \"%j + \"c=%1.0f\"%k + 'vely=%1.5f'%vel_check)\n",
    "                plt.figure()\n",
    "                print(speed)\n",
    "                plt.plot(speed)\n",
    "                plt.show()\n",
    "shutoff_mask = trial_type_array == 0\n",
    "go_mask = trial_type_array == 1\n",
    "player_shutoff_reaction_time = player_reaction_time*shutoff_mask     \n",
    "player_shutoff_reaction_time[~shutoff_mask] = np.nan      \n",
    "player_go_reaction_time = player_reaction_time*go_mask          \n",
    "player_go_reaction_time[~go_mask] = np.nan      \n",
    " "
   ]
  },
  {
   "cell_type": "code",
   "execution_count": 20,
   "metadata": {},
   "outputs": [
    {
     "data": {
      "text/plain": [
       "array([[[ 946.62176514,  270.42407227,  396.11334229,  780.96832275,\n",
       "                   nan,  300.61132812,  341.52972412,  469.14874268,\n",
       "          219.003479  ,  284.60473633,  401.19250488,  377.03326416,\n",
       "          322.84429932,  374.75274658,  315.65234375,  263.62438965,\n",
       "          416.95233154,  284.26867676,  261.22650146,  301.32012939,\n",
       "          258.24450684,  299.76660156,  294.84863281,  278.46972656,\n",
       "          345.71203613,  225.49688721,  119.7769165 ,  265.56884766,\n",
       "          270.96478271,  289.00256348,  249.50048828,  290.49487305,\n",
       "          316.04199219,  340.15606689,  357.51708984,  203.92248535,\n",
       "          457.65264893,  255.07244873,  360.82965088,  302.29925537,\n",
       "          191.15606689,  185.99285889,  265.35217285,   97.581604  ,\n",
       "          226.18664551,  276.6282959 ,  219.52832031,  403.10656738,\n",
       "          169.93658447,  145.65093994,  392.18157959,  346.89331055,\n",
       "          253.22558594,  260.43762207,  348.02160645,  239.15264893,\n",
       "          288.2321167 ,  465.61608887,  237.00012207,  245.94488525,\n",
       "          250.42785645,  239.47589111,  234.07617188,  286.63323975,\n",
       "          526.03405762,  339.92669678,  254.08721924, 1285.44775391,\n",
       "          380.22601318,  346.3661499 ,  322.42901611,  353.60919189,\n",
       "          327.01611328,  363.53173828,  169.15539551,  263.82275391,\n",
       "          118.11254883,  585.91351318,  173.60021973,  280.70574951,\n",
       "          303.55737305,  332.68719482,  309.67034912,  173.31945801,\n",
       "          317.93328857,  219.70800781,  248.49053955,  151.32904053,\n",
       "          261.98712158,  106.46954346,  169.20697021,  189.39349365,\n",
       "          420.14276123,  375.88494873,  209.57806396,  333.05621338,\n",
       "          232.91693115,  807.82055664,  324.87884521,  349.9854126 ],\n",
       "        [ 309.98181152,  312.67974854,  261.84094238,  318.72229004,\n",
       "          310.75061035,  284.29785156,  285.01300049,  285.49505615,\n",
       "          292.67364502,  283.69610596,  274.93273926,  267.09417725,\n",
       "          262.16265869,  266.69238281,  229.66705322,  277.83868408,\n",
       "          275.62182617,  295.50769043,  260.64825439,  256.246521  ,\n",
       "          282.65515137,  248.55041504,  270.13818359,  305.31506348,\n",
       "          295.59014893,  309.17803955,  285.9206543 ,  290.22247314,\n",
       "          266.03552246,  300.95007324,  268.5234375 ,  292.15814209,\n",
       "          295.58300781,  241.50439453,  291.23492432,  290.64056396,\n",
       "          283.35333252,  287.2376709 ,  284.7923584 ,  321.35894775,\n",
       "          293.46368408,  306.95654297,  281.62731934,  323.61529541,\n",
       "          303.01074219,  275.66088867,  323.55462646,  294.81237793,\n",
       "          373.61682129,  316.14868164,           nan,           nan,\n",
       "                   nan,           nan,           nan,           nan,\n",
       "                   nan,           nan,           nan,           nan,\n",
       "                   nan,           nan,           nan,           nan,\n",
       "                   nan,           nan,           nan,           nan,\n",
       "                   nan,           nan,           nan,           nan,\n",
       "                   nan,           nan,           nan,           nan,\n",
       "                   nan,           nan,           nan,           nan,\n",
       "                   nan,           nan,           nan,           nan,\n",
       "                   nan,           nan,           nan,           nan,\n",
       "                   nan,           nan,           nan,           nan,\n",
       "                   nan,           nan,           nan,           nan,\n",
       "                   nan,           nan,           nan,           nan],\n",
       "        [ 270.2522583 ,  171.39099121,  173.20928955,  244.71466064,\n",
       "          221.34197998,  207.55987549,  238.64611816,  266.10968018,\n",
       "          130.13409424,  262.59912109,  225.69128418,  274.76696777,\n",
       "          151.64001465,  223.67755127,  133.11724854,  163.72772217,\n",
       "          151.51171875,  114.35247803,  274.63482666,  226.23919678,\n",
       "          255.28216553,  170.4475708 ,  277.42523193,  250.93981934,\n",
       "          189.87353516,  282.42553711,  249.83404541,  227.90100098,\n",
       "          270.9352417 ,  257.41217041,  256.57012939,  262.71624756,\n",
       "          331.2144165 ,  164.35961914,  156.45001221,  210.57781982,\n",
       "          253.74206543,  316.07452393,  175.18499756,  420.00238037,\n",
       "          260.20953369,  281.01013184,  221.90112305,  235.02166748,\n",
       "          251.03631592,  219.10681152,  273.80761719,  275.7947998 ,\n",
       "          252.81945801,  288.84906006,           nan,           nan,\n",
       "                   nan,           nan,           nan,           nan,\n",
       "                   nan,           nan,           nan,           nan,\n",
       "                   nan,           nan,           nan,           nan,\n",
       "                   nan,           nan,           nan,           nan,\n",
       "                   nan,           nan,           nan,           nan,\n",
       "                   nan,           nan,           nan,           nan,\n",
       "                   nan,           nan,           nan,           nan,\n",
       "                   nan,           nan,           nan,           nan,\n",
       "                   nan,           nan,           nan,           nan,\n",
       "                   nan,           nan,           nan,           nan,\n",
       "                   nan,           nan,           nan,           nan,\n",
       "                   nan,           nan,           nan,           nan]],\n",
       "\n",
       "       [[          nan,           nan,           nan,           nan,\n",
       "                   nan,           nan,           nan,           nan,\n",
       "                   nan,           nan,           nan,           nan,\n",
       "                   nan,           nan,           nan,           nan,\n",
       "                   nan,           nan,           nan,           nan,\n",
       "                   nan,           nan,           nan,           nan,\n",
       "                   nan,           nan,           nan,           nan,\n",
       "                   nan,           nan,           nan,           nan,\n",
       "                   nan,           nan,           nan,           nan,\n",
       "                   nan,           nan,           nan,           nan,\n",
       "                   nan,           nan,           nan,           nan,\n",
       "                   nan,           nan,           nan,           nan,\n",
       "                   nan,           nan,           nan,           nan,\n",
       "                   nan,           nan,           nan,           nan,\n",
       "                   nan,           nan,           nan,           nan,\n",
       "                   nan,           nan,           nan,           nan,\n",
       "                   nan,           nan,           nan,           nan,\n",
       "                   nan,           nan,           nan,           nan,\n",
       "                   nan,           nan,           nan,           nan,\n",
       "                   nan,           nan,           nan,           nan,\n",
       "                   nan,           nan,           nan,           nan,\n",
       "                   nan,           nan,           nan,           nan,\n",
       "                   nan,           nan,           nan,           nan,\n",
       "                   nan,           nan,           nan,           nan,\n",
       "                   nan,           nan,           nan,           nan],\n",
       "        [          nan,           nan,           nan,           nan,\n",
       "                   nan,           nan,           nan,           nan,\n",
       "                   nan,           nan,           nan,           nan,\n",
       "                   nan,           nan,           nan,           nan,\n",
       "                   nan,           nan,           nan,           nan,\n",
       "                   nan,           nan,           nan,           nan,\n",
       "                   nan,           nan,           nan,           nan,\n",
       "                   nan,           nan,           nan,           nan,\n",
       "                   nan,           nan,           nan,           nan,\n",
       "                   nan,           nan,           nan,           nan,\n",
       "                   nan,           nan,           nan,           nan,\n",
       "                   nan,           nan,           nan,           nan,\n",
       "                   nan,           nan,           nan,           nan,\n",
       "                   nan,           nan,           nan,           nan,\n",
       "                   nan,           nan,           nan,           nan,\n",
       "                   nan,           nan,           nan,           nan,\n",
       "                   nan,           nan,           nan,           nan,\n",
       "                   nan,           nan,           nan,           nan,\n",
       "                   nan,           nan,           nan,           nan,\n",
       "                   nan,           nan,           nan,           nan,\n",
       "                   nan,           nan,           nan,           nan,\n",
       "                   nan,           nan,           nan,           nan,\n",
       "                   nan,           nan,           nan,           nan,\n",
       "                   nan,           nan,           nan,           nan,\n",
       "                   nan,           nan,           nan,           nan],\n",
       "        [          nan,           nan,           nan,           nan,\n",
       "                   nan,           nan,           nan,           nan,\n",
       "                   nan,           nan,           nan,           nan,\n",
       "                   nan,           nan,           nan,           nan,\n",
       "                   nan,           nan,           nan,           nan,\n",
       "                   nan,           nan,           nan,           nan,\n",
       "                   nan,           nan,           nan,           nan,\n",
       "                   nan,           nan,           nan,           nan,\n",
       "                   nan,           nan,           nan,           nan,\n",
       "                   nan,           nan,           nan,           nan,\n",
       "                   nan,           nan,           nan,           nan,\n",
       "                   nan,           nan,           nan,           nan,\n",
       "                   nan,           nan,           nan,           nan,\n",
       "                   nan,           nan,           nan,           nan,\n",
       "                   nan,           nan,           nan,           nan,\n",
       "                   nan,           nan,           nan,           nan,\n",
       "                   nan,           nan,           nan,           nan,\n",
       "                   nan,           nan,           nan,           nan,\n",
       "                   nan,           nan,           nan,           nan,\n",
       "                   nan,           nan,           nan,           nan,\n",
       "                   nan,           nan,           nan,           nan,\n",
       "                   nan,           nan,           nan,           nan,\n",
       "                   nan,           nan,           nan,           nan,\n",
       "                   nan,           nan,           nan,           nan,\n",
       "                   nan,           nan,           nan,           nan]]])"
      ]
     },
     "execution_count": 20,
     "metadata": {},
     "output_type": "execute_result"
    }
   ],
   "source": [
    "player_reaction_time_vel"
   ]
  },
  {
   "cell_type": "code",
   "execution_count": 8,
   "metadata": {},
   "outputs": [],
   "source": [
    "nanmask1 = np.isnan(player_go_reaction_time)\n",
    "reaction_time_react_switch = np.nanmedian(player_go_reaction_time[0,0,:][~nanmask1[0,0,:]])\n",
    "reaction_time_react = np.nanmedian(player_go_reaction_time[0,1,:][~nanmask1[0,1,:]])\n",
    "\n",
    "nanmask2 = np.isnan(player_shutoff_reaction_time)\n",
    "reaction_time_gamble_switch = np.nanmedian(player_shutoff_reaction_time[0,0,:][~nanmask2[0,0,:]])\n",
    "reaction_time_gamble = np.nanmedian(player_shutoff_reaction_time[0,2,:][~nanmask2[0,2,:]])"
   ]
  },
  {
   "attachments": {},
   "cell_type": "markdown",
   "metadata": {},
   "source": [
    "# Pickle Reaction Stuff"
   ]
  },
  {
   "cell_type": "code",
   "execution_count": 9,
   "metadata": {},
   "outputs": [
    {
     "name": "stdout",
     "output_type": "stream",
     "text": [
      "Sub4\n",
      "Subjects_Analyzed\\Sub4\\\n",
      "Sub5\n",
      "Subjects_Analyzed\\Sub5\\\n"
     ]
    }
   ],
   "source": [
    "i=-1\n",
    "for subname in analysis_pull_list:\n",
    "    i+=1\n",
    "    data_path = f'Subjects_Analyzed\\\\{subname}\\\\'\n",
    "    if not os.path.exists(data_path):\n",
    "        os.makedirs(data_path)\n",
    "    print(subname)\n",
    "    print(data_path)\n",
    "    dill.dump(player_reaction_time[i,:,:], open(data_path + f'{subname}_player_reaction_time.pkl', 'wb'))\n",
    "    dill.dump(player_reaction_movement_time[i,:,:], open(data_path + f'{subname}_player_reaction_movement_time.pkl', 'wb'))\n",
    "    dill.dump(player_reaction_plus_movement_time[i,:,:], open(data_path + f'{subname}_player_reaction_plus_movement_time.pkl', 'wb'))\n",
    "    dill.dump(player_reaction_decision_array[i,:,:], open(data_path + f'{subname}_player_reaction_decision_array.pkl', 'wb'))\n",
    "    dill.dump(agent_reaction_decision_array[i,:,:], open(data_path + f'{subname}_agent_reaction_decision_array.pkl', 'wb'))\n",
    "    dill.dump(agent_reaction_decision_time[i,:,:], open(data_path + f'{subname}_agent_reaction_decision_time.pkl', 'wb'))\n",
    "    dill.dump(trial_type_array[i,:,:], open(data_path + f'{subname}_reaction_trial_type_array.pkl', 'wb'))\n",
    "    \n",
    "    # dill.dump(agent_decision_time[i,:], open(data_path + f'{subname}_agent_decision_time.pkl', 'wb'))\n"
   ]
  },
  {
   "attachments": {},
   "cell_type": "markdown",
   "metadata": {},
   "source": [
    "# Parse Timing Data"
   ]
  },
  {
   "cell_type": "code",
   "execution_count": 10,
   "metadata": {},
   "outputs": [
    {
     "name": "stdout",
     "output_type": "stream",
     "text": [
      "0 Sub4_Timing\n",
      "1 Sub5_Timing\n"
     ]
    }
   ],
   "source": [
    "coincidence_trial_time = 2500\n",
    "coincidence_trials = 50\n",
    "coincidence_trial_start = np.zeros((num_subjects, coincidence_trials))*np.nan\n",
    "coincidence_reach_time = np.zeros((num_subjects, coincidence_trials))*np.nan\n",
    "\n",
    "interval_trial_time = 2500\n",
    "interval_trials = 50\n",
    "interval_trial_start = np.zeros((num_subjects, interval_trials))*np.nan\n",
    "interval_reach_time =  np.zeros((num_subjects, interval_trials))*np.nan\n",
    "\n",
    "control_trials = interval_trials + coincidence_trials\n",
    "###-------------------------------------------------------------------------------------------------------\n",
    "for i in range(num_subjects):\n",
    "    sub_name = analysis_pull_list_timing[i]\n",
    "    print(i, sub_name)\n",
    "    file = f'{sub_name}\\\\{sub_name}Trial_Table.csv'\n",
    "    control_trial_table = pd.read_csv(file)\n",
    "    block_number = 1\n",
    "    tp_num = 1\n",
    "    for x in ((range(control_trials))):\n",
    "        block_number = control_trial_table.iloc[x]['Block_Row']\n",
    "        tp_num = control_trial_table.iloc[x]['TP_Row']\n",
    "        block_trial_num = control_trial_table.iloc[x]['Block_Step']\n",
    "        filename = f'{sub_name}\\\\{task_name}_{sub_name}_C{block_number}_TP{tp_num}_T{block_trial_num}.csv'\n",
    "        j = tp_num - 1 # Block number\n",
    "        k = block_trial_num - 1 # Trial number in that block\n",
    "        data = pd.read_csv(filename, low_memory=False)\n",
    "        # if 'Agent_Initial_Time' in data.columns:\n",
    "        #     data = data.rename(columns = {'Agent_Inital_Time':'Agent_Decision_Time'}, inplace=True)\n",
    "        # f = data['Agent_Decision_Time']\n",
    "        start_time = int(data[data['Event_Codes']=='E_SOUND_SIGNAL'].index[0])\n",
    "        # Get Interval Timing Data\n",
    "        if tp_num == 1:\n",
    "            end_time = start_time + interval_trial_time\n",
    "            interval_trial_start[i,k] = start_time # Store start time\n",
    "            lhx = np.array(data.iloc[start_time:end_time]['Left_HandX'])\n",
    "            lhy = np.array(data.iloc[start_time:end_time]['Left_HandY'])\n",
    "            q = np.argwhere(np.sqrt((lhx-timing_targetx)**2 + (lhy-timing_targety)**2) < timing_target_radius) # THIS NEEDS TO BE THE CENTER TARGET... x poisition should be the start\n",
    "            if np.size(q)>0:\n",
    "                interval_reach_time[i,k] = q[0]\n",
    "        # Get Coincidence Timing Data\n",
    "        if tp_num == 2:\n",
    "            end_time = start_time + coincidence_trial_time\n",
    "            coincidence_trial_start[i,k] = start_time # Store start time\n",
    "            lhx = np.array(data.iloc[start_time:end_time]['Left_HandX'])\n",
    "            lhy = np.array(data.iloc[start_time:end_time]['Left_HandY'])\n",
    "            q = np.argwhere(np.sqrt((lhx-timing_targetx)**2 + (lhy-timing_targety)**2) < timing_target_radius) # THIS NEEDS TO BE THE CENTER TARGET... x poisition should be the start\n",
    "            if np.size(q)>0:\n",
    "                coincidence_reach_time[i,k] = q[0] \n",
    "                \n",
    "            # #plot path for Reactions\n",
    "            if False:\n",
    "                for i in range(1):\n",
    "                    player_reaction_time[0,0] = 500\n",
    "                    plot_end_time = int(start_time + player_reaction_time[i,k])\n",
    "                    # plot_end_time = int(start_time + 500)\n",
    "                    lhx_new = np.array(data.iloc[start_time:int(plot_end_time)]['Left_HandX'])\n",
    "                    lhy_new = np.array(data.iloc[start_time:int(plot_end_time)]['Left_HandY'])\n",
    "                    plt.figure(dpi=300)\n",
    "                    circleR = plt.Circle((target1x,target1y), target1_radius, color = 'r', fill = False)\n",
    "                    circleL = plt.Circle((target2x,target2y), target2_radius, color = 'r', fill = False)\n",
    "                    startCirc = plt.Circle((startx,starty), start_radius, color = 'r', fill = False)\n",
    "                    fig, ax = plt.subplots()\n",
    "                    ax.add_patch(circleR)\n",
    "                    ax.add_patch(circleL)\n",
    "                    ax.add_patch(startCirc)\n",
    "                    plt.plot(lhx_new,lhy_new) \n",
    "                    # plt.scatter(lhx_new[int(s[0])], lhy_new[int(s[0])])\n",
    "                    print(player_reaction_time[i,k])\n",
    "                    # plt.title(\"w =%1.0f \" %i + \"x=%1.0f \"%j + \"c=%1.0f\"%k + 'vely=%1.5f'%vel_check)\n",
    "                    plt.show()"
   ]
  },
  {
   "attachments": {},
   "cell_type": "markdown",
   "metadata": {},
   "source": [
    "# Pickle Timing Data"
   ]
  },
  {
   "cell_type": "code",
   "execution_count": 11,
   "metadata": {},
   "outputs": [
    {
     "name": "stdout",
     "output_type": "stream",
     "text": [
      "Sub4\n",
      "Subjects_Analyzed\\Sub4\\\n",
      "Sub5\n",
      "Subjects_Analyzed\\Sub5\\\n"
     ]
    }
   ],
   "source": [
    "i=-1\n",
    "for subname in analysis_pull_list:\n",
    "    i+=1\n",
    "    data_path = f'Subjects_Analyzed\\\\{subname}\\\\'\n",
    "    if not os.path.exists(data_path):\n",
    "        os.makedirs(data_path)\n",
    "    print(subname)\n",
    "    print(data_path)\n",
    "    dill.dump(interval_trial_start[i,:], open(data_path + f'{subname}_interval_trial_start.pkl', 'wb'))\n",
    "    dill.dump(interval_reach_time[i,:], open(data_path + f'{subname}_interval_reach_time.pkl', 'wb'))\n",
    "    dill.dump(coincidence_trial_start[i,:], open(data_path + f'{subname}_coincidence_trial_start.pkl', 'wb'))\n",
    "    dill.dump(coincidence_reach_time[i,:], open(data_path + f'{subname}_coincidence_reach_time.pkl', 'wb'))"
   ]
  },
  {
   "attachments": {},
   "cell_type": "markdown",
   "metadata": {},
   "source": [
    "# Parse Task Data"
   ]
  },
  {
   "cell_type": "code",
   "execution_count": 12,
   "metadata": {},
   "outputs": [
    {
     "name": "stdout",
     "output_type": "stream",
     "text": [
      "0 Sub4_Task\n"
     ]
    },
    {
     "name": "stderr",
     "output_type": "stream",
     "text": [
      "100%|██████████| 320/320 [00:05<00:00, 55.56it/s]\n"
     ]
    },
    {
     "name": "stdout",
     "output_type": "stream",
     "text": [
      "[1392. 1364. 1270. 1353. 1310. 1385. 1336. 1258. 1355. 1281. 1337. 1391.\n",
      " 1400. 1342. 1334. 1351. 1403. 1383. 1357. 1452. 1330. 1134. 1390. 1241.\n",
      " 1394. 1378. 1132. 1332. 1197. 1385. 1424. 1334. 1387. 1253. 1259. 1295.\n",
      " 1339. 1212. 1298. 1374. 1350. 1371. 1377. 1343. 1375. 1282. 1415. 1436.\n",
      " 1442. 1247. 1306. 1299. 1333. 1394. 1385. 1335. 1410. 1316. 1358. 1413.\n",
      " 1419. 1367. 1417. 1376. 1397. 1412. 1366. 1384. 1449. 1503. 1363. 1376.\n",
      " 1364. 1252. 1301. 1414. 1418. 1330. 1430. 1369.]\n",
      "1 Sub5_Task\n"
     ]
    },
    {
     "name": "stderr",
     "output_type": "stream",
     "text": [
      "100%|██████████| 320/320 [00:05<00:00, 59.00it/s]"
     ]
    },
    {
     "name": "stdout",
     "output_type": "stream",
     "text": [
      "[1320. 1523. 1301. 1018.  704. 1481. 1195. 1431. 1340. 1025. 1200. 1191.\n",
      " 1070. 1412.  919. 1353. 1443. 1386. 1309. 1209. 1205. 1399. 1344. 1458.\n",
      " 1419. 1342.  935.  724. 1054. 1348. 1096.  735. 1159. 1135. 1187. 1365.\n",
      " 1285. 1432. 1099. 1307.  991. 1363. 1215.  845.  944.  964.  851.  877.\n",
      "  815. 1390. 1328. 1380. 1240. 1396. 1114. 1169. 1260. 1202. 1128. 1099.\n",
      " 1033. 1188. 1152. 1172. 1243. 1299. 1108. 1240. 1273. 1288. 1397. 1011.\n",
      " 1086.  865. 1048. 1167. 1043.  970. 1116. 1162.]\n"
     ]
    },
    {
     "name": "stderr",
     "output_type": "stream",
     "text": [
      "\n"
     ]
    }
   ],
   "source": [
    "#%% Get task time task_df\n",
    "# Get trials, blocks, trial_time from trial_table\n",
    "path1 = PATH+'\\\\'+'Sub1_Task'\n",
    "task_df = pd.read_csv(path1+f'\\\\Sub1_TaskTrial_Table.csv')\n",
    "task_df = task_df.loc[task_df['Condition type']==3] # Only get the task condition \n",
    "num_trials = int(task_df.iloc[-1]['Block_Step']) # number of trials in each block\n",
    "num_blocks = int(task_df.iloc[-1]['Block_Row'])\n",
    "tot_trials = int(num_trials*num_blocks)\n",
    "trial_time = int(task_df.iloc[0]['Condition time'])\n",
    "task_df_columns = len(fields_pull)\n",
    "# Need to be kept outside subject for-loop\n",
    "task_trial_end = np.zeros([num_subjects, num_blocks, num_trials, 2])*np.nan\n",
    "task_trial_start = np.zeros((num_subjects, num_blocks, num_trials))*np.nan\n",
    "filename_storage = np.empty((num_subjects, num_blocks, num_trials), dtype=object)\n",
    "\n",
    "task_data = np.zeros((num_subjects, num_blocks, num_trials, trial_time+500, task_df_columns))*np.nan\n",
    "win_check_R = np.zeros((num_subjects, num_blocks))\n",
    "win_check_L = np.zeros((num_subjects, num_blocks))\n",
    "num_miss_check_R = np.zeros((num_subjects, num_blocks))\n",
    "num_miss_check_L = np.zeros((num_subjects, num_blocks))\n",
    "#########\n",
    "player_task_decision_array = np.empty((num_subjects, num_blocks, num_trials))\n",
    "player_task_reach_time = np.zeros([num_subjects, num_blocks, num_trials])*np.nan\n",
    "player_task_decision_time = np.zeros([num_subjects, num_blocks, num_trials])*np.nan\n",
    "player_task_movement_time = np.zeros([num_subjects, num_blocks, num_trials])*np.nan\n",
    "agent_task_decision_time = np.zeros((num_subjects, num_blocks, num_trials))\n",
    "agent_task_reach_time = np.zeros((num_subjects, num_blocks, num_trials))\n",
    "agent_task_decision_array = np.zeros((num_subjects, num_blocks, num_trials))\n",
    "\n",
    "###-------------------------------------------------------------------------------------------------------\n",
    "for i in range(num_subjects):\n",
    "    sub_name = analysis_pull_list_task[i]\n",
    "    print(i, sub_name)\n",
    "    path1 = PATH+'\\\\'+sub_name\n",
    "    file = path1+f'\\\\{sub_name}Trial_Table.csv'\n",
    "    trial_table = pd.read_csv(file)\n",
    "    # Splt trial table into task and washout based on condition type\n",
    "    task_trial_table = trial_table[trial_table['Condition type']==3]\n",
    "    block_number = 1\n",
    "    tp_num = 1\n",
    "    for x in tqdm((range(tot_trials))):\n",
    "        block_number = task_trial_table.iloc[x]['Block_Row']\n",
    "        tp_num = task_trial_table.iloc[x]['TP_Row']\n",
    "        block_trial_num = task_trial_table.iloc[x]['Block_Step']\n",
    "        j = tp_num - task_trial_table['TP_Row'].min()  # Block number\n",
    "        k = block_trial_num - 1 # Trial number in that block\n",
    "        \n",
    "        filename = PATH+f\"\\\\{sub_name}\\\\{task_name}_{sub_name}_C{block_number}_TP{tp_num}_T{block_trial_num}.csv\"\n",
    "        task_df = pd.read_csv(filename, low_memory=False)\n",
    "        start_time = int(task_df[task_df['Event_Codes']=='E_SOUND_SIGNAL'].index[0])\n",
    "        end_time = start_time + trial_time + 500 # Add 500 to see when they got there when trial ended\n",
    "        data_task_df = task_df.drop(columns ='Event_Codes') # Drop event codes cuz it's not number column and can't be an array \n",
    "        task_data[i,j,k,:,:] = np.array(data_task_df.iloc[start_time:end_time])\n",
    "\n",
    "        task_trial_start[i,j,k] = start_time\n",
    "        lhx = np.array(task_df.iloc[start_time:end_time]['Left_HandX'])\n",
    "        lhy = np.array(task_df.iloc[start_time:end_time]['Left_HandY'])\n",
    "        q = np.argwhere(np.sqrt((lhx-target1x)**2 + (lhy-target1y)**2) < target1_radius)\n",
    "        r = np.argwhere(np.sqrt((lhx-target2x)**2 + (lhy-target2y)**2) < target2_radius) \n",
    "        s = np.argwhere(np.sqrt((lhx-startx)**2 + (lhy-starty)**2) > start_radius*1.2) # Multiplied by 2 so people don't accidentally drift outside start\n",
    "        \n",
    "        #print(vel_check)\n",
    "        agent_task_decision_time[i,j,k] = task_df.iloc[start_time+1]['Agent_Decision_Time'] \n",
    "        agent_task_reach_time[i,j,k] = agent_task_decision_time[i,j,k] + 150  \n",
    "        agent_task_decision_array[i,j,k] = task_df.iloc[start_time+1]['Agent_Target_Selection']\n",
    "        if np.size(s)>0: \n",
    "            vel_check = task_df.iloc[s[0]]['Left_HandYVel']\n",
    "            player_task_decision_time[i,j,k] = s[0]\n",
    "            \n",
    "        if np.size(q)>0: #if LH enters right target\n",
    "            player_task_decision_array[i,j,k] = 1\n",
    "            player_task_movement_time[i,j,k] = q[0] - s[0]\n",
    "            player_task_reach_time[i,j,k] = q[0]\n",
    "        elif np.size(r)>0: #if LH enters left target\n",
    "            player_task_decision_array[i,j,k] = -1   \n",
    "            player_task_movement_time[i,j,k] = r[0] - s[0]\n",
    "            player_task_reach_time[i,j,k] = r[0]\n",
    "        if player_task_reach_time[i,j,k] > 1500 or np.isnan(player_task_reach_time[i,j,k]):\n",
    "            player_task_decision_array[i,j,k] = 0\n",
    "        if agent_task_reach_time[i,j,k]>1500:\n",
    "            agent_task_decision_array[i,j,k] = 0    \n",
    "        #plot path for tasks\n",
    "        if False:\n",
    "            for i in range(1):\n",
    "                plot_end_time = int(start_time + player_task_reach_time[i,j,k])\n",
    "                lhx_new = np.array(task_df.iloc[start_time:int(plot_end_time)]['Left_HandX'])\n",
    "                lhy_new = np.array(task_df.iloc[start_time:int(plot_end_time)]['Left_HandY'])\n",
    "                plt.figure(dpi=300)\n",
    "                circleR = plt.Circle((target1x,target1y), target1_radius, color = 'r', fill = False)\n",
    "                circleL = plt.Circle((target2x,target2y), target2_radius, color = 'r', fill = False)\n",
    "                startCirc = plt.Circle((startx,starty), start_radius, color = 'r', fill = False)\n",
    "                fig, ax = plt.subplots()\n",
    "                ax.add_patch(circleR)\n",
    "                ax.add_patch(circleL)\n",
    "                ax.add_patch(startCirc)\n",
    "                plt.plot(lhx_new,lhy_new) \n",
    "                plt.scatter(lhx_new[int(s[0])], lhy_new[int(s[0])])\n",
    "\n",
    "                plt.title(\"w =%1.0f \" %i + \"x=%1.0f \"%j + \"c=%1.0f\"%k + 'vely=%1.5f'%vel_check)\n",
    "                plt.show()\n",
    "    print(player_task_decision_time[i,0,:])\n",
    "           "
   ]
  },
  {
   "attachments": {},
   "cell_type": "markdown",
   "metadata": {},
   "source": [
    "# Pickle Task Data"
   ]
  },
  {
   "cell_type": "code",
   "execution_count": 13,
   "metadata": {},
   "outputs": [
    {
     "name": "stdout",
     "output_type": "stream",
     "text": [
      "Sub4\n",
      "Sub5\n"
     ]
    }
   ],
   "source": [
    "i=-1\n",
    "for subname in analysis_pull_list:\n",
    "    i+=1\n",
    "    data_path = PATH+f'\\\\Subjects_Analyzed\\\\{subname}\\\\'\n",
    "    if not os.path.exists(data_path):\n",
    "        os.makedirs(data_path)\n",
    "    print(subname)\n",
    "    dill.dump(task_data[i,:,:,:,:], open(data_path + f'{subname}_task_data.pkl', 'wb'))\n",
    "    dill.dump(player_task_decision_time[i,:,:], open(data_path + f'{subname}_player_task_decision_time.pkl', 'wb'))\n",
    "    dill.dump(player_task_decision_array[i,:,:], open(data_path + f'{subname}_player_task_decision_array.pkl', 'wb'))\n",
    "    dill.dump(player_task_movement_time[i,:,:], open(data_path + f'{subname}_player_task_movement_time.pkl', 'wb'))\n",
    "    dill.dump(player_task_reach_time[i,:,:], open(data_path + f'{subname}_player_task_reach_time.pkl', 'wb'))\n",
    "    dill.dump(agent_task_decision_time[i,:,:], open(data_path + f'{subname}_agent_task_decision_time.pkl', 'wb'))\n",
    "    dill.dump(agent_task_decision_array[i,:,:], open(data_path + f'{subname}_agent_task_decision_array.pkl', 'wb'))\n",
    "    dill.dump(agent_task_reach_time[i,:,:], open(data_path + f'{subname}_agent_task_reach_time.pkl', 'wb'))"
   ]
  },
  {
   "cell_type": "code",
   "execution_count": 14,
   "metadata": {},
   "outputs": [],
   "source": [
    "arr1 = data[start_time:end_time]['Left_HandXVel'].to_numpy()\n",
    "arr2 = data[start_time:end_time]['Left_HandYVel'].to_numpy()\n",
    "arr = np.sqrt(arr1**2 + arr2**2)\n",
    "mask = np.isnan(arr)"
   ]
  },
  {
   "cell_type": "code",
   "execution_count": 15,
   "metadata": {},
   "outputs": [
    {
     "data": {
      "text/plain": [
       "[<matplotlib.lines.Line2D at 0x127000b53d0>]"
      ]
     },
     "execution_count": 15,
     "metadata": {},
     "output_type": "execute_result"
    },
    {
     "data": {
      "image/png": "[encoded data removed]",
      "text/plain": [
       "<Figure size 640x480 with 1 Axes>"
      ]
     },
     "metadata": {},
     "output_type": "display_data"
    }
   ],
   "source": [
    "filtered_velocity = ff.Filter_KIN(arr[~mask])\n",
    "plt.plot(filtered_velocity)\n",
    "# plt.plot(arr)"
   ]
  },
  {
   "cell_type": "code",
   "execution_count": 16,
   "metadata": {},
   "outputs": [
    {
     "data": {
      "text/plain": [
       "[<matplotlib.lines.Line2D at 0x12700d3ead0>]"
      ]
     },
     "execution_count": 16,
     "metadata": {},
     "output_type": "execute_result"
    },
    {
     "data": {
      "image/png": "[encoded data removed]",
      "text/plain": [
       "<Figure size 640x480 with 1 Axes>"
      ]
     },
     "metadata": {},
     "output_type": "display_data"
    }
   ],
   "source": [
    "arr1 = data[start_time:end_time]['Left_HandX'].to_numpy()\n",
    "arr2 = data[start_time:end_time]['Left_HandY'].to_numpy()\n",
    "arr = np.sqrt(arr1**2 + arr2**2)\n",
    "plt.plot(arr1) \n",
    "plt.plot(arr2)\n",
    "# plt.ylim(0.568,0.58)"
   ]
  },
  {
   "cell_type": "markdown",
   "metadata": {},
   "source": []
  }
 ],
 "metadata": {
  "kernelspec": {
   "display_name": "Python 3.9.12 ('base')",
   "language": "python",
   "name": "python3"
  },
  "language_info": {
   "codemirror_mode": {
    "name": "ipython",
    "version": 3
   },
   "file_extension": ".py",
   "mimetype": "text/x-python",
   "name": "python",
   "nbconvert_exporter": "python",
   "pygments_lexer": "ipython3",
   "version": "3.9.16"
  },
  "orig_nbformat": 4,
  "vscode": {
   "interpreter": {
    "hash": "1a00c1525417994d84940f6a64b96d4df953e4f0863c4f32c2c802abdf8195ff"
   }
  }
 },
 "nbformat": 4,
 "nbformat_minor": 2
}
