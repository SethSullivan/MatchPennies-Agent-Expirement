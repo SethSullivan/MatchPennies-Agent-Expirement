{
 "cells": [
  {
   "cell_type": "code",
   "execution_count": 1,
   "metadata": {},
   "outputs": [],
   "source": [
    "import numpy as np\n",
    "import os\n",
    "import dill\n",
    "import importlib\n",
    "import pandas as pd\n",
    "import sys"
   ]
  },
  {
   "cell_type": "code",
   "execution_count": 2,
   "metadata": {},
   "outputs": [
    {
     "data": {
      "text/plain": [
       "<module 'Subject_Object' from 'D:\\\\OneDrive - University of Delaware - o365\\\\Desktop\\\\MatchPennies-Agent-Expirement\\\\Subject_Object.py'>"
      ]
     },
     "execution_count": 2,
     "metadata": {},
     "output_type": "execute_result"
    }
   ],
   "source": [
    "sys.path.insert(0,r'D:\\OneDrive - University of Delaware - o365\\Desktop\\MatchPennies-Agent-Expirement')\n",
    "import Subject_Object\n",
    "importlib.reload(Subject_Object)"
   ]
  },
  {
   "cell_type": "markdown",
   "metadata": {},
   "source": [
    "## Initial Thangs"
   ]
  },
  {
   "cell_type": "code",
   "execution_count": 3,
   "metadata": {},
   "outputs": [],
   "source": [
    "# Fields pull and pull list\n",
    "PATH = r'D:\\OneDrive - University of Delaware - o365\\Subject_Data\\MatchPennies_Agent_Exp2'\n",
    "os.chdir(PATH)\n",
    "figures_pull_list = []\n",
    "fields_pull = []\n",
    "with open(PATH+\"\\\\Figures_Pull_List.txt\", \"r\") as pull_file:\n",
    "    figures_pull_list = pull_file.read().splitlines()\n",
    "with open(PATH+\"\\\\Fields_Pull.txt\", \"r\") as fields_pull:\n",
    "    fields_pull = fields_pull.read().splitlines()\n",
    "NUM_SUBJECTS = len(figures_pull_list)\n",
    "task_name = 'Agent_Shutoff_Go'"
   ]
  },
  {
   "cell_type": "markdown",
   "metadata": {},
   "source": [
    "## dill Load"
   ]
  },
  {
   "attachments": {},
   "cell_type": "markdown",
   "metadata": {},
   "source": [
    "dill Load Reaction and Timing Tasks\n"
   ]
  },
  {
   "cell_type": "code",
   "execution_count": 4,
   "metadata": {},
   "outputs": [
    {
     "name": "stdout",
     "output_type": "stream",
     "text": [
      "Sub1\n",
      "Sub2\n",
      "Sub4\n",
      "Sub5\n",
      "Sub6\n",
      "Sub7\n",
      "Sub8\n"
     ]
    }
   ],
   "source": [
    "coincidence_trials = 50\n",
    "interval_trials = 50\n",
    "reaction_trials = 100\n",
    "reaction_blocks = 3\n",
    "trial_time = 5000\n",
    "# ---------------Controls-------------------------\n",
    "reaction_yforce_data                          = np.empty((NUM_SUBJECTS, reaction_blocks, reaction_trials,trial_time))\n",
    "reaction_dist_data                          = np.empty((NUM_SUBJECTS, reaction_blocks, reaction_trials,trial_time))\n",
    "player_reaction_decision_array                = np.empty((NUM_SUBJECTS, reaction_blocks, reaction_trials))\n",
    "agent_reaction_decision_array                 = np.empty((NUM_SUBJECTS,reaction_blocks, reaction_trials))\n",
    "player_reaction_time                          = np.zeros([NUM_SUBJECTS,reaction_blocks,reaction_trials])*np.nan \n",
    "player_yforce_reaction_time                   = np.zeros([NUM_SUBJECTS,reaction_blocks,reaction_trials])*np.nan \n",
    "reaction_trial_type_array                     = np.zeros([NUM_SUBJECTS,reaction_blocks,reaction_trials])*np.nan \n",
    "player_reaction_movement_time                 = np.zeros([NUM_SUBJECTS,reaction_blocks,reaction_trials])*np.nan\n",
    "player_yforce_reaction_movement_time          = np.zeros([NUM_SUBJECTS,reaction_blocks,reaction_trials])*np.nan\n",
    "player_reaction_plus_movement_time            = np.zeros([NUM_SUBJECTS,reaction_blocks,reaction_blocks,reaction_trials])*np.nan\n",
    "reaction_trial_start                          = np.zeros((NUM_SUBJECTS,reaction_blocks,reaction_trials))*np.nan \n",
    "coincidence_trial_start                       = np.zeros((NUM_SUBJECTS, coincidence_trials))*np.nan\n",
    "coincidence_reach_time                        = np.zeros((NUM_SUBJECTS, coincidence_trials))*np.nan\n",
    "interval_trial_start                          = np.zeros((NUM_SUBJECTS, interval_trials))*np.nan\n",
    "interval_reach_time                           = np.zeros((NUM_SUBJECTS, interval_trials))*np.nan\n",
    "\n",
    "for i in range(NUM_SUBJECTS):\n",
    "    subname = figures_pull_list[i]\n",
    "    data_path = PATH+f'\\\\Subjects_Analyzed\\\\{subname}\\\\'\n",
    "    reaction_yforce_data[i,...]                       = dill.load( open(data_path + f'{subname}_reaction_yforce_data.pkl', 'rb'))\n",
    "    reaction_dist_data[i,...]                         = dill.load( open(data_path + f'{subname}_reaction_dist_data.pkl', 'rb'))\n",
    "    player_reaction_time[i,:,:]                       = dill.load(open(data_path + f'{subname}_player_reaction_time.pkl', 'rb'))\n",
    "    player_yforce_reaction_time[i,:,:]                = dill.load(open(data_path + f'{subname}_player_yforce_reaction_time.pkl', 'rb'))\n",
    "    player_reaction_movement_time[i,:,:]              = dill.load(open(data_path + f'{subname}_player_reaction_movement_time.pkl', 'rb'))\n",
    "    player_yforce_reaction_movement_time[i,:,:]       = dill.load(open(data_path + f'{subname}_player_yforce_reaction_movement_time.pkl', 'rb'))\n",
    "    player_reaction_plus_movement_time[i,:,:]         = dill.load(open(data_path + f'{subname}_player_reaction_plus_movement_time.pkl', 'rb'))\n",
    "    player_reaction_decision_array[i,:,:]             = dill.load(open(data_path + f'{subname}_player_reaction_decision_array.pkl', 'rb'))\n",
    "    agent_reaction_decision_array[i,:,:]              = dill.load(open(data_path + f'{subname}_agent_reaction_decision_time.pkl', 'rb'))\n",
    "    reaction_trial_type_array[i,:,:]                  = dill.load(open(data_path + f'{subname}_reaction_trial_type_array.pkl', 'rb'))\n",
    "    interval_trial_start[i,:]                         = dill.load(open(data_path + f'{subname}_interval_trial_start.pkl', 'rb'))\n",
    "    interval_reach_time[i,:]                          = dill.load(open(data_path + f'{subname}_interval_reach_time.pkl', 'rb'))\n",
    "    coincidence_trial_start[i,:]                      = dill.load(open(data_path + f'{subname}_coincidence_trial_start.pkl', 'rb'))\n",
    "    coincidence_reach_time[i,:]                       = dill.load(open(data_path + f'{subname}_coincidence_reach_time.pkl', 'rb'))\n",
    "    print(subname)"
   ]
  },
  {
   "cell_type": "markdown",
   "metadata": {},
   "source": [
    "dill Load Task and Washout"
   ]
  },
  {
   "cell_type": "code",
   "execution_count": 5,
   "metadata": {},
   "outputs": [
    {
     "ename": "FileNotFoundError",
     "evalue": "[Errno 2] No such file or directory: 'D:\\\\OneDrive - University of Delaware - o365\\\\Subject_Data\\\\MatchPennies_Agent_Exp2\\\\Subjects_Analyzed\\\\Sub1\\\\Sub1_task_dist_data.pkl'",
     "output_type": "error",
     "traceback": [
      "\u001b[1;31m---------------------------------------------------------------------------\u001b[0m",
      "\u001b[1;31mFileNotFoundError\u001b[0m                         Traceback (most recent call last)",
      "Cell \u001b[1;32mIn[5], line 28\u001b[0m\n\u001b[0;32m     26\u001b[0m \u001b[39m#task_data[i,:,:,:,:] = dill.load(open(data_path + f'{subname}_task_data.pkl', 'rb'))\u001b[39;00m\n\u001b[0;32m     27\u001b[0m task_yforce_data[i,\u001b[39m.\u001b[39m\u001b[39m.\u001b[39m\u001b[39m.\u001b[39m]                      \u001b[39m=\u001b[39m dill\u001b[39m.\u001b[39mload( \u001b[39mopen\u001b[39m(data_path \u001b[39m+\u001b[39m \u001b[39mf\u001b[39m\u001b[39m'\u001b[39m\u001b[39m{\u001b[39;00msubname\u001b[39m}\u001b[39;00m\u001b[39m_task_yforce_data.pkl\u001b[39m\u001b[39m'\u001b[39m, \u001b[39m'\u001b[39m\u001b[39mrb\u001b[39m\u001b[39m'\u001b[39m))\n\u001b[1;32m---> 28\u001b[0m task_dist_data[i,\u001b[39m.\u001b[39m\u001b[39m.\u001b[39m\u001b[39m.\u001b[39m]                        \u001b[39m=\u001b[39m dill\u001b[39m.\u001b[39mload( \u001b[39mopen\u001b[39;49m(data_path \u001b[39m+\u001b[39;49m \u001b[39mf\u001b[39;49m\u001b[39m'\u001b[39;49m\u001b[39m{\u001b[39;49;00msubname\u001b[39m}\u001b[39;49;00m\u001b[39m_task_dist_data.pkl\u001b[39;49m\u001b[39m'\u001b[39;49m, \u001b[39m'\u001b[39;49m\u001b[39mrb\u001b[39;49m\u001b[39m'\u001b[39;49m))\n\u001b[0;32m     29\u001b[0m player_task_decision_time[i,:,:]             \u001b[39m=\u001b[39m dill\u001b[39m.\u001b[39mload( \u001b[39mopen\u001b[39m(data_path \u001b[39m+\u001b[39m \u001b[39mf\u001b[39m\u001b[39m'\u001b[39m\u001b[39m{\u001b[39;00msubname\u001b[39m}\u001b[39;00m\u001b[39m_player_task_decision_time.pkl\u001b[39m\u001b[39m'\u001b[39m, \u001b[39m'\u001b[39m\u001b[39mrb\u001b[39m\u001b[39m'\u001b[39m))\n\u001b[0;32m     30\u001b[0m player_yforce_task_decision_time[i,:,:]      \u001b[39m=\u001b[39m dill\u001b[39m.\u001b[39mload( \u001b[39mopen\u001b[39m(data_path \u001b[39m+\u001b[39m \u001b[39mf\u001b[39m\u001b[39m'\u001b[39m\u001b[39m{\u001b[39;00msubname\u001b[39m}\u001b[39;00m\u001b[39m_player_yforce_task_decision_time.pkl\u001b[39m\u001b[39m'\u001b[39m, \u001b[39m'\u001b[39m\u001b[39mrb\u001b[39m\u001b[39m'\u001b[39m))\n",
      "File \u001b[1;32mc:\\Users\\Seth Sullivan\\anaconda3\\envs\\py311\\Lib\\site-packages\\IPython\\core\\interactiveshell.py:284\u001b[0m, in \u001b[0;36m_modified_open\u001b[1;34m(file, *args, **kwargs)\u001b[0m\n\u001b[0;32m    277\u001b[0m \u001b[39mif\u001b[39;00m file \u001b[39min\u001b[39;00m {\u001b[39m0\u001b[39m, \u001b[39m1\u001b[39m, \u001b[39m2\u001b[39m}:\n\u001b[0;32m    278\u001b[0m     \u001b[39mraise\u001b[39;00m \u001b[39mValueError\u001b[39;00m(\n\u001b[0;32m    279\u001b[0m         \u001b[39mf\u001b[39m\u001b[39m\"\u001b[39m\u001b[39mIPython won\u001b[39m\u001b[39m'\u001b[39m\u001b[39mt let you open fd=\u001b[39m\u001b[39m{\u001b[39;00mfile\u001b[39m}\u001b[39;00m\u001b[39m by default \u001b[39m\u001b[39m\"\u001b[39m\n\u001b[0;32m    280\u001b[0m         \u001b[39m\"\u001b[39m\u001b[39mas it is likely to crash IPython. If you know what you are doing, \u001b[39m\u001b[39m\"\u001b[39m\n\u001b[0;32m    281\u001b[0m         \u001b[39m\"\u001b[39m\u001b[39myou can use builtins\u001b[39m\u001b[39m'\u001b[39m\u001b[39m open.\u001b[39m\u001b[39m\"\u001b[39m\n\u001b[0;32m    282\u001b[0m     )\n\u001b[1;32m--> 284\u001b[0m \u001b[39mreturn\u001b[39;00m io_open(file, \u001b[39m*\u001b[39;49margs, \u001b[39m*\u001b[39;49m\u001b[39m*\u001b[39;49mkwargs)\n",
      "\u001b[1;31mFileNotFoundError\u001b[0m: [Errno 2] No such file or directory: 'D:\\\\OneDrive - University of Delaware - o365\\\\Subject_Data\\\\MatchPennies_Agent_Exp2\\\\Subjects_Analyzed\\\\Sub1\\\\Sub1_task_dist_data.pkl'"
     ]
    }
   ],
   "source": [
    "path1 = PATH+'\\\\'+'Sub1_Task'\n",
    "task_df = pd.read_csv(path1+f'\\\\Sub1_TaskTrial_Table.csv')\n",
    "task_df = task_df.loc[task_df['Condition type']==3] # Only get the task condition \n",
    "num_trials = int(task_df.iloc[-1]['Block_Step']) # number of trials in each block\n",
    "num_blocks = int(task_df.iloc[-1]['Block_Row'])\n",
    "tot_trials = int(num_trials*num_blocks)\n",
    "trial_time = int(task_df.iloc[0]['Condition time'])\n",
    "task_df_columns = len(fields_pull)\n",
    "trial_table = np.empty((NUM_SUBJECTS, tot_trials, 4), int)\n",
    "#----------------- TASK--------------------------------\n",
    "task_yforce_data                    = np.zeros([NUM_SUBJECTS,num_blocks,num_trials,2000])*np.nan \n",
    "task_dist_data                    = np.zeros([NUM_SUBJECTS,num_blocks,num_trials,2000])*np.nan \n",
    "player_task_reach_time              = np.zeros([NUM_SUBJECTS,num_blocks,num_trials])*np.nan \n",
    "player_task_decision_time           = np.zeros([NUM_SUBJECTS,num_blocks,num_trials])*np.nan \n",
    "player_yforce_task_decision_time    = np.zeros([NUM_SUBJECTS,num_blocks,num_trials])*np.nan \n",
    "player_task_decision_array          = np.zeros([NUM_SUBJECTS,num_blocks,num_trials])*np.nan\n",
    "player_task_movement_time           = np.zeros([NUM_SUBJECTS,num_blocks,num_trials])*np.nan\n",
    "player_yforce_task_movement_time    = np.zeros([NUM_SUBJECTS,num_blocks,num_trials])*np.nan\n",
    "agent_task_reach_time               = np.zeros([NUM_SUBJECTS,num_blocks,num_trials])*np.nan \n",
    "agent_task_decision_time            = np.zeros([NUM_SUBJECTS,num_blocks,num_trials])*np.nan \n",
    "agent_task_decision_array           = np.zeros([NUM_SUBJECTS,num_blocks,num_trials])*np.nan\n",
    "\n",
    "for i in range(NUM_SUBJECTS):\n",
    "    subname = figures_pull_list[i]\n",
    "    data_path = PATH+f'\\\\Subjects_Analyzed\\\\{subname}\\\\'\n",
    "    #task_data[i,:,:,:,:] = dill.load(open(data_path + f'{subname}_task_data.pkl', 'rb'))\n",
    "    task_yforce_data[i,...]                      = dill.load( open(data_path + f'{subname}_task_yforce_data.pkl', 'rb'))\n",
    "    task_dist_data[i,...]                        = dill.load( open(data_path + f'{subname}_task_dist_data.pkl', 'rb'))\n",
    "    player_task_decision_time[i,:,:]             = dill.load( open(data_path + f'{subname}_player_task_decision_time.pkl', 'rb'))\n",
    "    player_yforce_task_decision_time[i,:,:]      = dill.load( open(data_path + f'{subname}_player_yforce_task_decision_time.pkl', 'rb'))\n",
    "    player_task_decision_array[i,:,:]            = dill.load( open(data_path + f'{subname}_player_task_decision_array.pkl', 'rb'))\n",
    "    player_task_movement_time[i,:,:]             = dill.load(open(data_path + f'{subname}_player_task_movement_time.pkl', 'rb'))\n",
    "    player_yforce_task_movement_time[i,:,:]      = dill.load(open(data_path + f'{subname}_player_yforce_task_movement_time.pkl', 'rb'))\n",
    "    player_task_reach_time[i,:,:]                = dill.load( open(data_path + f'{subname}_player_task_reach_time.pkl', 'rb'))\n",
    "    agent_task_decision_time[i,:,:]              = dill.load( open(data_path + f'{subname}_agent_task_decision_time.pkl', 'rb'))\n",
    "    agent_task_decision_array[i,:,:]             = dill.load(open(data_path + f'{subname}_agent_task_decision_array.pkl', 'rb'))\n",
    "    agent_task_reach_time[i,:,:]                 = agent_task_decision_time[i,:,:] + 150"
   ]
  },
  {
   "cell_type": "markdown",
   "metadata": {},
   "source": [
    "## Generate Subject Objects"
   ]
  },
  {
   "cell_type": "markdown",
   "metadata": {},
   "source": [
    "All Trials"
   ]
  },
  {
   "cell_type": "code",
   "execution_count": null,
   "metadata": {},
   "outputs": [
    {
     "name": "stdout",
     "output_type": "stream",
     "text": [
      "Sub1 0\n",
      "Sub2 0\n",
      "Sub4 0\n",
      "Sub5 0\n",
      "Sub6 0\n",
      "Sub7 0\n",
      "Sub8 0\n",
      "Sub1 1\n",
      "Sub2 1\n",
      "Sub4 1\n",
      "Sub5 1\n",
      "Sub6 1\n",
      "Sub7 1\n",
      "Sub8 1\n",
      "Sub1 2\n",
      "Sub2 2\n",
      "Sub4 2\n",
      "Sub5 2\n",
      "Sub6 2\n",
      "Sub7 2\n",
      "Sub8 2\n"
     ]
    }
   ],
   "source": [
    "path1 = PATH+'\\\\'+'Sub1_Task'\n",
    "task_df = pd.read_csv(path1+f'\\\\Sub1_TaskTrial_Table.csv')\n",
    "task_df = task_df.loc[task_df['Condition type']==3] # Only get the task condition \n",
    "num_trials = int(task_df.iloc[-1]['Block_Step']) # number of trials in each block\n",
    "num_blocks = int(task_df.iloc[-1]['Block_Row'])\n",
    "tot_trials = int(num_trials*num_blocks)\n",
    "trial_time = int(task_df.iloc[0]['Condition time'])\n",
    "task_df_columns = len(fields_pull)\n",
    "trial_table = np.empty((NUM_SUBJECTS, tot_trials, 4), int)\n",
    "\n",
    "\n",
    "NUM_STDS = [0,1,2]\n",
    "append_dict = {0:'reaction_time_no_sd_off',1:'reaction_time_minus_sd',2:'reaction_time_minus_2sd'}\n",
    "data_path = 'Subjects_Analyzed\\\\'\n",
    "for sd in NUM_STDS:\n",
    "    subject_objects = []\n",
    "    for i in range(NUM_SUBJECTS):\n",
    "        subname = figures_pull_list[i]\n",
    "        print(subname,sd)\n",
    "        subject_object = Subject_Object.Subject(task_yforce_data = task_yforce_data[i], reaction_yforce_data = reaction_yforce_data[i],task_dist_data = task_dist_data[i], reaction_dist_data = reaction_dist_data[i],\n",
    "            experiment = 'Exp2', select_trials = 'All Trials',num_trials = 80, num_blocks = 4, num_reaction_blocks = 3, num_reaction_trials = 100,num_timing_trials = 50, reaction_trial_type_array = reaction_trial_type_array[i],\n",
    "            reaction_time = player_reaction_time[i], reaction_movement_time = player_reaction_movement_time[i],reaction_plus_movement_time = player_reaction_plus_movement_time[i],\n",
    "            yforce_reaction_time = player_yforce_reaction_time[i], yforce_reaction_movement_time = player_yforce_reaction_movement_time[i],\n",
    "            interval_trial_start = interval_trial_start[i], interval_reach_time = interval_reach_time[i], coincidence_trial_start = coincidence_trial_start[i], coincidence_reach_time = coincidence_reach_time[i],\n",
    "            player_task_reach_time = player_task_reach_time[i], player_task_leave_time = player_task_decision_time[i], player_task_decision_array = player_task_decision_array[i],\n",
    "            player_task_movement_time = player_task_movement_time[i], player_yforce_task_leave_time = player_yforce_task_decision_time[i],player_yforce_task_movement_time = player_yforce_task_movement_time[i],\n",
    "            agent_task_reach_time = agent_task_reach_time[i], agent_task_leave_time = agent_task_decision_time[i], agent_task_decision_array = agent_task_decision_array[i],\n",
    "            num_stds_for_reaction_time = sd\n",
    "                                    )\n",
    "        subject_objects.append(subject_object)\n",
    "        dill.dump(subject_object, open(data_path + f'{subname}\\\\{subname}_object_{append_dict[sd]}.pkl', 'wb'))\n",
    "        \n",
    "    group = Subject_Object.Group(subject_objects)\n",
    "    dill.dump(group,open(data_path + f'group_object_{append_dict[sd]}.pkl','wb'))"
   ]
  },
  {
   "attachments": {},
   "cell_type": "markdown",
   "metadata": {},
   "source": [
    "First Half"
   ]
  },
  {
   "cell_type": "code",
   "execution_count": null,
   "metadata": {},
   "outputs": [
    {
     "name": "stdout",
     "output_type": "stream",
     "text": [
      "Sub1 0\n",
      "Sub2 0\n",
      "Sub4 0\n",
      "Sub5 0\n",
      "Sub6 0\n",
      "Sub7 0\n",
      "Sub8 0\n",
      "Sub1 1\n",
      "Sub2 1\n",
      "Sub4 1\n",
      "Sub5 1\n",
      "Sub6 1\n",
      "Sub7 1\n",
      "Sub8 1\n",
      "Sub1 2\n",
      "Sub2 2\n",
      "Sub4 2\n",
      "Sub5 2\n",
      "Sub6 2\n",
      "Sub7 2\n",
      "Sub8 2\n"
     ]
    }
   ],
   "source": [
    "path1 = PATH+'\\\\'+'Sub1_Task'\n",
    "task_df = pd.read_csv(path1+f'\\\\Sub1_TaskTrial_Table.csv')\n",
    "task_df = task_df.loc[task_df['Condition type']==3] # Only get the task condition \n",
    "num_trials = int(task_df.iloc[-1]['Block_Step']) # number of trials in each block\n",
    "num_blocks = int(task_df.iloc[-1]['Block_Row'])\n",
    "tot_trials = int(num_trials*num_blocks)\n",
    "trial_time = int(task_df.iloc[0]['Condition time'])\n",
    "task_df_columns = len(fields_pull)\n",
    "trial_table = np.empty((NUM_SUBJECTS, tot_trials, 4), int)\n",
    "\n",
    "\n",
    "NUM_STDS = [0,1,2]\n",
    "append_dict = {0:'reaction_time_no_sd_off',1:'reaction_time_minus_sd',2:'reaction_time_minus_2sd'}\n",
    "data_path = 'Subjects_Analyzed\\\\'\n",
    "for sd in NUM_STDS:\n",
    "    subject_objects = []\n",
    "    for i in range(NUM_SUBJECTS):\n",
    "        subname = figures_pull_list[i]\n",
    "        print(subname,sd)\n",
    "        subject_object = Subject_Object.Subject(task_yforce_data = task_yforce_data[i], reaction_yforce_data = reaction_yforce_data[i],task_dist_data = task_dist_data[i], reaction_dist_data = reaction_dist_data[i],\n",
    "            experiment = 'Exp2', select_trials = 'First Half',num_trials = 80, num_blocks = 4, num_reaction_blocks = 3, num_reaction_trials = 100,num_timing_trials = 50, reaction_trial_type_array = reaction_trial_type_array[i],\n",
    "            reaction_time = player_reaction_time[i], reaction_movement_time = player_reaction_movement_time[i],reaction_plus_movement_time = player_reaction_plus_movement_time[i],\n",
    "            yforce_reaction_time = player_yforce_reaction_time[i], yforce_reaction_movement_time = player_yforce_reaction_movement_time[i],\n",
    "            interval_trial_start = interval_trial_start[i], interval_reach_time = interval_reach_time[i], coincidence_trial_start = coincidence_trial_start[i], coincidence_reach_time = coincidence_reach_time[i],\n",
    "            player_task_reach_time = player_task_reach_time[i], player_task_leave_time = player_task_decision_time[i], player_task_decision_array = player_task_decision_array[i],\n",
    "            player_task_movement_time = player_task_movement_time[i], player_yforce_task_leave_time = player_yforce_task_decision_time[i],player_yforce_task_movement_time = player_yforce_task_movement_time[i],\n",
    "            agent_task_reach_time = agent_task_reach_time[i], agent_task_leave_time = agent_task_decision_time[i], agent_task_decision_array = agent_task_decision_array[i],\n",
    "            num_stds_for_reaction_time = sd\n",
    "                                    )\n",
    "        subject_objects.append(subject_object)\n",
    "        dill.dump(subject_object, open(data_path + f'{subname}\\\\{subname}_object_{append_dict[sd]}.pkl', 'wb'))\n",
    "        \n",
    "    group = Subject_Object.Group(subject_objects)\n",
    "    dill.dump(group,open(data_path + f'group_object_{append_dict[sd]}.pkl','wb'))"
   ]
  },
  {
   "attachments": {},
   "cell_type": "markdown",
   "metadata": {},
   "source": [
    "Second Half"
   ]
  },
  {
   "cell_type": "code",
   "execution_count": null,
   "metadata": {},
   "outputs": [
    {
     "name": "stdout",
     "output_type": "stream",
     "text": [
      "Sub1 0\n",
      "Sub2 0\n",
      "Sub4 0\n",
      "Sub5 0\n",
      "Sub6 0\n",
      "Sub7 0\n",
      "Sub8 0\n",
      "Sub1 1\n",
      "Sub2 1\n",
      "Sub4 1\n",
      "Sub5 1\n",
      "Sub6 1\n",
      "Sub7 1\n",
      "Sub8 1\n",
      "Sub1 2\n",
      "Sub2 2\n",
      "Sub4 2\n",
      "Sub5 2\n",
      "Sub6 2\n",
      "Sub7 2\n",
      "Sub8 2\n"
     ]
    }
   ],
   "source": [
    "path1 = PATH+'\\\\'+'Sub1_Task'\n",
    "task_df = pd.read_csv(path1+f'\\\\Sub1_TaskTrial_Table.csv')\n",
    "task_df = task_df.loc[task_df['Condition type']==3] # Only get the task condition \n",
    "num_trials = int(task_df.iloc[-1]['Block_Step']) # number of trials in each block\n",
    "num_blocks = int(task_df.iloc[-1]['Block_Row'])\n",
    "tot_trials = int(num_trials*num_blocks)\n",
    "trial_time = int(task_df.iloc[0]['Condition time'])\n",
    "task_df_columns = len(fields_pull)\n",
    "trial_table = np.empty((NUM_SUBJECTS, tot_trials, 4), int)\n",
    "\n",
    "\n",
    "NUM_STDS = [0,1,2]\n",
    "append_dict = {0:'reaction_time_no_sd_off',1:'reaction_time_minus_sd',2:'reaction_time_minus_2sd'}\n",
    "data_path = 'Subjects_Analyzed\\\\'\n",
    "for sd in NUM_STDS:\n",
    "    subject_objects = []\n",
    "    for i in range(NUM_SUBJECTS):\n",
    "        subname = figures_pull_list[i]\n",
    "        print(subname,sd)\n",
    "        subject_object = Subject_Object.Subject(task_yforce_data = task_yforce_data[i], reaction_yforce_data = reaction_yforce_data[i],task_dist_data = task_dist_data[i], reaction_dist_data = reaction_dist_data[i],\n",
    "            experiment = 'Exp2', select_trials = 'Second Half',num_trials = 80, num_blocks = 4, num_reaction_blocks = 3, num_reaction_trials = 100,num_timing_trials = 50, reaction_trial_type_array = reaction_trial_type_array[i],\n",
    "            reaction_time = player_reaction_time[i], reaction_movement_time = player_reaction_movement_time[i],reaction_plus_movement_time = player_reaction_plus_movement_time[i],\n",
    "            yforce_reaction_time = player_yforce_reaction_time[i], yforce_reaction_movement_time = player_yforce_reaction_movement_time[i],\n",
    "            interval_trial_start = interval_trial_start[i], interval_reach_time = interval_reach_time[i], coincidence_trial_start = coincidence_trial_start[i], coincidence_reach_time = coincidence_reach_time[i],\n",
    "            player_task_reach_time = player_task_reach_time[i], player_task_leave_time = player_task_decision_time[i], player_task_decision_array = player_task_decision_array[i],\n",
    "            player_task_movement_time = player_task_movement_time[i], player_yforce_task_leave_time = player_yforce_task_decision_time[i],player_yforce_task_movement_time = player_yforce_task_movement_time[i],\n",
    "            agent_task_reach_time = agent_task_reach_time[i], agent_task_leave_time = agent_task_decision_time[i], agent_task_decision_array = agent_task_decision_array[i],\n",
    "            num_stds_for_reaction_time = sd\n",
    "                                    )\n",
    "        subject_objects.append(subject_object)\n",
    "        dill.dump(subject_object, open(data_path + f'{subname}\\\\{subname}_object_{append_dict[sd]}.pkl', 'wb'))\n",
    "        \n",
    "    group = Subject_Object.Group(subject_objects)\n",
    "    dill.dump(group,open(data_path + f'group_object_{append_dict[sd]}.pkl','wb'))"
   ]
  },
  {
   "cell_type": "code",
   "execution_count": null,
   "metadata": {},
   "outputs": [
    {
     "name": "stderr",
     "output_type": "stream",
     "text": [
      "D:\\OneDrive - University of Delaware - o365\\Desktop\\MatchPennies-Agent-Expirement\\Subject_Object.py:412: RuntimeWarning: Mean of empty slice\n",
      "  self.binned_player_task_leave_times_mean            = np.nanmean(self.binned_player_task_leave_times,axis=2) # Mean for each bin, each condition\n",
      "D:\\OneDrive - University of Delaware - o365\\Desktop\\MatchPennies-Agent-Expirement\\Subject_Object.py:413: RuntimeWarning: Mean of empty slice\n",
      "  self.binned_player_minus_agent_task_leave_time_mean = np.nanmean(self.binned_player_minus_agent_task_leave_time,axis=2)\n",
      "D:\\OneDrive - University of Delaware - o365\\Desktop\\MatchPennies-Agent-Expirement\\Subject_Object.py:363: RuntimeWarning: invalid value encountered in divide\n",
      "  self.player_perc_both_reached_wins = (self.player_both_reached_wins/self.total_both_reached)*100\n",
      "D:\\OneDrive - University of Delaware - o365\\Desktop\\MatchPennies-Agent-Expirement\\Subject_Object.py:364: RuntimeWarning: invalid value encountered in divide\n",
      "  self.player_perc_both_reached_incorrects = (self.player_both_reached_incorrects/self.total_both_reached)*100\n"
     ]
    }
   ],
   "source": [
    "group.analyze_data()"
   ]
  },
  {
   "cell_type": "code",
   "execution_count": null,
   "metadata": {},
   "outputs": [
    {
     "data": {
      "text/plain": [
       "(7, 4, 40, 2000)"
      ]
     },
     "execution_count": 31,
     "metadata": {},
     "output_type": "execute_result"
    }
   ],
   "source": [
    "group.task_yforce_data.shape"
   ]
  }
 ],
 "metadata": {
  "kernelspec": {
   "display_name": "Python 3.9.12 ('base')",
   "language": "python",
   "name": "python3"
  },
  "language_info": {
   "codemirror_mode": {
    "name": "ipython",
    "version": 3
   },
   "file_extension": ".py",
   "mimetype": "text/x-python",
   "name": "python",
   "nbconvert_exporter": "python",
   "pygments_lexer": "ipython3",
   "version": "3.11.2"
  },
  "orig_nbformat": 4,
  "vscode": {
   "interpreter": {
    "hash": "1a00c1525417994d84940f6a64b96d4df953e4f0863c4f32c2c802abdf8195ff"
   }
  }
 },
 "nbformat": 4,
 "nbformat_minor": 2
}
