{
 "cells": [
  {
   "cell_type": "code",
   "execution_count": 45,
   "metadata": {},
   "outputs": [],
   "source": [
    "import pandas as pd\n",
    "import matplotlib.pyplot as plt\n",
    "import numpy as np\n",
    "import glob\n",
    "import os\n",
    "import math\n",
    "from os import listdir\n",
    "import data_visualization as dv\n",
    "import pickle\n",
    "import scipy \n",
    "from scipy.stats import norm\n",
    "from scipy import stats\n",
    "from tqdm import tqdm \n",
    "'''\n",
    "This script was when I was testing if people reacted faster to the agent than they \n",
    "did to the targets popping up \n",
    "'''"
   ]
  },
  {
   "cell_type": "markdown",
   "metadata": {},
   "source": [
    "Get blocks, trials, pull list"
   ]
  },
  {
   "cell_type": "code",
   "execution_count": 46,
   "metadata": {},
   "outputs": [],
   "source": [
    "# Fields pull and pull list\n",
    "experiment1 = 1\n",
    "if experiment1 == 1:\n",
    "    os.chdir('D:\\Subject_Data\\Target_Reaction_vs_Agent_Reaction')\n",
    "PATH = os.getcwd()\n",
    "analysis_pull_list_uniform = []\n",
    "analysis_pull_list_normal = []\n",
    "fields_pull = []\n",
    "with open(PATH+\"\\\\Analysis_Pull_List_Uniform.txt\", \"r\") as pull_file:\n",
    "    analysis_pull_list_uniform = pull_file.read().splitlines()\n",
    "with open(PATH+\"\\\\Analysis_Pull_List_Normal.txt\", \"r\") as pull_file:\n",
    "    analysis_pull_list_normal = pull_file.read().splitlines()\n",
    "with open(PATH+\"\\\\Fields_Pull.txt\", \"r\") as fields_pull:\n",
    "    fields_pull = fields_pull.read().splitlines()\n",
    "\n",
    "# SPECIFIC TO EXPERIMENT\n",
    "uniform_trials = 50\n",
    "uniform_blocks = 2\n",
    "normal_trials = 50\n",
    "normal_blocks = 1\n",
    "tot_uniform_trials = uniform_trials*uniform_blocks\n",
    "tpt_normal_trials = normal_blocks*normal_trials\n",
    "data_columns = len(fields_pull)\n",
    "trial_time = 1500\n",
    "num_subjects = len(analysis_pull_list_uniform)\n",
    "\n"
   ]
  },
  {
   "cell_type": "markdown",
   "metadata": {},
   "source": [
    "Get Target info"
   ]
  },
  {
   "cell_type": "code",
   "execution_count": 47,
   "metadata": {},
   "outputs": [],
   "source": [
    "file = PATH+'\\\\Sub1_Uniform\\\\Sub1_UniformTarget_Table.csv'\n",
    "df = pd.read_csv(file)\n",
    "df[\"X\"] = df[\"X\"]/100\n",
    "df[\"Y\"] = df[\"Y\"]/100\n",
    "df['Dim 1'] = df['Dim 1']/100 # Target table is in centimeters, I guess this doesn't matter but it makes me feel better\n",
    "df['Dim 2'] = df['Dim 2']/100\n",
    "# Target information for Right Hand (keeping this because the positions of target 3 and 4 are based on target 1 and start 1)\n",
    "start1x = df.loc[0]['X']\n",
    "start1y = df.loc[0]['Y']\n",
    "start1_radius = df.loc[0]['Dim 1'] \n",
    "\n",
    "target1x = df.loc[1]['X']\n",
    "target1y = df.loc[1]['Y']\n",
    "t1_pos = np.sqrt(target1x**2 + target1y**2)\n",
    "target1_radius = df.loc[1]['Dim 1']\n",
    "\n",
    "target2x = 2*start1x - target1x\n",
    "target2y = target1y\n",
    "t2_pos = np.sqrt(target2x**2 + target2y**2)\n",
    "target2_radius = target1_radius"
   ]
  },
  {
   "cell_type": "markdown",
   "metadata": {},
   "source": [
    "Analyze Uniform Distribution Trials"
   ]
  },
  {
   "cell_type": "code",
   "execution_count": 48,
   "metadata": {},
   "outputs": [
    {
     "name": "stdout",
     "output_type": "stream",
     "text": [
      "0 Sub1_Uniform\n"
     ]
    },
    {
     "name": "stderr",
     "output_type": "stream",
     "text": [
      " 55%|█████▌    | 55/100 [00:01<00:01, 27.87it/s]"
     ]
    },
    {
     "name": "stdout",
     "output_type": "stream",
     "text": [
      "(1463, 4)\n",
      "537\n",
      "(2000, 4)\n"
     ]
    },
    {
     "name": "stderr",
     "output_type": "stream",
     "text": [
      "100%|██████████| 100/100 [00:03<00:00, 28.17it/s]\n"
     ]
    },
    {
     "name": "stdout",
     "output_type": "stream",
     "text": [
      "1 Sub2_Uniform\n"
     ]
    },
    {
     "name": "stderr",
     "output_type": "stream",
     "text": [
      "100%|██████████| 100/100 [00:04<00:00, 23.84it/s]\n"
     ]
    },
    {
     "name": "stdout",
     "output_type": "stream",
     "text": [
      "2 Sub3_Uniform\n"
     ]
    },
    {
     "name": "stderr",
     "output_type": "stream",
     "text": [
      "  6%|▌         | 6/100 [00:00<00:01, 50.56it/s]"
     ]
    },
    {
     "name": "stdout",
     "output_type": "stream",
     "text": [
      "(1500, 4)\n",
      "500\n",
      "(2000, 4)\n"
     ]
    },
    {
     "name": "stderr",
     "output_type": "stream",
     "text": [
      "100%|██████████| 100/100 [00:01<00:00, 53.08it/s]\n"
     ]
    }
   ],
   "source": [
    "trial_time = 2000\n",
    "rt_decision_array_uniform = np.empty((num_subjects,uniform_blocks,uniform_trials))\n",
    "rmt_decision_array_uniform = np.empty((num_subjects, uniform_blocks,uniform_trials))\n",
    "rt_trial_start_uniform = np.zeros((num_subjects, uniform_blocks,uniform_trials))*np.nan\n",
    "reaction_movement_time_uniform = np.zeros([num_subjects, uniform_blocks,uniform_trials])*np.nan\n",
    "reaction_time_uniform = np.zeros([num_subjects, uniform_blocks,uniform_trials])*np.nan\n",
    "rt_hand_pos_data_uniform = np.zeros((num_subjects, uniform_blocks, uniform_trials, trial_time, 4))*np.nan\n",
    "agent_decision_time_uniform = np.empty((num_subjects,uniform_blocks,uniform_trials))\n",
    "timing_reach_time = np.zeros([num_subjects, uniform_blocks,uniform_blocks])*np.nan\n",
    "for w in range(num_subjects):\n",
    "    sub_name = analysis_pull_list_uniform[w]\n",
    "    print(w, sub_name)\n",
    "    block_number = 1\n",
    "    tp_num = 1\n",
    "    sub_name = analysis_pull_list_uniform[w]\n",
    "    path1 = PATH+'\\\\'+sub_name\n",
    "    file = path1+f'\\\\{sub_name}Trial_Table.csv'\n",
    "    reaction_trial_table = pd.read_csv(file)\n",
    "    min_tp_num = np.min(reaction_trial_table['TP_Row'].unique()) # Gets minimum tp number and subtracts it off... keeps conditions in the same order, with first tp always being at index 0\n",
    "    #reaction_trial_table = reaction_trial_table.loc[reaction_trial_table['TP_Row']==1]\n",
    "    \n",
    "    for i in tqdm((range(tot_uniform_trials))):\n",
    "        block_number = reaction_trial_table.iloc[i]['Block_Row']\n",
    "        tp_num = reaction_trial_table.iloc[i]['TP_Row']\n",
    "        block_trial_num = reaction_trial_table.iloc[i]['Block_Step']\n",
    "        x = tp_num - min_tp_num\n",
    "        c = block_trial_num - 1\n",
    "        filename = PATH+f\"\\\\{sub_name}\\\\Target_Reaction_vs_Agent_Reaction_{sub_name}_C{block_number}_TP{tp_num}_T{block_trial_num}.csv\"\n",
    "\n",
    "        data = pd.read_csv(filename, low_memory=False)\n",
    "        if reaction_trial_table.iloc[i]['Condition type'] == 0:\n",
    "            rt_trial_start_uniform[w,x,c]= int(data[data['Event_Codes']=='E_SOUND_SIGNAL'].index[0]) #if event codes column is equal to the list event codes, give the index (time)\n",
    "            rt_trial_start_uniform[w,x,c] = rt_trial_start_uniform[w,x,c].astype(int)\n",
    "            end_time = rt_trial_start_uniform[w,x,c]+trial_time\n",
    "\n",
    "            data = np.array(data)\n",
    "            hand_data = data[:,0:4] # data is only columns 0 thru 3 (RHX,RHY,LHX,LHY)\n",
    "            hand_data = hand_data.astype(float)\n",
    "            hand_data_constrained = hand_data[rt_trial_start_uniform[w,x,c]:end_time,:] # Constrain to length of trial \n",
    "            # If the hand_data_constrained is less than 2000, then place nans on the end with np.append\n",
    "            if hand_data_constrained.shape[0]<2000:\n",
    "                print(hand_data_constrained.shape)\n",
    "                extra_nan_length = 2000 - hand_data_constrained.shape[0]\n",
    "                print(len([np.nan]*extra_nan_length))\n",
    "                hand_data_constrained = np.append(hand_data_constrained,np.zeros((extra_nan_length,4))*np.nan, axis = 0)\n",
    "                print(np.shape(hand_data_constrained))\n",
    "            rt_hand_pos_data_uniform[w,x,c,:,:] = hand_data_constrained\n",
    "            # LEFT HAND\n",
    "            lhx = rt_hand_pos_data_uniform[w,x,c,:,2]\n",
    "            lhy = rt_hand_pos_data_uniform[w,x,c,:,3]\n",
    "            \n",
    "            q = np.argwhere(np.sqrt((lhx-target1x)**2 + (lhy-target1y)**2) < target1_radius)\n",
    "            r = np.argwhere(np.sqrt((lhx-target2x)**2 + (lhy-target2y)**2) < target2_radius) \n",
    "            s = np.argwhere(np.sqrt((lhx-start1x)**2 + (lhy-start1y)**2) > start1_radius)\n",
    "            if np.size(s)>0: \n",
    "                reaction_time_uniform[w,x,c] = s[0]\n",
    "            if np.size(q)>0: #if LH enters right target\n",
    "                rmt_decision_array_uniform[w,x,c] = 1\n",
    "                reaction_movement_time_uniform[w,x,c] = q[0]\n",
    "            elif np.size(r)>0: #if LH enters left target\n",
    "                rmt_decision_array_uniform[w,x,c] = -1   \n",
    "                reaction_movement_time_uniform[w,x,c] = r[0]\n",
    "                \n",
    "        elif reaction_trial_table.iloc[i]['Condition type'] == 2:\n",
    "            rt_trial_start_uniform[w,x,c]= int(data[data['Event_Codes']=='E_SOUND_SIGNAL'].index[0]) #if event codes column is equal to the list event codes, give the index (time)\n",
    "            rt_trial_start_uniform = rt_trial_start_uniform.astype(int)\n",
    "            end_time = rt_trial_start_uniform[w,x,c] + 2000\n",
    "            agent_decision_time_uniform[w,x,c] = data.iloc[rt_trial_start_uniform[w,x,c]+1]['Agent_Reach_Time'] - 150\n",
    "            data = np.array(data)\n",
    "            hand_data = data[:,0:4] # data is only columns 0 thru 3 (RHX,RHY,LHX,LHY)\n",
    "            hand_data = hand_data.astype(float)\n",
    "            \n",
    "            hand_data_constrained = hand_data[rt_trial_start_uniform[w,x,c]:end_time,:] # Constrain to length of trial \n",
    "            # If the hand_data_constrained is less than 2000, then place nans on the end with np.append\n",
    "            if hand_data_constrained.shape[0]<2000:\n",
    "                print(hand_data_constrained.shape)\n",
    "                extra_nan_length = 2000 - hand_data_constrained.shape[0]\n",
    "                print(len([np.nan]*extra_nan_length))\n",
    "                hand_data_constrained = np.append(hand_data_constrained,np.zeros((extra_nan_length,4))*np.nan, axis = 0)\n",
    "                print(np.shape(hand_data_constrained))\n",
    "            rt_hand_pos_data_uniform[w,x,c,:,:] = hand_data_constrained\n",
    "            # LEFT HAND\n",
    "            lhx = rt_hand_pos_data_uniform[w,x,c,:,2]\n",
    "            lhy = rt_hand_pos_data_uniform[w,x,c,:,3]\n",
    "            \n",
    "            q = np.argwhere(np.sqrt((lhx-target1x)**2 + (lhy-target1y)**2) < target1_radius)\n",
    "            r = np.argwhere(np.sqrt((lhx-target2x)**2 + (lhy-target2y)**2) < target2_radius) \n",
    "            s = np.argwhere(np.sqrt((lhx-start1x)**2 + (lhy-start1y)**2) > start1_radius*2)\n",
    "            if np.size(s)>0: \n",
    "                reaction_time_uniform[w,x,c] = s[0] - agent_decision_time_uniform[w,x,c]\n",
    "            if np.size(q)>0: #if LH enters right target\n",
    "                rmt_decision_array_uniform[w,x,c] = 1\n",
    "                reaction_movement_time_uniform[w,x,c] = q[0]\n",
    "            elif np.size(r)>0: #if LH enters left target\n",
    "                rmt_decision_array_uniform[w,x,c] = -1   \n",
    "                reaction_movement_time_uniform[w,x,c] = r[0]\n",
    "\n",
    "        \n"
   ]
  },
  {
   "cell_type": "markdown",
   "metadata": {},
   "source": [
    "Analyze Normal Distribution Condition"
   ]
  },
  {
   "cell_type": "code",
   "execution_count": 49,
   "metadata": {},
   "outputs": [
    {
     "name": "stdout",
     "output_type": "stream",
     "text": [
      "0 Sub1_Normal\n"
     ]
    },
    {
     "name": "stderr",
     "output_type": "stream",
     "text": [
      "100%|██████████| 50/50 [00:00<00:00, 56.91it/s]\n"
     ]
    },
    {
     "name": "stdout",
     "output_type": "stream",
     "text": [
      "1 Sub2_Normal\n"
     ]
    },
    {
     "name": "stderr",
     "output_type": "stream",
     "text": [
      "100%|██████████| 50/50 [00:00<00:00, 59.19it/s]\n"
     ]
    },
    {
     "name": "stdout",
     "output_type": "stream",
     "text": [
      "2 Sub3_Normal\n"
     ]
    },
    {
     "name": "stderr",
     "output_type": "stream",
     "text": [
      "100%|██████████| 50/50 [00:00<00:00, 62.05it/s]\n"
     ]
    }
   ],
   "source": [
    "trial_time = 2000\n",
    "rt_decision_array_normal = np.empty((num_subjects,normal_blocks,normal_trials))\n",
    "rmt_decision_array_normal = np.empty((num_subjects, normal_blocks,normal_trials))\n",
    "rt_trial_start_normal = np.zeros((num_subjects, normal_blocks,normal_trials))*np.nan\n",
    "reaction_movement_time_normal = np.zeros([num_subjects, normal_blocks,normal_trials])*np.nan\n",
    "reaction_time_normal = np.zeros([num_subjects, normal_blocks,normal_trials])*np.nan\n",
    "rt_hand_pos_data_normal = np.zeros((num_subjects, normal_blocks, normal_trials, trial_time, 4))*np.nan\n",
    "agent_decision_time_normal = np.empty((num_subjects,normal_blocks,normal_trials))\n",
    "timing_reach_time = np.zeros([num_subjects, normal_blocks,normal_blocks])*np.nan\n",
    "for w in range(num_subjects):\n",
    "    sub_name = analysis_pull_list_normal[w]\n",
    "    print(w, sub_name)\n",
    "    block_number = 1\n",
    "    tp_num = 1\n",
    "    sub_name = analysis_pull_list_normal[w]\n",
    "    path1 = PATH+'\\\\'+sub_name\n",
    "    file = path1+f'\\\\{sub_name}Trial_Table.csv'\n",
    "    reaction_trial_table = pd.read_csv(file)\n",
    "    min_tp_num = np.min(reaction_trial_table['TP_Row'].unique()) # Gets minimum tp number and subtracts it off... keeps conditions in the same order, with first tp always being at index 0\n",
    "    #reaction_trial_table = reaction_trial_table.loc[reaction_trial_table['TP_Row']==1]\n",
    "    \n",
    "    for i in tqdm((range(normal_trials))):\n",
    "        block_number = reaction_trial_table.iloc[i]['Block_Row']\n",
    "        tp_num = reaction_trial_table.iloc[i]['TP_Row']\n",
    "        block_trial_num = reaction_trial_table.iloc[i]['Block_Step']\n",
    "        x = tp_num - min_tp_num\n",
    "        c = block_trial_num - 1\n",
    "        filename = PATH+f\"\\\\{sub_name}\\\\Target_Reaction_vs_Agent_Reaction_{sub_name}_C{block_number}_TP{tp_num}_T{block_trial_num}.csv\"\n",
    "        data = pd.read_csv(filename, low_memory=False)\n",
    "                \n",
    "        rt_trial_start_normal[w,x,c]= int(data[data['Event_Codes']=='E_SOUND_SIGNAL'].index[0]) #if event codes column is equal to the list event codes, give the index (time)\n",
    "        rt_trial_start_normal = rt_trial_start_normal.astype(int)\n",
    "        end_time = rt_trial_start_normal[w,x,c] + 2000\n",
    "        agent_decision_time_normal[w,x,c] = data.iloc[rt_trial_start_normal[w,x,c]+1]['Agent_Reach_Time'] - 150\n",
    "        data = np.array(data)\n",
    "        hand_data = data[:,0:4] # data is only columns 0 thru 3 (RHX,RHY,LHX,LHY)\n",
    "        hand_data = hand_data.astype(float)\n",
    "        \n",
    "        hand_data_constrained = hand_data[rt_trial_start_normal[w,x,c]:end_time,:] # Constrain to length of trial \n",
    "        # If the hand_data_constrained is less than 2000, then place nans on the end with np.append\n",
    "        if hand_data_constrained.shape[0]<2000:\n",
    "            print(hand_data_constrained.shape)\n",
    "            extra_nan_length = 2000 - hand_data_constrained.shape[0]\n",
    "            print(len([np.nan]*extra_nan_length))\n",
    "            hand_data_constrained = np.append(hand_data_constrained,np.zeros((extra_nan_length,4))*np.nan, axis = 0)\n",
    "            print(np.shape(hand_data_constrained))\n",
    "        rt_hand_pos_data_normal[w,x,c,:,:] = hand_data_constrained\n",
    "        # LEFT HAND\n",
    "        lhx = rt_hand_pos_data_normal[w,x,c,:,2]\n",
    "        lhy = rt_hand_pos_data_normal[w,x,c,:,3]\n",
    "        \n",
    "        q = np.argwhere(np.sqrt((lhx-target1x)**2 + (lhy-target1y)**2) < target1_radius)\n",
    "        r = np.argwhere(np.sqrt((lhx-target2x)**2 + (lhy-target2y)**2) < target2_radius) \n",
    "        s = np.argwhere(np.sqrt((lhx-start1x)**2 + (lhy-start1y)**2) > start1_radius*2)\n",
    "        if np.size(s)>0: \n",
    "            reaction_time_normal[w,x,c] = s[0] - agent_decision_time_normal[w,x,c]\n",
    "        if np.size(q)>0: #if LH enters right target\n",
    "            rmt_decision_array_normal[w,x,c] = 1\n",
    "            reaction_movement_time_normal[w,x,c] = q[0]\n",
    "        elif np.size(r)>0: #if LH enters left target\n",
    "            rmt_decision_array_normal[w,x,c] = -1   \n",
    "            reaction_movement_time_normal[w,x,c] = r[0]\n"
   ]
  },
  {
   "cell_type": "code",
   "execution_count": 50,
   "metadata": {},
   "outputs": [
    {
     "data": {
      "text/plain": [
       "(3, 2, 50)"
      ]
     },
     "execution_count": 50,
     "metadata": {},
     "output_type": "execute_result"
    }
   ],
   "source": [
    "np.shape(reaction_movement_time_uniform)"
   ]
  },
  {
   "cell_type": "code",
   "execution_count": 51,
   "metadata": {},
   "outputs": [],
   "source": [
    "n = 0\n",
    "mean_reaction_time_uniform_two_target = np.mean(reaction_time_uniform[:,:,n:], axis = 2)[:,1]\n",
    "mean_reaction_time_uniform_agent = np.mean(reaction_time_uniform[:,:,n:], axis = 2)[:,0]\n",
    "mean_reaction_time_normal = np.mean(reaction_time_normal[:,:,n:], axis = 2)[:,0]"
   ]
  },
  {
   "cell_type": "markdown",
   "metadata": {},
   "source": [
    "Plot Reaction Times for Each Condition"
   ]
  },
  {
   "cell_type": "code",
   "execution_count": 52,
   "metadata": {},
   "outputs": [],
   "source": [
    "plt.style.use('cashaback_dark')"
   ]
  },
  {
   "cell_type": "code",
   "execution_count": 53,
   "metadata": {},
   "outputs": [
    {
     "data": {
      "text/plain": [
       "array([[311.4423645 , 398.06967773, 339.159104  ],\n",
       "       [325.        , 376.26      , 314.04      ],\n",
       "       [326.50654175, 406.09731445, 348.40030884]])"
      ]
     },
     "execution_count": 53,
     "metadata": {},
     "output_type": "execute_result"
    }
   ],
   "source": [
    "all_reaction_times = np.vstack((mean_reaction_time_uniform_agent, mean_reaction_time_uniform_two_target, mean_reaction_time_normal))\n",
    "all_reaction_times"
   ]
  },
  {
   "cell_type": "code",
   "execution_count": 54,
   "metadata": {},
   "outputs": [
    {
     "data": {
      "image/png": "[encoded data removed]",
      "text/plain": [
       "<Figure size 1000x500 with 1 Axes>"
      ]
     },
     "metadata": {},
     "output_type": "display_data"
    }
   ],
   "source": [
    "fig, ax = plt.subplots(dpi = 125, figsize=(8,4))\n",
    "dv.boxplot(mean_reaction_time_uniform_agent, ax=ax,x_pos = 0)\n",
    "dv.boxplot(mean_reaction_time_uniform_two_target, ax=ax,x_pos=1)\n",
    "dv.boxplot(mean_reaction_time_normal, ax=ax, x_pos = 2)\n",
    "dv.jitter_array(ax = ax, data_list = all_reaction_times, x_positions=[0,1,2],noise_scale = 0.1)\n",
    "ax.set_xticklabels(['Uniform Agent', 'Uniform Two Target', 'Normal Dist. Agent'])\n",
    "ax.set_ylabel('Time (ms)')\n",
    "ax.set_xlabel('Condition')\n",
    "plt.show()"
   ]
  },
  {
   "cell_type": "code",
   "execution_count": null,
   "metadata": {},
   "outputs": [],
   "source": []
  }
 ],
 "metadata": {
  "kernelspec": {
   "display_name": "Python 3.9.12 ('base')",
   "language": "python",
   "name": "python3"
  },
  "language_info": {
   "codemirror_mode": {
    "name": "ipython",
    "version": 3
   },
   "file_extension": ".py",
   "mimetype": "text/x-python",
   "name": "python",
   "nbconvert_exporter": "python",
   "pygments_lexer": "ipython3",
   "version": "3.9.12 (main, Apr  4 2022, 05:22:27) [MSC v.1916 64 bit (AMD64)]"
  },
  "orig_nbformat": 4,
  "vscode": {
   "interpreter": {
    "hash": "1a00c1525417994d84940f6a64b96d4df953e4f0863c4f32c2c802abdf8195ff"
   }
  }
 },
 "nbformat": 4,
 "nbformat_minor": 2
}
