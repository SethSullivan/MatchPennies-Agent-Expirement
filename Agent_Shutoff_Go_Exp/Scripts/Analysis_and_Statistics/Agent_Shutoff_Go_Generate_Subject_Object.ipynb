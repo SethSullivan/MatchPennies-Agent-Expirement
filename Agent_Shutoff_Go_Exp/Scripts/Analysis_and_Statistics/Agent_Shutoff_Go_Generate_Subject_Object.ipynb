{
 "cells": [
  {
   "cell_type": "code",
   "execution_count": 6,
   "metadata": {},
   "outputs": [],
   "source": [
    "import numpy as np\n",
    "import os\n",
    "import dill\n",
    "import importlib\n",
    "import pandas as pd\n"
   ]
  },
  {
   "cell_type": "code",
   "execution_count": 7,
   "metadata": {},
   "outputs": [
    {
     "data": {
      "text/plain": [
       "<module 'Agent_Shutoff_Go_Subject_Object' from 'c:\\\\Users\\\\Seth Sullivan\\\\OneDrive - University of Delaware - o365\\\\Desktop\\\\MatchPennies-Agent-Expirement\\\\Agent_Shutoff_Go_Exp\\\\Scripts\\\\Analysis_and_Statistics\\\\Agent_Shutoff_Go_Subject_Object.py'>"
      ]
     },
     "execution_count": 7,
     "metadata": {},
     "output_type": "execute_result"
    }
   ],
   "source": [
    "import Agent_Shutoff_Go_Subject_Object\n",
    "importlib.reload(Agent_Shutoff_Go_Subject_Object)"
   ]
  },
  {
   "cell_type": "markdown",
   "metadata": {},
   "source": [
    "## Initial Thangs"
   ]
  },
  {
   "cell_type": "code",
   "execution_count": 8,
   "metadata": {},
   "outputs": [],
   "source": [
    "# Fields pull and pull list\n",
    "os.chdir(r'D:\\Subject_Data\\Agent_Shutoff_Go')\n",
    "PATH = os.getcwd()\n",
    "figures_pull_list = []\n",
    "fields_pull = []\n",
    "with open(PATH+\"\\\\Figures_Pull_List.txt\", \"r\") as pull_file:\n",
    "    figures_pull_list = pull_file.read().splitlines()\n",
    "with open(PATH+\"\\\\Fields_Pull.txt\", \"r\") as fields_pull:\n",
    "    fields_pull = fields_pull.read().splitlines()\n",
    "NUM_SUBJECTS = len(figures_pull_list)\n",
    "task_name = 'Agent_Shutoff_Go'"
   ]
  },
  {
   "attachments": {},
   "cell_type": "markdown",
   "metadata": {},
   "source": [
    "## dill Load"
   ]
  },
  {
   "attachments": {},
   "cell_type": "markdown",
   "metadata": {},
   "source": [
    "dill Load Task and Washout"
   ]
  },
  {
   "cell_type": "code",
   "execution_count": 9,
   "metadata": {},
   "outputs": [],
   "source": [
    "num_blocks = 3\n",
    "num_trials = 100\n",
    "#----------------- TASK--------------------------------\n",
    "player_reaction_time       = np.zeros([NUM_SUBJECTS,num_blocks,num_trials])*np.nan \n",
    "trial_type_array           = np.zeros([NUM_SUBJECTS,num_blocks,num_trials])*np.nan \n",
    "\n",
    "for i in range(NUM_SUBJECTS):\n",
    "    subname = figures_pull_list[i]\n",
    "    data_path = PATH+f'\\\\Subjects_Analyzed\\\\{subname}\\\\'\n",
    "    player_reaction_time[i,:,:] = dill.load(open(data_path + f'{subname}_player_reaction_time.pkl', 'rb'))\n",
    "    trial_type_array[i,:,:] = dill.load(open(data_path + f'{subname}_trial_type_array.pkl', 'rb'))"
   ]
  },
  {
   "attachments": {},
   "cell_type": "markdown",
   "metadata": {},
   "source": [
    "## Generate Subject Objects"
   ]
  },
  {
   "cell_type": "code",
   "execution_count": 10,
   "metadata": {},
   "outputs": [],
   "source": [
    "data_path = PATH+'\\\\Subjects_Analyzed\\\\'\n",
    "subject_object_dict = {}\n",
    "for i in range(NUM_SUBJECTS):\n",
    "    subname = figures_pull_list[i]\n",
    "\n",
    "    subject_object =Agent_Shutoff_Go_Subject_Object.Subject(num_trials = num_trials, num_blocks = num_blocks,\n",
    "                                            trial_type_array=trial_type_array[i],reaction_times = player_reaction_time[i] \n",
    "                                )\n",
    "    subject_object_dict.update({subname:subject_object})\n",
    "    \n",
    "    dill.dump(subject_object_dict[subname], open(data_path + f'{subname}\\\\{subname}_object.pkl', 'wb'))\n",
    "dill.dump(subject_object_dict,open(data_path + f'subject_object_dict.pkl', 'wb'))\n",
    "\n",
    "group = Agent_Shutoff_Go_Subject_Object.Group(list(subject_object_dict.values()))\n",
    "dill.dump(group,open(data_path + f'group_object.pkl','wb'))"
   ]
  },
  {
   "cell_type": "code",
   "execution_count": null,
   "metadata": {},
   "outputs": [],
   "source": []
  }
 ],
 "metadata": {
  "kernelspec": {
   "display_name": "Python 3.9.12 ('base')",
   "language": "python",
   "name": "python3"
  },
  "language_info": {
   "codemirror_mode": {
    "name": "ipython",
    "version": 3
   },
   "file_extension": ".py",
   "mimetype": "text/x-python",
   "name": "python",
   "nbconvert_exporter": "python",
   "pygments_lexer": "ipython3",
   "version": "3.9.16"
  },
  "orig_nbformat": 4,
  "vscode": {
   "interpreter": {
    "hash": "1a00c1525417994d84940f6a64b96d4df953e4f0863c4f32c2c802abdf8195ff"
   }
  }
 },
 "nbformat": 4,
 "nbformat_minor": 2
}
