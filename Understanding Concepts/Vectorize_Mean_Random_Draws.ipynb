{
 "cells": [
  {
   "cell_type": "code",
   "execution_count": 2,
   "metadata": {},
   "outputs": [],
   "source": [
    "import numpy as np\n",
    "from scipy import stats"
   ]
  },
  {
   "cell_type": "code",
   "execution_count": 3,
   "metadata": {},
   "outputs": [],
   "source": [
    "x = np.zeros((3,3,5))\n",
    "y = np.zeros_like(x)\n",
    "means1 = np.array([10,20,30])\n",
    "means2 = [4,5,6]\n",
    "for i in range(3):\n",
    "    for j in range(3):\n",
    "        x[i,j,:] = stats.norm.rvs(means1[i],0,size=5)"
   ]
  },
  {
   "cell_type": "code",
   "execution_count": 13,
   "metadata": {},
   "outputs": [
    {
     "name": "stdout",
     "output_type": "stream",
     "text": [
      "[[[11.76405235 10.40015721 10.97873798 12.2408932  11.86755799]\n",
      "  [ 9.02272212 10.95008842  9.84864279  9.89678115 10.4105985 ]\n",
      "  [10.14404357 11.45427351 10.76103773 10.12167502 10.44386323]]\n",
      "\n",
      " [[21.76405235 20.40015721 20.97873798 22.2408932  21.86755799]\n",
      "  [19.02272212 20.95008842 19.84864279 19.89678115 20.4105985 ]\n",
      "  [20.14404357 21.45427351 20.76103773 20.12167502 20.44386323]]\n",
      "\n",
      " [[31.76405235 30.40015721 30.97873798 32.2408932  31.86755799]\n",
      "  [29.02272212 30.95008842 29.84864279 29.89678115 30.4105985 ]\n",
      "  [30.14404357 31.45427351 30.76103773 30.12167502 30.44386323]]]\n",
      " ................. \n",
      "[[[11 10 10 12 11]\n",
      "  [21 20 20 22 21]\n",
      "  [31 30 30 32 31]]\n",
      "\n",
      " [[ 9 10  9  9 10]\n",
      "  [19 20 19 19 20]\n",
      "  [29 30 29 29 30]]\n",
      "\n",
      " [[10 11 10 10 10]\n",
      "  [20 21 20 20 20]\n",
      "  [30 31 30 30 30]]]\n"
     ]
    }
   ],
   "source": [
    "for i in range(3):\n",
    "    x[i,:,:] = stats.norm.rvs(means1[i],1,size=(3,5),random_state=0)\n",
    "    y[:,i,:] = stats.norm.rvs(means1[i],1,size=(3,5),random_state=0)\n",
    "print(x)\n",
    "print(' ................. ')\n",
    "print(y)"
   ]
  },
  {
   "attachments": {},
   "cell_type": "markdown",
   "metadata": {},
   "source": [
    "Generate a tile of your means then use those means in the norm rvs"
   ]
  },
  {
   "cell_type": "code",
   "execution_count": 5,
   "metadata": {},
   "outputs": [
    {
     "data": {
      "text/plain": [
       "array([[[11.76405235, 10.40015721, 10.97873798, 12.2408932 ,\n",
       "         11.86755799],\n",
       "        [ 9.02272212, 10.95008842,  9.84864279,  9.89678115,\n",
       "         10.4105985 ],\n",
       "        [10.14404357, 11.45427351, 10.76103773, 10.12167502,\n",
       "         10.44386323]],\n",
       "\n",
       "       [[20.33367433, 21.49407907, 19.79484174, 20.3130677 ,\n",
       "         19.14590426],\n",
       "        [17.44701018, 20.6536186 , 20.8644362 , 19.25783498,\n",
       "         22.26975462],\n",
       "        [18.54563433, 20.04575852, 19.81281615, 21.53277921,\n",
       "         21.46935877]],\n",
       "\n",
       "       [[30.15494743, 30.37816252, 29.11221425, 28.01920353,\n",
       "         29.65208785],\n",
       "        [30.15634897, 31.23029068, 31.20237985, 29.61267318,\n",
       "         29.69769725],\n",
       "        [28.95144703, 28.57998206, 28.29372981, 31.9507754 ,\n",
       "         29.49034782]]])"
      ]
     },
     "execution_count": 5,
     "metadata": {},
     "output_type": "execute_result"
    }
   ],
   "source": [
    "temp = np.expand_dims(means1,axis=1)\n",
    "temp = np.tile(temp,(5))\n",
    "temp = np.expand_dims(temp,axis=1)\n",
    "temp = np.tile(temp,(3,1))\n",
    "x = stats.norm.rvs(temp,1,size=(3,3,5),random_state = 0)\n",
    "x"
   ]
  },
  {
   "cell_type": "code",
   "execution_count": 8,
   "metadata": {},
   "outputs": [
    {
     "data": {
      "text/plain": [
       "(3, 3, 5)"
      ]
     },
     "execution_count": 8,
     "metadata": {},
     "output_type": "execute_result"
    }
   ],
   "source": [
    "x.shape"
   ]
  },
  {
   "cell_type": "code",
   "execution_count": 6,
   "metadata": {},
   "outputs": [
    {
     "name": "stdout",
     "output_type": "stream",
     "text": [
      "Help on method rvs in module scipy.stats._distn_infrastructure:\n",
      "\n",
      "rvs(*args, **kwds) method of scipy.stats._continuous_distns.norm_gen instance\n",
      "    Random variates of given type.\n",
      "    \n",
      "    Parameters\n",
      "    ----------\n",
      "    arg1, arg2, arg3,... : array_like\n",
      "        The shape parameter(s) for the distribution (see docstring of the\n",
      "        instance object for more information).\n",
      "    loc : array_like, optional\n",
      "        Location parameter (default=0).\n",
      "    scale : array_like, optional\n",
      "        Scale parameter (default=1).\n",
      "    size : int or tuple of ints, optional\n",
      "        Defining number of random variates (default is 1).\n",
      "    random_state : {None, int, `numpy.random.Generator`,\n",
      "                    `numpy.random.RandomState`}, optional\n",
      "    \n",
      "        If `seed` is None (or `np.random`), the `numpy.random.RandomState`\n",
      "        singleton is used.\n",
      "        If `seed` is an int, a new ``RandomState`` instance is used,\n",
      "        seeded with `seed`.\n",
      "        If `seed` is already a ``Generator`` or ``RandomState`` instance\n",
      "        then that instance is used.\n",
      "    \n",
      "    Returns\n",
      "    -------\n",
      "    rvs : ndarray or scalar\n",
      "        Random variates of given `size`.\n",
      "\n"
     ]
    }
   ],
   "source": [
    "help(stats.norm.rvs)"
   ]
  },
  {
   "cell_type": "code",
   "execution_count": null,
   "metadata": {},
   "outputs": [],
   "source": []
  }
 ],
 "metadata": {
  "kernelspec": {
   "display_name": "base",
   "language": "python",
   "name": "python3"
  },
  "language_info": {
   "codemirror_mode": {
    "name": "ipython",
    "version": 3
   },
   "file_extension": ".py",
   "mimetype": "text/x-python",
   "name": "python",
   "nbconvert_exporter": "python",
   "pygments_lexer": "ipython3",
   "version": "3.9.12"
  },
  "orig_nbformat": 4,
  "vscode": {
   "interpreter": {
    "hash": "1a00c1525417994d84940f6a64b96d4df953e4f0863c4f32c2c802abdf8195ff"
   }
  }
 },
 "nbformat": 4,
 "nbformat_minor": 2
}
