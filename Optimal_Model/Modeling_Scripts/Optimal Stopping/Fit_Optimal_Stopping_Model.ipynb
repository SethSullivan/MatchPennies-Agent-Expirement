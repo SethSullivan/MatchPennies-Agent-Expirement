{
 "cells": [
  {
   "cell_type": "code",
   "execution_count": 6,
   "metadata": {},
   "outputs": [
    {
     "data": {
      "text/plain": [
       "'\\nThis script fits the decision time of the model to match the data\\n\\nmetrics as of 2/22/23 aare just wins, indecisions,incorrects\\n\\n'"
      ]
     },
     "execution_count": 6,
     "metadata": {},
     "output_type": "execute_result"
    }
   ],
   "source": [
    "import numpy as np\n",
    "import matplotlib.pyplot as plt\n",
    "from scipy import stats\n",
    "import dill\n",
    "import sys\n",
    "import importlib\n",
    "import os\n",
    "\n",
    "from scipy import optimize\n",
    "'''\n",
    "This script fits the decision time of the model to match the data\n",
    "\n",
    "metrics as of 2/22/23 aare just wins, indecisions,incorrects\n",
    "\n",
    "'''"
   ]
  },
  {
   "attachments": {},
   "cell_type": "markdown",
   "metadata": {},
   "source": [
    "# Initial Thangs"
   ]
  },
  {
   "cell_type": "code",
   "execution_count": 7,
   "metadata": {},
   "outputs": [
    {
     "data": {
      "text/plain": [
       "<module 'Optimal_Stopping_Object_v3' from 'c:\\\\Users\\\\Seth Sullivan\\\\OneDrive - University of Delaware - o365\\\\Desktop\\\\MatchPennies-Agent-Expirement\\\\Modeling Scripts\\\\Optimal Stopping\\\\Optimal_Stopping_Object_v3.py'>"
      ]
     },
     "execution_count": 7,
     "metadata": {},
     "output_type": "execute_result"
    }
   ],
   "source": [
    "sys.path.insert(0,r'C:\\Users\\Seth Sullivan\\OneDrive - University of Delaware - o365\\Desktop\\MatchPennies-Agent-Expirement\\Analysis and Figures Scripts\\Exp1 Scripts')\n",
    "from Subject_Object import *\n",
    "from plot_functions import *\n",
    "\n",
    "import Optimal_Stopping_Object_v3\n",
    "importlib.reload(Optimal_Stopping_Object_v3)"
   ]
  },
  {
   "cell_type": "code",
   "execution_count": 8,
   "metadata": {},
   "outputs": [],
   "source": [
    "os.chdir('D:\\\\Subject_Data\\\\Seth_MatchPennies_Agent_Exp1\\\\')\n",
    "PATH = os.getcwd()\n",
    "# Fields pull and pull list\n",
    "os.chdir('D:\\Subject_Data\\Seth_MatchPennies_Agent_Exp1')\n",
    "PATH = os.getcwd()\n",
    "figures_pull_list = []\n",
    "fields_pull = []\n",
    "with open(PATH+\"\\\\Figures_Pull_List.txt\", \"r\") as pull_file:\n",
    "    figures_pull_list = pull_file.read().splitlines()\n",
    "with open(PATH+\"\\\\Fields_Pull.txt\", \"r\") as fields_pull:\n",
    "    fields_pull = fields_pull.read().splitlines()\n",
    "NUM_SUBJECTS = len(figures_pull_list)\n",
    "task_name = 'Seth_MatchPennies_Agent_Exp1'"
   ]
  },
  {
   "attachments": {},
   "cell_type": "markdown",
   "metadata": {},
   "source": [
    "# Get Subject Data"
   ]
  },
  {
   "cell_type": "code",
   "execution_count": 9,
   "metadata": {},
   "outputs": [],
   "source": [
    "NUM_STDS = 2\n",
    "append_dict = {0:'reaction_time_no_sd_off',1:'reaction_time_minus_sd',2:'reaction_time_minus_2sd'}\n",
    "load_path = r'D:\\Subject_Data\\Seth_MatchPennies_Agent_Exp1\\Subjects_Analyzed\\\\'\n",
    "subject = dill.load((open(load_path + f'subject_object_{append_dict[NUM_STDS]}_dict.pkl', 'rb')))\n",
    "group = dill.load((open(load_path + f'group_object_{append_dict[NUM_STDS]}.pkl', 'rb')))"
   ]
  },
  {
   "attachments": {},
   "cell_type": "markdown",
   "metadata": {},
   "source": [
    "# Create Model Object"
   ]
  },
  {
   "cell_type": "code",
   "execution_count": 10,
   "metadata": {},
   "outputs": [],
   "source": [
    "group_model = Optimal_Stopping_Object_v3.Optimal_Decision_Time_Model(reaction_time = group.adjusted_reaction_time_mean, movement_time = group.reaction_movement_time_mean, incorrect_cost = 0,\n",
    "                                          reaction_uncertainty = group.reaction_time_sd, movement_uncertainty = group.reaction_movement_time_sd,\n",
    "                                          timing_uncertainty = group.coincidence_reach_time_sd,\n",
    "                                          decision_action_delay_uncertainty = 10, decision_action_delay_mean = 50,\n",
    "                                          unknown_gamble_uncertainty_on = False, unknown_gamble_uncertainty = 100,\n",
    "                                          unknown_gamble_delay_on = True, unknown_gamble_delay = 200,\n",
    "                                          known_gamble_uncertainty_on = False, known_gamble_uncertainty = 100,\n",
    "                                          known_gamble_delay_on = False, known_gamble_delay = 200\n",
    "                                         )\n",
    "group_model.run_model()"
   ]
  },
  {
   "cell_type": "code",
   "execution_count": 11,
   "metadata": {},
   "outputs": [],
   "source": [
    "data_wins = np.mean(group.combine_all_subjects('player_perc_wins'),axis=0)\n",
    "data_wins_tiled = np.tile(data_wins,(2000,1)).T\n",
    "data_indecisions = np.mean(group.combine_all_subjects('player_perc_indecisions'),axis=0)\n",
    "data_indecisions_tiled = np.tile(data_indecisions,(2000,1)).T\n",
    "data_incorrects = np.mean(group.combine_all_subjects('player_perc_incorrects'),axis=0)\n",
    "data_incorrects_tiled = np.tile(data_incorrects,(2000,1)).T\n"
   ]
  },
  {
   "cell_type": "code",
   "execution_count": 12,
   "metadata": {},
   "outputs": [
    {
     "ename": "SyntaxError",
     "evalue": "invalid syntax (3721946851.py, line 2)",
     "output_type": "error",
     "traceback": [
      "\u001b[1;36m  File \u001b[1;32m\"C:\\Users\\Seth Sullivan\\AppData\\Local\\Temp\\ipykernel_50316\\3721946851.py\"\u001b[1;36m, line \u001b[1;32m2\u001b[0m\n\u001b[1;33m    np.\u001b[0m\n\u001b[1;37m       ^\u001b[0m\n\u001b[1;31mSyntaxError\u001b[0m\u001b[1;31m:\u001b[0m invalid syntax\n"
     ]
    }
   ],
   "source": [
    "arr = np.array([0,1,2])\n",
    "np."
   ]
  },
  {
   "cell_type": "code",
   "execution_count": null,
   "metadata": {},
   "outputs": [
    {
     "data": {
      "text/plain": [
       "nan"
      ]
     },
     "execution_count": 206,
     "metadata": {},
     "output_type": "execute_result"
    }
   ],
   "source": [
    "10/np.nan"
   ]
  },
  {
   "cell_type": "code",
   "execution_count": null,
   "metadata": {},
   "outputs": [
    {
     "data": {
      "text/plain": [
       "array([1008,  953,  967, 1281, 1177,  964], dtype=int64)"
      ]
     },
     "execution_count": 191,
     "metadata": {},
     "output_type": "execute_result"
    }
   ],
   "source": [
    "x = abs(data_wins_tiled -group_model.prob_win*100)\n",
    "np.argmin(x,axis=1)"
   ]
  },
  {
   "cell_type": "code",
   "execution_count": null,
   "metadata": {},
   "outputs": [
    {
     "data": {
      "text/plain": [
       "array([1246, 1198, 1146, 1188, 1162, 1178], dtype=int64)"
      ]
     },
     "execution_count": 192,
     "metadata": {},
     "output_type": "execute_result"
    }
   ],
   "source": [
    "y = abs(data_indecisions_tiled - group_model.prob_indecision*100)\n",
    "np.argmin(y,axis=1)"
   ]
  },
  {
   "cell_type": "code",
   "execution_count": null,
   "metadata": {},
   "outputs": [
    {
     "data": {
      "text/plain": [
       "array([1039, 1077, 1113, 1114, 1140, 1157], dtype=int64)"
      ]
     },
     "execution_count": 193,
     "metadata": {},
     "output_type": "execute_result"
    }
   ],
   "source": [
    "z = abs(data_incorrects_tiled - group_model.prob_incorrect*100)\n",
    "np.argmin(z,axis=1)"
   ]
  },
  {
   "cell_type": "code",
   "execution_count": null,
   "metadata": {},
   "outputs": [],
   "source": [
    "timesteps = np.tile(np.arange(500,2000,1),(6,1))\n",
    "\n",
    "\n",
    "data_compare = np.hstack((data_wins,data_indecisions,data_incorrects))\n",
    "\n",
    "\n",
    "\n"
   ]
  },
  {
   "cell_type": "code",
   "execution_count": null,
   "metadata": {},
   "outputs": [
    {
     "data": {
      "text/plain": [
       "(18,)"
      ]
     },
     "execution_count": 195,
     "metadata": {},
     "output_type": "execute_result"
    }
   ],
   "source": [
    "data_compare.shape"
   ]
  },
  {
   "cell_type": "code",
   "execution_count": null,
   "metadata": {},
   "outputs": [
    {
     "name": "stdout",
     "output_type": "stream",
     "text": [
      "[1000 1000 1000 1000 1000 1000]\n"
     ]
    },
    {
     "ename": "AttributeError",
     "evalue": "'Optimal_Decision_Time_Model' object has no attribute 'run_model_fit'",
     "output_type": "error",
     "traceback": [
      "\u001b[1;31m---------------------------------------------------------------------------\u001b[0m",
      "\u001b[1;31mAttributeError\u001b[0m                            Traceback (most recent call last)",
      "\u001b[1;32m~\\AppData\\Local\\Temp\\ipykernel_38368\\2429550611.py\u001b[0m in \u001b[0;36m<module>\u001b[1;34m\u001b[0m\n\u001b[1;32m----> 1\u001b[1;33m \u001b[0mminimize_function\u001b[0m\u001b[1;33m(\u001b[0m\u001b[0minitial_guess\u001b[0m\u001b[1;33m,\u001b[0m\u001b[0mdata_compare\u001b[0m\u001b[1;33m)\u001b[0m\u001b[1;33m\u001b[0m\u001b[1;33m\u001b[0m\u001b[0m\n\u001b[0m",
      "\u001b[1;32m~\\AppData\\Local\\Temp\\ipykernel_38368\\217762496.py\u001b[0m in \u001b[0;36mminimize_function\u001b[1;34m(params, data)\u001b[0m\n\u001b[0;32m      1\u001b[0m \u001b[1;32mdef\u001b[0m \u001b[0mminimize_function\u001b[0m\u001b[1;33m(\u001b[0m\u001b[0mparams\u001b[0m\u001b[1;33m,\u001b[0m\u001b[0mdata\u001b[0m\u001b[1;33m)\u001b[0m\u001b[1;33m:\u001b[0m\u001b[1;33m\u001b[0m\u001b[1;33m\u001b[0m\u001b[0m\n\u001b[0;32m      2\u001b[0m     \u001b[0mprint\u001b[0m\u001b[1;33m(\u001b[0m\u001b[0mparams\u001b[0m\u001b[1;33m)\u001b[0m\u001b[1;33m\u001b[0m\u001b[1;33m\u001b[0m\u001b[0m\n\u001b[1;32m----> 3\u001b[1;33m     \u001b[0mmodel_output\u001b[0m \u001b[1;33m=\u001b[0m \u001b[0mnp\u001b[0m\u001b[1;33m.\u001b[0m\u001b[0mhstack\u001b[0m\u001b[1;33m(\u001b[0m\u001b[0mgroup_model\u001b[0m\u001b[1;33m.\u001b[0m\u001b[0mrun_model_fit\u001b[0m\u001b[1;33m(\u001b[0m\u001b[0mparams\u001b[0m\u001b[1;33m)\u001b[0m\u001b[1;33m)\u001b[0m\u001b[1;33m\u001b[0m\u001b[1;33m\u001b[0m\u001b[0m\n\u001b[0m\u001b[0;32m      4\u001b[0m     \u001b[1;32mreturn\u001b[0m \u001b[0mabs\u001b[0m\u001b[1;33m(\u001b[0m\u001b[0mmodel_output\u001b[0m \u001b[1;33m-\u001b[0m \u001b[0mdata\u001b[0m\u001b[1;33m)\u001b[0m\u001b[1;33m\u001b[0m\u001b[1;33m\u001b[0m\u001b[0m\n",
      "\u001b[1;31mAttributeError\u001b[0m: 'Optimal_Decision_Time_Model' object has no attribute 'run_model_fit'"
     ]
    }
   ],
   "source": [
    "minimize_function(initial_guess,data_compare)"
   ]
  },
  {
   "cell_type": "code",
   "execution_count": null,
   "metadata": {},
   "outputs": [
    {
     "data": {
      "text/plain": [
       "()"
      ]
     },
     "execution_count": 140,
     "metadata": {},
     "output_type": "execute_result"
    }
   ],
   "source": [
    "np.mean(data_wins,axis=0).shape"
   ]
  },
  {
   "cell_type": "code",
   "execution_count": null,
   "metadata": {},
   "outputs": [
    {
     "data": {
      "text/plain": [
       "array([[58.75, 70.  , 53.75, 53.75, 42.5 , 55.  ],\n",
       "       [90.  , 86.25, 53.75, 65.  , 37.5 , 53.75],\n",
       "       [82.5 , 71.25, 42.5 , 52.5 , 26.25, 66.25],\n",
       "       [47.5 , 55.  , 43.75, 56.25, 43.75, 45.  ],\n",
       "       [93.75, 78.75, 73.75, 66.25, 45.  , 68.75],\n",
       "       [68.75, 58.75, 55.  , 58.75, 42.5 , 55.  ],\n",
       "       [83.75, 61.25, 62.5 , 50.  ,  6.25, 41.25],\n",
       "       [68.75, 70.  , 61.25, 66.25, 40.  , 43.75],\n",
       "       [92.5 , 83.75, 67.5 , 57.5 , 31.25, 50.  ],\n",
       "       [86.25, 71.25, 53.75, 55.  , 52.5 , 47.5 ],\n",
       "       [67.5 , 57.5 , 46.25, 48.75, 33.75, 57.5 ],\n",
       "       [80.  , 67.5 , 60.  , 55.  , 47.5 , 56.25],\n",
       "       [36.25, 55.  , 20.  , 52.5 , 41.25, 55.  ],\n",
       "       [81.25, 71.25, 45.  , 65.  , 37.5 , 50.  ],\n",
       "       [80.  , 63.75, 58.75, 63.75, 38.75, 61.25],\n",
       "       [83.75, 65.  , 42.5 , 45.  , 47.5 , 46.25],\n",
       "       [85.  , 81.25, 62.5 , 65.  , 41.25, 55.  ],\n",
       "       [78.75, 67.5 , 37.5 , 58.75, 35.  , 61.25],\n",
       "       [91.25, 81.25, 65.  , 66.25, 42.5 , 53.75]])"
      ]
     },
     "execution_count": 137,
     "metadata": {},
     "output_type": "execute_result"
    }
   ],
   "source": [
    "data_wins"
   ]
  }
 ],
 "metadata": {
  "kernelspec": {
   "display_name": "base",
   "language": "python",
   "name": "python3"
  },
  "language_info": {
   "codemirror_mode": {
    "name": "ipython",
    "version": 3
   },
   "file_extension": ".py",
   "mimetype": "text/x-python",
   "name": "python",
   "nbconvert_exporter": "python",
   "pygments_lexer": "ipython3",
   "version": "3.9.16"
  },
  "orig_nbformat": 4,
  "vscode": {
   "interpreter": {
    "hash": "1a00c1525417994d84940f6a64b96d4df953e4f0863c4f32c2c802abdf8195ff"
   }
  }
 },
 "nbformat": 4,
 "nbformat_minor": 2
}
