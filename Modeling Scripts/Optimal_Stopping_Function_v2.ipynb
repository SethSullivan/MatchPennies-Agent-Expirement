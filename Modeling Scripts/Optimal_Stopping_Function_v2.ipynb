{
 "cells": [
  {
   "cell_type": "code",
   "execution_count": 10,
   "metadata": {},
   "outputs": [],
   "source": [
    "import numpy as np\n",
    "import matplotlib.pyplot as plt\n",
    "from scipy import stats\n",
    "import data_visualization as dv\n",
    "wheel = dv.ColorWheel()"
   ]
  },
  {
   "cell_type": "code",
   "execution_count": 1,
   "metadata": {},
   "outputs": [],
   "source": [
    "def find_optimal_decision_time_v2(agent_mean, agent_std, reaction_time,movement_time, reaction_uncertainty, movement_uncertainty,timing_uncertainty,plot=False):\n",
    "    timesteps = np.arange(0,2000,1)\n",
    "    prob_agent_go = np.zeros(len(timesteps))\n",
    "    prob_agent_no_go = np.zeros(len(timesteps))\n",
    "    prob_making_react = np.zeros(len(timesteps))\n",
    "    prob_making_gamble = np.zeros(len(timesteps))\n",
    "    prob_agent_making = np.zeros(len(timesteps))\n",
    "\n",
    "    expected_reward = np.zeros(len(timesteps))\n",
    "    expected_reward_gamble = np.zeros(len(timesteps))\n",
    "    expected_reward_react = np.zeros(len(timesteps))\n",
    "    prob_reward_gamble = np.zeros(len(timesteps))\n",
    "    prob_reward_react = np.zeros(len(timesteps))\n",
    "    prob_reward = np.zeros(len(timesteps))\n",
    "    reaction_movement_time = reaction_time + movement_time\n",
    "\n",
    "\n",
    "    prob_success_gamble = 0.5 # IT'S NOT ABOUT THE PROBABILITY THAT I WILL SUCCEED WITH EACH ACTION... IT'S ABOUT THE PROBABILITY THAT I WILL BE ABLE TO SELECT THE OPTIMAL ACTION\n",
    "    prob_success_react = 1.0\n",
    "    win_reward = 1.0\n",
    "    loss_cost = 0\n",
    "    indecision_cost = 0\n",
    "    \n",
    "    prob_agent_go = stats.norm.cdf(timesteps,agent_mean,agent_std)\n",
    "    prob_agent_no_go = 1 - prob_agent_go\n",
    "    prob_agent_making = stats.norm.cdf(1500-timesteps,agent_mean,agent_std)\n",
    "    \n",
    "    \n",
    "    # Calculate reaction movement uncertainty basedon prob_agent_go\n",
    "    reaction_movement_uncertainty = np.sqrt((movement_uncertainty)**2 + prob_agent_go*(reaction_uncertainty**2)) # We have some uncertainty about making it  \n",
    "    total_uncertainty_reaction = np.sqrt(reaction_movement_uncertainty**2) #+ timing_uncertainty**2)\n",
    "    total_uncertainty_gamble = np.sqrt(movement_uncertainty**2 + timing_uncertainty**2)  \n",
    "    \n",
    "    prob_making_react = stats.norm.cdf(1500-timesteps,reaction_movement_time,total_uncertainty_reaction)\n",
    "    prob_making_gamble = stats.norm.cdf(1500-timesteps,movement_time,total_uncertainty_gamble)\n",
    "\n",
    "    # THESE AREN'T Multiplied by Agent Probability     \n",
    "    prob_reward_gamble = (prob_success_gamble)*prob_making_gamble \n",
    "    prob_cost_gamble = (1-prob_success_gamble)*prob_making_gamble # Probability of receiving the Cost for being incorrect\n",
    "    \n",
    "    prob_reward_react = (prob_success_react)*prob_making_react \n",
    "    prob_cost_react = ((1-prob_success_react))*prob_making_react # Probability of receiving the Cost for being incorrect\n",
    "    \n",
    "    prob_indecision_gamble = (1 - prob_making_gamble)\n",
    "    prob_indecision_react = (1 - prob_making_react)    \n",
    "    \n",
    "    # Don't need AND subtraction because the prob_agent_go and prob_agent_no_go takes care of it\n",
    "    # These are multiplied by agent probability, because that's the probability that I SELECT GAMBLE and SELECT REACTION\n",
    "    prob_reward = prob_reward_gamble*prob_agent_no_go + prob_reward_react*prob_agent_go #- (prob_reward_gamble*prob_reward_react) # NEED TO SUBTRACT THE AND PROBABILITY?... this makes sense... If I go at that time, I at least have 0.5 PLUS the probability that the agent has gone will boost it up\n",
    "    prob_cost = prob_cost_gamble*prob_agent_no_go + prob_cost_react*prob_agent_go # - (prob_cost_react*prob_cost_gamble)\n",
    "    prob_indecision = prob_indecision_gamble*prob_agent_no_go + prob_indecision_react*prob_agent_go #- (prob_indecision_gamble*prob_indecision_react) # Probability of indecision depends on if someone gambles\n",
    "    \n",
    "    #prob_indecision = prob_indecision_gamble*(1-B) + prob_indecision_react*B - prob_indecision_gamble*(1-B)*B*prob_indecision_react # Probability of indecision depends on if someone gambles \n",
    "    \n",
    "    exp_reward_gamble = prob_reward_gamble*win_reward + prob_cost_gamble*loss_cost + prob_indecision_gamble*indecision_cost\n",
    "    exp_reward_react = prob_reward_react*win_reward + prob_cost_react*loss_cost + prob_indecision_gamble*indecision_cost\n",
    "    exp_reward = prob_reward*win_reward + prob_cost*loss_cost + (prob_indecision)*indecision_cost\n",
    "    \n",
    "    return np.argmax(exp_reward),np.max(exp_reward),total_uncertainty_reaction,total_uncertainty_gamble"
   ]
  },
  {
   "cell_type": "code",
   "execution_count": 12,
   "metadata": {},
   "outputs": [],
   "source": [
    "# def plot_optimals(timesteps,exp_reward,exp_reward_gamble,exp_reward_react,prob_reward_gamble,prob_reward_react,\n",
    "#                   prob_agent_go,prob_agent_no_go,\n",
    "#                   prob_reward, movement_time,reaction_movement_time):\n",
    "#     fig,ax = plt.subplots(dpi = 125)\n",
    "#     ax.plot(timesteps, exp_reward, label = 'Exp Reward', c = wheel.green, ls = '--')\n",
    "#     ax.plot(timesteps, exp_reward_gamble, label = 'Exp Reward Gamble')\n",
    "#     ax.plot(timesteps, exp_reward_react, label = 'Exp Reward React')\n",
    "#     ax.plot(timesteps,prob_reward_gamble*prob_agent_no_go,label='Gamble Reward*ProbAgentNoGo')\n",
    "#     ax.plot(timesteps,prob_reward_react*prob_agent_go,label = 'React Reward*ProbAgentGo')\n",
    "#     # ax.plot(timesteps, prob_indecision_gamble)\n",
    "#     ax.set_ylim(-1,1.1)\n",
    "#     ax.set_xlim(0,1500)\n",
    "#     ax.set_xticks(np.arange(0,2000,300))\n",
    "#     ax.set_xlabel('Time (ms)')\n",
    "#     ax.set_ylabel('Expected Reward')\n",
    "#     ax.legend(fontsize = 8,loc = (0.01,0.1))\n",
    "#     ax.set_title(f'Gain Function for Decision Time')#\\n B = {B}')\n",
    "#     plt.show()\n",
    "#     optimal_decision_time  = np.argmax(prob_reward) \n",
    "#     target_reach_time_on_gambles = optimal_decision_time + movement_time \n",
    "#     target_reach_time_on_reactions = optimal_decision_time + reaction_movement_time\n",
    "#     print(f'Optimal Decision Time: {optimal_decision_time}') # Remember the task decision time is this \n",
    "#     print(f'Maximum Expected Reward: {np.max(prob_reward)}')\n",
    "#     print(f'Gamble Target Reach Time: {target_reach_time_on_gambles}')\n",
    "#     print(f'Reaction Target Reach Time: {target_reach_time_on_reactions}')"
   ]
  },
  {
   "cell_type": "code",
   "execution_count": 37,
   "metadata": {},
   "outputs": [
    {
     "data": {
      "text/plain": [
       "(0.0, 0.1)"
      ]
     },
     "execution_count": 37,
     "metadata": {},
     "output_type": "execute_result"
    },
    {
     "data": {
      "image/png": "[encoded data removed]",
      "text/plain": [
       "<Figure size 432x288 with 1 Axes>"
      ]
     },
     "metadata": {
      "needs_background": "light"
     },
     "output_type": "display_data"
    }
   ],
   "source": [
    "mu = 1000\n",
    "std = 100\n",
    "clip_a,clib_b = 1000,1033\n",
    "a,b = (clip_a - mu)/std, (clib_b - mu)/std\n",
    "x = np.arange(0,2000,1)\n",
    "trunc_pdf = stats.truncnorm.pdf(x,a,b)\n",
    "pdf = stats.norm.pdf(x,mu,std)\n",
    "fig, ax = plt.subplots()\n",
    "\n",
    "ax.plot(x,pdf)\n",
    "ax.plot(x,trunc_pdf)\n",
    "rv = stats.truncnorm.pdf(x,10,20,loc=mu,scale=std)\n",
    "ax.plot(x,rv)\n",
    "ax.set_ylim(0,0.1)"
   ]
  },
  {
   "cell_type": "code",
   "execution_count": 40,
   "metadata": {},
   "outputs": [
    {
     "data": {
      "text/plain": [
       "0.0"
      ]
     },
     "execution_count": 40,
     "metadata": {},
     "output_type": "execute_result"
    }
   ],
   "source": []
  },
  {
   "cell_type": "code",
   "execution_count": null,
   "metadata": {},
   "outputs": [],
   "source": []
  }
 ],
 "metadata": {
  "kernelspec": {
   "display_name": "Python 3.9.12 ('base')",
   "language": "python",
   "name": "python3"
  },
  "language_info": {
   "codemirror_mode": {
    "name": "ipython",
    "version": 3
   },
   "file_extension": ".py",
   "mimetype": "text/x-python",
   "name": "python",
   "nbconvert_exporter": "python",
   "pygments_lexer": "ipython3",
   "version": "3.9.12"
  },
  "orig_nbformat": 4,
  "vscode": {
   "interpreter": {
    "hash": "1a00c1525417994d84940f6a64b96d4df953e4f0863c4f32c2c802abdf8195ff"
   }
  }
 },
 "nbformat": 4,
 "nbformat_minor": 2
}
