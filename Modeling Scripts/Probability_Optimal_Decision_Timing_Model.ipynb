{
 "cells": [
  {
   "cell_type": "code",
   "execution_count": 9,
   "metadata": {},
   "outputs": [],
   "source": [
    "import numpy as np \n",
    "import matplotlib.pyplot as plt\n",
    "from scipy import stats\n",
    "plt.style.use('cashaback_dark')"
   ]
  },
  {
   "cell_type": "markdown",
   "metadata": {},
   "source": [
    "### No Agent Version"
   ]
  },
  {
   "cell_type": "markdown",
   "metadata": {},
   "source": [
    "This selects the optimal time based solely off distributions, it's as if you can't see the agent, but if you go after them on the reaction time "
   ]
  },
  {
   "cell_type": "code",
   "execution_count": 21,
   "metadata": {},
   "outputs": [],
   "source": [
    "# Not including probability of agent, only if probability of reacting and making it drops below 0.5\n",
    "reaction_movement_time = 300\n",
    "reaction_movement_uncertainty = 40 # We have some uncertainty about making it \n",
    "movement_uncertainty = 20\n",
    "movement_time = 125\n",
    "\n",
    "timing_uncertainty = 75 # Ok so as we iterate thru every time step, we have some distribution around the actual time\n",
    "\n",
    "time_steps = np.arange(0,1510,10)\n",
    "trials =100\n",
    "uncertain_decision_time = np.zeros((trials))\n",
    "actual_decision_time = np.zeros((trials))\n",
    "prob_of_reacting_and_making = np.zeros((trials, len(time_steps)))\n",
    "prob_of_making = np.zeros((trials, len(time_steps)))\n",
    "for i in range(trials):\n",
    "    j=-1\n",
    "    for time in time_steps:\n",
    "        j+=1\n",
    "        t = time #stats.norm.rvs(time_steps[j],timing_uncertainty)\n",
    "        prob_of_reacting_and_making[i,j] = stats.norm.cdf(1500-t,reaction_movement_time,reaction_movement_uncertainty)\n",
    "        prob_of_making[i,j] = stats.norm.cdf(1500-t,movement_time,movement_uncertainty)\n",
    "        if prob_of_reacting_and_making[i,j]<=0.5:\n",
    "            #print(prob_of_reacting_and_making[i,j],prob_of_making[i,j])\n",
    "            uncertain_decision_time[i] = t\n",
    "            actual_decision_time[i] = time\n",
    "            break"
   ]
  },
  {
   "cell_type": "code",
   "execution_count": 22,
   "metadata": {},
   "outputs": [
    {
     "data": {
      "text/plain": [
       "[<matplotlib.lines.Line2D at 0x2ab25a6cb50>]"
      ]
     },
     "execution_count": 22,
     "metadata": {},
     "output_type": "execute_result"
    },
    {
     "data": {
      "image/png": "[encoded data removed]",
      "text/plain": [
       "<Figure size 432x288 with 1 Axes>"
      ]
     },
     "metadata": {},
     "output_type": "display_data"
    }
   ],
   "source": [
    "fig,ax = plt.subplots()\n",
    "ax.plot(time_steps,prob_of_reacting_and_making[0,:])"
   ]
  },
  {
   "cell_type": "code",
   "execution_count": 3,
   "metadata": {},
   "outputs": [
    {
     "name": "stdout",
     "output_type": "stream",
     "text": [
      "0.4789912896613312 1.0\n",
      "0.026338016278978915 0.9999999999999739\n",
      "0.44434213380226145 1.0\n",
      "0.26616998715922924 1.0\n",
      "0.20389639478451543 1.0\n",
      "0.29109348419794695 1.0\n",
      "0.161373643791273 1.0\n",
      "0.4923339576067494 1.0\n",
      "0.22952719774894845 1.0\n",
      "0.36781899455620776 1.0\n",
      "0.3478640598468941 1.0\n",
      "0.28866937796746567 1.0\n",
      "0.08959259540785214 1.0\n",
      "0.036594122223468625 0.9999999999999974\n",
      "0.155375716406663 1.0\n",
      "0.3769579917677358 1.0\n",
      "0.4802005656166671 1.0\n",
      "0.0699106244608161 1.0\n",
      "0.215832980573983 1.0\n",
      "0.33510615027297586 1.0\n",
      "0.36707793656968 1.0\n",
      "0.22519712740780704 1.0\n",
      "0.041743925020835876 0.9999999999999991\n",
      "0.1106673146241059 1.0\n",
      "0.12403899498188338 1.0\n",
      "0.47849566187434756 1.0\n",
      "0.20086761012312285 1.0\n",
      "0.026357192273423955 0.999999999999974\n",
      "0.08458721185759074 1.0\n",
      "0.49519555141393845 1.0\n",
      "0.24230215711544695 1.0\n",
      "0.0001281059941246527 0.9999717730454746\n",
      "0.0462114842228498 0.9999999999999996\n",
      "0.11294999257751911 1.0\n",
      "0.04251676380753879 0.9999999999999992\n",
      "0.12187702948415483 1.0\n",
      "0.4189200835761798 1.0\n",
      "0.16214210816638913 1.0\n",
      "0.26463056528243145 1.0\n",
      "0.05634210613612726 0.9999999999999999\n",
      "0.07386779189866192 1.0\n",
      "0.3284530889304909 1.0\n",
      "0.4619133196905977 1.0\n",
      "0.05238279396165758 0.9999999999999999\n",
      "0.08129657638167294 1.0\n",
      "0.48965520443818594 1.0\n",
      "0.48710282844154823 1.0\n",
      "0.19550277101510488 1.0\n",
      "0.27731721028261724 1.0\n",
      "0.02359119070129699 0.9999999999999454\n",
      "0.03397815115706102 0.9999999999999957\n",
      "0.46556200323498387 1.0\n",
      "0.017079806388370235 0.9999999999995811\n",
      "0.01760776900448676 0.9999999999996517\n",
      "0.3462533571985915 1.0\n",
      "0.0003392507647781606 0.999997303087375\n",
      "0.25755066482136446 1.0\n",
      "0.4358784013227719 1.0\n",
      "0.30699775854082506 1.0\n",
      "0.06432973751823427 1.0\n",
      "0.0686570157507101 1.0\n",
      "0.392472398084438 1.0\n",
      "0.10602447568857283 1.0\n",
      "0.1049717954882937 1.0\n",
      "0.4581172399182955 1.0\n",
      "0.26985843387484015 1.0\n",
      "0.42199894303905905 1.0\n",
      "0.22757720523398525 1.0\n",
      "0.20816391259806 1.0\n",
      "0.12023198670987122 1.0\n",
      "0.08006350278381202 1.0\n",
      "0.3132214257729291 1.0\n",
      "0.47526973334502104 1.0\n",
      "0.20651518324635312 1.0\n",
      "0.05617197335937812 0.9999999999999999\n",
      "0.19348942652424844 1.0\n",
      "0.07422873513888456 1.0\n",
      "0.2680446043169434 1.0\n",
      "0.12207254785185728 1.0\n",
      "0.0529391958916785 0.9999999999999999\n",
      "0.3645520680223465 1.0\n",
      "0.4110311986447803 1.0\n",
      "0.35015468594390764 1.0\n",
      "0.021844842810833726 0.9999999999999097\n",
      "0.0633183648044338 1.0\n",
      "0.018968988258894016 0.9999999999997796\n",
      "0.07936640707187002 1.0\n",
      "0.16997063973324636 1.0\n",
      "0.26325618987741933 1.0\n",
      "0.4960694248754059 1.0\n",
      "0.43738754201790464 1.0\n",
      "0.006118669554714699 0.9999999999010557\n",
      "0.3282867183537818 1.0\n",
      "0.16180312511368672 1.0\n",
      "0.31209140931196133 1.0\n",
      "0.17796611608567978 1.0\n",
      "0.11905883124948519 1.0\n",
      "0.4213118077408131 1.0\n",
      "0.4333282895387355 1.0\n",
      "0.06687287920801246 1.0\n"
     ]
    }
   ],
   "source": [
    "# Now throw in the prior of prob_of_using_agent\n",
    "agent_mean_decision_time, agent_sd_decision_time = 1100,50\n",
    "prob_of_using_agent = stats.norm.cdf(1500,agent_mean_decision_time + reaction_movement_time,agent_sd_decision_time)\n",
    "reaction_movement_time = 350\n",
    "reaction_movement_uncertainty = 40 # We have some uncertainty about making it \n",
    "movement_uncertainty = 20\n",
    "movement_time = 125\n",
    "\n",
    "timing_uncertainty = 75 # Ok so as we iterate thru every time step, we have some distribution around the actual time\n",
    "\n",
    "time_steps = np.arange(0,1510,10)\n",
    "trials =100\n",
    "uncertain_decision_time = np.zeros((trials))\n",
    "actual_decision_time = np.zeros((trials))\n",
    "\n",
    "react_reward = 1\n",
    "gamble_reward = 0.5\n",
    "for i in range(trials):\n",
    "    j=-1\n",
    "    for time in time_steps:\n",
    "        j+=1\n",
    "        t = stats.norm.rvs(time_steps[j],timing_uncertainty)\n",
    "        prob_of_reacting_and_making = stats.norm.cdf(1500-t,reaction_movement_time,reaction_movement_uncertainty)\n",
    "        expected_reward_react = prob_of_reacting_and_making*prob_of_using_agent*react_reward\n",
    "        \n",
    "        prob_of_making = stats.norm.cdf(1500-t,movement_time,movement_uncertainty)\n",
    "        expected_reward_gamble = prob_of_making*gamble_reward\n",
    "        \n",
    "        if expected_reward_react<=expected_reward_gamble:\n",
    "            print(expected_reward_react,prob_of_making)\n",
    "            uncertain_decision_time[i] = t\n",
    "            actual_decision_time[i] = time\n",
    "            break"
   ]
  },
  {
   "cell_type": "code",
   "execution_count": 4,
   "metadata": {},
   "outputs": [
    {
     "data": {
      "text/plain": [
       "1065.8"
      ]
     },
     "execution_count": 4,
     "metadata": {},
     "output_type": "execute_result"
    }
   ],
   "source": [
    "np.mean(actual_decision_time)"
   ]
  },
  {
   "cell_type": "markdown",
   "metadata": {},
   "source": [
    "### Plot expected reward over time"
   ]
  },
  {
   "cell_type": "markdown",
   "metadata": {},
   "source": [
    "This plots expected reward given the agent movement time"
   ]
  },
  {
   "cell_type": "code",
   "execution_count": 5,
   "metadata": {},
   "outputs": [
    {
     "ename": "SyntaxError",
     "evalue": "invalid syntax (1218037.py, line 1)",
     "output_type": "error",
     "traceback": [
      "\u001b[1;36m  Input \u001b[1;32mIn [5]\u001b[1;36m\u001b[0m\n\u001b[1;33m    expected_reward =\u001b[0m\n\u001b[1;37m                      ^\u001b[0m\n\u001b[1;31mSyntaxError\u001b[0m\u001b[1;31m:\u001b[0m invalid syntax\n"
     ]
    }
   ],
   "source": [
    "expected_reward = "
   ]
  }
 ],
 "metadata": {
  "kernelspec": {
   "display_name": "Python 3.9.12 ('base')",
   "language": "python",
   "name": "python3"
  },
  "language_info": {
   "codemirror_mode": {
    "name": "ipython",
    "version": 3
   },
   "file_extension": ".py",
   "mimetype": "text/x-python",
   "name": "python",
   "nbconvert_exporter": "python",
   "pygments_lexer": "ipython3",
   "version": "3.9.12"
  },
  "orig_nbformat": 4,
  "vscode": {
   "interpreter": {
    "hash": "1a00c1525417994d84940f6a64b96d4df953e4f0863c4f32c2c802abdf8195ff"
   }
  }
 },
 "nbformat": 4,
 "nbformat_minor": 2
}
