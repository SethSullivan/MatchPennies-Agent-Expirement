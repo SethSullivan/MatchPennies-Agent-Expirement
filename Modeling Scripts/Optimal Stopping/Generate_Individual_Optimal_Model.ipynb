{
 "cells": [
  {
   "cell_type": "code",
   "execution_count": 191,
   "metadata": {},
   "outputs": [
    {
     "data": {
      "text/plain": [
       "'\\nThis script creates individual models for all of the different iterations I have\\n\\n'"
      ]
     },
     "execution_count": 191,
     "metadata": {},
     "output_type": "execute_result"
    }
   ],
   "source": [
    "import numpy as np\n",
    "import matplotlib.pyplot as plt\n",
    "from scipy import stats\n",
    "import dill\n",
    "import sys\n",
    "import importlib\n",
    "import os\n",
    "'''\n",
    "This script creates individual models for all of the different iterations I have\n",
    "\n",
    "'''"
   ]
  },
  {
   "cell_type": "code",
   "execution_count": 192,
   "metadata": {},
   "outputs": [
    {
     "data": {
      "text/plain": [
       "<module 'Optimal_Stopping_Object_v3' from 'c:\\\\Users\\\\Seth Sullivan\\\\OneDrive - University of Delaware - o365\\\\Desktop\\\\MatchPennies-Agent-Expirement\\\\Modeling Scripts\\\\Optimal Stopping\\\\Optimal_Stopping_Object_v3.py'>"
      ]
     },
     "execution_count": 192,
     "metadata": {},
     "output_type": "execute_result"
    }
   ],
   "source": [
    "sys.path.insert(0,r'C:\\Users\\Seth Sullivan\\OneDrive - University of Delaware - o365\\Desktop\\MatchPennies-Agent-Expirement\\Analysis and Figures Scripts\\Exp1 Scripts')\n",
    "import Optimal_Stopping_Object_v3\n",
    "from Subject_Object import *\n",
    "from plot_functions import *\n",
    "importlib.reload(Optimal_Stopping_Object_v3) # Reloads so I don't have to restart kernel if I change a function in the Object of another py file"
   ]
  },
  {
   "attachments": {},
   "cell_type": "markdown",
   "metadata": {},
   "source": [
    "# Initial Thangs"
   ]
  },
  {
   "cell_type": "code",
   "execution_count": 193,
   "metadata": {},
   "outputs": [],
   "source": [
    "os.chdir('D:\\\\Subject_Data\\\\Seth_MatchPennies_Agent_Exp1\\\\')\n",
    "PATH = os.getcwd()\n",
    "# Fields pull and pull list\n",
    "os.chdir('D:\\Subject_Data\\Seth_MatchPennies_Agent_Exp1')\n",
    "PATH = os.getcwd()\n",
    "figures_pull_list = []\n",
    "fields_pull = []\n",
    "with open(PATH+\"\\\\Figures_Pull_List.txt\", \"r\") as pull_file:\n",
    "    figures_pull_list = pull_file.read().splitlines()\n",
    "with open(PATH+\"\\\\Fields_Pull.txt\", \"r\") as fields_pull:\n",
    "    fields_pull = fields_pull.read().splitlines()\n",
    "NUM_SUBJECTS = len(figures_pull_list)\n",
    "task_name = 'Seth_MatchPennies_Agent_Exp1'"
   ]
  },
  {
   "attachments": {},
   "cell_type": "markdown",
   "metadata": {},
   "source": [
    "# Import Subject Data"
   ]
  },
  {
   "cell_type": "code",
   "execution_count": 194,
   "metadata": {},
   "outputs": [],
   "source": [
    "load_path = r'D:\\Subject_Data\\Seth_MatchPennies_Agent_Exp1\\Subjects_Analyzed\\\\'\n",
    "subject_object_dict = dill.load((open(load_path + 'subject_object_dict.pkl', 'rb')))\n",
    "group = dill.load((open(load_path + 'group_object.pkl', 'rb')))"
   ]
  },
  {
   "attachments": {},
   "cell_type": "markdown",
   "metadata": {},
   "source": [
    "create subject folder in optimal model objects if it doesn't exist already"
   ]
  },
  {
   "cell_type": "code",
   "execution_count": 195,
   "metadata": {},
   "outputs": [],
   "source": [
    "data_path = r'C:\\Users\\Seth Sullivan\\OneDrive - University of Delaware - o365\\Desktop\\MatchPennies-Agent-Expirement\\Model Objects\\Optimal_Model_Objects\\\\'\n",
    "for sub in subject_object_dict.keys():\n",
    "    p = os.path.join(data_path,sub)\n",
    "    if not os.path.exists(p):\n",
    "        os.mkdir(p)"
   ]
  },
  {
   "attachments": {},
   "cell_type": "markdown",
   "metadata": {},
   "source": [
    "# Generate Original Model "
   ]
  },
  {
   "attachments": {},
   "cell_type": "markdown",
   "metadata": {},
   "source": [
    "(no unknown delays or uncertainties with gamble)"
   ]
  },
  {
   "cell_type": "code",
   "execution_count": 196,
   "metadata": {},
   "outputs": [],
   "source": [
    "\n",
    "# subject_optimal_model_dict = {}\n",
    "\n",
    "# for sub,o in subject_object_dict.items():\n",
    "#     print(sub)\n",
    "#     model = Optimal_Stopping_Object_v3.Optimal_Decision_Time_Model(reaction_time = o.reaction_time_minus_2sd, movement_time = o.reaction_movement_time_mean, incorrect_cost = 0,\n",
    "#                                             reaction_uncertainty = o.reaction_time_sd, movement_uncertainty = o.reaction_movement_time_sd,\n",
    "#                                             timing_uncertainty = o.coincidence_reach_time_sd,\n",
    "#                                             decision_action_delay_uncertainty = 10, decision_action_delay_mean = 70, \n",
    "#                                             )\n",
    "#     subject_optimal_model_dict.update({sub:model})\n",
    "#     dill.dump(subject_optimal_model_dict[sub], open(data_path + f'{sub}\\\\{sub}_optimal_model_reaction_time_minus_2sd.pkl', 'wb'))    \n",
    "# dill.dump(subject_optimal_model_dict,open(data_path + 'subject_optimal_model_reaction_time_minus_2sd.pkl', 'wb'))\n"
   ]
  },
  {
   "cell_type": "code",
   "execution_count": 197,
   "metadata": {},
   "outputs": [],
   "source": [
    "SWITCH_DELAY = 150"
   ]
  },
  {
   "attachments": {},
   "cell_type": "markdown",
   "metadata": {},
   "source": [
    "# Unknown Switch Delay"
   ]
  },
  {
   "cell_type": "code",
   "execution_count": 198,
   "metadata": {},
   "outputs": [
    {
     "data": {
      "text/plain": [
       "150"
      ]
     },
     "execution_count": 198,
     "metadata": {},
     "output_type": "execute_result"
    }
   ],
   "source": [
    "import Optimal_Stopping_Object_v3_unknown_switch_delay\n",
    "importlib.reload(Optimal_Stopping_Object_v3_unknown_switch_delay) # Reloads so I don't have to restart kernel if I change a function in the Object of another py file\n",
    "\n",
    "subject_optimal_model_dict = {}\n",
    "for sub,o in subject_object_dict.items():\n",
    "    model = Optimal_Stopping_Object_v3_unknown_switch_delay.Optimal_Decision_Time_Model(reaction_time = o.reaction_time_minus_2sd, movement_time = o.reaction_movement_time_mean, incorrect_cost = 0,\n",
    "                                          reaction_uncertainty = o.reaction_time_sd, movement_uncertainty = o.reaction_movement_time_sd,\n",
    "                                          timing_uncertainty = o.coincidence_reach_time_sd,\n",
    "                                          decision_action_delay_uncertainty = 10, decision_action_delay_mean = 70,\n",
    "                                          unknown_switch_delay = SWITCH_DELAY,\n",
    "                                         )\n",
    "    subject_optimal_model_dict.update({sub:model})\n",
    "    dill.dump(subject_optimal_model_dict[sub], open(data_path + f'{sub}\\\\{sub}_optimal_model_unknown_switch_delay_{SWITCH_DELAY}_reaction_time_minus_2sd.pkl', 'wb'))    \n",
    "dill.dump(subject_optimal_model_dict,open(data_path + f'subject_optimal_model_unknown_switch_delay_{SWITCH_DELAY}_reaction_time_minus_2sd_dict.pkl', 'wb'))\n",
    "subject_optimal_model_dict['Sub1'].unknown_switch_delay"
   ]
  },
  {
   "attachments": {},
   "cell_type": "markdown",
   "metadata": {},
   "source": [
    "# Unknown Switch Delay, Unknown Uncertainty"
   ]
  },
  {
   "cell_type": "code",
   "execution_count": 199,
   "metadata": {},
   "outputs": [
    {
     "data": {
      "text/plain": [
       "<module 'Optimal_Stopping_Object_v3_unknown_switch_delay_unknown_gamble_uncertainty' from 'c:\\\\Users\\\\Seth Sullivan\\\\OneDrive - University of Delaware - o365\\\\Desktop\\\\MatchPennies-Agent-Expirement\\\\Modeling Scripts\\\\Optimal Stopping\\\\Optimal_Stopping_Object_v3_unknown_switch_delay_unknown_gamble_uncertainty.py'>"
      ]
     },
     "execution_count": 199,
     "metadata": {},
     "output_type": "execute_result"
    }
   ],
   "source": [
    "import Optimal_Stopping_Object_v3_unknown_switch_delay_unknown_gamble_uncertainty\n",
    "importlib.reload(Optimal_Stopping_Object_v3_unknown_switch_delay_unknown_gamble_uncertainty) # Reloads so I don't have to restart kernel if I change a function in the Object of another py file"
   ]
  },
  {
   "cell_type": "code",
   "execution_count": 200,
   "metadata": {},
   "outputs": [],
   "source": [
    "subject_optimal_model_dict = {}\n",
    "for sub,o in subject_object_dict.items():\n",
    "    model = Optimal_Stopping_Object_v3_unknown_switch_delay_unknown_gamble_uncertainty.Optimal_Decision_Time_Model(reaction_time = o.reaction_time_minus_2sd, movement_time = o.reaction_movement_time_mean, incorrect_cost = 0,\n",
    "                                          reaction_uncertainty = o.reaction_time_sd, movement_uncertainty = o.reaction_movement_time_sd,\n",
    "                                          timing_uncertainty = o.coincidence_reach_time_sd,\n",
    "                                          decision_action_delay_uncertainty = 10, decision_action_delay_mean = 70,\n",
    "                                          unknown_switch_delay = SWITCH_DELAY,unknown_gamble_decision_time_uncertainty = o.gamble_decision_time_sd\n",
    "                                         )\n",
    "    subject_optimal_model_dict.update({sub:model})\n",
    "    dill.dump(subject_optimal_model_dict[sub], open(data_path + f'{sub}\\\\{sub}_optimal_model_unknown_switch_delay_{SWITCH_DELAY}_unknown_gamble_uncertainty_reaction_time_minus_2sd.pkl', 'wb'))    \n",
    "dill.dump(subject_optimal_model_dict,open(data_path + f'subject_optimal_model_unknown_switch_delay_{SWITCH_DELAY}_unknown_gamble_uncertainty_reaction_time_minus_2sd_dict.pkl', 'wb'))"
   ]
  },
  {
   "attachments": {},
   "cell_type": "markdown",
   "metadata": {},
   "source": [
    "# Known Switch Delay, Known Uncertainty"
   ]
  },
  {
   "cell_type": "code",
   "execution_count": null,
   "metadata": {},
   "outputs": [
    {
     "data": {
      "text/plain": [
       "<module 'Optimal_Stopping_Object_v3_known_switch_delay_known_gamble_uncertainty' from 'c:\\\\Users\\\\Seth Sullivan\\\\OneDrive - University of Delaware - o365\\\\Desktop\\\\MatchPennies-Agent-Expirement\\\\Modeling Scripts\\\\Optimal Stopping\\\\Optimal_Stopping_Object_v3_known_switch_delay_known_gamble_uncertainty.py'>"
      ]
     },
     "execution_count": 189,
     "metadata": {},
     "output_type": "execute_result"
    }
   ],
   "source": [
    "import Optimal_Stopping_Object_v3_known_switch_delay_known_gamble_uncertainty\n",
    "importlib.reload(Optimal_Stopping_Object_v3_known_switch_delay_known_gamble_uncertainty) # Reloads so I don't have to restart kernel if I change a function in the Object of another py file"
   ]
  },
  {
   "cell_type": "code",
   "execution_count": null,
   "metadata": {},
   "outputs": [],
   "source": [
    "subject_optimal_model_dict = {}\n",
    "for sub,o in subject_object_dict.items():\n",
    "    model = Optimal_Stopping_Object_v3_known_switch_delay_known_gamble_uncertainty.Optimal_Decision_Time_Model(reaction_time = o.reaction_time_minus_2sd, movement_time = o.reaction_movement_time_mean, incorrect_cost = 0,\n",
    "                                          reaction_uncertainty = o.reaction_time_sd, movement_uncertainty = o.reaction_movement_time_sd,\n",
    "                                          timing_uncertainty = o.coincidence_reach_time_sd,\n",
    "                                          decision_action_delay_uncertainty = 10, decision_action_delay_mean = 70,\n",
    "                                          unknown_switch_delay = SWITCH_DELAY,unknown_gamble_decision_time_uncertainty = o.gamble_decision_time_sd\n",
    "                                         )\n",
    "    subject_optimal_model_dict.update({sub:model})\n",
    "    dill.dump(subject_optimal_model_dict[sub], open(data_path + f'{sub}\\\\{sub}_optimal_model_known_switch_delay_{SWITCH_DELAY}_known_gamble_uncertainty_reaction_time_minus_2sd.pkl', 'wb'))    \n",
    "dill.dump(subject_optimal_model_dict,open(data_path + f'subject_optimal_model_known_switch_delay_{SWITCH_DELAY}_known_gamble_uncertainty_reaction_time_minus_2sd_dict.pkl', 'wb'))"
   ]
  }
 ],
 "metadata": {
  "kernelspec": {
   "display_name": "base",
   "language": "python",
   "name": "python3"
  },
  "language_info": {
   "codemirror_mode": {
    "name": "ipython",
    "version": 3
   },
   "file_extension": ".py",
   "mimetype": "text/x-python",
   "name": "python",
   "nbconvert_exporter": "python",
   "pygments_lexer": "ipython3",
   "version": "3.9.16"
  },
  "orig_nbformat": 4,
  "vscode": {
   "interpreter": {
    "hash": "1a00c1525417994d84940f6a64b96d4df953e4f0863c4f32c2c802abdf8195ff"
   }
  }
 },
 "nbformat": 4,
 "nbformat_minor": 2
}
