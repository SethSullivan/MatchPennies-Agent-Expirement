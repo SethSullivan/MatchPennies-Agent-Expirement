{
 "cells": [
  {
   "cell_type": "code",
   "execution_count": 1,
   "metadata": {},
   "outputs": [
    {
     "data": {
      "text/plain": [
       "'\\nThis script creates individual models for all of the different iterations I have\\n\\n'"
      ]
     },
     "execution_count": 1,
     "metadata": {},
     "output_type": "execute_result"
    }
   ],
   "source": [
    "import numpy as np\n",
    "import matplotlib.pyplot as plt\n",
    "from scipy import stats\n",
    "import dill\n",
    "import sys\n",
    "import importlib\n",
    "import os\n",
    "'''\n",
    "This script creates individual models for all of the different iterations I have\n",
    "\n",
    "'''"
   ]
  },
  {
   "cell_type": "code",
   "execution_count": 2,
   "metadata": {},
   "outputs": [],
   "source": [
    "sys.path.insert(0,r'C:\\Users\\Seth Sullivan\\OneDrive - University of Delaware - o365\\Desktop\\MatchPennies-Agent-Expirement\\Analysis and Figures Scripts\\Exp1 Scripts')\n",
    "from Subject_Object import *\n",
    "from plot_functions import *"
   ]
  },
  {
   "attachments": {},
   "cell_type": "markdown",
   "metadata": {},
   "source": [
    "# Initial Thangs"
   ]
  },
  {
   "cell_type": "code",
   "execution_count": 3,
   "metadata": {},
   "outputs": [],
   "source": [
    "os.chdir('D:\\\\Subject_Data\\\\Seth_MatchPennies_Agent_Exp1\\\\')\n",
    "PATH = os.getcwd()\n",
    "# Fields pull and pull list\n",
    "os.chdir('D:\\Subject_Data\\Seth_MatchPennies_Agent_Exp1')\n",
    "PATH = os.getcwd()\n",
    "figures_pull_list = []\n",
    "fields_pull = []\n",
    "with open(PATH+\"\\\\Figures_Pull_List.txt\", \"r\") as pull_file:\n",
    "    figures_pull_list = pull_file.read().splitlines()\n",
    "with open(PATH+\"\\\\Fields_Pull.txt\", \"r\") as fields_pull:\n",
    "    fields_pull = fields_pull.read().splitlines()\n",
    "NUM_SUBJECTS = len(figures_pull_list)\n",
    "task_name = 'Seth_MatchPennies_Agent_Exp1'"
   ]
  },
  {
   "attachments": {},
   "cell_type": "markdown",
   "metadata": {},
   "source": [
    "Get save name function "
   ]
  },
  {
   "cell_type": "code",
   "execution_count": 4,
   "metadata": {},
   "outputs": [],
   "source": [
    "def get_save_name(gamble_delay_known,gamble_delay_unknown,gamble_uncertainty_known,gamble_uncertainty_unknown,\n",
    "                  gamble_delay,gamble_uncertainty):\n",
    "    if gamble_delay_known:\n",
    "        if gamble_uncertainty_known:\n",
    "            save_name_append = f'known_gamble_delay_{gamble_delay}_known_gamble_uncertainty_{gamble_uncertainty}'\n",
    "        elif gamble_uncertainty_unknown:\n",
    "            save_name_append = f'known_gamble_delay_{gamble_delay}_unknown_gamble_uncertainty_{gamble_uncertainty}'\n",
    "        else: \n",
    "            save_name_append = f'known_gamble_delay_{gamble_delay}_none_gamble_uncertainty'\n",
    "    elif gamble_delay_unknown:\n",
    "        if gamble_uncertainty_known:\n",
    "            save_name_append = f'unknown_gamble_delay_{gamble_delay}_known_gamble_uncertainty_{gamble_uncertainty}'\n",
    "        elif gamble_uncertainty_unknown:\n",
    "            save_name_append = f'unknown_gamble_delay_{gamble_delay}_unknown_gamble_uncertainty_{gamble_uncertainty}'\n",
    "        else: \n",
    "            save_name_append = f'unknown_gamble_delay_{gamble_delay}_none_gamble_uncertainty'\n",
    "    elif gamble_uncertainty_known:\n",
    "        if gamble_delay_known:\n",
    "            save_name_append = f'known_gamble_delay_{gamble_delay}_known_gamble_uncertainty_{gamble_uncertainty}'\n",
    "        elif gamble_delay_unknown:\n",
    "            save_name_append = f'unknown_gamble_delay_{gamble_delay}_known_gamble_uncertainty_{gamble_uncertainty}'\n",
    "        else: \n",
    "            save_name_append = f'none_gamble_delay_known_gamble_uncertainty_{gamble_uncertainty}'\n",
    "    elif gamble_uncertainty_unknown:\n",
    "        if gamble_delay_known:\n",
    "            save_name_append = f'known_gamble_delay_{gamble_delay}_unknown_gamble_uncertainty_{gamble_uncertainty}'\n",
    "        elif gamble_delay_unknown:\n",
    "            save_name_append = f'unknown_gamble_delay_{gamble_delay}_unknown_gamble_uncertainty_{gamble_uncertainty}'\n",
    "        else: \n",
    "            save_name_append = f'none_gamble_delay_unknown_gamble_uncertainty_{gamble_uncertainty}'\n",
    "    else:\n",
    "        save_name_append = f'none_gamble_delay_none_gamble_uncertainty'\n",
    "    return save_name_append"
   ]
  },
  {
   "cell_type": "code",
   "execution_count": 14,
   "metadata": {},
   "outputs": [],
   "source": [
    "x = np.array([1,2,np.nan])\n",
    "y = np.array([1,2,3])\n",
    "\n",
    "mask = x-y == 0"
   ]
  },
  {
   "attachments": {},
   "cell_type": "markdown",
   "metadata": {},
   "source": [
    "create subject folder in optimal model objects if it doesn't exist already"
   ]
  },
  {
   "cell_type": "code",
   "execution_count": 5,
   "metadata": {},
   "outputs": [
    {
     "data": {
      "text/plain": [
       "<module 'Optimal_Stopping_Object_v3' from 'c:\\\\Users\\\\Seth Sullivan\\\\OneDrive - University of Delaware - o365\\\\Desktop\\\\MatchPennies-Agent-Expirement\\\\Modeling Scripts\\\\Optimal Stopping\\\\Optimal_Stopping_Object_v3.py'>"
      ]
     },
     "execution_count": 5,
     "metadata": {},
     "output_type": "execute_result"
    }
   ],
   "source": [
    "# Original Model\n",
    "import Optimal_Stopping_Object_v3\n",
    "importlib.reload(Optimal_Stopping_Object_v3) "
   ]
  },
  {
   "attachments": {},
   "cell_type": "markdown",
   "metadata": {},
   "source": [
    "# Generate Models "
   ]
  },
  {
   "cell_type": "code",
   "execution_count": 6,
   "metadata": {},
   "outputs": [],
   "source": [
    "\n",
    "GAMBLE_DELAY_KNOWN_ON = [False,True,False,False,False, # First row is each one by themself\n",
    "                         True,False,True,False] # Second row is two of them being true\n",
    "\n",
    "GAMBLE_DELAY_UNKNOWN_ON = [False,False,True,False,False,\n",
    "                           False,True,False,True]\n",
    "\n",
    "GAMBLE_UNCERTAINTY_UNKNOWN_ON = [False,False,False,True,False,\n",
    "                                 False,False,True,True]\n",
    "\n",
    "GAMBLE_UNCERTAINTY_KNOWN_ON = [False,False,False,False,True,\n",
    "                               True,True,False,False]\n",
    "\n",
    "NUM_SD_REACTION_TIME_DATA = [0,1,2]\n",
    "\n",
    "# Get save name from how many sds we take off reaction time\n",
    "rt_append_dict = {0:'reaction_time_no_sd_off',1:'reaction_time_minus_sd',2:'reaction_time_minus_2sd'}\n",
    "\n",
    "# Load and save paths\n",
    "load_path = r'D:\\Subject_Data\\Seth_MatchPennies_Agent_Exp1\\Subjects_Analyzed\\\\'\n",
    "save_path = r'C:\\Users\\Seth Sullivan\\OneDrive - University of Delaware - o365\\Desktop\\MatchPennies-Agent-Expirement\\Model Objects\\Optimal_Model_Objects\\\\'\n",
    "\n",
    "# Create empty dicts for each of the models\n",
    "subject_optimal_model_dict = {}\n",
    "\n",
    "for gamble_delay_known,gamble_delay_unknown,gamble_uncertainty_known,gamble_uncertainty_unknown in zip(GAMBLE_DELAY_KNOWN_ON,GAMBLE_DELAY_UNKNOWN_ON,GAMBLE_UNCERTAINTY_KNOWN_ON,GAMBLE_UNCERTAINTY_UNKNOWN_ON):\n",
    "    # Set Swtich Delay to 0 so we don't loop through if it's turned off\n",
    "    if gamble_delay_known or gamble_delay_unknown:\n",
    "        GAMBLE_DELAYS = [100,150,200]\n",
    "    else:\n",
    "        GAMBLE_DELAYS = [0]\n",
    "    \n",
    "    if gamble_uncertainty_known or gamble_uncertainty_unknown:\n",
    "        GAMBLE_UNCERTANTIES = [100,150,200]\n",
    "    else:\n",
    "        GAMBLE_UNCERTANTIES = [0]\n",
    "    \n",
    "    for gamble_delay in GAMBLE_DELAYS:\n",
    "        for gamble_uncertainty in GAMBLE_UNCERTANTIES:\n",
    "            # Create each save name for all 13 situations\n",
    "            save_name_append = get_save_name(gamble_delay_known,gamble_delay_unknown,\n",
    "                                             gamble_uncertainty_known,gamble_uncertainty_unknown,\n",
    "                                             gamble_delay,gamble_uncertainty)\n",
    "            if gamble_delay_known:\n",
    "                if gamble_uncertainty_known:\n",
    "                    save_name_append = f'known_gamble_delay_{gamble_delay}_known_gamble_uncertainty_{gamble_uncertainty}'\n",
    "                elif gamble_uncertainty_unknown:\n",
    "                    save_name_append = f'known_gamble_delay_{gamble_delay}_unknown_gamble_uncertainty_{gamble_uncertainty}'\n",
    "                else: \n",
    "                    save_name_append = f'known_gamble_delay_{gamble_delay}_none_gamble_uncertainty'\n",
    "            elif gamble_delay_unknown:\n",
    "                if gamble_uncertainty_known:\n",
    "                    save_name_append = f'unknown_gamble_delay_{gamble_delay}_known_gamble_uncertainty_{gamble_uncertainty}'\n",
    "                elif gamble_uncertainty_unknown:\n",
    "                    save_name_append = f'unknown_gamble_delay_{gamble_delay}_unknown_gamble_uncertainty_{gamble_uncertainty}'\n",
    "                else: \n",
    "                    save_name_append = f'unknown_gamble_delay_{gamble_delay}_none_gamble_uncertainty'\n",
    "            elif gamble_uncertainty_known:\n",
    "                if gamble_delay_known:\n",
    "                    save_name_append = f'known_gamble_delay_{gamble_delay}_known_gamble_uncertainty_{gamble_uncertainty}'\n",
    "                elif gamble_delay_unknown:\n",
    "                    save_name_append = f'unknown_gamble_delay_{gamble_delay}_known_gamble_uncertainty_{gamble_uncertainty}'\n",
    "                else: \n",
    "                    save_name_append = f'none_gamble_delay_known_gamble_uncertainty_{gamble_uncertainty}'\n",
    "            elif gamble_uncertainty_unknown:\n",
    "                if gamble_delay_known:\n",
    "                    save_name_append = f'known_gamble_delay_{gamble_delay}_unknown_gamble_uncertainty_{gamble_uncertainty}'\n",
    "                elif gamble_delay_unknown:\n",
    "                    save_name_append = f'unknown_gamble_delay_{gamble_delay}_unknown_gamble_uncertainty_{gamble_uncertainty}'\n",
    "                else: \n",
    "                    save_name_append = f'none_gamble_delay_unknown_gamble_uncertainty_{gamble_uncertainty}'\n",
    "            else:\n",
    "                save_name_append = f'none_gamble_delay_none_gamble_uncertainty'\n",
    "                \n",
    "            # Loop through different reaction times\n",
    "            for sd in NUM_SD_REACTION_TIME_DATA:\n",
    "                # Load the correct subject object dicts based on reaction time used for gamble and reaction \n",
    "                subject_object_dict = dill.load((open(load_path + f'subject_object_{rt_append_dict[sd]}_dict''.pkl', 'rb')))\n",
    "                group = dill.load((open(load_path + f'group_object_{rt_append_dict[sd]}.pkl', 'rb')))\n",
    "                \n",
    "                # SUBJECT LOOP\n",
    "                for sub,o in subject_object_dict.items():\n",
    "                    # Create directory for subject\n",
    "                    p = os.path.join(save_path,sub)\n",
    "                    if not os.path.exists(p):\n",
    "                        os.mkdir(p)\n",
    "                    # If the model already exists, skip that subject\n",
    "                    if os.path.exists(save_path + f'{sub}\\\\{sub}_optimal_model_{rt_append_dict[sd]}_{save_name_append}.pkl'):\n",
    "                        continue\n",
    "                        \n",
    "                    model = Optimal_Stopping_Object_v3.Optimal_Decision_Time_Model(reaction_time = o.reaction_time_mean - sd*o.reaction_time_sd, movement_time = o.reaction_movement_time_mean, incorrect_cost = 0,\n",
    "                                                        reaction_uncertainty = o.reaction_time_sd, movement_uncertainty = o.reaction_movement_time_sd,\n",
    "                                                        timing_uncertainty = o.coincidence_reach_time_sd,\n",
    "                                                        decision_action_delay_uncertainty = 10, decision_action_delay_mean = 70, \n",
    "                                                        unknown_gamble_uncertainty_on = gamble_uncertainty_unknown, unknown_gamble_uncertainty = gamble_uncertainty,\n",
    "                                                        known_gamble_uncertainty_on = gamble_uncertainty_known, known_gamble_uncertainty = gamble_uncertainty,\n",
    "                                                        unknown_gamble_delay_on = gamble_delay_unknown, unknown_gamble_delay = gamble_delay,\n",
    "                                                        known_gamble_delay_on = gamble_delay_known, known_gamble_delay = gamble_delay,\n",
    "                                                        )\n",
    "                    subject_optimal_model_dict.update({sub:model})\n",
    "                    dill.dump(model, open(save_path + f'{sub}\\\\{sub}_optimal_model_{rt_append_dict[sd]}_{save_name_append}.pkl', 'wb'))\n",
    "                dill.dump(subject_optimal_model_dict, open(save_path + f'subject_optimal_model_dict_{rt_append_dict[sd]}_{save_name_append}.pkl', 'wb'))\n",
    "                       \n",
    "        "
   ]
  },
  {
   "cell_type": "code",
   "execution_count": 7,
   "metadata": {},
   "outputs": [
    {
     "data": {
      "text/plain": [
       "'C:\\\\Users\\\\Seth Sullivan\\\\OneDrive - University of Delaware - o365\\\\Desktop\\\\MatchPennies-Agent-Expirement\\\\Model Objects\\\\Optimal_Model_Objects\\\\\\\\Sub19'"
      ]
     },
     "execution_count": 7,
     "metadata": {},
     "output_type": "execute_result"
    }
   ],
   "source": [
    "p"
   ]
  },
  {
   "attachments": {},
   "cell_type": "markdown",
   "metadata": {},
   "source": [
    "(no unknown delays or uncertainties with gamble)"
   ]
  },
  {
   "cell_type": "code",
   "execution_count": 8,
   "metadata": {},
   "outputs": [
    {
     "name": "stdout",
     "output_type": "stream",
     "text": [
      "Sub1\n"
     ]
    },
    {
     "ename": "AttributeError",
     "evalue": "'Subject' object has no attribute 'reaction_time_minus_2sd'",
     "output_type": "error",
     "traceback": [
      "\u001b[1;31m---------------------------------------------------------------------------\u001b[0m",
      "\u001b[1;31mAttributeError\u001b[0m                            Traceback (most recent call last)",
      "\u001b[1;32m~\\AppData\\Local\\Temp\\ipykernel_20552\\1261282830.py\u001b[0m in \u001b[0;36m<module>\u001b[1;34m\u001b[0m\n\u001b[0;32m      3\u001b[0m \u001b[1;32mfor\u001b[0m \u001b[0msub\u001b[0m\u001b[1;33m,\u001b[0m\u001b[0mo\u001b[0m \u001b[1;32min\u001b[0m \u001b[0msubject_object_dict\u001b[0m\u001b[1;33m.\u001b[0m\u001b[0mitems\u001b[0m\u001b[1;33m(\u001b[0m\u001b[1;33m)\u001b[0m\u001b[1;33m:\u001b[0m\u001b[1;33m\u001b[0m\u001b[1;33m\u001b[0m\u001b[0m\n\u001b[0;32m      4\u001b[0m     \u001b[0mprint\u001b[0m\u001b[1;33m(\u001b[0m\u001b[0msub\u001b[0m\u001b[1;33m)\u001b[0m\u001b[1;33m\u001b[0m\u001b[1;33m\u001b[0m\u001b[0m\n\u001b[1;32m----> 5\u001b[1;33m     model = Optimal_Stopping_Object_v3.Optimal_Decision_Time_Model(reaction_time = o.reaction_time_minus_2sd, movement_time = o.reaction_movement_time_mean, incorrect_cost = 0,\n\u001b[0m\u001b[0;32m      6\u001b[0m                                             \u001b[0mreaction_uncertainty\u001b[0m \u001b[1;33m=\u001b[0m \u001b[0mo\u001b[0m\u001b[1;33m.\u001b[0m\u001b[0mreaction_time_sd\u001b[0m\u001b[1;33m,\u001b[0m \u001b[0mmovement_uncertainty\u001b[0m \u001b[1;33m=\u001b[0m \u001b[0mo\u001b[0m\u001b[1;33m.\u001b[0m\u001b[0mreaction_movement_time_sd\u001b[0m\u001b[1;33m,\u001b[0m\u001b[1;33m\u001b[0m\u001b[1;33m\u001b[0m\u001b[0m\n\u001b[0;32m      7\u001b[0m                                             \u001b[0mtiming_uncertainty\u001b[0m \u001b[1;33m=\u001b[0m \u001b[0mo\u001b[0m\u001b[1;33m.\u001b[0m\u001b[0mcoincidence_reach_time_sd\u001b[0m\u001b[1;33m,\u001b[0m\u001b[1;33m\u001b[0m\u001b[1;33m\u001b[0m\u001b[0m\n",
      "\u001b[1;31mAttributeError\u001b[0m: 'Subject' object has no attribute 'reaction_time_minus_2sd'"
     ]
    }
   ],
   "source": [
    "\n",
    "subject_optimal_model_dict = {}\n",
    "\n",
    "for sub,o in subject_object_dict.items():\n",
    "    print(sub)\n",
    "    model = Optimal_Stopping_Object_v3.Optimal_Decision_Time_Model(reaction_time = o.reaction_time_minus_2sd, movement_time = o.reaction_movement_time_mean, incorrect_cost = 0,\n",
    "                                            reaction_uncertainty = o.reaction_time_sd, movement_uncertainty = o.reaction_movement_time_sd,\n",
    "                                            timing_uncertainty = o.coincidence_reach_time_sd,\n",
    "                                            decision_action_delay_uncertainty = 10, decision_action_delay_mean = 70, \n",
    "                                            )\n",
    "    subject_optimal_model_dict.update({sub:model})\n",
    "    dill.dump(subject_optimal_model_dict[sub], open(save_path + f'{sub}\\\\{sub}_optimal_model_reaction_time_minus_2sd.pkl', 'wb'))    \n",
    "dill.dump(subject_optimal_model_dict,open(save_path + 'subject_optimal_model_reaction_time_minus_2sd.pkl', 'wb'))\n"
   ]
  },
  {
   "attachments": {},
   "cell_type": "markdown",
   "metadata": {},
   "source": [
    "# Unknown Switch Delay"
   ]
  },
  {
   "cell_type": "code",
   "execution_count": null,
   "metadata": {},
   "outputs": [
    {
     "data": {
      "text/plain": [
       "175"
      ]
     },
     "execution_count": 17,
     "metadata": {},
     "output_type": "execute_result"
    }
   ],
   "source": [
    "\n",
    "\n",
    "subject_optimal_model_dict = {}\n",
    "for sub,o in subject_object_dict.items():\n",
    "    model = Optimal_Stopping_Object_v3_unknown_gamble_delay.Optimal_Decision_Time_Model(reaction_time = o.reaction_time_minus_sd, movement_time = o.reaction_movement_time_mean, incorrect_cost = 0,\n",
    "                                          reaction_uncertainty = o.reaction_time_sd, movement_uncertainty = o.reaction_movement_time_sd,\n",
    "                                          timing_uncertainty = o.coincidence_reach_time_sd,\n",
    "                                          decision_action_delay_uncertainty = 10, decision_action_delay_mean = 70,\n",
    "                                          unknown_gamble_delay = gamble_delay,\n",
    "                                         )\n",
    "    subject_optimal_model_dict.update({sub:model})\n",
    "    dill.dump(subject_optimal_model_dict[sub], open(save_path + f'{sub}\\\\{sub}_optimal_model_unknown_gamble_delay_{gamble_delay}_reaction_time_minus_sd.pkl', 'wb'))    \n",
    "dill.dump(subject_optimal_model_dict,open(save_path + f'subject_optimal_model_unknown_gamble_delay_{gamble_delay}_reaction_time_minus_sd_dict.pkl', 'wb'))\n",
    "subject_optimal_model_dict['Sub1'].unknown_gamble_delay"
   ]
  },
  {
   "attachments": {},
   "cell_type": "markdown",
   "metadata": {},
   "source": [
    "# Unknown Switch Delay, Unknown Uncertainty"
   ]
  },
  {
   "cell_type": "code",
   "execution_count": null,
   "metadata": {},
   "outputs": [],
   "source": [
    "subject_optimal_model_dict = {}\n",
    "for sub,o in subject_object_dict.items():\n",
    "    model = Optimal_Stopping_Object_v3_unknown_gamble_delay_unknown_gamble_uncertainty.Optimal_Decision_Time_Model(reaction_time = o.reaction_time_minus_2sd, movement_time = o.reaction_movement_time_mean, incorrect_cost = 0,\n",
    "                                          reaction_uncertainty = o.reaction_time_sd, movement_uncertainty = o.reaction_movement_time_sd,\n",
    "                                          timing_uncertainty = o.coincidence_reach_time_sd,\n",
    "                                          decision_action_delay_uncertainty = 10, decision_action_delay_mean = 70,\n",
    "                                          unknown_gamble_delay = gamble_delay,unknown_gamble_decision_time_uncertainty = o.gamble_decision_time_sd\n",
    "                                         )\n",
    "    subject_optimal_model_dict.update({sub:model})\n",
    "    dill.dump(subject_optimal_model_dict[sub], open(save_path + f'{sub}\\\\{sub}_optimal_model_unknown_gamble_delay_{gamble_delay}_unknown_gamble_uncertainty_reaction_time_minus_2sd.pkl', 'wb'))    \n",
    "dill.dump(subject_optimal_model_dict,open(save_path + f'subject_optimal_model_unknown_gamble_delay_{gamble_delay}_unknown_gamble_uncertainty_reaction_time_minus_2sd_dict.pkl', 'wb'))"
   ]
  },
  {
   "attachments": {},
   "cell_type": "markdown",
   "metadata": {},
   "source": [
    "# Known Switch Delay, Known Uncertainty"
   ]
  },
  {
   "cell_type": "code",
   "execution_count": null,
   "metadata": {},
   "outputs": [],
   "source": [
    "\n",
    "subject_optimal_model_dict = {}\n",
    "for sub,o in subject_object_dict.items():\n",
    "    model = Optimal_Stopping_Object_v3_known_gamble_delay_known_gamble_uncertainty.Optimal_Decision_Time_Model(reaction_time = o.reaction_time_minus_2sd, movement_time = o.reaction_movement_time_mean, incorrect_cost = 0,\n",
    "                                          reaction_uncertainty = o.reaction_time_sd, movement_uncertainty = o.reaction_movement_time_sd,\n",
    "                                          timing_uncertainty = o.coincidence_reach_time_sd,\n",
    "                                          decision_action_delay_uncertainty = 10, decision_action_delay_mean = 70,\n",
    "                                          unknown_gamble_delay = gamble_delay,unknown_gamble_decision_time_uncertainty = o.gamble_decision_time_sd\n",
    "                                         )\n",
    "    subject_optimal_model_dict.update({sub:model})\n",
    "    dill.dump(subject_optimal_model_dict[sub], open(save_path + f'{sub}\\\\{sub}_optimal_model_known_gamble_delay_{gamble_delay}_known_gamble_uncertainty_reaction_time_minus_2sd.pkl', 'wb'))    \n",
    "dill.dump(subject_optimal_model_dict,open(save_path + f'subject_optimal_model_known_gamble_delay_{gamble_delay}_known_gamble_uncertainty_reaction_time_minus_2sd_dict.pkl', 'wb'))"
   ]
  },
  {
   "attachments": {},
   "cell_type": "markdown",
   "metadata": {},
   "source": [
    "# Original Model with Beta Correctness Parameter"
   ]
  },
  {
   "cell_type": "code",
   "execution_count": null,
   "metadata": {},
   "outputs": [
    {
     "name": "stdout",
     "output_type": "stream",
     "text": [
      "Sub1\n",
      "Sub2\n",
      "Sub3\n",
      "Sub4\n",
      "Sub5\n",
      "Sub6\n",
      "Sub7\n",
      "Sub8\n",
      "Sub9\n",
      "Sub10\n",
      "Sub11\n",
      "Sub12\n",
      "Sub13\n",
      "Sub14\n",
      "Sub15\n",
      "Sub16\n",
      "Sub17\n",
      "Sub18\n",
      "Sub19\n"
     ]
    }
   ],
   "source": [
    "import Optimal_Stopping_Object_v3_correctness_weighting\n",
    "importlib.reload(Optimal_Stopping_Object_v3_correctness_weighting) # Reloads so I don't have to restart kernel if I change a function in the Object of another py file\n",
    "subject_optimal_model_dict = {}\n",
    "\n",
    "for sub,o in subject_object_dict.items():\n",
    "    print(sub)\n",
    "    model = Optimal_Stopping_Object_v3_correctness_weighting.Optimal_Decision_Time_Model(reaction_time = o.reaction_time_minus_sd, movement_time = o.reaction_movement_time_mean, incorrect_cost = 0,\n",
    "                                            reaction_uncertainty = o.reaction_time_sd, movement_uncertainty = o.reaction_movement_time_sd,\n",
    "                                            timing_uncertainty = o.coincidence_reach_time_sd,\n",
    "                                            decision_action_delay_uncertainty = 10, decision_action_delay_mean = 70, \n",
    "                                            perc_wins_when_both_reach = o.player_perc_both_reached_wins/100\n",
    "                                            )\n",
    "    subject_optimal_model_dict.update({sub:model})\n",
    "    dill.dump(subject_optimal_model_dict[sub], open(save_path + f'{sub}\\\\{sub}_optimal_model_with_beta_reaction_time_minus_sd.pkl', 'wb'))    \n",
    "dill.dump(subject_optimal_model_dict,open(save_path + 'subject_optimal_model_with_beta_reaction_time_minus_sd_dict.pkl', 'wb'))"
   ]
  },
  {
   "cell_type": "code",
   "execution_count": null,
   "metadata": {},
   "outputs": [],
   "source": []
  }
 ],
 "metadata": {
  "kernelspec": {
   "display_name": "base",
   "language": "python",
   "name": "python3"
  },
  "language_info": {
   "codemirror_mode": {
    "name": "ipython",
    "version": 3
   },
   "file_extension": ".py",
   "mimetype": "text/x-python",
   "name": "python",
   "nbconvert_exporter": "python",
   "pygments_lexer": "ipython3",
   "version": "3.9.16"
  },
  "orig_nbformat": 4,
  "vscode": {
   "interpreter": {
    "hash": "1a00c1525417994d84940f6a64b96d4df953e4f0863c4f32c2c802abdf8195ff"
   }
  }
 },
 "nbformat": 4,
 "nbformat_minor": 2
}
