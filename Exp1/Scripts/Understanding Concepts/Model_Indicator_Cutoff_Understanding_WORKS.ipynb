{
 "cells": [
  {
   "cell_type": "code",
   "execution_count": 43,
   "metadata": {},
   "outputs": [],
   "source": [
    "import numpy as np\n",
    "from scipy import stats\n",
    "from numba import njit\n",
    "import numba as nb\n",
    "import matplotlib.pyplot as plt\n",
    "import itertools"
   ]
  },
  {
   "attachments": {},
   "cell_type": "markdown",
   "metadata": {},
   "source": [
    "# Create Indicator and MOMENT Functions (First four moments)"
   ]
  },
  {
   "cell_type": "code",
   "execution_count": 44,
   "metadata": {},
   "outputs": [],
   "source": [
    "@njit\n",
    "def indicator_func(x,y):\n",
    "    if x<y:\n",
    "        return 1\n",
    "    else:\n",
    "        return 0\n",
    "@njit\n",
    "def get_ev(timesteps,agent_pdf,time_pdf):\n",
    "    ev = 0\n",
    "    for x,px in zip(timesteps,agent_pdf):\n",
    "        for y,py in zip(timesteps,time_pdf):\n",
    "            ev+=x*px*py*indicator_func(x,y)\n",
    "    return ev\n",
    "@njit(parallel=True)\n",
    "def get_ev_parallel(timesteps,agent_pdf,time_pdf):\n",
    "    ev = 0\n",
    "    for i in nb.prange(len(timesteps)):\n",
    "        x = timesteps[i]\n",
    "        px = agent_pdf[i]\n",
    "        for y,py in zip(timesteps,time_pdf):\n",
    "            ev+=x*px*py*indicator_func(x,y)\n",
    "    return ev\n",
    "\n",
    "@njit\n",
    "def get_ev2(timesteps,agent_pdf,time_pdf):\n",
    "    ev = 0\n",
    "    for x,px in zip(timesteps,agent_pdf):\n",
    "        for y,py in zip(timesteps,time_pdf):\n",
    "            ev+=(x**2)*px*py*indicator_func(x,y)\n",
    "    return ev\n",
    "\n",
    "@njit\n",
    "def get_ev3(timesteps,agent_pdf,time_pdf):\n",
    "    ev = 0\n",
    "    for x,px in zip(timesteps,agent_pdf):\n",
    "        for y,py in zip(timesteps,time_pdf):\n",
    "            ev+=(x**3)*px*py*indicator_func(x,y)\n",
    "    return ev\n",
    "@njit\n",
    "def get_ev4(timesteps,agent_pdf,time_pdf):\n",
    "    ev = 0\n",
    "    for x,px in zip(timesteps,agent_pdf):\n",
    "        for y,py in zip(timesteps,time_pdf):\n",
    "            ev+=(x**4)*px*py*indicator_func(x,y)\n",
    "    return ev\n",
    "\n",
    "@njit\n",
    "def get_skew(EX,EX2,EX3,sigma):\n",
    "    ans = (EX3 - 3*EX*(EX2**2) +3*(EX**2)*EX - (EX**3))/(sigma**3)\n",
    "    return ans\n",
    "@njit\n",
    "def get_kurtosis(EX,EX2,EX3,EX4,sigma):\n",
    "    ans = (EX4 - 4*EX*EX3 + 6*EX**2*sigma**2 + 3*EX**4)/(sigma**4)\n",
    "    return ans"
   ]
  },
  {
   "cell_type": "code",
   "execution_count": 45,
   "metadata": {},
   "outputs": [],
   "source": [
    "@njit(parallel=True)\n",
    "def get_moments(timesteps,agent_pdf,time_pdf):\n",
    "    m1,m2,m3,m4 = 0,0,0,0\n",
    "    for i in nb.prange(len(timesteps)):\n",
    "        x = timesteps[i]\n",
    "        px = agent_pdf[i]\n",
    "        for y,py in zip(timesteps,time_pdf):\n",
    "            if x<y:\n",
    "                I = 1\n",
    "            else:\n",
    "                I = 0 \n",
    "            m1+=(x**1)*px*py*I\n",
    "            m2+=(x**2)*px*py*I\n",
    "            m3+=(x**3)*px*py*I\n",
    "            m4+=(x**4)*px*py*I\n",
    "    return [m1,m2,m3,m4]"
   ]
  },
  {
   "attachments": {},
   "cell_type": "markdown",
   "metadata": {},
   "source": [
    "# Set up PDFs"
   ]
  },
  {
   "cell_type": "code",
   "execution_count": 95,
   "metadata": {},
   "outputs": [],
   "source": [
    "timesteps = np.arange(0,5000,1) # Timesteps need to go to infinity\n",
    "agent_mu,agent_sd = 1000,150 \n",
    "time_mu,time_sd = 700,150\n",
    "agent_pdf = stats.norm.pdf(timesteps,agent_mu,agent_sd) # Create Agent pdf\n",
    "time_pdf = stats.norm.pdf(timesteps,time_mu,time_sd) # Create Timing pdf\n",
    "prob_x_in_A = stats.norm.cdf(0,agent_mu-time_mu,np.sqrt(agent_sd**2+time_sd**2)) # Get probability of any x being in the new distribution for normalization"
   ]
  },
  {
   "attachments": {},
   "cell_type": "markdown",
   "metadata": {},
   "source": [
    "# Get the First Four Moments "
   ]
  },
  {
   "cell_type": "code",
   "execution_count": 96,
   "metadata": {},
   "outputs": [
    {
     "name": "stdout",
     "output_type": "stream",
     "text": [
      "E[X] = 798.3434195783188\n",
      "E[X^2] = 653120.228952613\n",
      "E[X^3] = 544387740.3981495\n",
      "E[X^4] = 461778768867.92395\n"
     ]
    }
   ],
   "source": [
    "EX = get_ev(timesteps,agent_pdf,time_pdf) # First moment\n",
    "EX_norm = EX/prob_x_in_A # Normalize by prob \n",
    "print(f'E[X] = {EX_norm}')\n",
    "EX2 = get_ev2(timesteps,agent_pdf,time_pdf) # Second moment\n",
    "EX2_norm = get_ev2(timesteps,agent_pdf,time_pdf)/prob_x_in_A\n",
    "print(f'E[X^2] = {EX2_norm}')\n",
    "\n",
    "EX3 = get_ev3(timesteps,agent_pdf,time_pdf)\n",
    "EX3_norm = EX3/prob_x_in_A\n",
    "print(f'E[X^3] = {EX3_norm}')\n",
    "\n",
    "EX4 = get_ev4(timesteps,agent_pdf,time_pdf)\n",
    "EX4_norm = EX4/prob_x_in_A\n",
    "print(f'E[X^4] = {EX4_norm}')\n",
    "\n",
    "m1,m2,m3,m4 = get_moments(timesteps,agent_pdf,time_pdf)"
   ]
  },
  {
   "cell_type": "code",
   "execution_count": 97,
   "metadata": {},
   "outputs": [
    {
     "name": "stdout",
     "output_type": "stream",
     "text": [
      "10.1 ms ± 70.6 µs per loop (mean ± std. dev. of 7 runs, 100 loops each)\n"
     ]
    }
   ],
   "source": [
    "%timeit get_moments(timesteps,agent_pdf,time_pdf) # First moment"
   ]
  },
  {
   "cell_type": "code",
   "execution_count": 49,
   "metadata": {},
   "outputs": [
    {
     "name": "stdout",
     "output_type": "stream",
     "text": [
      "4.89 ms ± 252 µs per loop (mean ± std. dev. of 7 runs, 1 loop each)\n"
     ]
    }
   ],
   "source": [
    "%timeit get_ev_parallel(timesteps,agent_pdf,time_pdf) # First moment"
   ]
  },
  {
   "attachments": {},
   "cell_type": "markdown",
   "metadata": {},
   "source": [
    "### Vectorized solution (not even sure if it's faster)"
   ]
  },
  {
   "attachments": {},
   "cell_type": "markdown",
   "metadata": {},
   "source": [
    "1. Get cartesian product of all the timestep pairs\n",
    "2. Find the pairs where the timestep of the y value is greater than the x value (maybe triangle )"
   ]
  },
  {
   "cell_type": "code",
   "execution_count": 50,
   "metadata": {},
   "outputs": [],
   "source": [
    "def cartesian_product(*arrays):\n",
    "    la = len(arrays)\n",
    "    # dtype = np.result_type(*arrays)\n",
    "    arr = np.zeros([len(a) for a in arrays] + [la])#, dtype=dtype)\n",
    "    for i, a in enumerate(np.ix_(*arrays)):\n",
    "        arr[...,i] = a # [...,i] is like saying [:,i] for 2d array or [:,:,i] for 3d array\n",
    "    return arr.reshape(-1, la)"
   ]
  },
  {
   "cell_type": "code",
   "execution_count": 51,
   "metadata": {},
   "outputs": [],
   "source": [
    "a = timesteps\n",
    "pa = agent_pdf\n",
    "b = timesteps\n",
    "pb = time_pdf\n",
    "s = len(a)\n",
    "prob_x_in_A = stats.norm.cdf(0,agent_mu-time_mu,np.sqrt(agent_sd**2+time_sd**2)) # Get probability of any x being in the new distribution for normalization\n",
    "cp_values = cartesian_product(timesteps,timesteps)\n",
    "mask = (cp_values[:,0]<cp_values[:,1]).reshape(s,s)\n",
    "total_prob = np.count_nonzero(mask)/len(mask.flatten())\n",
    "out = np.empty((6000,6000))\n",
    "EX_norm_check = np.sum(np.outer(pa,pb,out)*(np.tile(a,(6000,1)).T)*mask)/prob_x_in_A\n",
    "# EX2_norm_check = np.sum(np.outer(pa,pb)*np.outer(a**2,np.ones(len(a)))*mask)/prob_x_in_A\n",
    "# EX3_norm_check = np.sum(np.outer(pa,pb)*np.outer(a**3,np.ones(len(a)))*mask)/prob_x_in_A\n",
    "# EX4_norm_check = np.sum(np.outer(pa,pb)*np.outer(a**4,np.ones(len(a)))*mask)/prob_x_in_A\n",
    "# print(f'E[X] = {EX_norm_check}')\n",
    "# print(f'E[X^2] = {EX2_norm_check}')\n",
    "# print(f'E[X^3] = {EX3_norm_check}')\n",
    "# print(f'E[X^4] = {EX4_norm_check}')"
   ]
  },
  {
   "cell_type": "code",
   "execution_count": 52,
   "metadata": {},
   "outputs": [
    {
     "name": "stdout",
     "output_type": "stream",
     "text": [
      "417 ms ± 3.6 ms per loop (mean ± std. dev. of 7 runs, 1 loop each)\n"
     ]
    }
   ],
   "source": [
    "out = np.empty((6000,6000))\n",
    "%timeit np.sum(np.outer(pa,pb,out)*np.tile(a,(6000,1)).T*mask)/prob_x_in_A"
   ]
  },
  {
   "cell_type": "code",
   "execution_count": 87,
   "metadata": {},
   "outputs": [],
   "source": [
    "@njit(parallel=True)\n",
    "def get_outer_products(tiled_timesteps,time_means,agent_pdf,time_pdfs,mask,prob_x_in_A):\n",
    "    ans = np.empty(len(time_means))\n",
    "    for i in nb.prange(len(time_means)):\n",
    "        out = np.empty((6000,6000))\n",
    "        ans[i] = np.sum(np.outer(agent_pdf,time_pdfs[i,:],out)*tiled_timesteps*mask)/prob_x_in_A\n",
    "    return ans"
   ]
  },
  {
   "cell_type": "code",
   "execution_count": 88,
   "metadata": {},
   "outputs": [
    {
     "data": {
      "text/plain": [
       "array([5.76923944e-05, 5.96828359e-05, 6.17398050e-05, ...,\n",
       "       2.53911003e+04, 2.54038149e+04, 2.54165296e+04])"
      ]
     },
     "execution_count": 88,
     "metadata": {},
     "output_type": "execute_result"
    }
   ],
   "source": [
    "new_timesteps = np.arange(-1000,5000,1)\n",
    "tiled_new_timesteps = np.tile(new_timesteps,(6000,1))\n",
    "regular_timesteps = np.arange(0,2000,1) # Timing means for the time_pdf\n",
    "time_means_tiled = np.tile(regular_timesteps,(len(new_timesteps),1)).T\n",
    "time_pdfs = stats.norm.pdf(new_timesteps,time_means_tiled,100)\n",
    "get_outer_products(tiled_new_timesteps,regular_timesteps,agent_pdf,time_pdfs,mask,prob_x_in_A)"
   ]
  },
  {
   "cell_type": "code",
   "execution_count": 94,
   "metadata": {},
   "outputs": [
    {
     "ename": "MemoryError",
     "evalue": "Unable to allocate 536. GiB for an array with shape (6000, 12000000) and data type float64",
     "output_type": "error",
     "traceback": [
      "\u001b[1;31m---------------------------------------------------------------------------\u001b[0m",
      "\u001b[1;31mMemoryError\u001b[0m                               Traceback (most recent call last)",
      "\u001b[1;32m~\\AppData\\Local\\Temp\\ipykernel_473412\\2728857580.py\u001b[0m in \u001b[0;36m<module>\u001b[1;34m\u001b[0m\n\u001b[0;32m      1\u001b[0m \u001b[0mtiled_agent_pdf\u001b[0m \u001b[1;33m=\u001b[0m \u001b[0mnp\u001b[0m\u001b[1;33m.\u001b[0m\u001b[0mtile\u001b[0m\u001b[1;33m(\u001b[0m\u001b[0magent_pdf\u001b[0m\u001b[1;33m,\u001b[0m\u001b[1;33m(\u001b[0m\u001b[0mlen\u001b[0m\u001b[1;33m(\u001b[0m\u001b[0mregular_timesteps\u001b[0m\u001b[1;33m)\u001b[0m\u001b[1;33m,\u001b[0m\u001b[1;36m1\u001b[0m\u001b[1;33m)\u001b[0m\u001b[1;33m)\u001b[0m\u001b[1;33m\u001b[0m\u001b[1;33m\u001b[0m\u001b[0m\n\u001b[0;32m      2\u001b[0m \u001b[1;31m# out = np.empty((2000,2000,6000,6000))\u001b[0m\u001b[1;33m\u001b[0m\u001b[1;33m\u001b[0m\u001b[0m\n\u001b[1;32m----> 3\u001b[1;33m \u001b[0mnp\u001b[0m\u001b[1;33m.\u001b[0m\u001b[0mouter\u001b[0m\u001b[1;33m(\u001b[0m\u001b[0magent_pdf\u001b[0m\u001b[1;33m,\u001b[0m\u001b[0mtime_pdfs\u001b[0m\u001b[1;33m)\u001b[0m\u001b[1;33m\u001b[0m\u001b[1;33m\u001b[0m\u001b[0m\n\u001b[0m",
      "\u001b[1;32mc:\\Users\\Seth Sullivan\\anaconda3\\lib\\site-packages\\numpy\\core\\overrides.py\u001b[0m in \u001b[0;36mouter\u001b[1;34m(*args, **kwargs)\u001b[0m\n",
      "\u001b[1;32mc:\\Users\\Seth Sullivan\\anaconda3\\lib\\site-packages\\numpy\\core\\numeric.py\u001b[0m in \u001b[0;36mouter\u001b[1;34m(a, b, out)\u001b[0m\n\u001b[0;32m    940\u001b[0m     \u001b[0ma\u001b[0m \u001b[1;33m=\u001b[0m \u001b[0masarray\u001b[0m\u001b[1;33m(\u001b[0m\u001b[0ma\u001b[0m\u001b[1;33m)\u001b[0m\u001b[1;33m\u001b[0m\u001b[1;33m\u001b[0m\u001b[0m\n\u001b[0;32m    941\u001b[0m     \u001b[0mb\u001b[0m \u001b[1;33m=\u001b[0m \u001b[0masarray\u001b[0m\u001b[1;33m(\u001b[0m\u001b[0mb\u001b[0m\u001b[1;33m)\u001b[0m\u001b[1;33m\u001b[0m\u001b[1;33m\u001b[0m\u001b[0m\n\u001b[1;32m--> 942\u001b[1;33m     \u001b[1;32mreturn\u001b[0m \u001b[0mmultiply\u001b[0m\u001b[1;33m(\u001b[0m\u001b[0ma\u001b[0m\u001b[1;33m.\u001b[0m\u001b[0mravel\u001b[0m\u001b[1;33m(\u001b[0m\u001b[1;33m)\u001b[0m\u001b[1;33m[\u001b[0m\u001b[1;33m:\u001b[0m\u001b[1;33m,\u001b[0m \u001b[0mnewaxis\u001b[0m\u001b[1;33m]\u001b[0m\u001b[1;33m,\u001b[0m \u001b[0mb\u001b[0m\u001b[1;33m.\u001b[0m\u001b[0mravel\u001b[0m\u001b[1;33m(\u001b[0m\u001b[1;33m)\u001b[0m\u001b[1;33m[\u001b[0m\u001b[0mnewaxis\u001b[0m\u001b[1;33m,\u001b[0m \u001b[1;33m:\u001b[0m\u001b[1;33m]\u001b[0m\u001b[1;33m,\u001b[0m \u001b[0mout\u001b[0m\u001b[1;33m)\u001b[0m\u001b[1;33m\u001b[0m\u001b[1;33m\u001b[0m\u001b[0m\n\u001b[0m\u001b[0;32m    943\u001b[0m \u001b[1;33m\u001b[0m\u001b[0m\n\u001b[0;32m    944\u001b[0m \u001b[1;33m\u001b[0m\u001b[0m\n",
      "\u001b[1;31mMemoryError\u001b[0m: Unable to allocate 536. GiB for an array with shape (6000, 12000000) and data type float64"
     ]
    }
   ],
   "source": [
    "tiled_agent_pdf = np.tile(agent_pdf,(len(regular_timesteps),1))\n",
    "# out = np.empty((2000,2000,6000,6000))\n",
    "np.outer(agent_pdf,time_pdfs)"
   ]
  },
  {
   "cell_type": "code",
   "execution_count": 54,
   "metadata": {},
   "outputs": [
    {
     "name": "stdout",
     "output_type": "stream",
     "text": [
      "31.2 ms ± 420 µs per loop (mean ± std. dev. of 7 runs, 10 loops each)\n"
     ]
    }
   ],
   "source": [
    "out = np.empty((6000,6000))\n",
    "%timeit np.outer(pa,pb,out)"
   ]
  },
  {
   "cell_type": "code",
   "execution_count": 55,
   "metadata": {},
   "outputs": [
    {
     "name": "stdout",
     "output_type": "stream",
     "text": [
      "66.6 ms ± 896 µs per loop (mean ± std. dev. of 7 runs, 10 loops each)\n"
     ]
    }
   ],
   "source": [
    "out = np.empty((6000,6000))\n",
    "%timeit np.outer(pa,pb)"
   ]
  },
  {
   "cell_type": "code",
   "execution_count": 56,
   "metadata": {},
   "outputs": [
    {
     "ename": "SyntaxError",
     "evalue": "unexpected EOF while parsing (<unknown>, line 1)",
     "output_type": "error",
     "traceback": [
      "Traceback \u001b[1;36m(most recent call last)\u001b[0m:\n",
      "  File \u001b[0;32m\"c:\\Users\\Seth Sullivan\\anaconda3\\lib\\site-packages\\IPython\\core\\interactiveshell.py\"\u001b[0m, line \u001b[0;32m3457\u001b[0m, in \u001b[0;35mrun_code\u001b[0m\n    exec(code_obj, self.user_global_ns, self.user_ns)\n",
      "  File \u001b[0;32m\"C:\\Users\\Seth Sullivan\\AppData\\Local\\Temp\\ipykernel_473412\\2504531318.py\"\u001b[0m, line \u001b[0;32m1\u001b[0m, in \u001b[0;35m<module>\u001b[0m\n    get_ipython().run_line_magic('timeit', 'np.tile(a,(6000,1)')\n",
      "  File \u001b[0;32m\"c:\\Users\\Seth Sullivan\\anaconda3\\lib\\site-packages\\IPython\\core\\interactiveshell.py\"\u001b[0m, line \u001b[0;32m2364\u001b[0m, in \u001b[0;35mrun_line_magic\u001b[0m\n    result = fn(*args, **kwargs)\n",
      "  File \u001b[0;32m\"c:\\Users\\Seth Sullivan\\anaconda3\\lib\\site-packages\\decorator.py\"\u001b[0m, line \u001b[0;32m232\u001b[0m, in \u001b[0;35mfun\u001b[0m\n    return caller(func, *(extras + args), **kw)\n",
      "  File \u001b[0;32m\"c:\\Users\\Seth Sullivan\\anaconda3\\lib\\site-packages\\IPython\\core\\magic.py\"\u001b[0m, line \u001b[0;32m187\u001b[0m, in \u001b[0;35m<lambda>\u001b[0m\n    call = lambda f, *a, **k: f(*a, **k)\n",
      "  File \u001b[0;32m\"c:\\Users\\Seth Sullivan\\anaconda3\\lib\\site-packages\\IPython\\core\\magics\\execution.py\"\u001b[0m, line \u001b[0;32m1123\u001b[0m, in \u001b[0;35mtimeit\u001b[0m\n    ast_stmt = self.shell.compile.ast_parse(transform(stmt))\n",
      "\u001b[1;36m  File \u001b[1;32m\"c:\\Users\\Seth Sullivan\\anaconda3\\lib\\site-packages\\IPython\\core\\compilerop.py\"\u001b[1;36m, line \u001b[1;32m101\u001b[1;36m, in \u001b[1;35mast_parse\u001b[1;36m\u001b[0m\n\u001b[1;33m    return compile(source, filename, symbol, self.flags | PyCF_ONLY_AST, 1)\u001b[0m\n",
      "\u001b[1;36m  File \u001b[1;32m\"<unknown>\"\u001b[1;36m, line \u001b[1;32m1\u001b[0m\n\u001b[1;33m    np.tile(a,(6000,1)\u001b[0m\n\u001b[1;37m                      ^\u001b[0m\n\u001b[1;31mSyntaxError\u001b[0m\u001b[1;31m:\u001b[0m unexpected EOF while parsing\n"
     ]
    }
   ],
   "source": [
    "%timeit np.tile(a,(6000,1)"
   ]
  },
  {
   "cell_type": "code",
   "execution_count": null,
   "metadata": {},
   "outputs": [
    {
     "data": {
      "text/plain": [
       "array([[-1000., -1000., -1000., ..., -1000., -1000., -1000.],\n",
       "       [ -999.,  -999.,  -999., ...,  -999.,  -999.,  -999.],\n",
       "       [ -998.,  -998.,  -998., ...,  -998.,  -998.,  -998.],\n",
       "       ...,\n",
       "       [ 4997.,  4997.,  4997., ...,  4997.,  4997.,  4997.],\n",
       "       [ 4998.,  4998.,  4998., ...,  4998.,  4998.,  4998.],\n",
       "       [ 4999.,  4999.,  4999., ...,  4999.,  4999.,  4999.]])"
      ]
     },
     "execution_count": 22,
     "metadata": {},
     "output_type": "execute_result"
    }
   ],
   "source": [
    "np.outer(a,np.ones(len(a)))"
   ]
  },
  {
   "cell_type": "code",
   "execution_count": null,
   "metadata": {},
   "outputs": [
    {
     "name": "stdout",
     "output_type": "stream",
     "text": [
      "26 ms ± 288 µs per loop (mean ± std. dev. of 7 runs, 10 loops each)\n"
     ]
    }
   ],
   "source": [
    "%timeit "
   ]
  },
  {
   "cell_type": "code",
   "execution_count": null,
   "metadata": {},
   "outputs": [
    {
     "data": {
      "text/plain": [
       "0.4999166666666667"
      ]
     },
     "execution_count": 705,
     "metadata": {},
     "output_type": "execute_result"
    }
   ],
   "source": [
    "np.count_nonzero(mask)/len(mask.flatten())"
   ]
  },
  {
   "cell_type": "code",
   "execution_count": null,
   "metadata": {},
   "outputs": [
    {
     "data": {
      "text/plain": [
       "array([False,  True,  True, ..., False, False, False])"
      ]
     },
     "execution_count": 688,
     "metadata": {},
     "output_type": "execute_result"
    }
   ],
   "source": [
    "mask_check"
   ]
  },
  {
   "cell_type": "code",
   "execution_count": null,
   "metadata": {},
   "outputs": [],
   "source": []
  },
  {
   "cell_type": "code",
   "execution_count": null,
   "metadata": {},
   "outputs": [],
   "source": [
    "@njit\n",
    "def get_masked_array(cp,mask):\n",
    "    i=-1\n",
    "    for x,y in cp:\n",
    "        i+=1\n",
    "        if x<y:\n",
    "            mask[i]=True\n",
    "    return mask"
   ]
  },
  {
   "cell_type": "code",
   "execution_count": null,
   "metadata": {},
   "outputs": [],
   "source": [
    "def get_ev_new(cp_time,cp_prob):\n",
    "    ev=0\n",
    "    for a,b in zip(cp_time,cp_prob):\n",
    "        x,y = a\n",
    "        px,py = b\n",
    "        ev+=x*px*py*indicator_func(x,y)"
   ]
  },
  {
   "attachments": {},
   "cell_type": "markdown",
   "metadata": {},
   "source": [
    "# Get variance and sd, skew, and kurtosis"
   ]
  },
  {
   "attachments": {},
   "cell_type": "markdown",
   "metadata": {},
   "source": [
    "#### $Var(X) = E[X^2] + E[X]^2$\n",
    "\n",
    "#### $Skew(X) = \\frac{E[X^3] - 3 \\mu \\sigma^2 - \\mu^3}{\\sigma^3}$"
   ]
  },
  {
   "cell_type": "code",
   "execution_count": null,
   "metadata": {},
   "outputs": [],
   "source": [
    "var = EX2_norm - EX_norm**2 # Find the variance\n",
    "sigma = np.sqrt(var)\n",
    "\n",
    "skew = get_skew(EX_norm,EX2_norm,EX3_norm,sigma)\n",
    "kurt = get_kurtosis(EX_norm,EX2_norm,EX3_norm,EX4_norm,sigma)"
   ]
  },
  {
   "cell_type": "code",
   "execution_count": null,
   "metadata": {},
   "outputs": [],
   "source": [
    "agent_skew_pdf = stats.skewnorm.pdf(timesteps,0,EX_norm,sigma)"
   ]
  },
  {
   "cell_type": "code",
   "execution_count": null,
   "metadata": {},
   "outputs": [
    {
     "data": {
      "text/plain": [
       "[<matplotlib.lines.Line2D at 0x25a0169aaf0>]"
      ]
     },
     "execution_count": 104,
     "metadata": {},
     "output_type": "execute_result"
    },
    {
     "data": {
      "image/png": "[encoded data removed]",
      "text/plain": [
       "<Figure size 640x480 with 1 Axes>"
      ]
     },
     "metadata": {},
     "output_type": "display_data"
    }
   ],
   "source": [
    "fig,ax = plt.subplots()\n",
    "ax.plot(agent_pdf[5000:7000])\n",
    "ax.plot(time_pdf[5000:7000])\n",
    "ax.plot(agent_skew_pdf[5000:7000])"
   ]
  },
  {
   "attachments": {},
   "cell_type": "markdown",
   "metadata": {},
   "source": [
    "# Check Work WITH RVS"
   ]
  },
  {
   "cell_type": "code",
   "execution_count": null,
   "metadata": {},
   "outputs": [
    {
     "data": {
      "text/plain": [
       "802.3659345978382"
      ]
     },
     "execution_count": 105,
     "metadata": {},
     "output_type": "execute_result"
    }
   ],
   "source": [
    "rvs_x = stats.norm.rvs(agent_mu,agent_sd,1000000)\n",
    "rvs_y = stats.norm.rvs(time_mu,time_sd,1000000)\n",
    "\n",
    "mask = rvs_y>rvs_x\n",
    "prob_included = np.count_nonzero(mask)/1000000\n",
    "np.nanmean(rvs_x[mask])\n"
   ]
  },
  {
   "cell_type": "code",
   "execution_count": null,
   "metadata": {},
   "outputs": [
    {
     "data": {
      "text/plain": [
       "113.93356438107669"
      ]
     },
     "execution_count": 106,
     "metadata": {},
     "output_type": "execute_result"
    }
   ],
   "source": [
    "np.nanstd(rvs_x[mask])"
   ]
  },
  {
   "cell_type": "code",
   "execution_count": null,
   "metadata": {},
   "outputs": [
    {
     "data": {
      "text/plain": [
       "802.3659345978382"
      ]
     },
     "execution_count": 107,
     "metadata": {},
     "output_type": "execute_result"
    }
   ],
   "source": [
    "np.nanmean(rvs_x[mask])"
   ]
  },
  {
   "cell_type": "code",
   "execution_count": null,
   "metadata": {},
   "outputs": [
    {
     "data": {
      "text/plain": [
       "3.260532677510237"
      ]
     },
     "execution_count": 108,
     "metadata": {},
     "output_type": "execute_result"
    }
   ],
   "source": [
    "stats.skew(rvs_x*mask)"
   ]
  },
  {
   "cell_type": "code",
   "execution_count": null,
   "metadata": {},
   "outputs": [
    {
     "data": {
      "text/plain": [
       "-515977948.8201057"
      ]
     },
     "execution_count": 109,
     "metadata": {},
     "output_type": "execute_result"
    }
   ],
   "source": [
    "skew"
   ]
  },
  {
   "cell_type": "code",
   "execution_count": null,
   "metadata": {},
   "outputs": [
    {
     "name": "stdout",
     "output_type": "stream",
     "text": [
      "0.05383801502124719\n"
     ]
    }
   ],
   "source": [
    "print(stats.kurtosis(rvs_x[mask]))"
   ]
  },
  {
   "cell_type": "code",
   "execution_count": null,
   "metadata": {},
   "outputs": [
    {
     "data": {
      "text/plain": [
       "9.240619737524927"
      ]
     },
     "execution_count": 111,
     "metadata": {},
     "output_type": "execute_result"
    }
   ],
   "source": [
    "kurt"
   ]
  },
  {
   "cell_type": "code",
   "execution_count": null,
   "metadata": {},
   "outputs": [
    {
     "data": {
      "image/png": "[encoded data removed]",
      "text/plain": [
       "<Figure size 640x480 with 1 Axes>"
      ]
     },
     "metadata": {},
     "output_type": "display_data"
    }
   ],
   "source": [
    "fig,ax = plt.subplots()\n",
    "ax.hist(rvs_x,bins = 400,density=True,alpha=0.7)\n",
    "ax.hist(rvs_y,bins = 400,density=True,alpha=0.7)\n",
    "ax.hist(rvs_x[mask],bins = 400,density=True,alpha=0.5)\n",
    "ax.plot(agent_pdf[5000:7000])\n",
    "ax.plot(time_pdf[5000:7000])\n",
    "ax.plot(agent_skew_pdf[5000:7000])\n",
    "plt.show()"
   ]
  },
  {
   "cell_type": "code",
   "execution_count": null,
   "metadata": {},
   "outputs": [],
   "source": [
    "timesteps = np.arange(-1000,2000,1)\n",
    "timetile = np.tile(timesteps,(len(timesteps),1)).T\n",
    "\n",
    "a = stats.norm.pdf(timesteps,timetile,100)"
   ]
  },
  {
   "cell_type": "code",
   "execution_count": null,
   "metadata": {},
   "outputs": [
    {
     "data": {
      "text/plain": [
       "(3000, 3000)"
      ]
     },
     "execution_count": 114,
     "metadata": {},
     "output_type": "execute_result"
    }
   ],
   "source": [
    "timetile.shape"
   ]
  },
  {
   "cell_type": "code",
   "execution_count": null,
   "metadata": {},
   "outputs": [
    {
     "data": {
      "text/plain": [
       "[<matplotlib.lines.Line2D at 0x25a0136ec40>]"
      ]
     },
     "execution_count": 115,
     "metadata": {},
     "output_type": "execute_result"
    },
    {
     "data": {
      "image/png": "[encoded data removed]",
      "text/plain": [
       "<Figure size 640x480 with 1 Axes>"
      ]
     },
     "metadata": {},
     "output_type": "display_data"
    }
   ],
   "source": [
    "plt.plot(a[:,300])"
   ]
  },
  {
   "cell_type": "markdown",
   "metadata": {},
   "source": [
    "# Trying to vectorize (works ish, but can't get faster than just an njit double loop)"
   ]
  },
  {
   "cell_type": "code",
   "execution_count": null,
   "metadata": {},
   "outputs": [],
   "source": [
    "timesteps = np.arange(0,5000,1) # Timesteps need to go to infinity\n",
    "agent_mu,agent_sd = 1000,150 \n",
    "time_mu,time_sd = 2000,150\n",
    "agent_pdf = stats.norm.pdf(timesteps,agent_mu,agent_sd) # Create Agent pdf\n",
    "time_pdf = stats.norm.pdf(timesteps,time_mu,time_sd) # Create Timing pdf"
   ]
  },
  {
   "cell_type": "code",
   "execution_count": null,
   "metadata": {},
   "outputs": [
    {
     "data": {
      "text/plain": [
       "999.9993605604392"
      ]
     },
     "execution_count": 656,
     "metadata": {},
     "output_type": "execute_result"
    }
   ],
   "source": [
    "a = timesteps\n",
    "pa = agent_pdf\n",
    "b = timesteps\n",
    "pb = time_pdf\n",
    "s = len(a)\n",
    "cp_prob = cartesian_product(pa,pb)\n",
    "cp_amount = cartesian_product(a,b)\n",
    "cp_amount_reshape = cp_amount.reshape(s,s,2)\n",
    "cp_prob_reshape = cp_prob.reshape(s,s,2)\n",
    "mask = np.array(get_masked_array(cp_amount,np.full((s*s,2),False)))\n",
    "# mask = np.count_nonzero(mask)\n",
    "mask_reshape = mask.reshape(s,s,2)\n",
    "cp_amount_masked = cp_amount_reshape*mask_reshape\n",
    "cp_prob_mult_masked = (cp_prob_reshape[:,:,0]*cp_prob_reshape[:,:,1])*mask_reshape[:,:,0]\n",
    "\n",
    "np.sum(cp_amount_masked[:,:,0]*cp_prob_mult_masked)/np.sum(cp_prob_mult_masked)"
   ]
  },
  {
   "cell_type": "code",
   "execution_count": null,
   "metadata": {},
   "outputs": [
    {
     "data": {
      "text/plain": [
       "999.9981322093093"
      ]
     },
     "execution_count": 665,
     "metadata": {},
     "output_type": "execute_result"
    }
   ],
   "source": [
    "a = timesteps\n",
    "pa = agent_pdf\n",
    "b = timesteps\n",
    "pb = time_pdf\n",
    "s = len(a)\n",
    "cp_values = cartesian_product(timesteps,timesteps)\n",
    "mask = np.array(get_masked_array(cp_values,np.full((s*s,2),False))).reshape(s,s,2)[:,:,0]\n",
    "np.sum(np.outer(pa,pb)*np.outer(a,np.ones(len(a)))*mask)"
   ]
  },
  {
   "cell_type": "code",
   "execution_count": null,
   "metadata": {},
   "outputs": [
    {
     "data": {
      "text/plain": [
       "0.4990596840274205"
      ]
     },
     "metadata": {},
     "output_type": "display_data"
    }
   ],
   "source": [
    "np.sum(cp_prob_mult_masked)"
   ]
  },
  {
   "cell_type": "code",
   "execution_count": null,
   "metadata": {},
   "outputs": [
    {
     "data": {
      "text/plain": [
       "0.49812290483135335"
      ]
     },
     "metadata": {},
     "output_type": "display_data"
    }
   ],
   "source": [
    "mult_cp = cp_masked[:,0]*cp_masked[:,1]\n",
    "np.sum(mult_cp)"
   ]
  },
  {
   "cell_type": "code",
   "execution_count": null,
   "metadata": {},
   "outputs": [
    {
     "data": {
      "text/plain": [
       "2.7590361445783125"
      ]
     },
     "metadata": {},
     "output_type": "display_data"
    }
   ],
   "source": [
    "a = np.array([1,2,3,4,5])\n",
    "pa = np.array([0.1,0.2,0.4,0.2,0.1])\n",
    "b = np.array([3,4,5,6,7])\n",
    "pb = np.array([0.1,0.2,0.4,0.2,0.1])\n",
    "s = len(a)\n",
    "cp_prob = cartesian_product(pa,pb)\n",
    "cp_amount = cartesian_product(a,b)\n",
    "cp_amount_reshape = cp_amount.reshape(s,s,2)\n",
    "cp_prob_reshape = cp_prob.reshape(s,s,2)\n",
    "mask = np.array(get_masked_array(cp_amount,np.full((s*s,2),False)))\n",
    "# mask = np.count_nonzero(mask)\n",
    "mask_reshape = mask.reshape(s,s,2)\n",
    "cp_amount_masked = cp_amount_reshape*mask_reshape\n",
    "cp_prob_mult_masked = (cp_prob_reshape[:,:,0]*cp_prob_reshape[:,:,1])*mask_reshape[:,:,0]\n",
    "\n",
    "np.sum(cp_amount_masked[:,:,0]*cp_prob_mult_masked)/np.sum(cp_prob_mult_masked)"
   ]
  },
  {
   "cell_type": "code",
   "execution_count": null,
   "metadata": {},
   "outputs": [
    {
     "data": {
      "text/plain": [
       "array([[0.01, 0.02, 0.04, 0.02, 0.01],\n",
       "       [0.02, 0.04, 0.08, 0.04, 0.02],\n",
       "       [0.  , 0.08, 0.16, 0.08, 0.04],\n",
       "       [0.  , 0.  , 0.08, 0.04, 0.02],\n",
       "       [0.  , 0.  , 0.  , 0.02, 0.01]])"
      ]
     },
     "metadata": {},
     "output_type": "display_data"
    }
   ],
   "source": [
    "(cp_prob_reshape[:,:,0]*cp_prob_reshape[:,:,1])*mask_reshape[:,:,0]"
   ]
  },
  {
   "cell_type": "code",
   "execution_count": null,
   "metadata": {},
   "outputs": [
    {
     "data": {
      "text/plain": [
       "2.6200000000000006"
      ]
     },
     "metadata": {},
     "output_type": "display_data"
    }
   ],
   "source": [
    "np.sum(cp_amount_masked[:,:,0]*pa_tiled*pb_tiled)"
   ]
  },
  {
   "cell_type": "code",
   "execution_count": null,
   "metadata": {},
   "outputs": [],
   "source": [
    "p = np.zeros((len(a),len(b)))\n",
    "i=-1\n",
    "for x,px in zip(a,pa):    \n",
    "    i+=1\n",
    "    j=-1\n",
    "    for y,py in zip(b,pb):    \n",
    "        j+=1\n",
    "        p[i,j]=px*py*indicator_func(x,y)"
   ]
  },
  {
   "cell_type": "code",
   "execution_count": null,
   "metadata": {},
   "outputs": [
    {
     "data": {
      "text/plain": [
       "array([[0.01, 0.02, 0.04, 0.02, 0.01],\n",
       "       [0.02, 0.04, 0.08, 0.04, 0.02],\n",
       "       [0.  , 0.08, 0.16, 0.08, 0.04],\n",
       "       [0.  , 0.  , 0.08, 0.04, 0.02],\n",
       "       [0.  , 0.  , 0.  , 0.02, 0.01]])"
      ]
     },
     "metadata": {},
     "output_type": "display_data"
    }
   ],
   "source": [
    "p"
   ]
  },
  {
   "cell_type": "code",
   "execution_count": null,
   "metadata": {},
   "outputs": [],
   "source": [
    "ev = 0\n",
    "for x,px in zip(a,pa):    \n",
    "    for y,py in zip(b,pb):    \n",
    "        ev+= x*px*py*indicator_func(x,y)\n"
   ]
  },
  {
   "cell_type": "code",
   "execution_count": null,
   "metadata": {},
   "outputs": [
    {
     "data": {
      "text/plain": [
       "2.2900000000000005"
      ]
     },
     "metadata": {},
     "output_type": "display_data"
    }
   ],
   "source": [
    "ev"
   ]
  },
  {
   "cell_type": "code",
   "execution_count": null,
   "metadata": {},
   "outputs": [
    {
     "data": {
      "text/plain": [
       "2.759036144578313"
      ]
     },
     "metadata": {},
     "output_type": "display_data"
    }
   ],
   "source": [
    "ev/p"
   ]
  },
  {
   "cell_type": "code",
   "execution_count": null,
   "metadata": {},
   "outputs": [
    {
     "name": "stdout",
     "output_type": "stream",
     "text": [
      "798.3434195747286\n"
     ]
    },
    {
     "data": {
      "text/plain": [
       "8900.235584483591"
      ]
     },
     "metadata": {},
     "output_type": "display_data"
    }
   ],
   "source": [
    "print(EX_norm)\n",
    "get_ev_vec(timesteps,agent_pdf,time_pdf)/prob_x_in_A"
   ]
  }
 ],
 "metadata": {
  "kernelspec": {
   "display_name": "base",
   "language": "python",
   "name": "python3"
  },
  "language_info": {
   "codemirror_mode": {
    "name": "ipython",
    "version": 3
   },
   "file_extension": ".py",
   "mimetype": "text/x-python",
   "name": "python",
   "nbconvert_exporter": "python",
   "pygments_lexer": "ipython3",
   "version": "3.9.16"
  },
  "orig_nbformat": 4
 },
 "nbformat": 4,
 "nbformat_minor": 2
}
