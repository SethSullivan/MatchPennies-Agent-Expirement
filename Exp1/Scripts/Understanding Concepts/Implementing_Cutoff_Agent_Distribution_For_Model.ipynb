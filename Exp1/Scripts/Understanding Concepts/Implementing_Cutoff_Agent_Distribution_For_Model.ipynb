{
 "cells": [
  {
   "cell_type": "code",
   "execution_count": 94,
   "metadata": {},
   "outputs": [],
   "source": [
    "import numpy as np\n",
    "from scipy import stats\n",
    "from numba import njit\n",
    "import matplotlib.pyplot as plt\n",
    "import numba as nb"
   ]
  },
  {
   "cell_type": "code",
   "execution_count": 95,
   "metadata": {},
   "outputs": [],
   "source": [
    "#####################################################\n",
    "####### Helper Functions to get the Moments #########\n",
    "#####################################################\n",
    "@njit(parallel=True)\n",
    "def get_moments(inf_timesteps,agent_pdf,time_pdf):\n",
    "    m1=0.0\n",
    "    m2=0.0\n",
    "    for j in nb.prange(len(inf_timesteps)):\n",
    "        x = inf_timesteps[j]\n",
    "        px = agent_pdf[j]\n",
    "        for k in range(len(inf_timesteps)):\n",
    "            y = inf_timesteps[k]\n",
    "            py = time_pdf[k]\n",
    "            if x<y:\n",
    "                I = 1\n",
    "            else:\n",
    "                I = 0 \n",
    "            m1 += (x**1)*px*py*I\n",
    "            m2 += (x**2)*px*py*I\n",
    "    return [m1,m2]\n",
    "\n",
    "@njit\n",
    "def get_skew(EX,EX2,EX3,sigma):\n",
    "    ans = (EX3 - 3*EX*EX2**2 +3*EX**2*EX- EX**3)/(sigma**3)\n",
    "    return ans\n",
    "\n",
    "@njit\n",
    "def get_kurtosis(EX,EX2,EX3,EX4,sigma):\n",
    "    ans = (EX4 - 4*EX*EX3 + 6*EX**2*sigma**2 + 3*EX**4)/(sigma**4)\n",
    "    return ans"
   ]
  },
  {
   "cell_type": "code",
   "execution_count": 96,
   "metadata": {},
   "outputs": [],
   "source": [
    "def prob_making_based_on_agent_v2(regular_timesteps,num_blocks,\n",
    "                                  agent_means,agent_stds,timing_uncertainty):\n",
    "    inf_timesteps = np.arange(0,5000,1) # Timesteps need to go from -inf to +inf\n",
    "    time_means_tiled = np.tile(regular_timesteps,(len(inf_timesteps),1)).T\n",
    "    # tiled_agent_means = np.tile(agent_means,(len(inf_timesteps),1)).T\n",
    "    # tiled_agent_stds  = np.tile(agent_stds,(len(inf_timesteps),1)).T\n",
    "\n",
    "    agent_pdfs = np.zeros((len(inf_timesteps)))\n",
    "    timing_pdfs = np.zeros((len(regular_timesteps),len(inf_timesteps)))\n",
    "    # for i in range(num_blocks):\n",
    "    agent_pdfs = stats.norm.pdf(inf_timesteps,agent_means[1],agent_stds[1])\n",
    "    timing_pdfs = stats.norm.pdf(inf_timesteps,time_means_tiled,150)\n",
    "    moments_array = np.empty((2,len(regular_timesteps)))\n",
    "    print('here')\n",
    "    for i in range(len(regular_timesteps)):\n",
    "        prob_x_in_A = stats.norm.cdf(0,agent_means[1]-regular_timesteps[i],np.sqrt(agent_stds[1]**2 + 150**2))\n",
    "        moments_array[:,i] = get_moments(inf_timesteps,agent_pdfs,timing_pdfs[i])/prob_x_in_A\n",
    "    return moments_array"
   ]
  },
  {
   "cell_type": "code",
   "execution_count": 97,
   "metadata": {},
   "outputs": [
    {
     "name": "stdout",
     "output_type": "stream",
     "text": [
      "here\n"
     ]
    }
   ],
   "source": [
    "timing_uncertainty = np.array([100]*6)\n",
    "agent_means = np.array([1000,1000,1100,1100,1200,1200])\n",
    "agent_stds = np.array([50,150,50,150,50,150])\n",
    "num_blocks = 6\n",
    "regular_timesteps = np.arange(0,2000,1)\n",
    "\n",
    "m = prob_making_based_on_agent_v2(regular_timesteps,num_blocks,agent_means,agent_stds,timing_uncertainty)"
   ]
  },
  {
   "cell_type": "code",
   "execution_count": 104,
   "metadata": {},
   "outputs": [
    {
     "data": {
      "text/plain": [
       "798.3434195787613"
      ]
     },
     "execution_count": 104,
     "metadata": {},
     "output_type": "execute_result"
    }
   ],
   "source": [
    "m[0,700]"
   ]
  },
  {
   "cell_type": "code",
   "execution_count": 98,
   "metadata": {},
   "outputs": [],
   "source": [
    "inf_timesteps = np.arange(0,5000,1) # Timesteps need to go from -inf to +inf\n",
    "old_timesteps = np.arange(0,2000,1)\n",
    "time_means = np.tile(old_timesteps,(len(inf_timesteps),1)).T\n",
    "\n",
    "a = stats.norm.pdf(inf_timesteps,time_means,100)"
   ]
  },
  {
   "cell_type": "code",
   "execution_count": 99,
   "metadata": {},
   "outputs": [
    {
     "data": {
      "text/plain": [
       "array([[   0,    0,    0, ...,    0,    0,    0],\n",
       "       [   1,    1,    1, ...,    1,    1,    1],\n",
       "       [   2,    2,    2, ...,    2,    2,    2],\n",
       "       ...,\n",
       "       [1997, 1997, 1997, ..., 1997, 1997, 1997],\n",
       "       [1998, 1998, 1998, ..., 1998, 1998, 1998],\n",
       "       [1999, 1999, 1999, ..., 1999, 1999, 1999]])"
      ]
     },
     "execution_count": 99,
     "metadata": {},
     "output_type": "execute_result"
    }
   ],
   "source": [
    "time_means"
   ]
  },
  {
   "cell_type": "code",
   "execution_count": 100,
   "metadata": {},
   "outputs": [
    {
     "data": {
      "text/plain": [
       "(2000, 5000)"
      ]
     },
     "execution_count": 100,
     "metadata": {},
     "output_type": "execute_result"
    }
   ],
   "source": [
    "a.shape"
   ]
  },
  {
   "cell_type": "code",
   "execution_count": 101,
   "metadata": {},
   "outputs": [
    {
     "data": {
      "text/plain": [
       "[<matplotlib.lines.Line2D at 0x20221149d60>]"
      ]
     },
     "execution_count": 101,
     "metadata": {},
     "output_type": "execute_result"
    },
    {
     "data": {
      "image/png": "[encoded data removed]",
      "text/plain": [
       "<Figure size 640x480 with 1 Axes>"
      ]
     },
     "metadata": {},
     "output_type": "display_data"
    }
   ],
   "source": [
    "plt.plot(a[0,:])"
   ]
  },
  {
   "cell_type": "code",
   "execution_count": 126,
   "metadata": {},
   "outputs": [],
   "source": [
    "\n",
    "def mean_of_conditioned_distribution(mu_x, sigma_x, mu_y, sigma_y):\n",
    "    # Compute the probability that X < Y\n",
    "    p = stats.norm.cdf((mu_y - mu_x) / ((sigma_x**2 + sigma_y**2)**0.5))\n",
    "    \n",
    "    # Set bounds for the new distribution\n",
    "    lower_bound = 0\n",
    "    upper_bound = 2000\n",
    "    \n",
    "    # Compute the mean of the new distribution, conditioned on X < Y\n",
    "    new_mu = mu_x + (sigma_x / p) * (stats.norm.pdf((mu_y - mu_x) / ((sigma_x**2 + sigma_y**2)**0.5)) - ((mu_y - mu_x) / ((sigma_x**2 + sigma_y**2)**0.5)) * p * stats.norm.cdf((mu_y - mu_x) / ((sigma_x**2 + sigma_y**2)**0.5)))\n",
    "    new_mu = min(max(lower_bound, new_mu), upper_bound) # bound the result between 0 and 2000\n",
    "    \n",
    "    return new_mu\n"
   ]
  },
  {
   "cell_type": "code",
   "execution_count": 128,
   "metadata": {},
   "outputs": [
    {
     "name": "stdout",
     "output_type": "stream",
     "text": [
      "1118.8780064256657\n"
     ]
    }
   ],
   "source": [
    "mu_x = 1000\n",
    "sigma_x = 150\n",
    "mu_y = 1001\n",
    "sigma_y = 150\n",
    "\n",
    "new_mu = mean_of_conditioned_distribution(mu_x, sigma_x, mu_y, sigma_y)\n",
    "\n",
    "print(new_mu) # Output: 91.40586389260244"
   ]
  },
  {
   "cell_type": "code",
   "execution_count": null,
   "metadata": {},
   "outputs": [],
   "source": []
  }
 ],
 "metadata": {
  "kernelspec": {
   "display_name": "base",
   "language": "python",
   "name": "python3"
  },
  "language_info": {
   "codemirror_mode": {
    "name": "ipython",
    "version": 3
   },
   "file_extension": ".py",
   "mimetype": "text/x-python",
   "name": "python",
   "nbconvert_exporter": "python",
   "pygments_lexer": "ipython3",
   "version": "3.9.16"
  },
  "orig_nbformat": 4
 },
 "nbformat": 4,
 "nbformat_minor": 2
}
