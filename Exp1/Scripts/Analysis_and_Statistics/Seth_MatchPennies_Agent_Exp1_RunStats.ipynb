{
 "cells": [
  {
   "cell_type": "code",
   "execution_count": 52,
   "metadata": {},
   "outputs": [],
   "source": [
    "import scipy.stats as stats\n",
    "import statsmodels.api as sm\n",
    "from statsmodels.stats.power import TTestIndPower\n",
    "from statsmodels.stats.power import FTestAnovaPower\n",
    "import numpy as np \n",
    "import matplotlib.pyplot as plt\n",
    "import dill"
   ]
  },
  {
   "attachments": {},
   "cell_type": "markdown",
   "metadata": {},
   "source": [
    "## Pickle"
   ]
  },
  {
   "cell_type": "code",
   "execution_count": 53,
   "metadata": {},
   "outputs": [],
   "source": [
    "load_path = r'D:\\Subject_Data\\Seth_MatchPennies_Agent_Exp1\\Subjects_Analyzed\\\\'\n",
    "subject = dill.load((open(load_path + 'subject_object_dict.pkl', 'rb')))\n",
    "group = dill.load((open(load_path + 'group_object.pkl', 'rb')))"
   ]
  },
  {
   "attachments": {},
   "cell_type": "markdown",
   "metadata": {},
   "source": [
    "## Power Analysis"
   ]
  },
  {
   "cell_type": "code",
   "execution_count": 54,
   "metadata": {},
   "outputs": [
    {
     "data": {
      "text/plain": [
       "63.76561177540974"
      ]
     },
     "execution_count": 54,
     "metadata": {},
     "output_type": "execute_result"
    }
   ],
   "source": [
    "analysis = TTestIndPower()\n",
    "sample_size = analysis.solve_power(effect_size=0.5,power=0.8,alpha=0.05)\n"
   ]
  },
  {
   "cell_type": "code",
   "execution_count": 65,
   "metadata": {},
   "outputs": [
    {
     "data": {
      "text/plain": [
       "57.106299730651706"
      ]
     },
     "execution_count": 65,
     "metadata": {},
     "output_type": "execute_result"
    }
   ],
   "source": [
    "analysis = FTestAnovaPower()\n",
    "sample_size = analysis.solve_power(effect_size=0.5,nobs=None,alpha=0.05,power=0.8,k_groups=6)\n",
    "sample_size"
   ]
  },
  {
   "attachments": {},
   "cell_type": "markdown",
   "metadata": {},
   "source": [
    "## RM Anova"
   ]
  },
  {
   "attachments": {},
   "cell_type": "markdown",
   "metadata": {},
   "source": [
    "Is the median decision time different between the 6 conditions?\n",
    "\n",
    "$H_{0}$: true median decision times are the same for all 6 conditions\n",
    "\n",
    "$H_{1}$: true median decision times are no the same for all 6 conditions"
   ]
  },
  {
   "cell_type": "code",
   "execution_count": 6,
   "metadata": {},
   "outputs": [
    {
     "data": {
      "text/plain": [
       "(6, 960)"
      ]
     },
     "execution_count": 6,
     "metadata": {},
     "output_type": "execute_result"
    }
   ],
   "source": []
  },
  {
   "attachments": {},
   "cell_type": "markdown",
   "metadata": {},
   "source": [
    "Task Decision Time Mean"
   ]
  },
  {
   "cell_type": "code",
   "execution_count": 33,
   "metadata": {},
   "outputs": [
    {
     "ename": "AttributeError",
     "evalue": "module 'statsmodels.stats.api' has no attribute 'anova'",
     "output_type": "error",
     "traceback": [
      "\u001b[1;31m---------------------------------------------------------------------------\u001b[0m",
      "\u001b[1;31mAttributeError\u001b[0m                            Traceback (most recent call last)",
      "\u001b[1;32mc:\\Users\\Seth Sullivan\\OneDrive - University of Delaware - o365\\Desktop\\MatchPennies-Agent-Expirement\\Analysis and Figures Scripts\\Exp1 Scripts\\Seth_MatchPennies_Agent_Exp1_RunStats.ipynb Cell 10\u001b[0m in \u001b[0;36m<cell line: 2>\u001b[1;34m()\u001b[0m\n\u001b[0;32m      <a href='vscode-notebook-cell:/c%3A/Users/Seth%20Sullivan/OneDrive%20-%20University%20of%20Delaware%20-%20o365/Desktop/MatchPennies-Agent-Expirement/Analysis%20and%20Figures%20Scripts/Exp1%20Scripts/Seth_MatchPennies_Agent_Exp1_RunStats.ipynb#W4sZmlsZQ%3D%3D?line=0'>1</a>\u001b[0m decision_time_medians \u001b[39m=\u001b[39m group\u001b[39m.\u001b[39mcombine_all_subjects(\u001b[39m'\u001b[39m\u001b[39mplayer_task_decision_time_median\u001b[39m\u001b[39m'\u001b[39m)\n\u001b[1;32m----> <a href='vscode-notebook-cell:/c%3A/Users/Seth%20Sullivan/OneDrive%20-%20University%20of%20Delaware%20-%20o365/Desktop/MatchPennies-Agent-Expirement/Analysis%20and%20Figures%20Scripts/Exp1%20Scripts/Seth_MatchPennies_Agent_Exp1_RunStats.ipynb#W4sZmlsZQ%3D%3D?line=1'>2</a>\u001b[0m anova \u001b[39m=\u001b[39m sm\u001b[39m.\u001b[39;49mstats\u001b[39m.\u001b[39;49manova\u001b[39m.\u001b[39manova\u001b[39m.\u001b[39mAnovaRM((decision_time_medians[:,\u001b[39m0\u001b[39m],decision_time_medians[:,\u001b[39m1\u001b[39m],decision_time_medians[:,\u001b[39m2\u001b[39m],decision_time_medians[:,\u001b[39m3\u001b[39m],decision_time_medians[:,\u001b[39m4\u001b[39m],decision_time_medians[:,\u001b[39m5\u001b[39m]))\n\u001b[0;32m      <a href='vscode-notebook-cell:/c%3A/Users/Seth%20Sullivan/OneDrive%20-%20University%20of%20Delaware%20-%20o365/Desktop/MatchPennies-Agent-Expirement/Analysis%20and%20Figures%20Scripts/Exp1%20Scripts/Seth_MatchPennies_Agent_Exp1_RunStats.ipynb#W4sZmlsZQ%3D%3D?line=2'>3</a>\u001b[0m anova\n",
      "\u001b[1;31mAttributeError\u001b[0m: module 'statsmodels.stats.api' has no attribute 'anova'"
     ]
    }
   ],
   "source": [
    "decision_time_medians = group.combine_all_subjects('player_task_decision_time_median')\n",
    "anova = sm.stats.anova.anova.AnovaRM((decision_time_medians[:,0],decision_time_medians[:,1],decision_time_medians[:,2],decision_time_medians[:,3],decision_time_medians[:,4],decision_time_medians[:,5]))\n",
    "anova"
   ]
  },
  {
   "attachments": {},
   "cell_type": "markdown",
   "metadata": {},
   "source": [
    "Player Minus Agent Task Decision Time Mean"
   ]
  },
  {
   "cell_type": "code",
   "execution_count": 24,
   "metadata": {},
   "outputs": [
    {
     "data": {
      "text/plain": [
       "F_onewayResult(statistic=10.103770704923967, pvalue=3.255048287040231e-07)"
      ]
     },
     "execution_count": 24,
     "metadata": {},
     "output_type": "execute_result"
    }
   ],
   "source": [
    "player_minus_agent_decision_time_medians = group.combine_all_subjects('player_minus_agent_task_decision_time_mean')\n",
    "anova = stats.f_oneway(decision_time_medians[:,0],decision_time_medians[:,1],decision_time_medians[:,2],decision_time_medians[:,3],decision_time_medians[:,4],decision_time_medians[:,5])\n",
    "anova"
   ]
  },
  {
   "attachments": {},
   "cell_type": "markdown",
   "metadata": {},
   "source": [
    "Indecisions"
   ]
  },
  {
   "cell_type": "code",
   "execution_count": 27,
   "metadata": {},
   "outputs": [
    {
     "data": {
      "text/plain": [
       "F_onewayResult(statistic=3.2255006541209634, pvalue=0.011495504177823114)"
      ]
     },
     "execution_count": 27,
     "metadata": {},
     "output_type": "execute_result"
    }
   ],
   "source": [
    "indecisions = group.combine_all_subjects('player_perc_indecisions')\n",
    "anova = stats.f_oneway(indecisions[:,0],indecisions[:,1],indecisions[:,2],indecisions[:,3],indecisions[:,4],indecisions[:,5])\n",
    "anova"
   ]
  },
  {
   "cell_type": "code",
   "execution_count": null,
   "metadata": {},
   "outputs": [],
   "source": []
  }
 ],
 "metadata": {
  "kernelspec": {
   "display_name": "base",
   "language": "python",
   "name": "python3"
  },
  "language_info": {
   "codemirror_mode": {
    "name": "ipython",
    "version": 3
   },
   "file_extension": ".py",
   "mimetype": "text/x-python",
   "name": "python",
   "nbconvert_exporter": "python",
   "pygments_lexer": "ipython3",
   "version": "3.9.16"
  },
  "orig_nbformat": 4,
  "vscode": {
   "interpreter": {
    "hash": "1a00c1525417994d84940f6a64b96d4df953e4f0863c4f32c2c802abdf8195ff"
   }
  }
 },
 "nbformat": 4,
 "nbformat_minor": 2
}
