{
 "cells": [
  {
   "cell_type": "code",
   "execution_count": 1,
   "metadata": {},
   "outputs": [],
   "source": [
    "import numpy as np\n",
    "import os\n",
    "import dill\n",
    "import importlib\n",
    "import pandas as pd\n"
   ]
  },
  {
   "cell_type": "code",
   "execution_count": 2,
   "metadata": {},
   "outputs": [
    {
     "data": {
      "text/plain": [
       "<module 'Subject_Object_Second_Half' from 'c:\\\\Users\\\\Seth Sullivan\\\\OneDrive - University of Delaware - o365\\\\Desktop\\\\MatchPennies-Agent-Expirement\\\\Exp1\\\\Scripts\\\\Analysis_and_Statistics\\\\Subject_Object_Second_Half.py'>"
      ]
     },
     "execution_count": 2,
     "metadata": {},
     "output_type": "execute_result"
    }
   ],
   "source": [
    "import Subject_Object\n",
    "importlib.reload(Subject_Object)\n",
    "import Subject_Object_First_Half\n",
    "importlib.reload(Subject_Object_First_Half)\n",
    "import Subject_Object_Second_Half\n",
    "importlib.reload(Subject_Object_Second_Half)"
   ]
  },
  {
   "cell_type": "markdown",
   "metadata": {},
   "source": [
    "## Initial Thangs"
   ]
  },
  {
   "cell_type": "code",
   "execution_count": 3,
   "metadata": {},
   "outputs": [],
   "source": [
    "os.chdir('D:\\\\Subject_Data\\\\Seth_MatchPennies_Agent_Exp1\\\\')\n",
    "PATH = os.getcwd()\n",
    "# Fields pull and pull list\n",
    "os.chdir('D:\\Subject_Data\\Seth_MatchPennies_Agent_Exp1')\n",
    "PATH = os.getcwd()\n",
    "figures_pull_list = []\n",
    "fields_pull = []\n",
    "with open(PATH+\"\\\\Figures_Pull_List.txt\", \"r\") as pull_file:\n",
    "    figures_pull_list = pull_file.read().splitlines()\n",
    "with open(PATH+\"\\\\Fields_Pull.txt\", \"r\") as fields_pull:\n",
    "    fields_pull = fields_pull.read().splitlines()\n",
    "NUM_SUBJECTS = len(figures_pull_list)\n",
    "task_name = 'Seth_MatchPennies_Agent_Exp1'"
   ]
  },
  {
   "attachments": {},
   "cell_type": "markdown",
   "metadata": {},
   "source": [
    "## dill Load"
   ]
  },
  {
   "attachments": {},
   "cell_type": "markdown",
   "metadata": {},
   "source": [
    "dill Load Control Tasks\n"
   ]
  },
  {
   "cell_type": "code",
   "execution_count": 4,
   "metadata": {},
   "outputs": [
    {
     "name": "stdout",
     "output_type": "stream",
     "text": [
      "Sub1\n",
      "Sub2\n",
      "Sub3\n",
      "Sub4\n",
      "Sub5\n",
      "Sub6\n",
      "Sub7\n",
      "Sub8\n",
      "Sub9\n",
      "Sub10\n",
      "Sub11\n",
      "Sub12\n",
      "Sub13\n",
      "Sub14\n",
      "Sub15\n",
      "Sub16\n",
      "Sub17\n",
      "Sub18\n",
      "Sub19\n",
      "Sub20\n"
     ]
    }
   ],
   "source": [
    "coincidence_trials = 50\n",
    "reaction_trials = 50\n",
    "interval_trials = 50\n",
    "# ---------------Controls-------------------------\n",
    "player_reaction_decision_array         = np.empty((NUM_SUBJECTS, reaction_trials))\n",
    "agent_reaction_decision_array          = np.empty((NUM_SUBJECTS, reaction_trials))\n",
    "player_reaction_time                   = np.zeros([NUM_SUBJECTS,reaction_trials])*np.nan \n",
    "player_reaction_movement_time          = np.zeros([NUM_SUBJECTS,reaction_trials])*np.nan\n",
    "player_reaction_plus_movement_time     = np.zeros([NUM_SUBJECTS,reaction_trials])*np.nan\n",
    "reaction_trial_start                   = np.zeros((NUM_SUBJECTS,reaction_trials))*np.nan \n",
    "coincidence_trial_start                = np.zeros((NUM_SUBJECTS, coincidence_trials))*np.nan\n",
    "coincidence_reach_time                 = np.zeros((NUM_SUBJECTS, coincidence_trials))*np.nan\n",
    "interval_trial_start                   = np.zeros((NUM_SUBJECTS, interval_trials))*np.nan\n",
    "interval_reach_time                    = np.zeros((NUM_SUBJECTS, interval_trials))*np.nan\n",
    "\n",
    "for i in range(NUM_SUBJECTS):\n",
    "    subname = figures_pull_list[i]\n",
    "    data_path = PATH+f'\\\\Subjects_Analyzed\\\\{subname}\\\\'\n",
    "    reaction_trial_start[i,:]                = dill.load(open(data_path + f'{subname}_reaction_trial_start.pkl', 'rb'))\n",
    "    player_reaction_time[i,:]                = dill.load(open(data_path + f'{subname}_player_reaction_time.pkl', 'rb'))\n",
    "    player_reaction_movement_time[i,:]       = dill.load(open(data_path + f'{subname}_player_reaction_movement_time.pkl', 'rb'))\n",
    "    player_reaction_plus_movement_time[i,:]  = dill.load(open(data_path + f'{subname}_player_reaction_plus_movement_time.pkl', 'rb'))\n",
    "    player_reaction_decision_array[i,:]      = dill.load(open(data_path + f'{subname}_player_reaction_decision_array.pkl', 'rb'))\n",
    "    agent_reaction_decision_array[i,:]       = dill.load(open(data_path + f'{subname}_agent_reaction_decision_time.pkl', 'rb'))\n",
    "    reaction_trial_start[i,:]                = dill.load(open(data_path + f'{subname}_reaction_trial_start.pkl', 'rb'))\n",
    "    interval_trial_start[i,:]                = dill.load(open(data_path + f'{subname}_interval_trial_start.pkl', 'rb'))\n",
    "    interval_reach_time[i,:]                 = dill.load(open(data_path + f'{subname}_interval_reach_time.pkl', 'rb'))\n",
    "    coincidence_trial_start[i,:]             = dill.load(open(data_path + f'{subname}_coincidence_trial_start.pkl', 'rb'))\n",
    "    coincidence_reach_time[i,:]              = dill.load(open(data_path + f'{subname}_coincidence_reach_time.pkl', 'rb'))\n",
    "    print(subname)"
   ]
  },
  {
   "attachments": {},
   "cell_type": "markdown",
   "metadata": {},
   "source": [
    "dill Load Task and Washout"
   ]
  },
  {
   "cell_type": "code",
   "execution_count": 5,
   "metadata": {},
   "outputs": [],
   "source": [
    "path1 = PATH+'\\\\'+'Sub1_Task'\n",
    "task_df = pd.read_csv(path1+f'\\\\Sub1_TaskTrial_Table.csv')\n",
    "task_df = task_df.loc[task_df['Condition type']==3] # Only get the task condition \n",
    "num_trials = int(task_df.iloc[-1]['Block_Step']) # number of trials in each block\n",
    "num_blocks = int(task_df.iloc[-1]['Block_Row']/2)\n",
    "tot_trials = int(num_trials*num_blocks)\n",
    "trial_time = int(task_df.iloc[0]['Condition time'])\n",
    "task_df_columns = len(fields_pull)\n",
    "trial_table = np.empty((NUM_SUBJECTS, tot_trials, 4), int)\n",
    "#----------------- TASK--------------------------------\n",
    "player_task_reach_time       = np.zeros([NUM_SUBJECTS,num_blocks,num_trials])*np.nan \n",
    "player_task_decision_time    = np.zeros([NUM_SUBJECTS,num_blocks,num_trials])*np.nan \n",
    "player_task_decision_array   = np.zeros([NUM_SUBJECTS,num_blocks,num_trials])*np.nan\n",
    "player_task_movement_time    = np.zeros([NUM_SUBJECTS,num_blocks,num_trials])*np.nan\n",
    "agent_task_reach_time        = np.zeros([NUM_SUBJECTS,num_blocks,num_trials])*np.nan \n",
    "agent_task_decision_time     = np.zeros([NUM_SUBJECTS,num_blocks,num_trials])*np.nan \n",
    "agent_task_decision_array    = np.zeros([NUM_SUBJECTS,num_blocks,num_trials])*np.nan\n",
    "\n",
    "# -------------- Washout-------------------\n",
    "washout_trials = 25\n",
    "player_washout_reach_time      = np.zeros([NUM_SUBJECTS,num_blocks,washout_trials])*np.nan \n",
    "player_washout_decision_time   = np.zeros([NUM_SUBJECTS,num_blocks,washout_trials])*np.nan \n",
    "player_washout_decision_array  = np.zeros([NUM_SUBJECTS,num_blocks,washout_trials])*np.nan\n",
    "player_washout_movement_time   = np.zeros([NUM_SUBJECTS,num_blocks,washout_trials])*np.nan\n",
    "agent_washout_reach_time       = np.zeros([NUM_SUBJECTS,num_blocks,washout_trials])*np.nan \n",
    "agent_washout_decision_time    = np.zeros([NUM_SUBJECTS,num_blocks,washout_trials])*np.nan \n",
    "agent_washout_decision_array   = np.zeros([NUM_SUBJECTS,num_blocks,washout_trials])*np.nan\n",
    "agent_washout_movement_time    = np.zeros([NUM_SUBJECTS,num_blocks,washout_trials])*np.nan\n",
    "\n",
    "for i in range(NUM_SUBJECTS):\n",
    "    subname = figures_pull_list[i]\n",
    "    data_path = PATH+f'\\\\Subjects_Analyzed\\\\{subname}\\\\'\n",
    "    #task_data[i,:,:,:,:] = dill.load(open(data_path + f'{subname}_task_data.pkl', 'rb'))\n",
    "    player_task_decision_time[i,:,:]      = dill.load( open(data_path + f'{subname}_player_task_decision_time.pkl', 'rb'))\n",
    "    player_task_decision_array[i,:,:]     = dill.load( open(data_path + f'{subname}_player_task_decision_array.pkl', 'rb'))\n",
    "    player_task_movement_time[i,:,:]      = dill.load(open(data_path + f'{subname}_player_task_movement_time.pkl', 'rb'))\n",
    "    player_task_reach_time[i,:,:]         = dill.load( open(data_path + f'{subname}_player_task_reach_time.pkl', 'rb'))\n",
    "    agent_task_decision_time[i,:,:]       = dill.load( open(data_path + f'{subname}_agent_task_decision_time.pkl', 'rb'))\n",
    "    agent_task_decision_array[i,:,:]      = dill.load(open(data_path + f'{subname}_agent_task_decision_array.pkl', 'rb'))\n",
    "    agent_task_reach_time[i,:,:]          = agent_task_decision_time[i,:,:] + 150\n",
    "    player_washout_decision_time[i,:,:]   = dill.load( open(data_path + f'{subname}_player_washout_decision_time.pkl', 'rb'))\n",
    "    player_washout_decision_array[i,:,:]  = dill.load( open(data_path + f'{subname}_player_washout_decision_array.pkl', 'rb'))\n",
    "    player_washout_movement_time[i,:,:]   = dill.load(open(data_path + f'{subname}_player_washout_movement_time.pkl', 'rb'))\n",
    "    player_washout_reach_time[i,:,:]      = dill.load( open(data_path + f'{subname}_player_washout_reach_time.pkl', 'rb'))\n",
    "    agent_washout_decision_time[i,:,:]    = dill.load( open(data_path + f'{subname}_agent_washout_decision_time.pkl', 'rb'))\n",
    "    agent_washout_decision_array[i,:,:]   = dill.load(open(data_path + f'{subname}_agent_washout_decision_array.pkl', 'rb'))\n",
    "    agent_washout_reach_time[i,:,:]       = dill.load(open(data_path + f'{subname}_agent_washout_reach_time.pkl', 'rb'))"
   ]
  },
  {
   "attachments": {},
   "cell_type": "markdown",
   "metadata": {},
   "source": [
    "## Generate Subject Objects"
   ]
  },
  {
   "attachments": {},
   "cell_type": "markdown",
   "metadata": {},
   "source": [
    "All Trials"
   ]
  },
  {
   "cell_type": "code",
   "execution_count": 6,
   "metadata": {},
   "outputs": [
    {
     "name": "stderr",
     "output_type": "stream",
     "text": [
      "c:\\Users\\Seth Sullivan\\OneDrive - University of Delaware - o365\\Desktop\\MatchPennies-Agent-Expirement\\Exp1\\Scripts\\Analysis_and_Statistics\\Subject_Object.py:300: RuntimeWarning: Mean of empty slice\n",
      "  self.player_reaction_leave_time_mean                       = np.nanmean(self.player_reaction_leave_time, axis = 1)\n",
      "c:\\Users\\Seth Sullivan\\anaconda3\\lib\\site-packages\\numpy\\lib\\nanfunctions.py:1217: RuntimeWarning: All-NaN slice encountered\n",
      "  r, k = function_base._ureduce(a, func=_nanmedian, axis=axis, out=out,\n",
      "c:\\Users\\Seth Sullivan\\anaconda3\\lib\\site-packages\\numpy\\lib\\nanfunctions.py:1878: RuntimeWarning: Degrees of freedom <= 0 for slice.\n",
      "  var = nanvar(a, axis=axis, dtype=dtype, out=out, ddof=ddof,\n",
      "c:\\Users\\Seth Sullivan\\OneDrive - University of Delaware - o365\\Desktop\\MatchPennies-Agent-Expirement\\Exp1\\Scripts\\Analysis_and_Statistics\\Subject_Object.py:303: RuntimeWarning: Mean of empty slice\n",
      "  self.player_minus_agent_reaction_leave_time_mean           = np.nanmean(self.player_minus_agent_reaction_leave_time, axis = 1)\n",
      "c:\\Users\\Seth Sullivan\\OneDrive - University of Delaware - o365\\Desktop\\MatchPennies-Agent-Expirement\\Exp1\\Scripts\\Analysis_and_Statistics\\Subject_Object.py:304: RuntimeWarning: Mean of empty slice\n",
      "  self.agent_reaction_leave_time_mean                   = np.nanmean(self.agent_reaction_leave_time, axis = 1)\n",
      "c:\\Users\\Seth Sullivan\\OneDrive - University of Delaware - o365\\Desktop\\MatchPennies-Agent-Expirement\\Exp1\\Scripts\\Analysis_and_Statistics\\Subject_Object.py:307: RuntimeWarning: Mean of empty slice\n",
      "  self.player_reaction_reach_time_mean                       = np.nanmean(self.player_reaction_reach_time, axis = 1)\n",
      "c:\\Users\\Seth Sullivan\\OneDrive - University of Delaware - o365\\Desktop\\MatchPennies-Agent-Expirement\\Exp1\\Scripts\\Analysis_and_Statistics\\Subject_Object.py:395: RuntimeWarning: Mean of empty slice\n",
      "  self.binned_player_task_leave_times_mean            = np.nanmean(self.binned_player_task_leave_times,axis=2) # Mean for each bin, each condition\n",
      "c:\\Users\\Seth Sullivan\\OneDrive - University of Delaware - o365\\Desktop\\MatchPennies-Agent-Expirement\\Exp1\\Scripts\\Analysis_and_Statistics\\Subject_Object.py:396: RuntimeWarning: Mean of empty slice\n",
      "  self.binned_player_minus_agent_task_leave_time_mean = np.nanmean(self.binned_player_minus_agent_task_leave_time,axis=2)\n",
      "c:\\Users\\Seth Sullivan\\OneDrive - University of Delaware - o365\\Desktop\\MatchPennies-Agent-Expirement\\Exp1\\Scripts\\Analysis_and_Statistics\\Subject_Object.py:153: RuntimeWarning: Mean of empty slice\n",
      "  self.agent_mean_task_leave_time_on_incorrects   = np.nanmean(self.agent_task_leave_time_on_incorrects,axis=1)\n",
      "c:\\Users\\Seth Sullivan\\OneDrive - University of Delaware - o365\\Desktop\\MatchPennies-Agent-Expirement\\Exp1\\Scripts\\Analysis_and_Statistics\\Subject_Object.py:170: RuntimeWarning: Mean of empty slice\n",
      "  self.player_mean_task_leave_time_on_incorrects   = np.nanmean(self.player_task_leave_time_on_incorrects,axis=1)\n",
      "c:\\Users\\Seth Sullivan\\OneDrive - University of Delaware - o365\\Desktop\\MatchPennies-Agent-Expirement\\Exp1\\Scripts\\Analysis_and_Statistics\\Subject_Object.py:177: RuntimeWarning: Mean of empty slice\n",
      "  self.player_mean_task_reach_time_on_incorrects      = np.nanmean(self.player_task_reach_time_on_incorrects,axis=1)\n",
      "c:\\Users\\Seth Sullivan\\OneDrive - University of Delaware - o365\\Desktop\\MatchPennies-Agent-Expirement\\Exp1\\Scripts\\Analysis_and_Statistics\\Subject_Object.py:151: RuntimeWarning: Mean of empty slice\n",
      "  self.agent_mean_task_leave_time_on_indecisions  = np.nanmean(self.agent_task_leave_time_on_indecisions,axis=1)\n",
      "c:\\Users\\Seth Sullivan\\OneDrive - University of Delaware - o365\\Desktop\\MatchPennies-Agent-Expirement\\Exp1\\Scripts\\Analysis_and_Statistics\\Subject_Object.py:168: RuntimeWarning: Mean of empty slice\n",
      "  self.player_mean_task_leave_time_on_indecisions  = np.nanmean(self.player_task_leave_time_on_indecisions,axis=1)\n",
      "c:\\Users\\Seth Sullivan\\OneDrive - University of Delaware - o365\\Desktop\\MatchPennies-Agent-Expirement\\Exp1\\Scripts\\Analysis_and_Statistics\\Subject_Object.py:175: RuntimeWarning: Mean of empty slice\n",
      "  self.player_mean_task_reach_time_on_indecisions     = np.nanmean(self.player_task_reach_time_on_indecisions,axis=1)\n"
     ]
    }
   ],
   "source": [
    "path1 = PATH+'\\\\'+'Sub1_Task'\n",
    "task_df = pd.read_csv(path1+f'\\\\Sub1_TaskTrial_Table.csv')\n",
    "task_df = task_df.loc[task_df['Condition type']==3] # Only get the task condition \n",
    "num_trials = int(task_df.iloc[-1]['Block_Step']) # number of trials in each block\n",
    "num_blocks = int(task_df.iloc[-1]['Block_Row']/2)\n",
    "tot_trials = int(num_trials*num_blocks)\n",
    "trial_time = int(task_df.iloc[0]['Condition time'])\n",
    "task_df_columns = len(fields_pull)\n",
    "trial_table = np.empty((NUM_SUBJECTS, tot_trials, 4), int)\n",
    "#----------------- TASK--------------------------------\n",
    "player_task_reach_time = np.zeros([NUM_SUBJECTS,num_blocks,num_trials])*np.nan \n",
    "player_task_decision_time = np.zeros([NUM_SUBJECTS,num_blocks,num_trials])*np.nan \n",
    "player_task_decision_array = np.zeros([NUM_SUBJECTS,num_blocks,num_trials])*np.nan\n",
    "player_task_movement_time = np.zeros([NUM_SUBJECTS,num_blocks,num_trials])*np.nan\n",
    "agent_task_reach_time = np.zeros([NUM_SUBJECTS,num_blocks,num_trials])*np.nan \n",
    "agent_task_decision_time = np.zeros([NUM_SUBJECTS,num_blocks,num_trials])*np.nan \n",
    "agent_task_decision_array = np.zeros([NUM_SUBJECTS,num_blocks,num_trials])*np.nan\n",
    "\n",
    "# -------------- Washout-------------------\n",
    "washout_trials = 25\n",
    "player_washout_reach_time = np.zeros([NUM_SUBJECTS,num_blocks,washout_trials])*np.nan \n",
    "player_washout_decision_time = np.zeros([NUM_SUBJECTS,num_blocks,washout_trials])*np.nan \n",
    "player_washout_decision_array = np.zeros([NUM_SUBJECTS,num_blocks,washout_trials])*np.nan\n",
    "player_washout_movement_time = np.zeros([NUM_SUBJECTS,num_blocks,washout_trials])*np.nan\n",
    "agent_washout_reach_time = np.zeros([NUM_SUBJECTS,num_blocks,washout_trials])*np.nan \n",
    "agent_washout_decision_time = np.zeros([NUM_SUBJECTS,num_blocks,washout_trials])*np.nan \n",
    "agent_washout_decision_array = np.zeros([NUM_SUBJECTS,num_blocks,washout_trials])*np.nan\n",
    "agent_washout_movement_time = np.zeros([NUM_SUBJECTS,num_blocks,washout_trials])*np.nan\n",
    "\n",
    "for i in range(NUM_SUBJECTS):\n",
    "    subname = figures_pull_list[i]\n",
    "    data_path = PATH+f'\\\\Subjects_Analyzed\\\\{subname}\\\\'\n",
    "    #task_data[i,:,:,:,:] = dill.load(open(data_path + f'{subname}_task_data.pkl', 'rb'))\n",
    "    player_task_decision_time[i,:,:] = dill.load(open(data_path + f'{subname}_player_task_decision_time.pkl', 'rb'))\n",
    "    player_task_decision_array[i,:,:] = dill.load(open(data_path + f'{subname}_player_task_decision_array.pkl', 'rb'))\n",
    "    player_task_movement_time[i,:,:] = dill.load(open(data_path + f'{subname}_player_task_movement_time.pkl', 'rb'))\n",
    "    player_task_reach_time[i,:,:] = dill.load(open(data_path + f'{subname}_player_task_reach_time.pkl', 'rb'))\n",
    "    agent_task_decision_time[i,:,:] = dill.load(open(data_path + f'{subname}_agent_task_decision_time.pkl', 'rb'))\n",
    "    agent_task_decision_array[i,:,:] = dill.load(open(data_path + f'{subname}_agent_task_decision_array.pkl', 'rb'))\n",
    "    agent_task_reach_time[i,:,:] = agent_task_decision_time[i,:,:] + 150\n",
    "    player_washout_decision_time[i,:,:] = dill.load(open(data_path + f'{subname}_player_washout_decision_time.pkl', 'rb'))\n",
    "    player_washout_decision_array[i,:,:] = dill.load(open(data_path + f'{subname}_player_washout_decision_array.pkl', 'rb'))\n",
    "    player_washout_movement_time[i,:,:] = dill.load(open(data_path + f'{subname}_player_washout_movement_time.pkl', 'rb'))\n",
    "    player_washout_reach_time[i,:,:] = dill.load(open(data_path + f'{subname}_player_washout_reach_time.pkl', 'rb'))\n",
    "    agent_washout_decision_time[i,:,:] = dill.load(open(data_path + f'{subname}_agent_washout_decision_time.pkl', 'rb'))\n",
    "    agent_washout_decision_array[i,:,:] = dill.load(open(data_path + f'{subname}_agent_washout_decision_array.pkl', 'rb'))\n",
    "    agent_washout_reach_time[i,:,:] = dill.load(open(data_path + f'{subname}_agent_washout_reach_time.pkl', 'rb'))\n",
    "\n",
    "NUM_STDS = [0,1,2]\n",
    "append_dict = {0:'reaction_time_no_sd_off',1:'reaction_time_minus_sd',2:'reaction_time_minus_2sd'}\n",
    "data_path = 'D:\\\\Subject_Data\\\\Seth_MatchPennies_Agent_Exp1\\\\Subjects_Analyzed\\\\'\n",
    "for sd in NUM_STDS:\n",
    "    subject_object_dict = {}\n",
    "    for i in range(NUM_SUBJECTS):\n",
    "        subname = figures_pull_list[i]\n",
    "        subject_object = Subject_Object.Subject(num_trials = 80, num_blocks = 6, num_control_trials = 50, num_washout_trials = 25, reaction_time = player_reaction_time[i], reaction_movement_time = player_reaction_movement_time[i],reaction_plus_movement_time = player_reaction_plus_movement_time[i],\n",
    "                                    interval_trial_start = interval_trial_start[i], interval_reach_time = interval_reach_time[i], coincidence_trial_start = coincidence_trial_start[i], coincidence_reach_time = coincidence_reach_time[i],\n",
    "                                    player_task_reach_time = player_task_reach_time[i], player_task_leave_time = player_task_decision_time[i], player_task_decision_array = player_task_decision_array[i],\n",
    "                                    player_task_movement_time = player_task_movement_time[i], agent_task_reach_time = agent_task_reach_time[i], agent_task_leave_time = agent_task_decision_time[i], agent_task_decision_array = agent_task_decision_array[i],\n",
    "                                    player_washout_reach_time = player_washout_reach_time[i], player_washout_leave_time = player_washout_decision_time[i], player_washout_decision_array = player_washout_decision_array[i],\n",
    "                                    player_washout_movement_time = player_washout_movement_time[i], agent_washout_reach_time = agent_washout_reach_time[i], agent_washout_leave_time = agent_washout_decision_time[i], agent_washout_decision_array = agent_washout_decision_array[i],\n",
    "                                    num_stds_for_reaction_time = sd\n",
    "                                    )\n",
    "        subject_object.analyze_data(0) # The number in this function is the cutoff value (in the future, not done yet)\n",
    "        subject_object_dict.update({subname:subject_object})\n",
    "        \n",
    "        dill.dump(subject_object_dict[subname], open(data_path + f'{subname}\\\\{subname}_object_{append_dict[sd]}.pkl', 'wb'))\n",
    "    dill.dump(subject_object_dict,open(data_path + f'subject_object_{append_dict[sd]}_dict.pkl', 'wb'))\n",
    "\n",
    "    group = Subject_Object.Group(list(subject_object_dict.values()))\n",
    "    dill.dump(group,open(data_path + f'group_object_{append_dict[sd]}.pkl','wb'))"
   ]
  },
  {
   "attachments": {},
   "cell_type": "markdown",
   "metadata": {},
   "source": [
    "First Half of Each Block"
   ]
  },
  {
   "cell_type": "code",
   "execution_count": 7,
   "metadata": {},
   "outputs": [
    {
     "name": "stderr",
     "output_type": "stream",
     "text": [
      "c:\\Users\\Seth Sullivan\\OneDrive - University of Delaware - o365\\Desktop\\MatchPennies-Agent-Expirement\\Exp1\\Scripts\\Analysis_and_Statistics\\Subject_Object_First_Half.py:306: RuntimeWarning: Mean of empty slice\n",
      "  self.player_reaction_leave_time_mean                       = np.nanmean(self.player_reaction_leave_time, axis = 1)\n",
      "c:\\Users\\Seth Sullivan\\OneDrive - University of Delaware - o365\\Desktop\\MatchPennies-Agent-Expirement\\Exp1\\Scripts\\Analysis_and_Statistics\\Subject_Object_First_Half.py:309: RuntimeWarning: Mean of empty slice\n",
      "  self.player_minus_agent_reaction_leave_time_mean           = np.nanmean(self.player_minus_agent_reaction_leave_time, axis = 1)\n",
      "c:\\Users\\Seth Sullivan\\OneDrive - University of Delaware - o365\\Desktop\\MatchPennies-Agent-Expirement\\Exp1\\Scripts\\Analysis_and_Statistics\\Subject_Object_First_Half.py:310: RuntimeWarning: Mean of empty slice\n",
      "  self.agent_task_leave_time_reaction_mean                   = np.nanmean(self.agent_reaction_leave_time, axis = 1)\n",
      "c:\\Users\\Seth Sullivan\\OneDrive - University of Delaware - o365\\Desktop\\MatchPennies-Agent-Expirement\\Exp1\\Scripts\\Analysis_and_Statistics\\Subject_Object_First_Half.py:313: RuntimeWarning: Mean of empty slice\n",
      "  self.player_reaction_reach_time_mean                       = np.nanmean(self.player_reaction_reach_time, axis = 1)\n",
      "c:\\Users\\Seth Sullivan\\OneDrive - University of Delaware - o365\\Desktop\\MatchPennies-Agent-Expirement\\Exp1\\Scripts\\Analysis_and_Statistics\\Subject_Object_First_Half.py:401: RuntimeWarning: Mean of empty slice\n",
      "  self.binned_player_task_leave_times_mean            = np.nanmean(self.binned_player_task_leave_times,axis=2) # Mean for each bin, each condition\n",
      "c:\\Users\\Seth Sullivan\\OneDrive - University of Delaware - o365\\Desktop\\MatchPennies-Agent-Expirement\\Exp1\\Scripts\\Analysis_and_Statistics\\Subject_Object_First_Half.py:402: RuntimeWarning: Mean of empty slice\n",
      "  self.binned_player_minus_agent_task_leave_time_mean = np.nanmean(self.binned_player_minus_agent_task_leave_time,axis=2)\n",
      "c:\\Users\\Seth Sullivan\\OneDrive - University of Delaware - o365\\Desktop\\MatchPennies-Agent-Expirement\\Exp1\\Scripts\\Analysis_and_Statistics\\Subject_Object_First_Half.py:159: RuntimeWarning: Mean of empty slice\n",
      "  self.agent_mean_task_leave_time_on_incorrects   = np.nanmean(self.agent_task_leave_time_on_incorrects,axis=1)\n",
      "c:\\Users\\Seth Sullivan\\OneDrive - University of Delaware - o365\\Desktop\\MatchPennies-Agent-Expirement\\Exp1\\Scripts\\Analysis_and_Statistics\\Subject_Object_First_Half.py:176: RuntimeWarning: Mean of empty slice\n",
      "  self.player_mean_task_leave_time_on_incorrects   = np.nanmean(self.player_task_leave_time_on_incorrects,axis=1)\n",
      "c:\\Users\\Seth Sullivan\\OneDrive - University of Delaware - o365\\Desktop\\MatchPennies-Agent-Expirement\\Exp1\\Scripts\\Analysis_and_Statistics\\Subject_Object_First_Half.py:183: RuntimeWarning: Mean of empty slice\n",
      "  self.player_mean_task_reach_time_on_incorrects      = np.nanmean(self.player_task_reach_time_on_incorrects,axis=1)\n",
      "c:\\Users\\Seth Sullivan\\OneDrive - University of Delaware - o365\\Desktop\\MatchPennies-Agent-Expirement\\Exp1\\Scripts\\Analysis_and_Statistics\\Subject_Object_First_Half.py:157: RuntimeWarning: Mean of empty slice\n",
      "  self.agent_mean_task_leave_time_on_indecisions  = np.nanmean(self.agent_task_leave_time_on_indecisions,axis=1)\n",
      "c:\\Users\\Seth Sullivan\\OneDrive - University of Delaware - o365\\Desktop\\MatchPennies-Agent-Expirement\\Exp1\\Scripts\\Analysis_and_Statistics\\Subject_Object_First_Half.py:174: RuntimeWarning: Mean of empty slice\n",
      "  self.player_mean_task_leave_time_on_indecisions  = np.nanmean(self.player_task_leave_time_on_indecisions,axis=1)\n",
      "c:\\Users\\Seth Sullivan\\OneDrive - University of Delaware - o365\\Desktop\\MatchPennies-Agent-Expirement\\Exp1\\Scripts\\Analysis_and_Statistics\\Subject_Object_First_Half.py:181: RuntimeWarning: Mean of empty slice\n",
      "  self.player_mean_task_reach_time_on_indecisions     = np.nanmean(self.player_task_reach_time_on_indecisions,axis=1)\n"
     ]
    }
   ],
   "source": [
    "NUM_STDS = [0,1,2]\n",
    "append_dict = {0:'reaction_time_no_sd_off',1:'reaction_time_minus_sd',2:'reaction_time_minus_2sd'}\n",
    "data_path = 'D:\\\\Subject_Data\\\\Seth_MatchPennies_Agent_Exp1\\\\Subjects_Analyzed\\\\'\n",
    "for sd in NUM_STDS:\n",
    "    subject_object_dict = {}\n",
    "    for i in range(NUM_SUBJECTS):\n",
    "        subname = figures_pull_list[i]\n",
    "        subject_object = Subject_Object_First_Half.Subject(num_trials = 80, num_blocks = 6, num_control_trials = 50, num_washout_trials = 25, reaction_time = player_reaction_time[i], reaction_movement_time = player_reaction_movement_time[i],reaction_plus_movement_time = player_reaction_plus_movement_time[i],\n",
    "                                    interval_trial_start = interval_trial_start[i], interval_reach_time = interval_reach_time[i], coincidence_trial_start = coincidence_trial_start[i], coincidence_reach_time = coincidence_reach_time[i],\n",
    "                                    player_task_reach_time = player_task_reach_time[i], player_task_leave_time = player_task_decision_time[i], player_task_decision_array = player_task_decision_array[i],\n",
    "                                    player_task_movement_time = player_task_movement_time[i], agent_task_reach_time = agent_task_reach_time[i], agent_task_leave_time = agent_task_decision_time[i], agent_task_decision_array = agent_task_decision_array[i],\n",
    "                                    player_washout_reach_time = player_washout_reach_time[i], player_washout_leave_time = player_washout_decision_time[i], player_washout_decision_array = player_washout_decision_array[i],\n",
    "                                    player_washout_movement_time = player_washout_movement_time[i], agent_washout_reach_time = agent_washout_reach_time[i], agent_washout_leave_time = agent_washout_decision_time[i], agent_washout_decision_array = agent_washout_decision_array[i],\n",
    "                                    num_stds_for_reaction_time = sd\n",
    "                                    )\n",
    "        subject_object.analyze_data(0) # The number in this function is the cutoff value (in the future, not done yet)\n",
    "        subject_object_dict.update({subname:subject_object})\n",
    "        \n",
    "        dill.dump(subject_object_dict[subname], open(data_path + f'{subname}\\\\{subname}_object_first_half_{append_dict[sd]}.pkl', 'wb'))\n",
    "    dill.dump(subject_object_dict,open(data_path + f'subject_object_first_half_{append_dict[sd]}_dict.pkl', 'wb'))\n",
    "\n",
    "    group = Subject_Object_First_Half.Group(list(subject_object_dict.values()))\n",
    "    dill.dump(group,open(data_path + f'group_object_first_half_{append_dict[sd]}.pkl','wb'))"
   ]
  },
  {
   "attachments": {},
   "cell_type": "markdown",
   "metadata": {},
   "source": [
    "Second Half of Each Block"
   ]
  },
  {
   "cell_type": "code",
   "execution_count": 8,
   "metadata": {},
   "outputs": [
    {
     "name": "stderr",
     "output_type": "stream",
     "text": [
      "c:\\Users\\Seth Sullivan\\OneDrive - University of Delaware - o365\\Desktop\\MatchPennies-Agent-Expirement\\Exp1\\Scripts\\Analysis_and_Statistics\\Subject_Object_Second_Half.py:306: RuntimeWarning: Mean of empty slice\n",
      "  self.player_reaction_leave_time_mean                       = np.nanmean(self.player_reaction_leave_time, axis = 1)\n",
      "c:\\Users\\Seth Sullivan\\OneDrive - University of Delaware - o365\\Desktop\\MatchPennies-Agent-Expirement\\Exp1\\Scripts\\Analysis_and_Statistics\\Subject_Object_Second_Half.py:309: RuntimeWarning: Mean of empty slice\n",
      "  self.player_minus_agent_reaction_leave_time_mean           = np.nanmean(self.player_minus_agent_reaction_leave_time, axis = 1)\n",
      "c:\\Users\\Seth Sullivan\\OneDrive - University of Delaware - o365\\Desktop\\MatchPennies-Agent-Expirement\\Exp1\\Scripts\\Analysis_and_Statistics\\Subject_Object_Second_Half.py:310: RuntimeWarning: Mean of empty slice\n",
      "  self.agent_task_leave_time_reaction_mean                   = np.nanmean(self.agent_reaction_leave_time, axis = 1)\n",
      "c:\\Users\\Seth Sullivan\\OneDrive - University of Delaware - o365\\Desktop\\MatchPennies-Agent-Expirement\\Exp1\\Scripts\\Analysis_and_Statistics\\Subject_Object_Second_Half.py:313: RuntimeWarning: Mean of empty slice\n",
      "  self.player_reaction_reach_time_mean                       = np.nanmean(self.player_reaction_reach_time, axis = 1)\n",
      "c:\\Users\\Seth Sullivan\\OneDrive - University of Delaware - o365\\Desktop\\MatchPennies-Agent-Expirement\\Exp1\\Scripts\\Analysis_and_Statistics\\Subject_Object_Second_Half.py:401: RuntimeWarning: Mean of empty slice\n",
      "  self.binned_player_task_leave_times_mean            = np.nanmean(self.binned_player_task_leave_times,axis=2) # Mean for each bin, each condition\n",
      "c:\\Users\\Seth Sullivan\\OneDrive - University of Delaware - o365\\Desktop\\MatchPennies-Agent-Expirement\\Exp1\\Scripts\\Analysis_and_Statistics\\Subject_Object_Second_Half.py:402: RuntimeWarning: Mean of empty slice\n",
      "  self.binned_player_minus_agent_task_leave_time_mean = np.nanmean(self.binned_player_minus_agent_task_leave_time,axis=2)\n",
      "c:\\Users\\Seth Sullivan\\OneDrive - University of Delaware - o365\\Desktop\\MatchPennies-Agent-Expirement\\Exp1\\Scripts\\Analysis_and_Statistics\\Subject_Object_Second_Half.py:157: RuntimeWarning: Mean of empty slice\n",
      "  self.agent_mean_task_leave_time_on_indecisions  = np.nanmean(self.agent_task_leave_time_on_indecisions,axis=1)\n",
      "c:\\Users\\Seth Sullivan\\OneDrive - University of Delaware - o365\\Desktop\\MatchPennies-Agent-Expirement\\Exp1\\Scripts\\Analysis_and_Statistics\\Subject_Object_Second_Half.py:159: RuntimeWarning: Mean of empty slice\n",
      "  self.agent_mean_task_leave_time_on_incorrects   = np.nanmean(self.agent_task_leave_time_on_incorrects,axis=1)\n",
      "c:\\Users\\Seth Sullivan\\OneDrive - University of Delaware - o365\\Desktop\\MatchPennies-Agent-Expirement\\Exp1\\Scripts\\Analysis_and_Statistics\\Subject_Object_Second_Half.py:174: RuntimeWarning: Mean of empty slice\n",
      "  self.player_mean_task_leave_time_on_indecisions  = np.nanmean(self.player_task_leave_time_on_indecisions,axis=1)\n",
      "c:\\Users\\Seth Sullivan\\OneDrive - University of Delaware - o365\\Desktop\\MatchPennies-Agent-Expirement\\Exp1\\Scripts\\Analysis_and_Statistics\\Subject_Object_Second_Half.py:176: RuntimeWarning: Mean of empty slice\n",
      "  self.player_mean_task_leave_time_on_incorrects   = np.nanmean(self.player_task_leave_time_on_incorrects,axis=1)\n",
      "c:\\Users\\Seth Sullivan\\OneDrive - University of Delaware - o365\\Desktop\\MatchPennies-Agent-Expirement\\Exp1\\Scripts\\Analysis_and_Statistics\\Subject_Object_Second_Half.py:181: RuntimeWarning: Mean of empty slice\n",
      "  self.player_mean_task_reach_time_on_indecisions     = np.nanmean(self.player_task_reach_time_on_indecisions,axis=1)\n",
      "c:\\Users\\Seth Sullivan\\OneDrive - University of Delaware - o365\\Desktop\\MatchPennies-Agent-Expirement\\Exp1\\Scripts\\Analysis_and_Statistics\\Subject_Object_Second_Half.py:183: RuntimeWarning: Mean of empty slice\n",
      "  self.player_mean_task_reach_time_on_incorrects      = np.nanmean(self.player_task_reach_time_on_incorrects,axis=1)\n",
      "c:\\Users\\Seth Sullivan\\OneDrive - University of Delaware - o365\\Desktop\\MatchPennies-Agent-Expirement\\Exp1\\Scripts\\Analysis_and_Statistics\\Subject_Object_Second_Half.py:243: RuntimeWarning: Mean of empty slice\n",
      "  self.player_gamble_leave_time_mean                       = np.nanmean(self.player_gamble_leave_time, axis = 1)\n",
      "c:\\Users\\Seth Sullivan\\OneDrive - University of Delaware - o365\\Desktop\\MatchPennies-Agent-Expirement\\Exp1\\Scripts\\Analysis_and_Statistics\\Subject_Object_Second_Half.py:246: RuntimeWarning: Mean of empty slice\n",
      "  self.player_minus_agent_gamble_leave_time_mean           = np.nanmean(self.player_minus_agent_gamble_leave_time, axis = 1)\n",
      "c:\\Users\\Seth Sullivan\\OneDrive - University of Delaware - o365\\Desktop\\MatchPennies-Agent-Expirement\\Exp1\\Scripts\\Analysis_and_Statistics\\Subject_Object_Second_Half.py:247: RuntimeWarning: Mean of empty slice\n",
      "  self.agent_task_leave_time_gamble_mean                   = np.nanmean(self.agent_gamble_leave_time, axis = 1)\n",
      "c:\\Users\\Seth Sullivan\\OneDrive - University of Delaware - o365\\Desktop\\MatchPennies-Agent-Expirement\\Exp1\\Scripts\\Analysis_and_Statistics\\Subject_Object_Second_Half.py:250: RuntimeWarning: Mean of empty slice\n",
      "  self.player_gamble_reach_time_mean                       = np.nanmean(self.player_gamble_reach_time, axis = 1)\n"
     ]
    }
   ],
   "source": [
    "NUM_STDS = [0,1,2]\n",
    "append_dict = {0:'reaction_time_no_sd_off',1:'reaction_time_minus_sd',2:'reaction_time_minus_2sd'}\n",
    "data_path = 'D:\\\\Subject_Data\\\\Seth_MatchPennies_Agent_Exp1\\\\Subjects_Analyzed\\\\'\n",
    "for sd in NUM_STDS:\n",
    "    subject_object_dict = {}\n",
    "    for i in range(NUM_SUBJECTS):\n",
    "        subname = figures_pull_list[i]\n",
    "        subject_object = Subject_Object_Second_Half.Subject(num_trials = 80, num_blocks = 6, num_control_trials = 50, num_washout_trials = 25, reaction_time = player_reaction_time[i], reaction_movement_time = player_reaction_movement_time[i],reaction_plus_movement_time = player_reaction_plus_movement_time[i],\n",
    "                                    interval_trial_start = interval_trial_start[i], interval_reach_time = interval_reach_time[i], coincidence_trial_start = coincidence_trial_start[i], coincidence_reach_time = coincidence_reach_time[i],\n",
    "                                    player_task_reach_time = player_task_reach_time[i], player_task_leave_time = player_task_decision_time[i], player_task_decision_array = player_task_decision_array[i],\n",
    "                                    player_task_movement_time = player_task_movement_time[i], agent_task_reach_time = agent_task_reach_time[i], agent_task_leave_time = agent_task_decision_time[i], agent_task_decision_array = agent_task_decision_array[i],\n",
    "                                    player_washout_reach_time = player_washout_reach_time[i], player_washout_leave_time = player_washout_decision_time[i], player_washout_decision_array = player_washout_decision_array[i],\n",
    "                                    player_washout_movement_time = player_washout_movement_time[i], agent_washout_reach_time = agent_washout_reach_time[i], agent_washout_leave_time = agent_washout_decision_time[i], agent_washout_decision_array = agent_washout_decision_array[i],\n",
    "                                    num_stds_for_reaction_time = sd\n",
    "                                    )\n",
    "        subject_object.analyze_data(0) # The number in this function is the cutoff value (in the future, not done yet)\n",
    "        subject_object_dict.update({subname:subject_object})\n",
    "        \n",
    "        dill.dump(subject_object_dict[subname], open(data_path + f'{subname}\\\\{subname}_object_second_half_{append_dict[sd]}.pkl', 'wb'))\n",
    "    dill.dump(subject_object_dict,open(data_path + f'subject_object_second_half_{append_dict[sd]}_dict.pkl', 'wb'))\n",
    "\n",
    "    group = Subject_Object_First_Half.Group(list(subject_object_dict.values()))\n",
    "    dill.dump(group,open(data_path + f'group_object_second_half_{append_dict[sd]}.pkl','wb'))"
   ]
  }
 ],
 "metadata": {
  "kernelspec": {
   "display_name": "Python 3.9.12 ('base')",
   "language": "python",
   "name": "python3"
  },
  "language_info": {
   "codemirror_mode": {
    "name": "ipython",
    "version": 3
   },
   "file_extension": ".py",
   "mimetype": "text/x-python",
   "name": "python",
   "nbconvert_exporter": "python",
   "pygments_lexer": "ipython3",
   "version": "3.9.16"
  },
  "orig_nbformat": 4,
  "vscode": {
   "interpreter": {
    "hash": "1a00c1525417994d84940f6a64b96d4df953e4f0863c4f32c2c802abdf8195ff"
   }
  }
 },
 "nbformat": 4,
 "nbformat_minor": 2
}
