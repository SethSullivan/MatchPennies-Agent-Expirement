{
 "cells": [
  {
   "cell_type": "code",
   "execution_count": 6,
   "metadata": {},
   "outputs": [
    {
     "data": {
      "text/plain": [
       "'\\nThis script pulls\\n1. Decision array of agent and player\\n2. Decision time of agent and player\\n   - Possibly calculate this with velocity in the future\\n3. Control things\\n   - Reaction times, interval target reach times, coincidence target reach times\\n   \\n   \\n*****v2 GOES BACK TO THE REACTION WITH THE CIRCLES INSTEAD OF THE AGENT****\\n'"
      ]
     },
     "execution_count": 6,
     "metadata": {},
     "output_type": "execute_result"
    }
   ],
   "source": [
    "import pandas as pd\n",
    "from matplotlib import pyplot as plt\n",
    "import numpy as np\n",
    "import os\n",
    "from os import listdir\n",
    "import data_visualization as dv\n",
    "import pickle\n",
    "from scipy.stats import norm\n",
    "from scipy import stats\n",
    "from tqdm import tqdm \n",
    "'''\n",
    "This script pulls\n",
    "1. Decision array of agent and player\n",
    "2. Decision time of agent and player\n",
    "   - Possibly calculate this with velocity in the future\n",
    "3. Control things\n",
    "   - Reaction times, interval target reach times, coincidence target reach times\n",
    "   \n",
    "   \n",
    "*****v2 GOES BACK TO THE REACTION WITH THE CIRCLES INSTEAD OF THE AGENT****\n",
    "'''"
   ]
  },
  {
   "cell_type": "code",
   "execution_count": 7,
   "metadata": {},
   "outputs": [],
   "source": [
    "# Fields pull and pull list\n",
    "os.chdir('D:\\Subject_Data\\Seth_MatchPennies_Agent_Exp1')\n",
    "PATH = os.getcwd()\n",
    "analysis_pull_list = []\n",
    "analysis_pull_list_control = []\n",
    "analysis_pull_list_task = []\n",
    "        \n",
    "with open(PATH+\"\\\\Analysis_Pull_List.txt\", \"r\") as file:\n",
    "    analysis_pull_list = file.read().splitlines()\n",
    "analysis_pull_list_control = [s+'_Control' for s in analysis_pull_list]\n",
    "analysis_pull_list_task = [s+'_Task' for s in analysis_pull_list]\n",
    "\n",
    "# with open(PATH+\"\\\\Analysis_Pull_List_Control.txt\", \"r\") as pull_file:\n",
    "#     analysis_pull_list_control = pull_file.read().splitlines()\n",
    "# with open(PATH+\"\\\\Analysis_Pull_List_Task.txt\", \"r\") as pull_file:\n",
    "#     analysis_pull_list_task = pull_file.read().splitlines()\n",
    "with open(PATH+\"\\\\Fields_Pull.txt\", \"r\") as fields_pull:\n",
    "    fields_pull = fields_pull.read().splitlines()\n",
    "    \n",
    "num_subjects = len(analysis_pull_list_control)\n",
    "task_name = 'Seth_MatchPennies_Agent_Exp1'\n",
    "\n"
   ]
  },
  {
   "cell_type": "markdown",
   "metadata": {},
   "source": [
    "Target information"
   ]
  },
  {
   "cell_type": "markdown",
   "metadata": {},
   "source": [
    "- Row 0 = Start Target\n",
    "\n",
    "- Row 1 = Left screen, right target x pos (left target is 2*startx - right targetx)\n",
    "\n",
    "- Dim 1 = Radius\n",
    "\n",
    "- Dim 2 = Thickness of the circle edge (don't know if this matters)\n",
    "\n",
    "\n",
    "Dataframe is in centimeters, so need to divide everything by 100"
   ]
  },
  {
   "cell_type": "code",
   "execution_count": 8,
   "metadata": {},
   "outputs": [],
   "source": [
    "PATH = r'D:\\Subject_Data\\Seth_MatchPennies_Agent_Exp1'"
   ]
  },
  {
   "cell_type": "code",
   "execution_count": 9,
   "metadata": {},
   "outputs": [],
   "source": [
    "file = PATH+'\\\\Sub1_Task\\\\Sub1_TaskTarget_Table.csv'\n",
    "df = pd.read_csv(file)\n",
    "df[\"X\"] = df[\"X\"]/100\n",
    "df[\"Y\"] = df[\"Y\"]/100\n",
    "df['Dim 1'] = df['Dim 1']/100 # Target table is in centimeters, I guess this doesn't matter but it makes me feel better\n",
    "df['Dim 2'] = df['Dim 2']/100\n",
    "# Target information for Right Hand (keeping this because the positions of target 3 and 4 are based on target 1 and start 1)\n",
    "startx = df.loc[0]['X']\n",
    "starty = df.loc[0]['Y']\n",
    "start_radius = df.loc[0]['Dim 1'] \n",
    "\n",
    "target1x = df.loc[1]['X']\n",
    "target1y = df.loc[1]['Y']\n",
    "target1_radius = df.loc[1]['Dim 1']\n",
    "\n",
    "target2x = 2*startx - target1x\n",
    "target2y = target1y\n",
    "target2_radius = target1_radius\n",
    "\n",
    "# Timing target\n",
    "timing_targetx = startx\n",
    "timing_targety = target1y\n",
    "timing_target_pos = np.sqrt(timing_targetx**2 + timing_targety**2)\n",
    "timing_target_radius = target1_radius   "
   ]
  },
  {
   "cell_type": "markdown",
   "metadata": {},
   "source": [
    "Control Experiment Data"
   ]
  },
  {
   "cell_type": "code",
   "execution_count": 11,
   "metadata": {},
   "outputs": [
    {
     "name": "stdout",
     "output_type": "stream",
     "text": [
      "0 Sub1_Control\n",
      "1 Sub2_Control\n"
     ]
    }
   ],
   "source": [
    "#%% Get reaction time data\n",
    "reaction_trial_time = 5000\n",
    "reaction_trials = 50\n",
    "player_reaction_decision_array = np.empty((num_subjects, reaction_trials))\n",
    "reaction_trial_start = np.zeros((num_subjects, reaction_trials))*np.nan\n",
    "player_reaction_movement_time = np.zeros((num_subjects, reaction_trials))*np.nan\n",
    "player_reaction_plus_movement_time = np.zeros((num_subjects, reaction_trials))*np.nan\n",
    "player_reaction_time = np.zeros((num_subjects, reaction_trials))*np.nan\n",
    "player_reaction_time_vel = np.zeros((num_subjects, reaction_trials))*np.nan\n",
    "agent_reaction_decision_time = np.zeros((num_subjects, reaction_trials))*np.nan\n",
    "player_reaction_reach_time = np.zeros((num_subjects, reaction_trials))*np.nan\n",
    "reaction_data = np.zeros((num_subjects, reaction_trials, reaction_trial_time, 2))*np.nan\n",
    "\n",
    "\n",
    "coincidence_trial_time = 2500\n",
    "coincidence_trials = 50\n",
    "coincidence_trial_start = np.zeros((num_subjects, coincidence_trials))*np.nan\n",
    "coincidence_reach_time = np.zeros((num_subjects, coincidence_trials))*np.nan\n",
    "coincidence_data = np.zeros((num_subjects, coincidence_trials, coincidence_trial_time, 2))*np.nan\n",
    "\n",
    "interval_trial_time = 2500\n",
    "interval_trials = 50\n",
    "interval_trial_start = np.zeros((num_subjects, interval_trials))*np.nan\n",
    "interval_reach_time =  np.zeros((num_subjects, interval_trials))*np.nan\n",
    "interval_data = np.zeros((num_subjects, interval_trials, interval_trial_time, 2))*np.nan\n",
    "\n",
    "control_trials = interval_trials + coincidence_trials + reaction_trials\n",
    "###-------------------------------------------------------------------------------------------------------\n",
    "for i in range(num_subjects):\n",
    "    sub_name = analysis_pull_list_control[i]\n",
    "    print(i, sub_name)\n",
    "    path1 = PATH+'\\\\'+sub_name\n",
    "    file = path1+f'\\\\{sub_name}Trial_Table.csv'\n",
    "    control_trial_table = pd.read_csv(file)\n",
    "    block_number = 1\n",
    "    tp_num = 1\n",
    "    for x in ((range(control_trials))):\n",
    "        block_number = control_trial_table.iloc[x]['Block_Row']\n",
    "        tp_num = control_trial_table.iloc[x]['TP_Row']\n",
    "        block_trial_num = control_trial_table.iloc[x]['Block_Step']\n",
    "        filename = PATH+f\"\\\\{sub_name}\\\\{task_name}_{sub_name}_C{block_number}_TP{tp_num}_T{block_trial_num}.csv\"\n",
    "        j = tp_num - 1 # Block number\n",
    "        k = block_trial_num - 1 # Trial number in that block\n",
    "        data = pd.read_csv(filename, low_memory=False)\n",
    "        # if 'Agent_Initial_Time' in data.columns:\n",
    "        #     data = data.rename(columns = {'Agent_Inital_Time':'Agent_Decision_Time'}, inplace=True)\n",
    "        # f = data['Agent_Decision_Time']\n",
    "        start_time = int(data[data['Event_Codes']=='E_SOUND_SIGNAL'].index[0])\n",
    "        # Get Interval Timing Data\n",
    "        if tp_num == 1:\n",
    "            end_time = start_time + interval_trial_time\n",
    "            interval_trial_start[i,k] = start_time # Store start time\n",
    "            lhx = np.array(data.iloc[start_time:end_time]['Left_HandX'])\n",
    "            lhy = np.array(data.iloc[start_time:end_time]['Left_HandY'])\n",
    "            q = np.argwhere(np.sqrt((lhx-timing_targetx)**2 + (lhy-timing_targety)**2) < timing_target_radius) # THIS NEEDS TO BE THE CENTER TARGET... x poisition should be the start\n",
    "            if np.size(q)>0:\n",
    "                interval_reach_time[i,k] = q[0]\n",
    "        # Get Coincidence Timing Data\n",
    "        if tp_num == 2:\n",
    "            end_time = start_time + coincidence_trial_time\n",
    "            coincidence_trial_start[i,k] = start_time # Store start time\n",
    "            lhx = np.array(data.iloc[start_time:end_time]['Left_HandX'])\n",
    "            lhy = np.array(data.iloc[start_time:end_time]['Left_HandY'])\n",
    "            q = np.argwhere(np.sqrt((lhx-timing_targetx)**2 + (lhy-timing_targety)**2) < timing_target_radius) # THIS NEEDS TO BE THE CENTER TARGET... x poisition should be the start\n",
    "            if np.size(q)>0:\n",
    "                coincidence_reach_time[i,k] = q[0]\n",
    "        # Get Reaction Time Data\n",
    "        if tp_num == 3:\n",
    "            end_time = start_time + reaction_trial_time\n",
    "            reaction_trial_start[i,k] = start_time\n",
    "            lhx = np.array(data.iloc[start_time:end_time]['Left_HandX'])\n",
    "            lhy = np.array(data.iloc[start_time:end_time]['Left_HandY'])\n",
    "            lhx_vel = np.array(data.iloc[start_time:end_time]['Left_HandXVel'])\n",
    "            lhy_vel = np.array(data.iloc[start_time:end_time]['Left_HandYVel'])\n",
    "            q = np.argwhere(np.sqrt((lhx-target1x)**2 + (lhy-target1y)**2) < target1_radius)\n",
    "            r = np.argwhere(np.sqrt((lhx-target2x)**2 + (lhy-target2y)**2) < target2_radius) \n",
    "            s = np.argwhere(np.sqrt((lhx-startx)**2 + (lhy-starty)**2) > start_radius*1.2) # Multiplied by 2 so people don't accidentally drift outside start\n",
    "            \n",
    "            t = np.argwhere(np.sqrt((lhx_vel)**2 + (lhy_vel)**2) > 0.05)\n",
    "            if np.size(t)>0:\n",
    "                player_reaction_time_vel[i,k] = t[0]\n",
    "            if np.size(s)>0: \n",
    "                player_reaction_time[i,k] = s[0] # lhx and lhy are already constrained from start_time to end_time, so as soon as they leave the start, that's their reaction time\n",
    "            if np.size(q)>0: #if LH enters right target\n",
    "                player_reaction_decision_array[i,k] = 1\n",
    "                player_reaction_movement_time[i,k] = q[0] - s[0]\n",
    "                player_reaction_plus_movement_time[i,k] = q[0]\n",
    "                \n",
    "            elif np.size(r)>0: #if LH enters left target\n",
    "                player_reaction_decision_array[i,k] = -1   \n",
    "                player_reaction_movement_time[i,k] = r[0] - s[0]\n",
    "                player_reaction_plus_movement_time[i,k] = r[0]                \n",
    "                \n",
    "            # #plot path for Reactions\n",
    "            if False:\n",
    "                for i in range(1):\n",
    "                    player_reaction_time[0,0] = 500\n",
    "                    plot_end_time = int(start_time + player_reaction_time[i,k])\n",
    "                    # plot_end_time = int(start_time + 500)\n",
    "                    lhx_new = np.array(data.iloc[start_time:int(plot_end_time)]['Left_HandX'])\n",
    "                    lhy_new = np.array(data.iloc[start_time:int(plot_end_time)]['Left_HandY'])\n",
    "                    plt.figure(dpi=300)\n",
    "                    circleR = plt.Circle((target1x,target1y), target1_radius, color = 'r', fill = False)\n",
    "                    circleL = plt.Circle((target2x,target2y), target2_radius, color = 'r', fill = False)\n",
    "                    startCirc = plt.Circle((startx,starty), start_radius, color = 'r', fill = False)\n",
    "                    fig, ax = plt.subplots()\n",
    "                    ax.add_patch(circleR)\n",
    "                    ax.add_patch(circleL)\n",
    "                    ax.add_patch(startCirc)\n",
    "                    plt.plot(lhx_new,lhy_new) \n",
    "                    # plt.scatter(lhx_new[int(s[0])], lhy_new[int(s[0])])\n",
    "                    print(player_reaction_time[i,k])\n",
    "                    # plt.title(\"w =%1.0f \" %i + \"x=%1.0f \"%j + \"c=%1.0f\"%k + 'vely=%1.5f'%vel_check)\n",
    "                    plt.show()\n",
    "\n",
    "           "
   ]
  },
  {
   "cell_type": "code",
   "execution_count": null,
   "metadata": {},
   "outputs": [],
   "source": [
    "blah"
   ]
  },
  {
   "cell_type": "code",
   "execution_count": null,
   "metadata": {},
   "outputs": [
    {
     "name": "stdout",
     "output_type": "stream",
     "text": [
      "Sub1\n",
      "D:\\Subject_Data\\Seth_MatchPennies_Agent_Exp1\\Subjects_Analyzed\\Sub1\\\n",
      "[555. 399. 276. 305. 301. 332. 321. 305. 342. 442. 231. 237. 247. 277.\n",
      " 293. 277. 257. 289. 261. 277. 239. 304. 258. 279. 314. 248. 302. 246.\n",
      " 291. 275. 263. 313. 263. 276. 251. 235. 261. 260. 243. 267. 226. 302.\n",
      " 250. 242. 252. 269. 310. 289. 248. 268.]\n",
      "Sub2\n",
      "D:\\Subject_Data\\Seth_MatchPennies_Agent_Exp1\\Subjects_Analyzed\\Sub2\\\n",
      "[483. 315. 323. 243. 288. 283. 281. 288. 286. 311. 314. 292. 325. 273.\n",
      " 262. 282. 274. 332. 331. 304. 259. 301. 304. 288. 264. 287. 319. 286.\n",
      " 336. 303. 325. 325. 321. 260. 282. 303. 297. 309. 296. 290. 297. 314.\n",
      " 299. 271. 296. 258. 278. 339. 301. 303.]\n",
      "Sub3\n",
      "D:\\Subject_Data\\Seth_MatchPennies_Agent_Exp1\\Subjects_Analyzed\\Sub3\\\n",
      "[371. 250. 310. 375. 337. 313. 290. 329. 295. 351. 293. 326. 261. 250.\n",
      " 279. 310. 252. 316. 300. 322. 364. 331. 269. 295. 308. 281. 299. 330.\n",
      " 439. 301. 311. 313. 377. 303. 397. 342. 337. 374. 280. 282. 314. 368.\n",
      " 266. 278. 339. 270. 358. 339. 314. 383.]\n",
      "Sub4\n",
      "D:\\Subject_Data\\Seth_MatchPennies_Agent_Exp1\\Subjects_Analyzed\\Sub4\\\n",
      "[499. 367. 309. 319. 367. 429. 348. 372. 323. 298. 311. 323. 329. 312.\n",
      " 341. 277. 287. 358. 309. 281. 390. 395. 294. 306. 339. 309. 445. 318.\n",
      " 374. 327. 293. 294. 295. 315. 319. 292. 343. 287. 302. 376. 327. 308.\n",
      " 316. 306. 310. 317. 265. 287. 326. 321.]\n",
      "Sub5\n",
      "D:\\Subject_Data\\Seth_MatchPennies_Agent_Exp1\\Subjects_Analyzed\\Sub5\\\n",
      "[583. 335. 283. 346. 280. 347. 360. 335. 355. 318. 358. 356. 274. 284.\n",
      " 299. 272. 356. 317. 350. 296. 284. 273. 296. 327. 292. 355. 327. 307.\n",
      " 315. 315. 331. 406. 283. 314. 285. 278. 312. 291. 300. 295. 313. 401.\n",
      " 306. 286. 344. 380. 363. 361. 301. 273.]\n",
      "Sub6\n",
      "D:\\Subject_Data\\Seth_MatchPennies_Agent_Exp1\\Subjects_Analyzed\\Sub6\\\n",
      "[336. 316. 339. 269. 304. 256. 263. 312. 296. 260. 277. 358. 306. 286.\n",
      " 309. 291. 374. 311. 336. 298. 298. 289. 290. 354. 341. 339. 299. 286.\n",
      " 294. 289. 315. 305. 313. 277. 314. 226. 244. 262. 287. 345. 309. 327.\n",
      " 318. 265. 325. 237. 353. 305. 309. 305.]\n",
      "Sub7\n",
      "D:\\Subject_Data\\Seth_MatchPennies_Agent_Exp1\\Subjects_Analyzed\\Sub7\\\n",
      "[445. 309. 360. 346. 361. 334. 483. 297. 317. 292. 332. 282. 271. 262.\n",
      " 291. 303. 289. 304. 292. 332. 306. 339. 320. 288. 293. 354. 293. 317.\n",
      " 291. 330. 269. 302. 302. 307. 301. 298. 277. 293. 293. 311. 261. 285.\n",
      " 315. 321. 316. 353. 305. 318. 286. 255.]\n",
      "Sub8\n",
      "D:\\Subject_Data\\Seth_MatchPennies_Agent_Exp1\\Subjects_Analyzed\\Sub8\\\n",
      "[615. 318. 335. 279. 306. 341. 319. 264. 313. 299. 304. 278. 269. 292.\n",
      " 339. 305. 276. 240. 248. 279. 367. 343. 326. 276. 355. 354. 350. 286.\n",
      " 287. 128. 311. 328. 354. 313. 317. 310. 329. 322. 290. 301. 286. 317.\n",
      " 325. 328. 310. 296. 282. 327. 296. 324.]\n",
      "Sub9\n",
      "D:\\Subject_Data\\Seth_MatchPennies_Agent_Exp1\\Subjects_Analyzed\\Sub9\\\n",
      "[344. 340. 377. 307. 287. 288. 318. 340. 317. 377. 368. 276. 268. 298.\n",
      " 301. 342. 286. 321. 347. 333. 262. 310. 263. 359. 258. 274. 299. 252.\n",
      " 303. 368. 291. 281. 308. 307. 316. 299. 287. 279. 309. 311. 310. 296.\n",
      " 278. 294. 313. 257. 274. 290. 377. 264.]\n",
      "Sub10\n",
      "D:\\Subject_Data\\Seth_MatchPennies_Agent_Exp1\\Subjects_Analyzed\\Sub10\\\n",
      "[409. 362. 314. 322. 302. 367. 298. 283. 338. 315. 334. 362. 306. 283.\n",
      " 293. 322. 318. 314. 340. 282. 319. 283. 320. 310. 328. 282. 319. 321.\n",
      " 293. 274. 331. 271. 286. 285. 289. 267. 360. 316. 325. 306. 296. 277.\n",
      " 335. 307. 300. 346. 276. 316. 336. 306.]\n",
      "Sub11\n",
      "D:\\Subject_Data\\Seth_MatchPennies_Agent_Exp1\\Subjects_Analyzed\\Sub11\\\n",
      "[296. 256. 283. 246. 298. 253. 323. 308. 265. 274. 352. 294. 266. 262.\n",
      " 281. 317. 289. 251. 292. 276. 303. 271. 267. 321. 288. 273. 298. 306.\n",
      " 254. 277. 328. 318. 343. 269. 327. 243. 309. 264. 272. 262. 273. 257.\n",
      " 252. 249. 319. 333. 271. 276. 282. 288.]\n",
      "Sub12\n",
      "D:\\Subject_Data\\Seth_MatchPennies_Agent_Exp1\\Subjects_Analyzed\\Sub12\\\n",
      "[486. 348. 329. 325. 358. 344. 349. 338. 312. 323. 340. 384. 290. 349.\n",
      " 322. 338. 364. 262. 306. 332. 326. 342. 296. 276. 283. 290. 286. 308.\n",
      " 357. 350. 336. 339. 359. 332. 323. 260. 280. 283. 279. 330. 336. 310.\n",
      " 332. 293. 366. 327. 326. 338. 328. 323.]\n",
      "Sub13\n",
      "D:\\Subject_Data\\Seth_MatchPennies_Agent_Exp1\\Subjects_Analyzed\\Sub13\\\n",
      "[370. 282. 331. 330. 353. 313. 375. 347. 314. 337. 378. 309. 370. 446.\n",
      " 302. 469. 334. 338. 368. 393. 398. 325. 311. 341. 352. 326. 314. 390.\n",
      " 349. 470. 347. 334. 374. 365. 442. 310. 376. 363. 352. 383. 342. 385.\n",
      " 379. 354. 293. 404. 438. 329. 373. 375.]\n",
      "Sub14\n",
      "D:\\Subject_Data\\Seth_MatchPennies_Agent_Exp1\\Subjects_Analyzed\\Sub14\\\n",
      "[410. 325. 363. 295. 312. 393. 382. 305. 324. 286. 329. 348. 342. 319.\n",
      " 367. 463. 329. 284. 307. 343. 323. 317. 345. 345. 286. 343. 325. 352.\n",
      " 319. 349. 343. 324. 323. 298. 333. 355. 311. 345. 311. 312. 322. 333.\n",
      " 303. 322. 305. 288. 310. 265. 276. 332.]\n",
      "Sub15\n",
      "D:\\Subject_Data\\Seth_MatchPennies_Agent_Exp1\\Subjects_Analyzed\\Sub15\\\n",
      "[606. 358. 343. 295. 290. 303. 370. 373. 302. 380. 330. 318. 324. 336.\n",
      " 339. 302. 375. 335. 347. 263. 340. 306. 261. 284. 368. 289. 317. 341.\n",
      " 325. 305. 304. 357. 316. 322. 352. 333. 332. 350. 373. 311. 350. 375.\n",
      " 418. 291. 359. 334. 327. 350. 368. 398.]\n",
      "Sub16\n",
      "D:\\Subject_Data\\Seth_MatchPennies_Agent_Exp1\\Subjects_Analyzed\\Sub16\\\n",
      "[458. 381. 331. 266. 260. 301. 300. 303. 230. 276. 278. 325. 231. 315.\n",
      " 273. 257. 270. 324. 329. 278. 317. 276. 342. 297. 314. 312. 315. 336.\n",
      " 307. 305. 319. 411. 347. 308. 358. 300. 380. 297. 286. 259. 298. 274.\n",
      " 298. 360. 265. 303. 332. 328. 337. 440.]\n",
      "Sub17\n",
      "D:\\Subject_Data\\Seth_MatchPennies_Agent_Exp1\\Subjects_Analyzed\\Sub17\\\n",
      "[357. 333. 339. 407. 322. 352. 303. 299. 350. 311. 336. 318. 294. 317.\n",
      " 320. 302. 305. 291. 298. 327. 277. 301. 309. 349. 341. 322. 371. 281.\n",
      " 345. 347. 295. 363. 342. 323. 350. 308. 310. 310. 266. 290. 309. 286.\n",
      " 335. 279. 325. 272. 328. 316. 279. 293.]\n",
      "Sub18\n",
      "D:\\Subject_Data\\Seth_MatchPennies_Agent_Exp1\\Subjects_Analyzed\\Sub18\\\n",
      "[435. 409. 382. 457. 485. 374. 415. 457. 337. 389. 376. 412. 376. 357.\n",
      " 357. 415. 413. 402. 348. 428. 403. 370. 417. 345. 337. 356. 343. 424.\n",
      " 408. 366. 382. 432. 368. 392. 411. 382. 365. 355. 504. 401. 341. 374.\n",
      " 400. 390. 373. 307. 326. 393. 325. 331.]\n",
      "Sub19\n",
      "D:\\Subject_Data\\Seth_MatchPennies_Agent_Exp1\\Subjects_Analyzed\\Sub19\\\n",
      "[377. 290. 326. 326. 304. 302. 305. 294. 354. 257. 294. 253. 256. 260.\n",
      " 265. 311. 293. 257. 286. 280. 283. 351. 329. 294. 261. 311. 318. 273.\n",
      " 334. 339. 268. 307. 344. 255. 315. 277. 272. 387. 338. 349. 311. 351.\n",
      " 364. 305. 335. 340. 297. 307. 319. 376.]\n",
      "Sub20\n",
      "D:\\Subject_Data\\Seth_MatchPennies_Agent_Exp1\\Subjects_Analyzed\\Sub20\\\n",
      "[ nan 475. 269. 282. 251. 260. 273. 273. 266. 266. 288. 289. 313. 262.\n",
      " 328. 286. 267. 269. 280. 258. 275. 294. 267. 293. 261. 363. 294. 255.\n",
      " 298. 272. 263. 337. 278. 285. 299. 286. 238. 270. 256. 269. 267. 276.\n",
      " 290. 327. 299. 277. 274. 270. 283. 326.]\n"
     ]
    }
   ],
   "source": [
    "i=-1\n",
    "for subname in analysis_pull_list:\n",
    "    i+=1\n",
    "    data_path = PATH+f'\\\\Subjects_Analyzed\\\\{subname}\\\\'\n",
    "    if not os.path.exists(data_path):\n",
    "        os.makedirs(data_path)\n",
    "    print(subname)\n",
    "    print(data_path)\n",
    "    # Reaction time \n",
    "    pickle.dump(reaction_trial_start[i,:], open(data_path + f'{subname}_reaction_trial_start.pkl', 'wb'))\n",
    "    print(player_reaction_time[i,:])\n",
    "    pickle.dump(player_reaction_time[i,:], open(data_path + f'{subname}_player_reaction_time.pkl', 'wb'))\n",
    "    pickle.dump(player_reaction_movement_time[i,:], open(data_path + f'{subname}_player_reaction_movement_time.pkl', 'wb'))\n",
    "    pickle.dump(player_reaction_plus_movement_time[i,:], open(data_path + f'{subname}_player_reaction_plus_movement_time.pkl', 'wb'))\n",
    "    pickle.dump(player_reaction_decision_array[i,:], open(data_path + f'{subname}_player_reaction_decision_array.pkl', 'wb'))\n",
    "    pickle.dump(agent_reaction_decision_time[i,:], open(data_path + f'{subname}_agent_reaction_decision_time.pkl', 'wb'))\n",
    "    pickle.dump(reaction_trial_start[i,:], open(data_path + f'{subname}_reaction_trial_start.pkl', 'wb'))\n",
    "    pickle.dump(interval_trial_start[i,:], open(data_path + f'{subname}_interval_trial_start.pkl', 'wb'))\n",
    "    pickle.dump(interval_reach_time[i,:], open(data_path + f'{subname}_interval_reach_time.pkl', 'wb'))\n",
    "    pickle.dump(coincidence_trial_start[i,:], open(data_path + f'{subname}_coincidence_trial_start.pkl', 'wb'))\n",
    "    pickle.dump(coincidence_reach_time[i,:], open(data_path + f'{subname}_coincidence_reach_time.pkl', 'wb'))\n"
   ]
  },
  {
   "cell_type": "markdown",
   "metadata": {},
   "source": [
    "Task Data "
   ]
  },
  {
   "cell_type": "code",
   "execution_count": null,
   "metadata": {},
   "outputs": [
    {
     "name": "stdout",
     "output_type": "stream",
     "text": [
      "0 Sub1_Task\n"
     ]
    },
    {
     "name": "stderr",
     "output_type": "stream",
     "text": [
      "100%|██████████| 480/480 [00:13<00:00, 35.46it/s]\n"
     ]
    },
    {
     "name": "stdout",
     "output_type": "stream",
     "text": [
      "[1219. 1138. 1030. 1225. 1342. 1264. 1245. 1320. 1104. 1202. 1280. 1085.\n",
      " 1262. 1342. 1182. 1106. 1018. 1174. 1064.  999. 1116. 1151. 1056. 1050.\n",
      " 1140.  972. 1104. 1196. 1137. 1213. 1225. 1309. 1199. 1131. 1250. 1137.\n",
      " 1206. 1068. 1046. 1161. 1146. 1047. 1209. 1213. 1303. 1278. 1156. 1269.\n",
      " 1239. 1213. 1298. 1219. 1324. 1267. 1304. 1358. 1233. 1237. 1185. 1091.\n",
      " 1119. 1321. 1130. 1113. 1208. 1247. 1216. 1074. 1086. 1126. 1201. 1175.\n",
      " 1156. 1325. 1252. 1173. 1191. 1243. 1306. 1090.]\n",
      "1 Sub2_Task\n"
     ]
    },
    {
     "name": "stderr",
     "output_type": "stream",
     "text": [
      "100%|██████████| 480/480 [00:14<00:00, 32.83it/s]\n"
     ]
    },
    {
     "name": "stdout",
     "output_type": "stream",
     "text": [
      "[1274. 1120. 1048. 1139. 1242. 1154. 1184. 1126. 1222. 1123. 1259. 1273.\n",
      " 1121. 1245. 1184. 1238. 1190. 1268. 1241. 1286. 1276. 1289. 1153. 1237.\n",
      " 1256. 1262. 1273. 1275. 1383. 1235. 1343. 1358. 1343. 1221. 1322. 1292.\n",
      " 1250. 1289. 1371. 1262. 1317. 1281. 1403. 1267. 1230. 1237. 1286. 1304.\n",
      " 1243. 1286. 1301. 1282. 1276. 1327. 1190. 1279. 1221. 1380. 1357. 1295.\n",
      " 1324. 1328. 1258. 1284. 1287. 1186. 1252. 1335. 1287. 1327. 1265. 1329.\n",
      " 1268. 1312. 1343. 1326. 1319. 1259. 1278. 1330.]\n",
      "2 Sub3_Task\n"
     ]
    },
    {
     "name": "stderr",
     "output_type": "stream",
     "text": [
      "100%|██████████| 480/480 [00:24<00:00, 19.65it/s]\n"
     ]
    },
    {
     "name": "stdout",
     "output_type": "stream",
     "text": [
      "[1124. 1110.  516.  678. 1160. 1303. 1380. 1341.  999. 1387. 1173. 1226.\n",
      "  775.  892. 1272. 1372. 1273. 1176. 1214. 1295. 1240. 1268. 1087. 1268.\n",
      " 1231. 1272. 1214. 1310. 1297. 1258. 1294. 1282. 1332. 1148. 1296. 1412.\n",
      " 1368. 1333. 1325. 1353. 1338. 1296. 1274. 1313. 1383. 1236. 1249. 1292.\n",
      " 1338. 1321. 1353. 1367. 1303. 1335. 1168. 1413. 1257. 1263. 1283. 1308.\n",
      " 1414. 1246. 1318. 1251. 1345. 1337. 1286. 1345. 1308. 1315. 1295. 1352.\n",
      " 1390. 1245. 1256. 1140. 1325. 1266. 1310. 1384.]\n",
      "3 Sub4_Task\n"
     ]
    },
    {
     "name": "stderr",
     "output_type": "stream",
     "text": [
      "100%|██████████| 480/480 [00:11<00:00, 40.13it/s]\n"
     ]
    },
    {
     "name": "stdout",
     "output_type": "stream",
     "text": [
      "[ 848. 1074. 1013.  977. 1162. 1119. 1034.  551. 1089.  966. 1023.  397.\n",
      "  433. 1367. 1020.  978. 1248.  949. 1076. 1029.  964. 1191. 1205. 1053.\n",
      "  923. 1094. 1236. 1074. 1206. 1151. 1173. 1108. 1282. 1305. 1015. 1274.\n",
      " 1243. 1230. 1375. 1203. 1043. 1125. 1162. 1012.  953. 1056. 1149. 1035.\n",
      "  941. 1066.  982.  999. 1043. 1063.  992.  990.  856.  771.  861. 1123.\n",
      " 1041. 1218. 1018.  915. 1171.  684. 1106. 1083. 1027. 1071. 1270.  984.\n",
      " 1269. 1088. 1164. 1125.  974.  693. 1223. 1151.]\n",
      "4 Sub5_Task\n"
     ]
    },
    {
     "name": "stderr",
     "output_type": "stream",
     "text": [
      "100%|██████████| 480/480 [00:11<00:00, 41.10it/s]\n"
     ]
    },
    {
     "name": "stdout",
     "output_type": "stream",
     "text": [
      "[1222. 1235. 1254. 1190. 1246. 1278. 1286. 1295. 1220. 1263. 1266. 1352.\n",
      " 1343. 1361. 1294. 1326. 1351. 1322. 1199. 1267. 1227. 1296. 1257. 1338.\n",
      " 1268. 1329. 1254. 1317. 1316. 1273. 1242. 1270. 1394. 1278. 1234. 1257.\n",
      " 1267. 1288. 1199. 1346. 1317. 1258. 1283. 1231. 1282. 1294. 1312. 1338.\n",
      " 1274. 1334. 1265. 1218. 1125. 1251. 1285. 1239. 1279. 1317. 1267. 1389.\n",
      " 1262. 1247. 1243. 1360. 1228. 1277. 1264. 1261. 1252. 1314. 1226. 1359.\n",
      " 1308. 1329. 1290. 1344. 1282. 1207. 1208. 1187.]\n",
      "5 Sub6_Task\n"
     ]
    },
    {
     "name": "stderr",
     "output_type": "stream",
     "text": [
      "100%|██████████| 480/480 [00:11<00:00, 40.00it/s]\n"
     ]
    },
    {
     "name": "stdout",
     "output_type": "stream",
     "text": [
      "[1012. 1238. 1342. 1341.  880. 1037. 1289. 1347. 1341. 1273. 1340. 1271.\n",
      " 1082. 1096.  971.  918.  902.  998.  925.  936. 1122. 1282. 1293.  999.\n",
      " 1265. 1231. 1178. 1268. 1321. 1367. 1094.  833.  939. 1005. 1096. 1298.\n",
      " 1117.  984.  922. 1017.  882.  824. 1117. 1052. 1128.  879.  846. 1241.\n",
      " 1264. 1201. 1312. 1370. 1148. 1124. 1336. 1336. 1167.  872. 1098. 1165.\n",
      " 1286. 1230. 1056. 1236. 1226. 1328. 1271. 1266. 1176.  870. 1068. 1290.\n",
      " 1295. 1314. 1309. 1365. 1301. 1232. 1370. 1333.]\n",
      "6 Sub7_Task\n"
     ]
    },
    {
     "name": "stderr",
     "output_type": "stream",
     "text": [
      "100%|██████████| 480/480 [00:12<00:00, 39.75it/s]\n"
     ]
    },
    {
     "name": "stdout",
     "output_type": "stream",
     "text": [
      "[1362. 1325. 1327. 1301. 1336. 1269. 1280. 1363. 1249. 1338. 1256. 1321.\n",
      " 1326. 1331. 1302. 1326. 1259. 1311. 1340. 1327. 1346. 1294. 1340. 1273.\n",
      " 1368. 1356. 1353. 1331. 1340. 1388. 1221. 1341. 1402. 1325. 1241.  495.\n",
      " 1327. 1437. 1429. 1401. 1261. 1333. 1415. 1399. 1229. 1239. 1252. 1277.\n",
      " 1349. 1264. 1408. 1333. 1310. 1341. 1374. 1368. 1309. 1327. 1307. 1263.\n",
      " 1340. 1341. 1342. 1340. 1189. 1311. 1375. 1376. 1311. 1374. 1317. 1270.\n",
      " 1384. 1295. 1370. 1313. 1267. 1378. 1375. 1386.]\n",
      "7 Sub8_Task\n"
     ]
    },
    {
     "name": "stderr",
     "output_type": "stream",
     "text": [
      "100%|██████████| 480/480 [00:17<00:00, 26.69it/s]\n"
     ]
    },
    {
     "name": "stdout",
     "output_type": "stream",
     "text": [
      "[1215. 1236. 1089. 1261. 1050. 1325. 1283.  940. 1217. 1022. 1049. 1136.\n",
      " 1126. 1172. 1165. 1060.  935. 1233. 1174. 1164. 1007. 1112. 1129. 1333.\n",
      " 1209. 1081. 1267. 1037. 1346. 1272. 1087.  810.  935.  996.  880. 1212.\n",
      " 1358. 1088. 1375. 1256. 1309. 1319. 1269. 1256. 1022. 1228. 1252. 1267.\n",
      " 1282. 1156. 1284. 1317. 1280. 1301. 1318. 1239. 1355. 1148. 1275. 1106.\n",
      " 1126. 1364. 1293. 1255. 1326. 1075.  970. 1213. 1263. 1320. 1287. 1338.\n",
      " 1102. 1323. 1245. 1284. 1267. 1054. 1306. 1079.]\n",
      "8 Sub9_Task\n"
     ]
    },
    {
     "name": "stderr",
     "output_type": "stream",
     "text": [
      "100%|██████████| 480/480 [00:21<00:00, 22.05it/s]\n"
     ]
    },
    {
     "name": "stdout",
     "output_type": "stream",
     "text": [
      "[1313. 1236. 1233. 1204. 1124. 1285. 1288. 1205. 1140. 1233. 1191. 1200.\n",
      " 1132. 1193. 1311. 1235. 1290. 1184. 1276. 1333. 1303. 1243. 1239. 1418.\n",
      " 1255. 1247. 1290. 1279. 1287. 1168. 1247. 1242. 1284. 1305. 1300. 1341.\n",
      " 1194. 1284. 1318. 1230. 1290. 1305. 1194. 1271. 1280. 1294. 1244. 1239.\n",
      " 1288. 1237. 1277. 1283. 1238. 1190. 1274. 1275. 1342. 1282. 1229. 1258.\n",
      " 1310. 1220. 1177. 1245. 1148. 1322. 1334. 1299. 1368. 1367. 1224. 1298.\n",
      " 1304. 1262. 1276. 1337. 1316. 1340. 1329. 1346.]\n",
      "9 Sub10_Task\n"
     ]
    },
    {
     "name": "stderr",
     "output_type": "stream",
     "text": [
      "100%|██████████| 480/480 [00:15<00:00, 30.36it/s]\n"
     ]
    },
    {
     "name": "stdout",
     "output_type": "stream",
     "text": [
      "[1144. 1234. 1367. 1266. 1412. 1348. 1287. 1300. 1316. 1334. 1318. 1352.\n",
      " 1289. 1294. 1323. 1304. 1290. 1271. 1374. 1318. 1312. 1161. 1249. 1225.\n",
      " 1144. 1332. 1305. 1234. 1283. 1171. 1345. 1378. 1119. 1193. 1286. 1363.\n",
      " 1222. 1072. 1280. 1294. 1303. 1292. 1251. 1257. 1341. 1320. 1329. 1284.\n",
      " 1372. 1108. 1320. 1366. 1379. 1272. 1268. 1346. 1222. 1308. 1255. 1286.\n",
      " 1215. 1295. 1187. 1263. 1314. 1330. 1317. 1275. 1289. 1308. 1303. 1234.\n",
      " 1238. 1307. 1203. 1287. 1248. 1393. 1321. 1337.]\n",
      "10 Sub11_Task\n"
     ]
    },
    {
     "name": "stderr",
     "output_type": "stream",
     "text": [
      "100%|██████████| 480/480 [00:13<00:00, 35.46it/s]\n"
     ]
    },
    {
     "name": "stdout",
     "output_type": "stream",
     "text": [
      "[1254. 1052. 1246. 1135. 1179. 1116. 1075. 1145. 1072. 1183. 1273. 1298.\n",
      " 1247.  950. 1025. 1112. 1175. 1202. 1245. 1108. 1294. 1094. 1371. 1244.\n",
      " 1247. 1108. 1100. 1017. 1214. 1297. 1121. 1187. 1235. 1148.  893.  321.\n",
      " 1312. 1284. 1221. 1192. 1121. 1263. 1334. 1392. 1226. 1196. 1266. 1073.\n",
      "  953.  975. 1121.  845.  959.  655. 1255.  987. 1035. 1273. 1199.  981.\n",
      " 1083. 1094. 1051. 1295. 1302. 1208. 1236. 1205. 1294. 1095. 1237. 1266.\n",
      " 1299. 1204. 1232. 1130. 1299. 1280. 1324. 1035.]\n",
      "11 Sub12_Task\n"
     ]
    },
    {
     "name": "stderr",
     "output_type": "stream",
     "text": [
      "100%|██████████| 480/480 [00:23<00:00, 20.10it/s]\n"
     ]
    },
    {
     "name": "stdout",
     "output_type": "stream",
     "text": [
      "[1356. 1357. 1277. 1261. 1327. 1358. 1319. 1340. 1263. 1287. 1271. 1371.\n",
      " 1338. 1234. 1406. 1269. 1348. 1374. 1334. 1378. 1327. 1342. 1281. 1346.\n",
      " 1336. 1262. 1312. 1281. 1298. 1328. 1394. 1351. 1314. 1318. 1334. 1250.\n",
      " 1246. 1347. 1415. 1294. 1629. 1321. 1368. 1299. 1262. 1356. 1270. 1219.\n",
      " 1475. 1448. 1267. 1258. 1286. 1295. 1234. 1247. 1282. 1387. 1220. 1304.\n",
      " 1335. 1406. 1229. 1234. 1289. 1280. 1234. 1345. 1259. 1344. 1362. 1330.\n",
      " 1349. 1400. 1324. 1330. 1220. 1277. 1319. 1378.]\n",
      "12 Sub13_Task\n"
     ]
    },
    {
     "name": "stderr",
     "output_type": "stream",
     "text": [
      "100%|██████████| 480/480 [00:12<00:00, 39.47it/s]\n"
     ]
    },
    {
     "name": "stdout",
     "output_type": "stream",
     "text": [
      "[ 755.  456.  752.  775.  650. 1152. 1142.  318.  778. 1059.  616. 1108.\n",
      "  700.  847.  856. 1303.  860.  364.  385.  615.  594. 1236.  802.  438.\n",
      "  466. 1049.  312.  494. 1124.  831.  820.  279.  354. 1084.  756. 1347.\n",
      "  866.  689.  416.  929. 1080. 1217. 1409. 1177.  842. 1273.  371.  675.\n",
      "  832.  877. 1101. 1056.  994.  568. 1112.  361. 1261. 1302. 1365.  869.\n",
      "  900. 1035.  900. 1008.  342. 1275.  598.  840. 1116. 1161.  776.  907.\n",
      "  353. 1352.  907. 1003.  330.  799. 1045.  378.]\n",
      "13 Sub14_Task\n"
     ]
    },
    {
     "name": "stderr",
     "output_type": "stream",
     "text": [
      "100%|██████████| 480/480 [00:21<00:00, 21.90it/s]\n"
     ]
    },
    {
     "name": "stdout",
     "output_type": "stream",
     "text": [
      "[1283. 1309. 1286. 1262. 1254. 1280. 1297. 1295. 1345. 1302. 1277. 1247.\n",
      " 1301. 1314. 1241. 1337. 1387. 1231. 1304. 1335. 1306. 1322. 1229. 1298.\n",
      " 1366. 1343. 1297. 1324. 1345. 1355. 1341. 1311. 1297. 1230. 1308. 1305.\n",
      " 1308. 1392. 1281. 1273. 1459. 1358. 1248. 1232. 1328. 1323. 1359. 1300.\n",
      " 1202. 1313. 1301. 1187. 1261. 1338. 1342. 1293. 1278. 1254. 1281. 1281.\n",
      " 1257. 1050. 1317. 1378. 1390. 1329. 1300. 1305. 1240. 1286. 1154. 1306.\n",
      " 1399. 1327. 1354. 1362. 1302. 1306. 1273. 1302.]\n",
      "14 Sub15_Task\n"
     ]
    },
    {
     "name": "stderr",
     "output_type": "stream",
     "text": [
      "100%|██████████| 480/480 [00:24<00:00, 19.35it/s]\n"
     ]
    },
    {
     "name": "stdout",
     "output_type": "stream",
     "text": [
      "[1153. 1135. 1079.  992. 1191. 1114. 1224. 1205. 1269. 1252. 1216. 1235.\n",
      " 1214. 1314. 1221. 1218. 1175. 1192. 1161. 1232. 1181. 1330. 1330. 1255.\n",
      " 1292. 1239. 1231. 1212. 1311. 1344. 1298. 1264. 1247. 1226. 1245. 1225.\n",
      " 1276. 1198. 1361. 1240. 1229. 1340. 1343. 1135. 1318. 1265. 1251. 1323.\n",
      " 1264. 1298. 1317. 1220. 1308. 1415. 1268. 1300. 1344. 1198. 1195. 1238.\n",
      " 1232. 1482. 1286. 1208. 1195. 1238. 1242. 1191. 1220. 1116. 1250. 1323.\n",
      " 1270. 1172. 1228. 1286. 1183. 1160. 1163. 1224.]\n",
      "15 Sub16_Task\n"
     ]
    },
    {
     "name": "stderr",
     "output_type": "stream",
     "text": [
      "100%|██████████| 480/480 [00:13<00:00, 36.65it/s]\n"
     ]
    },
    {
     "name": "stdout",
     "output_type": "stream",
     "text": [
      "[1303. 1359. 1325. 1144. 1338. 1336. 1364. 1382. 1411. 1247. 1356. 1359.\n",
      " 1328. 1336. 1334. 1258. 1307. 1307. 1293. 1338. 1281. 1256. 1364. 1325.\n",
      " 1255. 1344. 1354. 1396. 1289. 1440. 1362. 1283. 1413. 1253.  467. 1206.\n",
      " 1410. 1211. 1362. 1309. 1315. 1320. 1297. 1317. 1274. 1351. 1344. 1296.\n",
      " 1330. 1291. 1299. 1311. 1291. 1307. 1348. 1257. 1335. 1301. 1361. 1435.\n",
      " 1300. 1308. 1309. 1337. 1353. 1291. 1283. 1257. 1318. 1305. 1400. 1301.\n",
      " 1310. 1293. 1334. 1326. 1289. 1323. 1308. 1357.]\n",
      "16 Sub17_Task\n"
     ]
    },
    {
     "name": "stderr",
     "output_type": "stream",
     "text": [
      "100%|██████████| 480/480 [00:15<00:00, 30.43it/s]\n"
     ]
    },
    {
     "name": "stdout",
     "output_type": "stream",
     "text": [
      "[1297. 1168. 1182. 1151. 1196. 1126. 1185. 1133. 1078. 1160. 1050. 1249.\n",
      " 1197. 1192. 1220. 1167. 1220. 1224. 1294. 1077. 1108. 1237. 1137. 1304.\n",
      " 1235. 1233. 1260. 1228. 1280. 1153. 1232. 1116. 1246. 1199. 1262. 1210.\n",
      " 1223. 1204. 1278. 1357. 1363. 1335. 1230. 1289. 1266. 1249. 1301. 1278.\n",
      " 1324.  335. 1224. 1314. 1276. 1270. 1296. 1282. 1283. 1366. 1298. 1362.\n",
      " 1283. 1199. 1247. 1276. 1294. 1246. 1279. 1331. 1224. 1342. 1230. 1270.\n",
      " 1305. 1341. 1313. 1280. 1194. 1333. 1334. 1207.]\n",
      "17 Sub18_Task\n"
     ]
    },
    {
     "name": "stderr",
     "output_type": "stream",
     "text": [
      "100%|██████████| 480/480 [00:12<00:00, 38.44it/s]\n"
     ]
    },
    {
     "name": "stdout",
     "output_type": "stream",
     "text": [
      "[1322. 1324. 1194. 1246. 1228. 1090. 1237. 1081. 1375. 1190. 1021. 1020.\n",
      " 1050. 1207. 1256. 1272. 1240. 1245. 1274. 1282. 1233. 1325. 1285. 1238.\n",
      " 1234. 1289. 1244. 1297. 1292. 1292. 1268. 1283. 1309. 1356. 1257. 1141.\n",
      " 1256. 1266. 1275. 1365. 1198. 1267. 1262. 1313. 1320. 1341. 1376. 1335.\n",
      " 1255. 1199. 1250. 1262. 1211. 1342. 1318. 1236. 1310. 1260. 1206. 1289.\n",
      " 1332. 1286. 1339. 1349. 1324. 1303. 1290. 1298. 1418. 1244. 1320. 1304.\n",
      " 1247. 1353. 1279. 1339. 1300. 1308. 1322. 1344.]\n",
      "18 Sub19_Task\n"
     ]
    },
    {
     "name": "stderr",
     "output_type": "stream",
     "text": [
      "100%|██████████| 480/480 [00:24<00:00, 19.79it/s]\n"
     ]
    },
    {
     "name": "stdout",
     "output_type": "stream",
     "text": [
      "[1301. 1297. 1243. 1301. 1317. 1246. 1245. 1291. 1294. 1229. 1289. 1277.\n",
      " 1301. 1238. 1169. 1199. 1310. 1235. 1279. 1254. 1308. 1343. 1277. 1290.\n",
      " 1274. 1294. 1275. 1207. 1293. 1312. 1259. 1314. 1330. 1285. 1178. 1283.\n",
      " 1284. 1310. 1237. 1179. 1210. 1217. 1323. 1193. 1234. 1193. 1230. 1277.\n",
      " 1204. 1282. 1259. 1269. 1251. 1261. 1272. 1260. 1298. 1242. 1274. 1258.\n",
      " 1283. 1222. 1257. 1250. 1227. 1284. 1377. 1255. 1346. 1345. 1212. 1261.\n",
      " 1269. 1333. 1257. 1300. 1291. 1365. 1342. 1249.]\n",
      "19 Sub20_Task\n"
     ]
    },
    {
     "name": "stderr",
     "output_type": "stream",
     "text": [
      "100%|██████████| 480/480 [00:40<00:00, 11.95it/s]"
     ]
    },
    {
     "name": "stdout",
     "output_type": "stream",
     "text": [
      "[1234. 1074. 1005.  978. 1216. 1289. 1213.  932.  901. 1027. 1334. 1332.\n",
      " 1040.  966. 1185.  894. 1091. 1299. 1277. 1160. 1177. 1201. 1283. 1236.\n",
      " 1127. 1000. 1091. 1039. 1160. 1247. 1104. 1325. 1163. 1310. 1090.  826.\n",
      " 1244. 1051.  983.  803. 1301. 1108. 1258.  975. 1148. 1094.  837. 1287.\n",
      " 1042. 1155. 1345. 1195.  977.  996. 1053. 1061. 1094. 1070.  852. 1255.\n",
      " 1108. 1298. 1274. 1287. 1261. 1268. 1121. 1244. 1276. 1128. 1321. 1221.\n",
      " 1280. 1229. 1221. 1333. 1129. 1256. 1288. 1342.]\n"
     ]
    },
    {
     "name": "stderr",
     "output_type": "stream",
     "text": [
      "\n"
     ]
    }
   ],
   "source": [
    "#%% Get task time task_df\n",
    "# Get trials, blocks, trial_time from trial_table\n",
    "path1 = PATH+'\\\\'+'Sub1_Task'\n",
    "task_df = pd.read_csv(path1+f'\\\\Sub1_TaskTrial_Table.csv')\n",
    "task_df = task_df.loc[task_df['Condition type']==3] # Only get the task condition \n",
    "num_trials = int(task_df.iloc[-1]['Block_Step']) # number of trials in each block\n",
    "num_blocks = int(task_df.iloc[-1]['Block_Row']/2)\n",
    "tot_trials = int(num_trials*num_blocks)\n",
    "trial_time = int(task_df.iloc[0]['Condition time'])\n",
    "task_df_columns = len(fields_pull)\n",
    "# Need to be kept outside subject for-loop\n",
    "task_trial_end = np.zeros([num_subjects, num_blocks, num_trials, 2])*np.nan\n",
    "task_trial_start = np.zeros((num_subjects, num_blocks, num_trials))*np.nan\n",
    "filename_storage = np.empty((num_subjects, num_blocks, num_trials), dtype=object)\n",
    "\n",
    "task_data = np.zeros((num_subjects, num_blocks, num_trials, trial_time+500, task_df_columns))*np.nan\n",
    "win_check_R = np.zeros((num_subjects, num_blocks))\n",
    "win_check_L = np.zeros((num_subjects, num_blocks))\n",
    "num_miss_check_R = np.zeros((num_subjects, num_blocks))\n",
    "num_miss_check_L = np.zeros((num_subjects, num_blocks))\n",
    "#########\n",
    "player_task_decision_array = np.empty((num_subjects, num_blocks, num_trials))\n",
    "player_task_reach_time = np.zeros([num_subjects, num_blocks, num_trials])*np.nan\n",
    "player_task_decision_time = np.zeros([num_subjects, num_blocks, num_trials])*np.nan\n",
    "player_task_movement_time = np.zeros([num_subjects, num_blocks, num_trials])*np.nan\n",
    "agent_task_decision_time = np.zeros((num_subjects, num_blocks, num_trials))\n",
    "agent_task_reach_time = np.zeros((num_subjects, num_blocks, num_trials))\n",
    "agent_task_decision_array = np.zeros((num_subjects, num_blocks, num_trials))\n",
    "\n",
    "###-------------------------------------------------------------------------------------------------------\n",
    "for i in range(num_subjects):\n",
    "    sub_name = analysis_pull_list_task[i]\n",
    "    print(i, sub_name)\n",
    "    path1 = PATH+'\\\\'+sub_name\n",
    "    file = path1+f'\\\\{sub_name}Trial_Table.csv'\n",
    "    trial_table = pd.read_csv(file)\n",
    "    # Splt trial table into task and washout based on condition type\n",
    "    task_trial_table = trial_table[trial_table['Condition type']==3]\n",
    "    block_number = 1\n",
    "    tp_num = 1\n",
    "    for x in tqdm((range(tot_trials))):\n",
    "        block_number = task_trial_table.iloc[x]['Block_Row']\n",
    "        tp_num = task_trial_table.iloc[x]['TP_Row']\n",
    "        block_trial_num = task_trial_table.iloc[x]['Block_Step']\n",
    "        j = tp_num - task_trial_table['TP_Row'].min()  # Block number\n",
    "        k = block_trial_num - 1 # Trial number in that block\n",
    "        \n",
    "        filename = PATH+f\"\\\\{sub_name}\\\\{task_name}_{sub_name}_C{block_number}_TP{tp_num}_T{block_trial_num}.csv\"\n",
    "        task_df = pd.read_csv(filename, low_memory=False)\n",
    "        start_time = int(task_df[task_df['Event_Codes']=='E_SOUND_SIGNAL'].index[0])\n",
    "        end_time = start_time + trial_time + 500 # Add 500 to see when they got there when trial ended\n",
    "        data_task_df = task_df.drop(columns ='Event_Codes') # Drop event codes cuz it's not number column and can't be an array \n",
    "        task_data[i,j,k,:,:] = np.array(data_task_df.iloc[start_time:end_time])\n",
    "\n",
    "        task_trial_start[i,j,k] = start_time\n",
    "        lhx = np.array(task_df.iloc[start_time:end_time]['Left_HandX'])\n",
    "        lhy = np.array(task_df.iloc[start_time:end_time]['Left_HandY'])\n",
    "        q = np.argwhere(np.sqrt((lhx-target1x)**2 + (lhy-target1y)**2) < target1_radius)\n",
    "        r = np.argwhere(np.sqrt((lhx-target2x)**2 + (lhy-target2y)**2) < target2_radius) \n",
    "        s = np.argwhere(np.sqrt((lhx-startx)**2 + (lhy-starty)**2) > start_radius*1.2) # Multiplied by 2 so people don't accidentally drift outside start\n",
    "        \n",
    "        #print(vel_check)\n",
    "        agent_task_decision_time[i,j,k] = task_df.iloc[start_time+1]['Agent_Decision_Time'] \n",
    "        agent_task_reach_time[i,j,k] = agent_task_decision_time[i,j,k] + 150  \n",
    "        agent_task_decision_array[i,j,k] = task_df.iloc[start_time+1]['Agent_Target_Selection']\n",
    "        if np.size(s)>0: \n",
    "            vel_check = task_df.iloc[s[0]]['Left_HandYVel']\n",
    "            player_task_decision_time[i,j,k] = s[0]\n",
    "            \n",
    "        if np.size(q)>0: #if LH enters right target\n",
    "            player_task_decision_array[i,j,k] = 1\n",
    "            player_task_movement_time[i,j,k] = q[0] - s[0]\n",
    "            player_task_reach_time[i,j,k] = q[0]\n",
    "        elif np.size(r)>0: #if LH enters left target\n",
    "            player_task_decision_array[i,j,k] = -1   \n",
    "            player_task_movement_time[i,j,k] = r[0] - s[0]\n",
    "            player_task_reach_time[i,j,k] = r[0]\n",
    "        if player_task_reach_time[i,j,k] > 1500 or np.isnan(player_task_reach_time[i,j,k]):\n",
    "            player_task_decision_array[i,j,k] = 0\n",
    "        if agent_task_reach_time[i,j,k]>1500:\n",
    "            agent_task_decision_array[i,j,k] = 0    \n",
    "        #plot path for tasks\n",
    "        if False:\n",
    "            for i in range(1):\n",
    "                plot_end_time = int(start_time + player_task_reach_time[i,j,k])\n",
    "                lhx_new = np.array(task_df.iloc[start_time:int(plot_end_time)]['Left_HandX'])\n",
    "                lhy_new = np.array(task_df.iloc[start_time:int(plot_end_time)]['Left_HandY'])\n",
    "                plt.figure(dpi=300)\n",
    "                circleR = plt.Circle((target1x,target1y), target1_radius, color = 'r', fill = False)\n",
    "                circleL = plt.Circle((target2x,target2y), target2_radius, color = 'r', fill = False)\n",
    "                startCirc = plt.Circle((startx,starty), start_radius, color = 'r', fill = False)\n",
    "                fig, ax = plt.subplots()\n",
    "                ax.add_patch(circleR)\n",
    "                ax.add_patch(circleL)\n",
    "                ax.add_patch(startCirc)\n",
    "                plt.plot(lhx_new,lhy_new) \n",
    "                plt.scatter(lhx_new[int(s[0])], lhy_new[int(s[0])])\n",
    "\n",
    "                plt.title(\"w =%1.0f \" %i + \"x=%1.0f \"%j + \"c=%1.0f\"%k + 'vely=%1.5f'%vel_check)\n",
    "                plt.show()\n",
    "    print(player_task_decision_time[i,0,:])\n",
    "           "
   ]
  },
  {
   "cell_type": "markdown",
   "metadata": {},
   "source": [
    "Pickle Task Data"
   ]
  },
  {
   "cell_type": "code",
   "execution_count": null,
   "metadata": {},
   "outputs": [
    {
     "name": "stdout",
     "output_type": "stream",
     "text": [
      "Sub1\n",
      "Sub2\n",
      "Sub3\n",
      "Sub4\n",
      "Sub5\n",
      "Sub6\n",
      "Sub7\n",
      "Sub8\n",
      "Sub9\n",
      "Sub10\n",
      "Sub11\n",
      "Sub12\n",
      "Sub13\n",
      "Sub14\n",
      "Sub15\n",
      "Sub16\n",
      "Sub17\n",
      "Sub18\n",
      "Sub19\n",
      "Sub20\n"
     ]
    }
   ],
   "source": [
    "i=-1\n",
    "for subname in analysis_pull_list:\n",
    "    i+=1\n",
    "    data_path = PATH+f'\\\\Subjects_Analyzed\\\\{subname}\\\\'\n",
    "    if not os.path.exists(data_path):\n",
    "        os.makedirs(data_path)\n",
    "    print(subname)\n",
    "    pickle.dump(task_data[i,:,:,:,:], open(data_path + f'{subname}_task_data.pkl', 'wb'))\n",
    "    pickle.dump(player_task_decision_time[i,:,:], open(data_path + f'{subname}_player_task_decision_time.pkl', 'wb'))\n",
    "    pickle.dump(player_task_decision_array[i,:,:], open(data_path + f'{subname}_player_task_decision_array.pkl', 'wb'))\n",
    "    pickle.dump(player_task_movement_time[i,:,:], open(data_path + f'{subname}_player_task_movement_time.pkl', 'wb'))\n",
    "    pickle.dump(player_task_reach_time[i,:,:], open(data_path + f'{subname}_player_task_reach_time.pkl', 'wb'))\n",
    "    pickle.dump(agent_task_decision_time[i,:,:], open(data_path + f'{subname}_agent_task_decision_time.pkl', 'wb'))\n",
    "    pickle.dump(agent_task_decision_array[i,:,:], open(data_path + f'{subname}_agent_task_decision_array.pkl', 'wb'))\n",
    "    pickle.dump(agent_task_reach_time[i,:,:], open(data_path + f'{subname}_agent_task_reach_time.pkl', 'wb'))"
   ]
  },
  {
   "cell_type": "markdown",
   "metadata": {},
   "source": [
    "Washout Data"
   ]
  },
  {
   "cell_type": "code",
   "execution_count": null,
   "metadata": {},
   "outputs": [
    {
     "name": "stdout",
     "output_type": "stream",
     "text": [
      "0 Sub1_Task\n"
     ]
    },
    {
     "name": "stderr",
     "output_type": "stream",
     "text": [
      "100%|██████████| 25/25 [00:00<00:00, 25.91it/s]\n",
      "100%|██████████| 25/25 [00:00<00:00, 27.05it/s]\n",
      "100%|██████████| 25/25 [00:00<00:00, 36.06it/s]\n",
      "100%|██████████| 25/25 [00:00<00:00, 28.12it/s]\n",
      "100%|██████████| 25/25 [00:00<00:00, 34.62it/s]\n",
      "100%|██████████| 25/25 [00:00<00:00, 29.68it/s]\n"
     ]
    },
    {
     "name": "stdout",
     "output_type": "stream",
     "text": [
      "1 Sub2_Task\n"
     ]
    },
    {
     "name": "stderr",
     "output_type": "stream",
     "text": [
      "100%|██████████| 25/25 [00:01<00:00, 12.65it/s]\n",
      "100%|██████████| 25/25 [00:01<00:00, 21.67it/s]\n",
      "100%|██████████| 25/25 [00:01<00:00, 23.07it/s]\n",
      "100%|██████████| 25/25 [00:00<00:00, 31.63it/s]\n",
      "100%|██████████| 25/25 [00:00<00:00, 29.82it/s]\n",
      "100%|██████████| 25/25 [00:01<00:00, 23.83it/s]\n"
     ]
    },
    {
     "name": "stdout",
     "output_type": "stream",
     "text": [
      "2 Sub3_Task\n"
     ]
    },
    {
     "name": "stderr",
     "output_type": "stream",
     "text": [
      "100%|██████████| 25/25 [00:02<00:00, 11.70it/s]\n",
      "100%|██████████| 25/25 [00:01<00:00, 16.19it/s]\n",
      "100%|██████████| 25/25 [00:01<00:00, 15.36it/s]\n",
      "100%|██████████| 25/25 [00:01<00:00, 13.87it/s]\n",
      "100%|██████████| 25/25 [00:01<00:00, 16.81it/s]\n",
      "100%|██████████| 25/25 [00:01<00:00, 17.26it/s]\n"
     ]
    },
    {
     "name": "stdout",
     "output_type": "stream",
     "text": [
      "3 Sub4_Task\n"
     ]
    },
    {
     "name": "stderr",
     "output_type": "stream",
     "text": [
      "100%|██████████| 25/25 [00:00<00:00, 39.23it/s]\n",
      "100%|██████████| 25/25 [00:00<00:00, 38.32it/s]\n",
      "100%|██████████| 25/25 [00:00<00:00, 38.63it/s]\n",
      "100%|██████████| 25/25 [00:00<00:00, 34.03it/s]\n",
      "100%|██████████| 25/25 [00:00<00:00, 38.24it/s]\n",
      "100%|██████████| 25/25 [00:00<00:00, 38.98it/s]\n"
     ]
    },
    {
     "name": "stdout",
     "output_type": "stream",
     "text": [
      "4 Sub5_Task\n"
     ]
    },
    {
     "name": "stderr",
     "output_type": "stream",
     "text": [
      "100%|██████████| 25/25 [00:00<00:00, 37.90it/s]\n",
      "100%|██████████| 25/25 [00:00<00:00, 40.94it/s]\n",
      "100%|██████████| 25/25 [00:00<00:00, 37.34it/s]\n",
      "100%|██████████| 25/25 [00:00<00:00, 27.53it/s]\n",
      "100%|██████████| 25/25 [00:00<00:00, 39.46it/s]\n",
      "100%|██████████| 25/25 [00:00<00:00, 40.66it/s]\n"
     ]
    },
    {
     "name": "stdout",
     "output_type": "stream",
     "text": [
      "5 Sub6_Task\n"
     ]
    },
    {
     "name": "stderr",
     "output_type": "stream",
     "text": [
      "100%|██████████| 25/25 [00:00<00:00, 40.68it/s]\n",
      "100%|██████████| 25/25 [00:00<00:00, 42.30it/s]\n",
      "100%|██████████| 25/25 [00:00<00:00, 39.90it/s]\n",
      "100%|██████████| 25/25 [00:00<00:00, 37.86it/s]\n",
      "100%|██████████| 25/25 [00:00<00:00, 39.91it/s]\n",
      "100%|██████████| 25/25 [00:00<00:00, 40.36it/s]\n"
     ]
    },
    {
     "name": "stdout",
     "output_type": "stream",
     "text": [
      "6 Sub7_Task\n"
     ]
    },
    {
     "name": "stderr",
     "output_type": "stream",
     "text": [
      "100%|██████████| 25/25 [00:00<00:00, 35.14it/s]\n",
      "100%|██████████| 25/25 [00:00<00:00, 39.00it/s]\n",
      "100%|██████████| 25/25 [00:00<00:00, 34.63it/s]\n",
      "100%|██████████| 25/25 [00:00<00:00, 37.70it/s]\n",
      "100%|██████████| 25/25 [00:00<00:00, 32.26it/s]\n",
      "100%|██████████| 25/25 [00:00<00:00, 40.72it/s]\n"
     ]
    },
    {
     "name": "stdout",
     "output_type": "stream",
     "text": [
      "7 Sub8_Task\n"
     ]
    },
    {
     "name": "stderr",
     "output_type": "stream",
     "text": [
      "100%|██████████| 25/25 [00:01<00:00, 21.95it/s]\n",
      "100%|██████████| 25/25 [00:01<00:00, 24.29it/s]\n",
      "100%|██████████| 25/25 [00:00<00:00, 26.92it/s]\n",
      "100%|██████████| 25/25 [00:01<00:00, 24.32it/s]\n",
      "100%|██████████| 25/25 [00:01<00:00, 22.16it/s]\n",
      "100%|██████████| 25/25 [00:01<00:00, 23.74it/s]\n"
     ]
    },
    {
     "name": "stdout",
     "output_type": "stream",
     "text": [
      "8 Sub9_Task\n"
     ]
    },
    {
     "name": "stderr",
     "output_type": "stream",
     "text": [
      "100%|██████████| 25/25 [00:01<00:00, 21.37it/s]\n",
      "100%|██████████| 25/25 [00:01<00:00, 20.48it/s]\n",
      "100%|██████████| 25/25 [00:01<00:00, 17.27it/s]\n",
      "100%|██████████| 25/25 [00:01<00:00, 20.13it/s]\n",
      "100%|██████████| 25/25 [00:01<00:00, 19.49it/s]\n",
      "100%|██████████| 25/25 [00:01<00:00, 20.40it/s]\n"
     ]
    },
    {
     "name": "stdout",
     "output_type": "stream",
     "text": [
      "9 Sub10_Task\n"
     ]
    },
    {
     "name": "stderr",
     "output_type": "stream",
     "text": [
      "100%|██████████| 25/25 [00:00<00:00, 29.72it/s]\n",
      "100%|██████████| 25/25 [00:00<00:00, 28.96it/s]\n",
      "100%|██████████| 25/25 [00:00<00:00, 30.73it/s]\n",
      "100%|██████████| 25/25 [00:00<00:00, 27.77it/s]\n",
      "100%|██████████| 25/25 [00:00<00:00, 29.53it/s]\n",
      "100%|██████████| 25/25 [00:00<00:00, 29.66it/s]\n"
     ]
    },
    {
     "name": "stdout",
     "output_type": "stream",
     "text": [
      "10 Sub11_Task\n"
     ]
    },
    {
     "name": "stderr",
     "output_type": "stream",
     "text": [
      "100%|██████████| 25/25 [00:00<00:00, 33.74it/s]\n",
      "100%|██████████| 25/25 [00:00<00:00, 33.47it/s]\n",
      "100%|██████████| 25/25 [00:00<00:00, 31.38it/s]\n",
      "100%|██████████| 25/25 [00:00<00:00, 30.41it/s]\n",
      "100%|██████████| 25/25 [00:00<00:00, 35.51it/s]\n",
      "100%|██████████| 25/25 [00:00<00:00, 36.72it/s]\n"
     ]
    },
    {
     "name": "stdout",
     "output_type": "stream",
     "text": [
      "11 Sub12_Task\n"
     ]
    },
    {
     "name": "stderr",
     "output_type": "stream",
     "text": [
      "100%|██████████| 25/25 [00:01<00:00, 21.17it/s]\n",
      "100%|██████████| 25/25 [00:01<00:00, 21.42it/s]\n",
      "100%|██████████| 25/25 [00:01<00:00, 19.83it/s]\n",
      "100%|██████████| 25/25 [00:01<00:00, 17.33it/s]\n",
      "100%|██████████| 25/25 [00:01<00:00, 18.05it/s]\n",
      "100%|██████████| 25/25 [00:01<00:00, 18.40it/s]\n"
     ]
    },
    {
     "name": "stdout",
     "output_type": "stream",
     "text": [
      "12 Sub13_Task\n"
     ]
    },
    {
     "name": "stderr",
     "output_type": "stream",
     "text": [
      "100%|██████████| 25/25 [00:00<00:00, 38.97it/s]\n",
      "100%|██████████| 25/25 [00:01<00:00, 24.57it/s]\n",
      "100%|██████████| 25/25 [00:00<00:00, 37.58it/s]\n",
      "100%|██████████| 25/25 [00:00<00:00, 40.53it/s]\n",
      "100%|██████████| 25/25 [00:00<00:00, 40.12it/s]\n",
      "100%|██████████| 25/25 [00:00<00:00, 40.35it/s]\n"
     ]
    },
    {
     "name": "stdout",
     "output_type": "stream",
     "text": [
      "13 Sub14_Task\n"
     ]
    },
    {
     "name": "stderr",
     "output_type": "stream",
     "text": [
      "100%|██████████| 25/25 [00:01<00:00, 21.41it/s]\n",
      "100%|██████████| 25/25 [00:01<00:00, 22.16it/s]\n",
      "100%|██████████| 25/25 [00:01<00:00, 21.72it/s]\n",
      "100%|██████████| 25/25 [00:01<00:00, 22.94it/s]\n",
      "100%|██████████| 25/25 [00:01<00:00, 23.10it/s]\n",
      "100%|██████████| 25/25 [00:01<00:00, 22.67it/s]\n"
     ]
    },
    {
     "name": "stdout",
     "output_type": "stream",
     "text": [
      "14 Sub15_Task\n"
     ]
    },
    {
     "name": "stderr",
     "output_type": "stream",
     "text": [
      "100%|██████████| 25/25 [00:01<00:00, 17.14it/s]\n",
      "100%|██████████| 25/25 [00:01<00:00, 18.59it/s]\n",
      "100%|██████████| 25/25 [00:01<00:00, 17.07it/s]\n",
      "100%|██████████| 25/25 [00:00<00:00, 25.70it/s]\n",
      "100%|██████████| 25/25 [00:01<00:00, 22.59it/s]\n",
      "100%|██████████| 25/25 [00:01<00:00, 17.66it/s]\n"
     ]
    },
    {
     "name": "stdout",
     "output_type": "stream",
     "text": [
      "15 Sub16_Task\n"
     ]
    },
    {
     "name": "stderr",
     "output_type": "stream",
     "text": [
      "100%|██████████| 25/25 [00:00<00:00, 34.94it/s]\n",
      "100%|██████████| 25/25 [00:00<00:00, 37.68it/s]\n",
      "100%|██████████| 25/25 [00:00<00:00, 33.56it/s]\n",
      "100%|██████████| 25/25 [00:00<00:00, 38.23it/s]\n",
      "100%|██████████| 25/25 [00:00<00:00, 32.71it/s]\n",
      "100%|██████████| 25/25 [00:00<00:00, 31.75it/s]\n"
     ]
    },
    {
     "name": "stdout",
     "output_type": "stream",
     "text": [
      "16 Sub17_Task\n"
     ]
    },
    {
     "name": "stderr",
     "output_type": "stream",
     "text": [
      "100%|██████████| 25/25 [00:01<00:00, 23.97it/s]\n",
      "100%|██████████| 25/25 [00:00<00:00, 28.39it/s]\n",
      "100%|██████████| 25/25 [00:00<00:00, 30.53it/s]\n",
      "100%|██████████| 25/25 [00:00<00:00, 38.64it/s]\n",
      "100%|██████████| 25/25 [00:00<00:00, 40.71it/s]\n",
      "100%|██████████| 25/25 [00:00<00:00, 27.84it/s]\n"
     ]
    },
    {
     "name": "stdout",
     "output_type": "stream",
     "text": [
      "17 Sub18_Task\n"
     ]
    },
    {
     "name": "stderr",
     "output_type": "stream",
     "text": [
      "100%|██████████| 25/25 [00:00<00:00, 41.39it/s]\n",
      "100%|██████████| 25/25 [00:00<00:00, 37.09it/s]\n",
      "100%|██████████| 25/25 [00:00<00:00, 39.32it/s]\n",
      "100%|██████████| 25/25 [00:00<00:00, 39.51it/s]\n",
      "100%|██████████| 25/25 [00:00<00:00, 40.57it/s]\n",
      "100%|██████████| 25/25 [00:00<00:00, 39.14it/s]\n"
     ]
    },
    {
     "name": "stdout",
     "output_type": "stream",
     "text": [
      "18 Sub19_Task\n"
     ]
    },
    {
     "name": "stderr",
     "output_type": "stream",
     "text": [
      "100%|██████████| 25/25 [00:01<00:00, 20.49it/s]\n",
      "100%|██████████| 25/25 [00:01<00:00, 18.70it/s]\n",
      "100%|██████████| 25/25 [00:01<00:00, 20.51it/s]\n",
      "100%|██████████| 25/25 [00:01<00:00, 19.56it/s]\n",
      "100%|██████████| 25/25 [00:01<00:00, 19.07it/s]\n",
      "100%|██████████| 25/25 [00:01<00:00, 19.32it/s]\n"
     ]
    },
    {
     "name": "stdout",
     "output_type": "stream",
     "text": [
      "19 Sub20_Task\n"
     ]
    },
    {
     "name": "stderr",
     "output_type": "stream",
     "text": [
      "100%|██████████| 25/25 [00:02<00:00, 12.00it/s]\n",
      "100%|██████████| 25/25 [00:02<00:00, 12.32it/s]\n",
      "100%|██████████| 25/25 [00:02<00:00, 12.28it/s]\n",
      "100%|██████████| 25/25 [00:02<00:00, 11.80it/s]\n",
      "100%|██████████| 25/25 [00:02<00:00, 11.97it/s]\n",
      "100%|██████████| 25/25 [00:02<00:00, 11.55it/s]\n"
     ]
    }
   ],
   "source": [
    "#%% Get washout time washout_df\n",
    "# Get trials, blocks, trial_time from trial_table\n",
    "path1 = PATH+'\\\\'+'Sub1_Task'\n",
    "trial_table = pd.read_csv(path1+'\\\\Sub1_TaskTrial_Table.csv')\n",
    "block_table = pd.read_csv(path1+'\\\\Sub1_TaskBlock_Table.csv')\n",
    "washout_trial_table = trial_table[trial_table['Condition type']==4] # Only get the washout condition \n",
    "num_trials = int(washout_trial_table.iloc[-1]['Block_Step']) # number of trials in each block\n",
    "num_blocks = pd.DataFrame(block_table[block_table['TP_LIST']==12]['TP_LIST'].value_counts()).iloc[0]['TP_LIST'] # Counts how many times TP_LIST is 12 (washout tp), and then gets that number with .iloc[0]['TP_LIST]\n",
    "tot_trials = int(num_trials*num_blocks)\n",
    "trial_time = int(washout_trial_table.iloc[0]['Condition time'])\n",
    "washout_columns = len(fields_pull)\n",
    "# Need to be kept outside subject for-loop\n",
    "washout_trial_end = np.zeros([num_subjects, num_blocks, num_trials, 2])*np.nan\n",
    "washout_trial_start = np.zeros((num_subjects, num_blocks, num_trials))*np.nan\n",
    "filename_storage = np.empty((num_subjects, num_blocks, num_trials), dtype=object)\n",
    "\n",
    "washout_data = np.zeros((num_subjects, num_blocks, num_trials, trial_time+500, washout_columns))*np.nan\n",
    "win_check_R = np.zeros((num_subjects, num_blocks))\n",
    "win_check_L = np.zeros((num_subjects, num_blocks))\n",
    "num_miss_check_R = np.zeros((num_subjects, num_blocks))\n",
    "num_miss_check_L = np.zeros((num_subjects, num_blocks))\n",
    "#########\n",
    "player_washout_decision_array = np.empty((num_subjects, num_blocks, num_trials))\n",
    "player_washout_reach_time = np.zeros([num_subjects, num_blocks, num_trials])*np.nan\n",
    "player_washout_decision_time = np.zeros([num_subjects, num_blocks, num_trials])*np.nan\n",
    "player_washout_movement_time = np.zeros([num_subjects, num_blocks, num_trials])*np.nan\n",
    "agent_washout_decision_time = np.zeros((num_subjects, num_blocks, num_trials))\n",
    "agent_washout_reach_time = np.zeros((num_subjects, num_blocks, num_trials))\n",
    "agent_washout_decision_array = np.zeros((num_subjects, num_blocks, num_trials))\n",
    "\n",
    "###-------------------------------------------------------------------------------------------------------\n",
    "for i in (range(num_subjects)):\n",
    "    sub_name = analysis_pull_list_task[i]\n",
    "    print(i, sub_name)\n",
    "    path1 = PATH+'\\\\'+sub_name\n",
    "    file = path1+f'\\\\{sub_name}Trial_Table.csv'\n",
    "    trial_table = pd.read_csv(file)\n",
    "    # Splt trial table into washout and washout based on condition type\n",
    "    washout_trial_table = trial_table[trial_table['Condition type']==4]\n",
    "    x = -1\n",
    "    for j in (range(num_blocks)):\n",
    "        for k in tqdm(range(num_trials)):\n",
    "            x += 1\n",
    "            block_number = washout_trial_table.iloc[x]['Block_Row']\n",
    "            tp_num = washout_trial_table.iloc[x]['TP_Row']\n",
    "            block_trial_num = washout_trial_table.iloc[x]['Block_Step']\n",
    "            filename = PATH+f\"\\\\{sub_name}\\\\{task_name}_{sub_name}_C{block_number}_TP{tp_num}_T{block_trial_num}.csv\"\n",
    "            washout_df = pd.read_csv(filename, low_memory=False)\n",
    "            start_time = int(washout_df[washout_df['Event_Codes']=='E_SOUND_SIGNAL'].index[0])\n",
    "            end_time = start_time + trial_time + 500 # Add 500 to see when they got there when trial ended\n",
    "            data_washout_df = washout_df.drop(columns ='Event_Codes') # Drop event codes cuz it's not number column and can't be an array \n",
    "            washout_data[i,j,k,:,:] = np.array(data_washout_df.iloc[start_time:end_time])\n",
    "\n",
    "            washout_trial_start[i,j,k] = start_time\n",
    "            lhx = np.array(washout_df.iloc[start_time:end_time]['Left_HandX'])\n",
    "            lhy = np.array(washout_df.iloc[start_time:end_time]['Left_HandY'])\n",
    "            q = np.argwhere(np.sqrt((lhx-target1x)**2 + (lhy-target1y)**2) < target1_radius)\n",
    "            r = np.argwhere(np.sqrt((lhx-target2x)**2 + (lhy-target2y)**2) < target2_radius) \n",
    "            s = np.argwhere(np.sqrt((lhx-startx)**2 + (lhy-starty)**2) > start_radius*1.2) # Multiplied by 2 so people don't accidentally drift outside start\n",
    "            \n",
    "            #print(vel_check)\n",
    "            agent_washout_decision_time[i,j,k] = washout_df.iloc[start_time+1]['Agent_Decision_Time']   \n",
    "            agent_washout_decision_array[i,j,k] = washout_df.iloc[start_time+1]['Agent_Target_Selection']\n",
    "            if np.size(s)>0: \n",
    "                vel_check = washout_df.iloc[s[0]]['Left_HandYVel']\n",
    "                player_washout_decision_time[i,j,k] = s[0]\n",
    "                \n",
    "            if np.size(q)>0: #if LH enters right target\n",
    "                player_washout_decision_array[i,j,k] = 1\n",
    "                player_washout_movement_time[i,j,k] = q[0] - s[0]\n",
    "                player_washout_reach_time[i,j,k] = q[0]\n",
    "            elif np.size(r)>0: #if LH enters left target\n",
    "                player_washout_decision_array[i,j,k] = -1   \n",
    "                player_washout_movement_time[i,j,k] = r[0] - s[0]\n",
    "                player_washout_reach_time[i,j,k] = r[0]\n",
    "            if player_washout_reach_time[i,j,k] > 1500 or np.isnan(player_washout_reach_time[i,j,k]):\n",
    "                player_washout_decision_array[i,j,k] = 0\n",
    "            \n",
    "        # #plot path for washouts\n",
    "        if False:\n",
    "            for i in range(1):\n",
    "                plot_end_time = int(start_time + player_washout_reach_time[i,j,k])\n",
    "                lhx_new = np.array(washout_df.iloc[start_time:int(plot_end_time)]['Left_HandX'])\n",
    "                lhy_new = np.array(washout_df.iloc[start_time:int(plot_end_time)]['Left_HandY'])\n",
    "                plt.figure(dpi=300)\n",
    "                circleR = plt.Circle((target1x,target1y), target1_radius, color = 'r', fill = False)\n",
    "                circleL = plt.Circle((target2x,target2y), target2_radius, color = 'r', fill = False)\n",
    "                startCirc = plt.Circle((startx,starty), start_radius, color = 'r', fill = False)\n",
    "                fig, ax = plt.subplots()\n",
    "                ax.add_patch(circleR)\n",
    "                ax.add_patch(circleL)\n",
    "                ax.add_patch(startCirc)\n",
    "                plt.plot(lhx_new,lhy_new) \n",
    "                plt.scatter(lhx_new[int(s[0])], lhy_new[int(s[0])])\n",
    "\n",
    "                plt.title(\"w =%1.0f \" %i + \"x=%1.0f \"%j + \"c=%1.0f\"%k + 'vely=%1.5f'%vel_check)\n",
    "                plt.show()\n",
    "\n",
    "           "
   ]
  },
  {
   "cell_type": "markdown",
   "metadata": {},
   "source": [
    "Pickle Washout"
   ]
  },
  {
   "cell_type": "code",
   "execution_count": null,
   "metadata": {},
   "outputs": [
    {
     "name": "stdout",
     "output_type": "stream",
     "text": [
      "Sub1\n",
      "Sub2\n",
      "Sub3\n",
      "Sub4\n",
      "Sub5\n",
      "Sub6\n",
      "Sub7\n",
      "Sub8\n",
      "Sub9\n",
      "Sub10\n",
      "Sub11\n",
      "Sub12\n",
      "Sub13\n",
      "Sub14\n",
      "Sub15\n",
      "Sub16\n",
      "Sub17\n",
      "Sub18\n",
      "Sub19\n",
      "Sub20\n"
     ]
    }
   ],
   "source": [
    "i=-1\n",
    "for subname in analysis_pull_list:\n",
    "    i+=1\n",
    "    data_path = PATH+f'\\\\Subjects_Analyzed\\\\{subname}\\\\'\n",
    "    if not os.path.exists(data_path):\n",
    "        os.makedirs(data_path)\n",
    "    print(subname)\n",
    "    pickle.dump(washout_data[i,:,:,:,:], open(data_path + f'{subname}_washout_data.pkl', 'wb'))\n",
    "    pickle.dump(player_washout_decision_time[i,:], open(data_path + f'{subname}_player_washout_decision_time.pkl', 'wb'))\n",
    "    pickle.dump(player_washout_decision_array[i,:], open(data_path + f'{subname}_player_washout_decision_array.pkl', 'wb'))\n",
    "    pickle.dump(player_washout_movement_time[i,:], open(data_path + f'{subname}_player_washout_movement_time.pkl', 'wb'))\n",
    "    pickle.dump(player_washout_reach_time[i,:], open(data_path + f'{subname}_player_washout_reach_time.pkl', 'wb'))\n",
    "    pickle.dump(agent_washout_decision_time[i,:], open(data_path + f'{subname}_agent_washout_decision_time.pkl', 'wb'))\n",
    "    pickle.dump(agent_washout_decision_array[i,:], open(data_path + f'{subname}_agent_washout_decision_array.pkl', 'wb'))\n",
    "    pickle.dump(agent_washout_reach_time[i,:], open(data_path + f'{subname}_agent_washout_reach_time.pkl', 'wb'))"
   ]
  },
  {
   "cell_type": "markdown",
   "metadata": {},
   "source": [
    "Keep Order That Participants Did Condition"
   ]
  },
  {
   "cell_type": "code",
   "execution_count": null,
   "metadata": {},
   "outputs": [
    {
     "data": {
      "text/plain": [
       "array([[-1.,  1.,  1., -1., -1., -1.,  1.,  1., -1.,  1., -1., -1., -1.,\n",
       "        -1., -1.,  1.,  1., -1.,  1.,  1.,  1., -1., -1., -1., -1., -1.,\n",
       "         1., -1.,  1., -1.,  1.,  1.,  1., -1., -1., -1.,  1., -1.,  1.,\n",
       "         1.,  1., -1.,  1., -1.,  1., -1., -1., -1., -1., -1.,  1.,  1.,\n",
       "         1.,  1.,  1.,  1., -1., -1.,  1., -1.,  1.,  1.,  1.,  1.,  1.,\n",
       "         1., -1., -1., -1.,  1.,  1.,  1., -1., -1., -1., -1., -1., -1.,\n",
       "        -1., -1.],\n",
       "       [-1., -1.,  1., -1.,  1., -1., -1.,  1., -1.,  1.,  1.,  1., -1.,\n",
       "        -1., -1.,  1., -1., -1., -1.,  1.,  1., -1.,  1.,  1., -1.,  1.,\n",
       "        -1., -1., -1.,  1.,  1.,  1.,  1.,  1., -1.,  1.,  1., -1.,  1.,\n",
       "        -1., -1., -1.,  1., -1.,  1., -1.,  1., -1.,  1.,  1.,  1.,  1.,\n",
       "         0.,  1.,  1., -1., -1., -1.,  1.,  1.,  1., -1.,  1., -1., -1.,\n",
       "         1., -1.,  1.,  1.,  1., -1.,  1., -1., -1.,  1., -1., -1.,  1.,\n",
       "         1.,  1.],\n",
       "       [ 1.,  1.,  1., -1.,  1.,  1.,  1., -1., -1.,  1.,  1.,  1.,  1.,\n",
       "        -1.,  1.,  1.,  1., -1.,  1., -1.,  1.,  1.,  1., -1., -1.,  1.,\n",
       "        -1., -1., -1., -1.,  1., -1., -1., -1.,  1.,  1.,  1.,  1.,  1.,\n",
       "         1.,  1., -1., -1.,  1.,  1.,  1.,  1.,  1.,  1., -1.,  1.,  1.,\n",
       "         1., -1., -1.,  1., -1., -1.,  1.,  1.,  1.,  1., -1.,  1.,  1.,\n",
       "         1.,  1.,  1.,  1., -1., -1., -1., -1.,  1.,  1.,  1.,  1., -1.,\n",
       "         1., -1.],\n",
       "       [-1.,  1.,  1.,  1.,  0.,  1., -1.,  1.,  1., -1., -1., -1., -1.,\n",
       "         0.,  1.,  1., -1., -1.,  1.,  1.,  1., -1.,  0., -1., -1., -1.,\n",
       "         0.,  1., -1.,  1., -1., -1.,  1.,  1., -1.,  1., -1.,  1.,  1.,\n",
       "        -1.,  1.,  1., -1., -1.,  1., -1.,  1.,  1.,  1., -1., -1., -1.,\n",
       "         1.,  1.,  1., -1.,  1., -1., -1.,  1., -1.,  1., -1., -1., -1.,\n",
       "         1.,  1., -1.,  1.,  1.,  1.,  0., -1.,  1., -1., -1.,  0., -1.,\n",
       "        -1.,  1.],\n",
       "       [ 1.,  1., -1.,  1.,  1., -1., -1., -1., -1., -1., -1., -1.,  1.,\n",
       "        -1.,  1., -1., -1.,  1.,  1.,  1.,  1.,  1.,  1., -1.,  1., -1.,\n",
       "         1., -1.,  1., -1., -1., -1., -1., -1., -1.,  1.,  1.,  1., -1.,\n",
       "        -1., -1.,  1., -1.,  1.,  1.,  1., -1.,  1.,  1., -1., -1.,  1.,\n",
       "         1., -1., -1., -1.,  1.,  1., -1., -1.,  1.,  1., -1.,  1., -1.,\n",
       "        -1., -1.,  1., -1.,  1., -1., -1., -1.,  1., -1.,  1., -1., -1.,\n",
       "        -1.,  1.],\n",
       "       [ 1., -1.,  0.,  0., -1.,  1.,  0., -1.,  1.,  0.,  1.,  1.,  1.,\n",
       "        -1., -1., -1., -1.,  1.,  1.,  1., -1., -1.,  1., -1., -1.,  1.,\n",
       "         1., -1., -1.,  0.,  1., -1., -1.,  0., -1.,  1., -1.,  1., -1.,\n",
       "         1., -1.,  1.,  0.,  1.,  1.,  1., -1.,  1.,  0., -1., -1., -1.,\n",
       "        -1.,  0.,  0.,  1.,  0.,  1.,  0.,  0.,  1., -1.,  1.,  1.,  1.,\n",
       "        -1.,  1., -1.,  1.,  0., -1., -1.,  1.,  0., -1.,  1., -1., -1.,\n",
       "         1.,  1.]])"
      ]
     },
     "execution_count": 59,
     "metadata": {},
     "output_type": "execute_result"
    }
   ],
   "source": [
    "agent_task_decision_array[0]"
   ]
  },
  {
   "cell_type": "markdown",
   "metadata": {},
   "source": [
    "Use event codes to get wins and indecisions"
   ]
  },
  {
   "cell_type": "code",
   "execution_count": null,
   "metadata": {},
   "outputs": [],
   "source": [
    "# # Use event codes to find number of wins and indecisions\n",
    "# #%% Extract Hand Position data\n",
    "# for w in range(num_subjects): #len(pull_list)):\n",
    "#     print(w)\n",
    "#     sub_name = analysis_pull_list_task[w]\n",
    "#     print(sub_name)\n",
    "#     path1 = PATH+'\\\\'+sub_name\n",
    "#     file = path1+f'\\\\{sub_name}Trial_Table.csv'\n",
    "#     task_trial_table = pd.read_csv(file)\n",
    "#     task_trial_table = task_trial_table.loc[task_trial_table['TP_Row']>=3]\n",
    "#     for i in tqdm((range(tot_trials))):\n",
    "#         block_number = task_trial_table.iloc[i]['Block_Row']\n",
    "#         tp_num = task_trial_table.iloc[i]['TP_Row']\n",
    "#         block_trial_num = task_trial_table.iloc[i]['Block_Step']\n",
    "#         x = tp_num - 3 #used for indexing, subtraction number needs to change to 1 if I start with TP1 \n",
    "#         c = block_trial_num - 1 #used for indexing, block trial number starts with 1\n",
    "#         filename = PATH+f\"\\\\{sub_name}\\\\Seth_MatchPennies_Agent_Pilot_v3_{sub_name}_C{block_number}_TP{tp_num}_T{block_trial_num}.csv\"\n",
    "#         filename_storage[w,x,c] = filename\n",
    "#         data = pd.read_csv(filename, low_memory=False) #read in data\n",
    "#         #Create start time and max end time array\n",
    "#         score_index = int(data[data['Event_Codes']=='E_END_TRIAL'].index[0]) \n",
    "#         trial_start[w,x,c]= int(data[data['Event_Codes']==list_event_codes[0]].index[0]) #if event codes column is equal to the list event codes, give the index (time)\n",
    "#         trial_start = trial_start.astype(int)\n",
    "#         end_time = trial_start[w,x,c]+2000\n",
    "#         agent_target_select_index = int(data[data['Event_Codes']=='E_END_TRIAL'].index[0]) \n",
    "#         # Get Agent mean reach time... data starts at next index from E_SOUNG_SIGNAL aka trial_start\n",
    "#         agent_decision_time[w,x,c] = data.iloc[trial_start[w,x,c]+1]['Agent_Reach_Time'] #CALLED AGENT REACH TIME BUT IT'S NOW DECISION TIME IN V3\n",
    "#         agent_decision_array[w,x,c] = data.iloc[agent_target_select_index]['Agent_decision_array']\n",
    "#         agent_indecision_index = np.argwhere(agent_decision_time+150>1500)\n",
    "#         for i,j,k in agent_indecision_index:\n",
    "#             agent_decision_array[i,j,k] = 0\n",
    "#         data = np.array(data)\n",
    "#         event_codes[w,x,c,:] = data[trial_start[w,x,c]:end_time,4] # create event codes array\n",
    "#         hand_data = data[:,0:4] # data is only columns 0 thru 3 (RHX,RHY,LHX,LHY)\n",
    "#         hand_data = hand_data.astype(float)\n",
    "#         hand_pos_data[w,x,c,:,:] = hand_data[trial_start[w,x,c]:end_time,:]\n",
    "        \n",
    "#         # If you want the scores\n",
    "#         # scoreA = data[score_index, 4]\n",
    "#         # scoreB = data[score_index, 5]\n",
    "#         # if scoreA == 1:\n",
    "#         #     win_check_R[w,x]+=1\n",
    "#         # if scoreB == 1:\n",
    "#         #     win_check_L[w,x]+=1\n",
    "#         # print(filename)\n",
    "#         # print(data[trial_start[w,x,c]:end_time,:])\n",
    "#         #------------------------------------------------------------------\n",
    "           \n",
    "#         # LEFT HAND\n",
    "#         lhx = hand_pos_data[w,x,c,:,2]\n",
    "#         lhy = hand_pos_data[w,x,c,:,3]\n",
    "#         q = np.argwhere(np.sqrt((lhx-target3x)**2 + (lhy-target3y)**2) < target3_radius/2)\n",
    "#         r = np.argwhere(np.sqrt((lhx-target4x)**2 + (lhy-target4y)**2) < target4_radius/2) \n",
    "#         s = np.argwhere(np.sqrt((lhx-start2x)**2 + (lhy-start2y)**2) > start2_radius/2)\n",
    "#         if np.size(s)>0: \n",
    "#             player_decision_time[w,x,c] = s[0]\n",
    "#         if np.size(q)>0: #if LH enters right target\n",
    "#             player_decision_array[w,x,c] = 1\n",
    "#             player_reach_time[w,x,c] = q[0]\n",
    "#         elif np.size(r)>0: #if LH enters left target\n",
    "#             player_decision_array[w,x,c] = -1   \n",
    "#             player_reach_time[w,x,c] = r[0]\n",
    "            \n",
    "#         if player_reach_time[w,x,c] > 1500 or np.isnan(player_reach_time[w,x,c]):\n",
    "#             player_decision_array[w,x,c] = 0"
   ]
  }
 ],
 "metadata": {
  "kernelspec": {
   "display_name": "Python 3.9.12 ('base')",
   "language": "python",
   "name": "python3"
  },
  "language_info": {
   "codemirror_mode": {
    "name": "ipython",
    "version": 3
   },
   "file_extension": ".py",
   "mimetype": "text/x-python",
   "name": "python",
   "nbconvert_exporter": "python",
   "pygments_lexer": "ipython3",
   "version": "3.9.16"
  },
  "orig_nbformat": 4,
  "vscode": {
   "interpreter": {
    "hash": "1a00c1525417994d84940f6a64b96d4df953e4f0863c4f32c2c802abdf8195ff"
   }
  }
 },
 "nbformat": 4,
 "nbformat_minor": 2
}
